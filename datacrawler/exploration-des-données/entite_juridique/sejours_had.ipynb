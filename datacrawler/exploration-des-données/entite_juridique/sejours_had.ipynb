{
 "cells": [
  {
   "cell_type": "code",
   "execution_count": null,
   "metadata": {},
   "outputs": [],
   "source": [
    "import pandas as pd\n",
    "import numpy as np\n",
    "import matplotlib.pyplot as plt\n",
    "\n",
    "ejList = pd.read_xml(\n",
    "    path_or_buffer=\"../../../data_test/finess/simple/finess_cs1400101_stock_20230308-0330.xml\",\n",
    "    xpath=\"./structureej\",\n",
    ")[[\"nofiness\"]]\n",
    "\n",
    "eTList = pd.read_xml(\n",
    "    path_or_buffer=\"../../../data_test/finess/simple/finess_cs1400102_stock_20230308-0331.xml\",\n",
    "    xpath=\"./structureet\",\n",
    ")[[\"nofinesset\"]]\n",
    "\n",
    "men_pmsi = pd.read_csv(\"../../../data_test/diamant/MEN_PMSI_ANNUEL_2022_10_25.CSV\", sep=\";\")\n",
    "\n",
    "men_pmsi.head()\n"
   ]
  },
  {
   "cell_type": "code",
   "execution_count": null,
   "metadata": {},
   "outputs": [],
   "source": [
    "# Nombre de ligne séjours HAD à partir de 2018\n",
    "had = men_pmsi[[\"Finess EJ\", \"Finess\", \"Année\", \"Nombre total de séjours HAD\"]]\n",
    "had = had.loc[had[\"Année\"] >= 2018]\n",
    "len(had)"
   ]
  },
  {
   "cell_type": "markdown",
   "metadata": {
    "collapsed": false
   },
   "source": []
  },
  {
   "cell_type": "code",
   "execution_count": null,
   "metadata": {},
   "outputs": [],
   "source": [
    "had[\"Nombre total de séjours HAD\"].info()"
   ]
  },
  {
   "cell_type": "code",
   "execution_count": null,
   "metadata": {},
   "outputs": [],
   "source": [
    "# Répartition des valeurs HAD\n",
    "had.boxplot(column=[\"Nombre total de séjours HAD\"], by=\"Année\").set_yscale(\"log\")\n",
    "\n",
    "had.sort_values(by=[\"Nombre total de séjours HAD\"], ascending=False).head(40)\n",
    "\n",
    "# ==> Quelques établissements font beaucoup de HAD ( vérifier la cohérence ?)\n",
    "# ex 920813623,750712184,690000880,750042459,330000340,690788930,690788930\n"
   ]
  },
  {
   "cell_type": "code",
   "execution_count": null,
   "metadata": {},
   "outputs": [],
   "source": [
    "# Répartition des données par Année\n",
    "not_null_values = had[had[\"Nombre total de séjours HAD\"].notnull()]\n",
    "\n",
    "had_par_annee = not_null_values.groupby([\"Année\"])[[\"Nombre total de séjours HAD\"]].count()\n",
    "had_par_ej_annee = not_null_values.groupby([\"Année\", \"Finess EJ\"])[[\"Nombre total de séjours HAD\"]].count()\n",
    "had_par_ej = not_null_values.groupby([\"Finess EJ\"])[[\"Nombre total de séjours HAD\"]].count()\n",
    "display(had_par_annee)\n",
    "display(had_par_ej_annee)\n",
    "display(had_par_ej)\n",
    "\n",
    "# ==> Pas de données pour 2022\n",
    "# ==> Quasiment tous les EJ n'ont qu'un seul ET avec HAD ( sauf Réunion et Guyane ~ 4 EJ)\n",
    "# ==> Seulement 288 EJ avec au moins une donnée HAD"
   ]
  },
  {
   "cell_type": "code",
   "execution_count": null,
   "metadata": {},
   "outputs": [],
   "source": [
    "# Pourcentage des valeurs N/A dans la colonne Nombre total de sejours HAD (chaque annee, EJ, ET)\n",
    "\n",
    "na_had = had[\"Nombre total de séjours HAD\"].isna().sum()\n",
    "\n",
    "total_had = len(had)\n",
    "\n",
    "pourcentage_na = na_had / total_had * 100\n",
    "\n",
    "print(\"Percentage of Na in dataset is: \", pourcentage_na)"
   ]
  },
  {
   "cell_type": "code",
   "execution_count": null,
   "metadata": {},
   "outputs": [],
   "source": [
    "# Pourcentage des valeurs N/A HAD sur chaque EJ PAR ANNEE\n",
    "had_grouped_annee = had.groupby([\"Finess EJ\", \"Année\"])[\"Nombre total de séjours HAD\"].sum()\n",
    "number_of_nan = (had_grouped_annee == 0).sum()\n",
    "total = len(had_grouped_annee)\n",
    "(number_of_nan / total) * 100\n",
    "# ==> 88,4% des Année par EJ n'ont aucune donnée"
   ]
  },
  {
   "cell_type": "code",
   "execution_count": null,
   "metadata": {},
   "outputs": [],
   "source": [
    "# Pourcentage des valeurs N/A HAD sur chaque EJ\n",
    "had_grouped_ej = had.groupby([\"Finess EJ\"])[\"Nombre total de séjours HAD\"].sum()\n",
    "number_of_nan = (had_grouped_ej == 0).sum()\n",
    "total = len(had_grouped_ej)\n",
    "(number_of_nan / total) * 100\n",
    "\n",
    "# ==> 88,3% des EJ n'ont aucune donnée HAD"
   ]
  },
  {
   "cell_type": "code",
   "execution_count": null,
   "metadata": {},
   "outputs": [],
   "source": [
    "# Total nombre de 0\n",
    "zero_had = (had[\"Nombre total de séjours HAD\"] == 0).sum()\n",
    "print(\"Total number rows with value 0 is: \", zero_had)\n",
    "# => Pas de valeur à 0 que des NaN"
   ]
  },
  {
   "cell_type": "code",
   "execution_count": null,
   "metadata": {},
   "outputs": [],
   "source": [
    "# Total de valeur négative\n",
    "negative_had = (had[\"Nombre total de séjours HAD\"] < 0).sum()\n",
    "\n",
    "print(\"Total number rows with value negative is: \", negative_had)\n",
    "# => Pas de valeur négative"
   ]
  },
  {
   "cell_type": "code",
   "execution_count": null,
   "metadata": {},
   "outputs": [],
   "source": [
    "# Y'a t'il de doublons :\n",
    "had.duplicated().sum()\n",
    "# => Non"
   ]
  },
  {
   "cell_type": "code",
   "execution_count": null,
   "metadata": {},
   "outputs": [],
   "source": [
    "# Vérifier que les Finess EJ ont bien 9 chiffres\n",
    "# Transforme le Finess en string, compte le nombre de charactère de chaque finess, ne garde que les valeurs unique du compte\n",
    "had[\"Finess EJ\"].apply(str).str.len().unique()\n",
    "\n",
    "# numero finess est un type Objet\n",
    "# numero finess a 9 chiffres --> need to handle 0 at beginning at import\n"
   ]
  },
  {
   "cell_type": "code",
   "execution_count": null,
   "metadata": {},
   "outputs": [],
   "source": [
    "# Numero Finess qui existe dans ET\n",
    "\n",
    "ET = had[\"Finess\"]\n",
    "\n",
    "EJ = had[\"Finess EJ\"]\n",
    "\n",
    "display(EJ.drop_duplicates().isin(ET).sum())\n",
    "display(ET.drop_duplicates().isin(EJ).sum())\n",
    "display()\n",
    "\n",
    "# => 194 EJ qui sont dans Finess ET"
   ]
  },
  {
   "cell_type": "code",
   "execution_count": null,
   "metadata": {},
   "outputs": [],
   "source": [
    "had[EJ.isin(ET)]\n",
    "# EJs that exist also in ET column eg: 020000295, 030780100, 030780100, 940016819, 940110042\n",
    "# Note that there are some years where the EJ and ET are the same value\n"
   ]
  },
  {
   "cell_type": "code",
   "execution_count": null,
   "metadata": {},
   "outputs": [],
   "source": [
    "had[had[\"Finess\"].isna()]\n",
    "# number of rows where ET finess number is empty = 72\n",
    "# Dans tous ces cas on a pas de donnée HAD"
   ]
  },
  {
   "cell_type": "code",
   "execution_count": null,
   "metadata": {},
   "outputs": [],
   "source": [
    "had[\"Finess EJ\"].isna().sum()\n",
    "# All Finess EJ rows have a value"
   ]
  },
  {
   "cell_type": "code",
   "execution_count": null,
   "metadata": {},
   "outputs": [],
   "source": [
    "# Est-ce que tous les Finess EJ correspondent bien à des vrais EJ\n",
    "ejHAD = had[\"Finess EJ\"].apply(str).drop_duplicates()\n",
    "ejListStr = ejList[\"nofiness\"].apply(str)\n",
    "ejHAD.isin(ejListStr).sum()\n",
    "# => Tous les EJ dans MEN_PMSI existe\n"
   ]
  },
  {
   "cell_type": "code",
   "execution_count": null,
   "metadata": {},
   "outputs": [],
   "source": [
    "# Vérifier que les Et existent\n",
    "et = had[\"Finess\"].drop_duplicates().dropna()\n",
    "existingEt = et.isin(eTList[\"nofinesset\"]).sum()\n",
    "totalEt = len(et)\n",
    "\n",
    "display(\"Nombre d'ET qui ne sont pas des ET : \" + str(totalEt - existingEt))\n",
    "\n",
    "display(et[~et.isin(eTList[\"nofinesset\"])].drop_duplicates())"
   ]
  },
  {
   "cell_type": "code",
   "execution_count": null,
   "metadata": {},
   "outputs": [],
   "source": []
  }
 ],
 "metadata": {
  "kernelspec": {
   "display_name": "Python 3",
   "language": "python",
   "name": "python3"
  },
  "language_info": {
   "codemirror_mode": {
    "name": "ipython",
    "version": 3
   },
   "file_extension": ".py",
   "mimetype": "text/x-python",
   "name": "python",
   "nbconvert_exporter": "python",
   "pygments_lexer": "ipython3",
   "version": "3.10.8"
  }
 },
 "nbformat": 4,
 "nbformat_minor": 0
}
