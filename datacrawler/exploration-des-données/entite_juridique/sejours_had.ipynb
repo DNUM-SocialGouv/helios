{
 "cells": [
  {
   "cell_type": "code",
   "execution_count": null,
   "metadata": {},
   "outputs": [],
   "source": [
    "import pandas as pd\n",
    "import numpy as np\n",
    "\n",
    "men_pmsi = pd.read_csv(\"../../../data_test/diamant/MEN_PMSI_ANNUEL_2022_10_25.CSV\", sep=\";\")\n",
    "\n",
    "men_pmsi.head()\n"
   ]
  },
  {
   "cell_type": "code",
   "execution_count": null,
   "metadata": {},
   "outputs": [],
   "source": [
    "had = men_pmsi[[\"Finess EJ\", \"Finess\", \"Année\", \"Nombre total de séjours HAD\"]]\n",
    "had.head()"
   ]
  },
  {
   "cell_type": "code",
   "execution_count": null,
   "metadata": {},
   "outputs": [],
   "source": [
    "had[\"Nombre total de séjours HAD\"].info()"
   ]
  },
  {
   "cell_type": "code",
   "execution_count": null,
   "metadata": {},
   "outputs": [],
   "source": [
    "# Pourcentage des valeurs N/A dans la colonne Nombre total de sejours HAD (chaque annee, EJ, ET)\n",
    "\n",
    "na_had = had[\"Nombre total de séjours HAD\"].isna().sum()\n",
    "\n",
    "total_had = len(had)\n",
    "\n",
    "pourcentage_na = na_had/total_had * 100\n",
    "\n",
    "print(\"Percentage of Na in dataset is: \", pourcentage_na)"
   ]
  },
  {
   "cell_type": "code",
   "execution_count": null,
   "metadata": {},
   "outputs": [],
   "source": [
    "had_grouped = had.groupby([\"Finess EJ\", \"Année\"])[\"Nombre total de séjours HAD\"].sum()\n",
    "had_grouped.head()\n"
   ]
  },
  {
   "cell_type": "code",
   "execution_count": null,
   "metadata": {},
   "outputs": [],
   "source": [
    "# Total nombre de 0\n",
    "\n",
    "zero_had = (had[\"Nombre total de séjours HAD\"] == 0).sum()\n",
    "\n",
    "print(\"Total number rows with value 0 is: \", zero_had)"
   ]
  },
  {
   "cell_type": "code",
   "execution_count": null,
   "metadata": {},
   "outputs": [],
   "source": [
    "negative_had = (had[\"Nombre total de séjours HAD\"] < 0).sum()\n",
    "\n",
    "print(\"Total number rows with value negative is: \", negative_had)"
   ]
  },
  {
   "cell_type": "code",
   "execution_count": null,
   "metadata": {},
   "outputs": [],
   "source": []
  }
 ],
 "metadata": {
  "kernelspec": {
   "display_name": "Python 3",
   "language": "python",
   "name": "python3"
  },
  "language_info": {
   "codemirror_mode": {
    "name": "ipython",
    "version": 2
   },
   "file_extension": ".py",
   "mimetype": "text/x-python",
   "name": "python",
   "nbconvert_exporter": "python",
   "pygments_lexer": "ipython2",
   "version": "2.7.6"
  }
 },
 "nbformat": 4,
 "nbformat_minor": 0
}
