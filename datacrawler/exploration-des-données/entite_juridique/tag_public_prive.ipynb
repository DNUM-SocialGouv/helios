{
 "cells": [
  {
   "cell_type": "code",
   "execution_count": null,
   "metadata": {},
   "outputs": [],
   "source": [
    "import pandas as pd\n",
    "import numpy as np\n",
    "from sqlalchemy.engine import create_engine\n"
   ]
  },
  {
   "cell_type": "code",
   "execution_count": null,
   "metadata": {},
   "outputs": [],
   "source": [
    "dfEJ = pd.read_xml(path_or_buffer=\"../../../data_test/finess/simple/finess_cs1400101_stock_20230126-0330.xml\", xpath=\"./structureej\")"
   ]
  },
  {
   "cell_type": "code",
   "execution_count": null,
   "metadata": {},
   "outputs": [],
   "source": [
    "# Ne garder que les EJ ouvert\n",
    "dfEJ = dfEJ[dfEJ[\"datefermeture\"].isna()]\n"
   ]
  },
  {
   "cell_type": "code",
   "execution_count": null,
   "metadata": {},
   "outputs": [],
   "source": [
    "# Affiche le nombre d'EJ par statut\n",
    "dfEJ.groupby(\"statutjuridique\")[\"libstatutjuridique\"].agg([\"count\", \"min\"]).rename(columns={\"min\": \"libstatutjuridique\"})\n"
   ]
  },
  {
   "cell_type": "code",
   "execution_count": null,
   "metadata": {},
   "outputs": [],
   "source": [
    "# Affiche les codes des status juridiques\n",
    "dfStatutJuridique = pd.read_xml(\n",
    "    path_or_buffer=\"../../../data_test/finess/nomenclature/finess_cs1500107_stock_20230126-0334.xml\", xpath=\"./nomenclstatutavecagr\"\n",
    ")\n",
    "dfStatutJuridique = dfStatutJuridique[[\"code\", \"codeagr3\", \"codeagr2\", \"codeagr1\"]].rename(columns={\"code\": \"statutjuridique\"})\n",
    "dfStatutJuridique.head()\n"
   ]
  },
  {
   "cell_type": "code",
   "execution_count": null,
   "metadata": {},
   "outputs": [],
   "source": [
    "# Joint les entités juridiques avec la nomenclature des statuts juridiques pour avoir leur niveau 1, 2 et 3.\n",
    "dfMerged = dfEJ.merge(dfStatutJuridique, on=\"statutjuridique\")\n",
    "dfMerged.head()\n"
   ]
  },
  {
   "cell_type": "code",
   "execution_count": null,
   "metadata": {},
   "outputs": [],
   "source": [
    "# Affiche uniquement les columns liées aux statuts juridiques\n",
    "dfEJStatut = dfMerged[[\"nofiness\", \"libstatutjuridique\", \"statutjuridique\", \"codeagr1\", \"codeagr2\", \"codeagr3\"]]\n",
    "dfEJStatut.sample(5)"
   ]
  },
  {
   "cell_type": "code",
   "execution_count": null,
   "metadata": {},
   "outputs": [],
   "source": [
    "# Vérifie que tous les EJ sont associés à un code niv 1 2 et 3\n",
    "\n",
    "# 1 - On s'assure qu'il y a autant d'EJ dans celui d'origine que dans le dataframe mergé\n",
    "display(dfEJStatut.shape)\n",
    "display(dfEJ.shape)\n"
   ]
  },
  {
   "cell_type": "code",
   "execution_count": null,
   "metadata": {},
   "outputs": [],
   "source": [
    "# 2 - On s'assure que chaque EJ a bien un niv 1, 2 et 3\n",
    "display(dfEJStatut.groupby([\"codeagr1\"])[\"codeagr1\"].count())\n",
    "display(dfEJStatut.groupby([\"codeagr2\"])[\"codeagr2\"].count())\n",
    "display(dfEJStatut.groupby([\"codeagr3\"])[\"codeagr3\"].count())\n"
   ]
  },
  {
   "cell_type": "code",
   "execution_count": null,
   "metadata": {},
   "outputs": [],
   "source": [
    "# Association des tags publics, privée non lucratif, privé lucratif\n",
    "dfWithTag = dfEJStatut.copy()\n",
    "conditions = [(dfWithTag[\"codeagr1\"] == 1000), (dfWithTag[\"codeagr2\"] == 2100), (dfWithTag[\"codeagr2\"] == 2200), (dfWithTag[\"codeagr1\"] == 3000)]\n",
    "tagValues = [\"Public\", \"Privé non Lucratif\", \"Privé Lucratif\", \"Personne morale de droit étranger\"]\n",
    "dfWithTag[\"Tag\"] = np.select(conditions, tagValues)\n",
    "dfWithTag.sample(10)\n"
   ]
  },
  {
   "cell_type": "code",
   "execution_count": null,
   "metadata": {},
   "outputs": [],
   "source": [
    "# Vérification que chaque EJ est bien associé à un tag\n",
    "nbEJParTag = dfWithTag.groupby(\"Tag\")[[\"nofiness\"]].count()\n",
    "display(nbEJParTag)\n",
    "display(\"total :\" + str(dfWithTag.groupby(\"Tag\").count().nofiness.sum()) + \" / \" + str(dfEJ.shape[0]))\n"
   ]
  },
  {
   "cell_type": "code",
   "execution_count": null,
   "metadata": {},
   "outputs": [],
   "source": [
    "# Affichage du nombre d'EJ par tag\n",
    "nbEJParTag.plot(kind=\"bar\")\n"
   ]
  },
  {
   "cell_type": "code",
   "execution_count": null,
   "metadata": {},
   "outputs": [],
   "source": [
    "# Les EJ personne morale de droit étranger encore ouvert\n",
    "noFinessDE = dfWithTag.loc[dfWithTag[\"Tag\"] == \"Personne morale de droit étranger\"][\"nofiness\"]\n",
    "dfEJ[dfEJ.nofiness.isin(noFinessDE)][[\"nofiness\", \"datefermeture\"]]\n"
   ]
  }
 ],
 "metadata": {
  "kernelspec": {
   "display_name": "Python 3",
   "language": "python",
   "name": "python3"
  },
  "language_info": {
   "codemirror_mode": {
    "name": "ipython",
    "version": 2
   },
   "file_extension": ".py",
   "mimetype": "text/x-python",
   "name": "python",
   "nbconvert_exporter": "python",
   "pygments_lexer": "ipython2",
   "version": "2.7.6"
  }
 },
 "nbformat": 4,
 "nbformat_minor": 0
}
