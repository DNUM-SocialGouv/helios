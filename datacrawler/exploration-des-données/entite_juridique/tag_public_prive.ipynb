{
 "cells": [
  {
   "cell_type": "code",
   "execution_count": null,
   "metadata": {},
   "outputs": [],
   "source": [
    "import pandas as pd\n",
    "import numpy as np\n",
    "from sqlalchemy.engine import create_engine\n"
   ]
  },
  {
   "cell_type": "code",
   "execution_count": null,
   "metadata": {},
   "outputs": [],
   "source": [
    "dfEJ = pd.read_xml(path_or_buffer=\"../../../data_test/finess/simple/finess_cs1400101_stock_20230126-0330.xml\", xpath=\"./structureej\")\n"
   ]
  },
  {
   "cell_type": "code",
   "execution_count": null,
   "metadata": {},
   "outputs": [],
   "source": [
    "# Affiche le nombre d'EJ par statut\n",
    "dfEJ.groupby(\"statutjuridique\")[\"libstatutjuridique\"].agg([\"count\", \"min\"]).rename(columns={\"min\": \"libstatutjuridique\"})\n"
   ]
  },
  {
   "cell_type": "code",
   "execution_count": null,
   "metadata": {},
   "outputs": [],
   "source": [
    "# Affiche les codes des status juridiques\n",
    "dfStatutJuridique = pd.read_xml(\n",
    "    path_or_buffer=\"../../../data_test/finess/nomenclature/finess_cs1500107_stock_20230126-0334.xml\", xpath=\"./nomenclstatutavecagr\"\n",
    ")\n",
    "dfStatutJuridique = dfStatutJuridique[[\"code\", \"codeagr3\", \"codeagr2\", \"codeagr1\"]].rename(columns={\"code\": \"statutjuridique\"})\n",
    "dfStatutJuridique.head()\n"
   ]
  },
  {
   "cell_type": "code",
   "execution_count": null,
   "metadata": {},
   "outputs": [],
   "source": [
    "# Joint les entités juridiques avec la nomenclature des statut juridique pour avoir leur niveau 1 2 et 3\n",
    "dfMerged = dfEJ.merge(dfStatutJuridique, on=\"statutjuridique\")\n",
    "dfMerged.head()\n"
   ]
  },
  {
   "cell_type": "code",
   "execution_count": null,
   "metadata": {},
   "outputs": [],
   "source": [
    "# Affiche uniquement les columns liées aux statuts juridiques\n",
    "dfEJStatut = dfMerged[[\"nofiness\", \"libstatutjuridique\", \"statutjuridique\", \"codeagr1\", \"codeagr2\", \"codeagr3\"]]\n",
    "dfEJStatut.sample(5)"
   ]
  },
  {
   "cell_type": "code",
   "execution_count": null,
   "metadata": {},
   "outputs": [],
   "source": [
    "# Vérifie que tous les EJ sont associés à un code niv 1 2 et 3\n",
    "\n",
    "# 1 - On s'assure qu'il y a autant d'EJ dans celui d'origine que dans le dataframe mergé\n",
    "display(dfEJStatut.shape)\n",
    "display(dfEJ.shape)\n"
   ]
  },
  {
   "cell_type": "code",
   "execution_count": null,
   "metadata": {},
   "outputs": [],
   "source": [
    "# 2 - On s'assure que chaque EJ a bien un niv 1, 2 et 3\n",
    "display(dfEJStatut.groupby([\"codeagr1\"])[\"codeagr1\"].count())\n",
    "display(dfEJStatut.groupby([\"codeagr2\"])[\"codeagr2\"].count())\n",
    "display(dfEJStatut.groupby([\"codeagr3\"])[\"codeagr3\"].count())\n"
   ]
  },
  {
   "cell_type": "code",
   "execution_count": null,
   "metadata": {
    "pycharm": {
     "is_executing": true
    }
   },
   "outputs": [],
   "source": [
    "# Association des tags publics, privée non lucratif, privé lucratif\n",
    "def associer_tag(code1, code2):\n",
    "    display(code1, code2)\n",
    "    if code1 == \"1000\":\n",
    "        return \"Public\"\n",
    "    if code2 == \"2100\":\n",
    "        return \"Privé non Lucratif\"\n",
    "    if code2 == \"2200\":\n",
    "        return \"Privé Lucratif\"\n",
    "    if code1 == \"3000\":\n",
    "        return \"Personne morale de droit étranger\"\n",
    "    return \"\"\n",
    "\n",
    "\n",
    "dfWithTag = dfEJStatut\n",
    "dfWithTag.applymap(lambda ej: display(ej))\n",
    "dfWithTag.sample(2)\n"
   ]
  }
 ],
 "metadata": {
  "kernelspec": {
   "display_name": "Python 3",
   "language": "python",
   "name": "python3"
  },
  "language_info": {
   "codemirror_mode": {
    "name": "ipython",
    "version": 2
   },
   "file_extension": ".py",
   "mimetype": "text/x-python",
   "name": "python",
   "nbconvert_exporter": "python",
   "pygments_lexer": "ipython2",
   "version": "2.7.6"
  }
 },
 "nbformat": 4,
 "nbformat_minor": 0
}
