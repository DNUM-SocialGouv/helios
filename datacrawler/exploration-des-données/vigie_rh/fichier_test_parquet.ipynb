{
 "cells": [
  {
   "cell_type": "code",
   "execution_count": 40,
   "metadata": {},
   "outputs": [
    {
     "name": "stdout",
     "output_type": "stream",
     "text": [
      "Fichier CSV généré avec succès : fichiers/csv/vigierh_anneemois_profession2_2024_01_01.csv\n"
     ]
    }
   ],
   "source": [
    "import pandas as pd\n",
    "import pyarrow as pa\n",
    "import pyarrow.parquet as pq\n",
    " \n",
    "# Chemin vers votre fichier Parquet\n",
    "FILE_PATH = 'fichiers/parquet/vigierh_anneemois_profession2_2024_01_01.parquet'\n",
    "# Chemin vers le sortie fichier en CSV\n",
    "OUTPUT_CSV_PATH=\"fichiers/csv/vigierh_anneemois_profession2_2024_01_01.csv\"\n",
    "\n",
    "# Lire le fichier Parquet\n",
    "df = pd.read_parquet(FILE_PATH,engine='pyarrow')\n",
    " \n",
    "# Sauvegarder le DataFrame au format CSV\n",
    "df.to_csv(OUTPUT_CSV_PATH, sep=';', index=False, encoding='utf-8')\n",
    "\n",
    "print(f\"Fichier CSV généré avec succès : {OUTPUT_CSV_PATH}\")"
   ]
  },
  {
   "cell_type": "code",
   "execution_count": 41,
   "metadata": {},
   "outputs": [
    {
     "name": "stdout",
     "output_type": "stream",
     "text": [
      "Fichier CSV généré avec succès : fichiers/csv/vigierh_anneemois_profession1_2024_01_01.csv\n"
     ]
    }
   ],
   "source": [
    "import pandas as pd\n",
    "import pyarrow as pa\n",
    "import pyarrow.parquet as pq\n",
    " \n",
    "# Chemin vers votre fichier Parquet\n",
    "FILE_PATH = 'fichiers/parquet/vigierh_anneemois_profession1_2024_01_01.parquet'\n",
    "\n",
    "# Chemin vers le sortie fichier en CSV\n",
    "OUTPUT_CSV_PATH=\"fichiers/csv/vigierh_anneemois_profession1_2024_01_01.csv\"\n",
    "\n",
    "# Lire le fichier Parquet\n",
    "df = pd.read_parquet(FILE_PATH,engine='pyarrow')\n",
    " \n",
    "# Sauvegarder le DataFrame au format CSV\n",
    "df.to_csv(OUTPUT_CSV_PATH, sep=';', index=False, encoding='utf-8')\n",
    "\n",
    "print(f\"Fichier CSV généré avec succès : {OUTPUT_CSV_PATH}\")"
   ]
  },
  {
   "cell_type": "code",
   "execution_count": 42,
   "metadata": {},
   "outputs": [
    {
     "name": "stdout",
     "output_type": "stream",
     "text": [
      "Fichier CSV généré avec succès : fichiers/csv/vigierh_anneemois_contrat_2024_01_01.csv\n"
     ]
    }
   ],
   "source": [
    "import pandas as pd\n",
    "import pyarrow as pa\n",
    "import pyarrow.parquet as pq\n",
    " \n",
    "# Chemin vers votre fichier Parquet\n",
    "FILE_PATH = 'fichiers/parquet/vigierh_anneemois_contrat_2024_01_01.parquet'\n",
    "\n",
    "# Chemin vers le sortie fichier en CSV\n",
    "OUTPUT_CSV_PATH=\"fichiers/csv/vigierh_anneemois_contrat_2024_01_01.csv\"\n",
    "\n",
    "# Lire le fichier Parquet\n",
    "df = pd.read_parquet(FILE_PATH,engine='pyarrow')\n",
    " \n",
    "# Sauvegarder le DataFrame au format CSV\n",
    "df.to_csv(OUTPUT_CSV_PATH, sep=';', index=False, encoding='utf-8')\n",
    "\n",
    "print(f\"Fichier CSV généré avec succès : {OUTPUT_CSV_PATH}\")"
   ]
  },
  {
   "cell_type": "code",
   "execution_count": 43,
   "metadata": {},
   "outputs": [
    {
     "name": "stdout",
     "output_type": "stream",
     "text": [
      "Fichier CSV généré avec succès : fichiers/csv/vigierh_anneemois_contrat_2024_01_01.csv\n"
     ]
    }
   ],
   "source": [
    "import pandas as pd\n",
    "import pyarrow as pa\n",
    "import pyarrow.parquet as pq\n",
    " \n",
    "# Chemin vers votre fichier Parquet\n",
    "FILE_PATH = 'fichiers/parquet/vigierh#metadata.parquet'\n",
    "\n",
    "# Chemin vers le sortie fichier en CSV\n",
    "OUTPUT_CSV_PATH=\"fichiers/csv/vigierh#metadata.csv\"\n",
    "\n",
    "# Lire le fichier Parquet\n",
    "df = pd.read_parquet(FILE_PATH,engine='pyarrow')\n",
    " \n",
    "# Sauvegarder le DataFrame au format CSV\n",
    "df.to_csv(OUTPUT_CSV_PATH, sep=';', index=False, encoding='utf-8')\n",
    "\n",
    "print(f\"Fichier CSV généré avec succès : {OUTPUT_CSV_PATH}\")"
   ]
  }
 ],
 "metadata": {
  "kernelspec": {
   "display_name": "Python 3",
   "language": "python",
   "name": "python3"
  },
  "language_info": {
   "codemirror_mode": {
    "name": "ipython",
    "version": 3
   },
   "file_extension": ".py",
   "mimetype": "text/x-python",
   "name": "python",
   "nbconvert_exporter": "python",
   "pygments_lexer": "ipython3",
   "version": "3.10.8"
  }
 },
 "nbformat": 4,
 "nbformat_minor": 2
}
