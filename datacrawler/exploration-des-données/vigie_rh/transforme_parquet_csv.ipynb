{
 "cells": [
  {
   "cell_type": "code",
   "execution_count": null,
   "metadata": {},
   "outputs": [],
   "source": [
    "import pandas as pd\n",
    "import pyarrow as pa\n",
    "import pyarrow.parquet as pq\n",
    " \n",
    "# Chemin vers votre fichier Parquet\n",
    "FILE_PATH = '../vigie_rh/fichiers/parquet/vigierh_anneemois_profession2_2024_01_01.parquet'\n",
    "# Chemin vers le sortie fichier en CSV\n",
    "OUTPUT_CSV_PATH=\"../vigie_rh/fichiers/csv/vigierh_anneemois_profession2_2024_01_01.csv\"\n",
    "\n",
    "# Lire le fichier Parquet\n",
    "df = pd.read_parquet(FILE_PATH,engine='pyarrow')\n",
    " \n",
    "# Sauvegarder le DataFrame au format CSV\n",
    "df.to_csv(OUTPUT_CSV_PATH, sep=';', index=False, encoding='utf-8')\n",
    "\n",
    "print(f\"Fichier CSV généré avec succès : {OUTPUT_CSV_PATH}\")"
   ]
  }
 ],
 "metadata": {
  "language_info": {
   "name": "python"
  }
 },
 "nbformat": 4,
 "nbformat_minor": 2
}
