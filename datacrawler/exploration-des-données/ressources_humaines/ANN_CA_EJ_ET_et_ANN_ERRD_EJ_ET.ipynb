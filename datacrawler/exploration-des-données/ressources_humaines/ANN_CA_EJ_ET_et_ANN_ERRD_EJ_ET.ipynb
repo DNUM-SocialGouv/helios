{
 "cells": [
  {
   "cell_type": "code",
   "execution_count": null,
   "metadata": {},
   "outputs": [],
   "source": [
    "import os\n",
    "import pandas as pd\n",
    "\n",
    "CHEMIN_DOSSIER_DONNÉES = \"../../../data_test/diamant\"\n",
    "DATE_FICHIER = '2022_09_01'\n",
    "encoding = 'utf-8'"
   ]
  },
  {
   "cell_type": "code",
   "execution_count": null,
   "metadata": {},
   "outputs": [],
   "source": [
    "ann_ca_ej_et = pd.read_csv(os.path.join(CHEMIN_DOSSIER_DONNÉES, f'ANN_CA_EJ_ET_{DATE_FICHIER}.CSV'), delimiter=\";\", encoding=encoding, dtype='str')\n",
    "ann_errd_ej_et = pd.read_csv(os.path.join(CHEMIN_DOSSIER_DONNÉES, f'ANN_ERRD_EJ_ET_{DATE_FICHIER}.CSV'), delimiter=\";\", encoding=encoding, dtype='str')"
   ]
  },
  {
   "cell_type": "code",
   "execution_count": null,
   "metadata": {},
   "outputs": [],
   "source": [
    "colonne_ca = \"Nombre ETP total réalisé CA\"\n",
    "colonne_errd = \"Nombre ETP total réalisé ERRD\"\n",
    "index = [\"Année\", \"Finess\"]"
   ]
  },
  {
   "cell_type": "code",
   "execution_count": null,
   "metadata": {},
   "outputs": [],
   "source": [
    "en_commun = ann_ca_ej_et.merge(ann_errd_ej_et, on=[\"Année\", \"Finess\"], how=\"inner\")"
   ]
  },
  {
   "cell_type": "code",
   "execution_count": null,
   "metadata": {},
   "outputs": [],
   "source": [
    "en_commun[[\"Finess\", \"Année\", colonne_ca, colonne_errd]].count()"
   ]
  },
  {
   "cell_type": "markdown",
   "metadata": {},
   "source": [
    "Des établissements ont des valeurs dans les 2 fichiers, devrait-on privilégier une source plutôt qu'une autre ?"
   ]
  },
  {
   "cell_type": "code",
   "execution_count": null,
   "metadata": {},
   "outputs": [],
   "source": [
    "ann_ca_ej_et[colonne_ca].astype(float).describe()"
   ]
  },
  {
   "cell_type": "code",
   "execution_count": null,
   "metadata": {},
   "outputs": [],
   "source": [
    "ann_ca_ej_et[colonne_ca].astype(float).describe()"
   ]
  },
  {
   "cell_type": "markdown",
   "metadata": {},
   "source": [
    "Des établissements sanitaires pourraient figurer dans les données du fichier ERRD ?"
   ]
  },
  {
   "cell_type": "code",
   "execution_count": null,
   "metadata": {},
   "outputs": [],
   "source": [
    "quantile_999 = ann_ca_ej_et[colonne_ca].astype(float).quantile(.999)"
   ]
  },
  {
   "cell_type": "code",
   "execution_count": null,
   "metadata": {},
   "outputs": [],
   "source": [
    "type(quantile_999)"
   ]
  },
  {
   "cell_type": "code",
   "execution_count": null,
   "metadata": {},
   "outputs": [],
   "source": [
    "ann_ca_ej_et.loc[ann_ca_ej_et[colonne_ca].astype(float) < quantile_999, colonne_ca].astype(float).hist(bins=25)"
   ]
  }
 ],
 "metadata": {
  "kernelspec": {
   "display_name": "Python 3.10.6 ('.venv': pipenv)",
   "language": "python",
   "name": "python3"
  },
  "language_info": {
   "codemirror_mode": {
    "name": "ipython",
    "version": 3
   },
   "file_extension": ".py",
   "mimetype": "text/x-python",
   "name": "python",
   "nbconvert_exporter": "python",
   "pygments_lexer": "ipython3",
   "version": "3.10.6"
  },
  "vscode": {
   "interpreter": {
    "hash": "f3cd1644c1a4218067384e6ba48455ab308536d690fa2569ad70152dfd852e1a"
   }
  }
 },
 "nbformat": 4,
 "nbformat_minor": 2
}
