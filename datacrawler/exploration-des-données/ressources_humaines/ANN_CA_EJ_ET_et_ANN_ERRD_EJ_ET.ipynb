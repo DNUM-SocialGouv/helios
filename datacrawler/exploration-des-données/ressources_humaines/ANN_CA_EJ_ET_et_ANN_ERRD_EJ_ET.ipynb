{
 "cells": [
  {
   "cell_type": "code",
   "execution_count": 1,
   "metadata": {},
   "outputs": [],
   "source": [
    "import os\n",
    "import pandas as pd\n",
    "\n",
    "CHEMIN_DOSSIER_DONNÉES = \"../../../data_test/diamant\"\n",
    "DATE_FICHIER = '2022_09_01'\n",
    "encoding = 'utf-8'"
   ]
  },
  {
   "cell_type": "code",
   "execution_count": 2,
   "metadata": {},
   "outputs": [],
   "source": [
    "ann_ca_ej_et = pd.read_csv(os.path.join(CHEMIN_DOSSIER_DONNÉES, f'ANN_CA_EJ_ET_{DATE_FICHIER}.CSV'), delimiter=\";\", encoding=encoding, dtype='str')\n",
    "ann_errd_ej_et = pd.read_csv(os.path.join(CHEMIN_DOSSIER_DONNÉES, f'ANN_ERRD_EJ_ET_{DATE_FICHIER}.CSV'), delimiter=\";\", encoding=encoding, dtype='str')"
   ]
  },
  {
   "cell_type": "code",
   "execution_count": 7,
   "metadata": {},
   "outputs": [],
   "source": [
    "colonne_ca = \"Nombre ETP total réalisé CA\"\n",
    "colonne_errd = \"Nombre ETP total réalisé ERRD\"\n",
    "index = [\"Année\", \"Finess\"]"
   ]
  },
  {
   "cell_type": "code",
   "execution_count": 21,
   "metadata": {},
   "outputs": [],
   "source": [
    "en_commun = ann_ca_ej_et.merge(ann_errd_ej_et, on=[\"Année\", \"Finess\"], how=\"inner\")"
   ]
  },
  {
   "cell_type": "code",
   "execution_count": 25,
   "metadata": {},
   "outputs": [
    {
     "data": {
      "text/plain": [
       "Finess                           223\n",
       "Année                            223\n",
       "Nombre ETP total réalisé CA      223\n",
       "Nombre ETP total réalisé ERRD    164\n",
       "dtype: int64"
      ]
     },
     "execution_count": 25,
     "metadata": {},
     "output_type": "execute_result"
    }
   ],
   "source": [
    "en_commun[[\"Finess\", \"Année\", colonne_ca, colonne_errd]].count()"
   ]
  },
  {
   "cell_type": "markdown",
   "metadata": {},
   "source": [
    "Des établissements ont des valeurs dans les 2 fichiers, devrait-on privilégier une source plutôt qu'une autre ?"
   ]
  },
  {
   "cell_type": "code",
   "execution_count": 40,
   "metadata": {},
   "outputs": [
    {
     "data": {
      "text/plain": [
       "count    19019.000000\n",
       "mean        29.670778\n",
       "std        698.352635\n",
       "min          0.000000\n",
       "25%          6.505000\n",
       "50%         13.590000\n",
       "75%         27.500000\n",
       "max      77509.200000\n",
       "Name: Nombre ETP total réalisé CA, dtype: float64"
      ]
     },
     "execution_count": 40,
     "metadata": {},
     "output_type": "execute_result"
    }
   ],
   "source": [
    "ann_ca_ej_et[colonne_ca].astype(float).describe()"
   ]
  },
  {
   "cell_type": "code",
   "execution_count": 29,
   "metadata": {},
   "outputs": [
    {
     "data": {
      "text/plain": [
       "count    2.885300e+04\n",
       "mean     1.994002e+02\n",
       "std      2.039694e+04\n",
       "min      0.000000e+00\n",
       "25%      1.942000e+01\n",
       "50%      3.987000e+01\n",
       "75%      5.523000e+01\n",
       "max      3.435177e+06\n",
       "Name: Nombre ETP total réalisé ERRD, dtype: float64"
      ]
     },
     "execution_count": 29,
     "metadata": {},
     "output_type": "execute_result"
    }
   ],
   "source": [
    "ann_ca_ej_et[colonne_ca].astype(float).describe()"
   ]
  },
  {
   "cell_type": "markdown",
   "metadata": {},
   "source": [
    "Des établissements sanitaires pourraient figurer dans les données du fichier ERRD ?"
   ]
  },
  {
   "cell_type": "code",
   "execution_count": 58,
   "metadata": {},
   "outputs": [],
   "source": [
    "quantile_999 = ann_ca_ej_et[colonne_ca].astype(float).quantile(.999)"
   ]
  },
  {
   "cell_type": "code",
   "execution_count": 60,
   "metadata": {},
   "outputs": [
    {
     "data": {
      "text/plain": [
       "numpy.float64"
      ]
     },
     "execution_count": 60,
     "metadata": {},
     "output_type": "execute_result"
    }
   ],
   "source": [
    "type(quantile_999)"
   ]
  },
  {
   "cell_type": "code",
   "execution_count": 69,
   "metadata": {},
   "outputs": [
    {
     "data": {
      "text/plain": [
       "<AxesSubplot: >"
      ]
     },
     "execution_count": 69,
     "metadata": {},
     "output_type": "execute_result"
    },
    {
     "data": {
      "image/png": "[encoded data removed]",
      "text/plain": [
       "<Figure size 640x480 with 1 Axes>"
      ]
     },
     "metadata": {},
     "output_type": "display_data"
    }
   ],
   "source": [
    "ann_ca_ej_et.loc[ann_ca_ej_et[colonne_ca].astype(float) < quantile_999, colonne_ca].astype(float).hist(bins=25)"
   ]
  }
 ],
 "metadata": {
  "kernelspec": {
   "display_name": "Python 3.10.6 ('.venv': pipenv)",
   "language": "python",
   "name": "python3"
  },
  "language_info": {
   "codemirror_mode": {
    "name": "ipython",
    "version": 3
   },
   "file_extension": ".py",
   "mimetype": "text/x-python",
   "name": "python",
   "nbconvert_exporter": "python",
   "pygments_lexer": "ipython3",
   "version": "3.10.6"
  },
  "orig_nbformat": 4,
  "vscode": {
   "interpreter": {
    "hash": "f3cd1644c1a4218067384e6ba48455ab308536d690fa2569ad70152dfd852e1a"
   }
  }
 },
 "nbformat": 4,
 "nbformat_minor": 2
}
