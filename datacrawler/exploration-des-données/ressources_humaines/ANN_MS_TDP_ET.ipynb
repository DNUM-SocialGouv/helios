{
 "cells": [
  {
   "cell_type": "code",
   "execution_count": null,
   "metadata": {},
   "outputs": [],
   "source": [
    "import os\n",
    "import pandas as pd\n",
    "\n",
    "CHEMIN_DOSSIER_DONNÉES = \"../../../data_test/diamant\"\n",
    "DATE_FICHIER = '2022_09_01'\n",
    "encoding = 'utf-8'"
   ]
  },
  {
   "cell_type": "code",
   "execution_count": null,
   "metadata": {},
   "outputs": [],
   "source": [
    "ann_ms_tdp_et = pd.read_csv(os.path.join(CHEMIN_DOSSIER_DONNÉES, f'ANN_MS_TDP_ET_{DATE_FICHIER}.CSV'), delimiter=\";\", encoding=encoding, dtype='str')"
   ]
  },
  {
   "cell_type": "code",
   "execution_count": null,
   "metadata": {},
   "outputs": [],
   "source": [
    "colonnes = [\n",
    "    \"Nombre de CDD de remplacement\",\n",
    "    \"Taux de prestations externes sur les prestations directes\",\n",
    "    \"Taux d'ETP vacants au 31/12\",\n",
    "    \"Taux de rotation du personnel sur effectifs réels\",\n",
    "    \"Taux d'absentéisme (hors formation)\",\n",
    "    \"Taux d'absentéisme pour maladie ordinaire/courte durée\",\n",
    "    \"Taux d'absentéisme pour maladie moyenne durée\",\n",
    "    \"Taux d'absentéisme pour maladie longue durée\",\n",
    "    \"Taux d'absentéisme pour maternité/paternité\",\n",
    "    \"Taux d'absentéisme pour accident du travail / maladie professionnelle\",\n",
    "    \"Taux d'absentéisme pour congés spéciaux dont sans solde\"\n",
    "]\n",
    "index = [\n",
    "    \"Finess\",\n",
    "    \"Année\"\n",
    "]"
   ]
  },
  {
   "cell_type": "markdown",
   "metadata": {},
   "source": [
    "## Doublons"
   ]
  },
  {
   "cell_type": "code",
   "execution_count": null,
   "metadata": {},
   "outputs": [],
   "source": [
    "a_plus_d_une_donnée_par_finess_par_année = (ann_ms_tdp_et.groupby(index).nunique() > 1).any(axis=1)"
   ]
  },
  {
   "cell_type": "markdown",
   "metadata": {},
   "source": [
    "## Valeurs manquantes"
   ]
  },
  {
   "cell_type": "code",
   "execution_count": null,
   "metadata": {},
   "outputs": [],
   "source": [
    "ann_ms_tdp_et[colonnes].count() / "
   ]
  },
  {
   "cell_type": "code",
   "execution_count": null,
   "metadata": {},
   "outputs": [],
   "source": [
    "(~ann_ms_tdp_et[[\n",
    "    \"Taux d'absentéisme (hors formation)\",\n",
    "    \"Taux d'absentéisme pour maladie ordinaire/courte durée\",\n",
    "    \"Taux d'absentéisme pour maladie moyenne durée\",\n",
    "    \"Taux d'absentéisme pour maladie longue durée\",\n",
    "    \"Taux d'absentéisme pour maternité/paternité\",\n",
    "    \"Taux d'absentéisme pour accident du travail / maladie professionnelle\",\n",
    "    \"Taux d'absentéisme pour congés spéciaux dont sans solde\"\n",
    "]].isna().apply(any, axis=1)).sum()"
   ]
  },
  {
   "cell_type": "code",
   "execution_count": null,
   "metadata": {},
   "outputs": [],
   "source": [
    "ann_ms_tdp_et[colonnes].isna().sum() / ann_ms_tdp_et.shape[0]"
   ]
  },
  {
   "cell_type": "markdown",
   "metadata": {},
   "source": [
    "## Années renseignées"
   ]
  },
  {
   "cell_type": "code",
   "execution_count": null,
   "metadata": {},
   "outputs": [],
   "source": [
    "ann_ms_tdp_et['Année'].unique()"
   ]
  },
  {
   "cell_type": "code",
   "execution_count": null,
   "metadata": {},
   "outputs": [],
   "source": [
    "ann_ms_tdp_et['Année'].hist()"
   ]
  },
  {
   "cell_type": "code",
   "execution_count": null,
   "metadata": {},
   "outputs": [],
   "source": [
    "ann_ms_tdp_et.groupby('Finess').count()['Année'].hist()"
   ]
  },
  {
   "cell_type": "markdown",
   "metadata": {},
   "source": [
    "## Cohérence des données"
   ]
  },
  {
   "cell_type": "markdown",
   "metadata": {},
   "source": [
    "### Présence de taux négatifs"
   ]
  },
  {
   "cell_type": "code",
   "execution_count": null,
   "metadata": {},
   "outputs": [],
   "source": [
    "for colonne in colonnes:\n",
    "    print(colonne, \" ===> \", ann_ms_tdp_et[ann_ms_tdp_et[colonne].astype(float) < 0].shape[0])"
   ]
  },
  {
   "cell_type": "code",
   "execution_count": null,
   "metadata": {},
   "outputs": [],
   "source": [
    "ann_ms_tdp_et[ann_ms_tdp_et[\"Taux d'ETP vacants au 31/12\"].astype(float) < 0][colonnes]"
   ]
  },
  {
   "cell_type": "markdown",
   "metadata": {},
   "source": [
    "###  Présence de taux > 100 %"
   ]
  },
  {
   "cell_type": "code",
   "execution_count": null,
   "metadata": {},
   "outputs": [],
   "source": [
    "for colonne in colonnes:\n",
    "    print(colonne, \" ===> \", ann_ms_tdp_et[ann_ms_tdp_et[colonne].astype(float) > 1].shape[0])"
   ]
  },
  {
   "cell_type": "code",
   "execution_count": null,
   "metadata": {},
   "outputs": [],
   "source": [
    "ann_ms_tdp_et[ann_ms_tdp_et[\"Taux de rotation du personnel sur effectifs réels\"].astype(float) > 1][colonnes]"
   ]
  },
  {
   "cell_type": "markdown",
   "metadata": {},
   "source": [
    "## Cohérence des taux d'absentéisme"
   ]
  },
  {
   "cell_type": "code",
   "execution_count": null,
   "metadata": {},
   "outputs": [],
   "source": [
    "comparaison_des_sommes = ann_ms_tdp_et[[\"Taux d'absentéisme (hors formation)\"]].astype(float).round(decimals=2)"
   ]
  },
  {
   "cell_type": "code",
   "execution_count": null,
   "metadata": {},
   "outputs": [],
   "source": [
    "comparaison_des_sommes['somme_des_taux'] = ann_ms_tdp_et[[\n",
    "    \"Taux d'absentéisme pour maladie ordinaire/courte durée\",\n",
    "    \"Taux d'absentéisme pour maladie moyenne durée\",\n",
    "    \"Taux d'absentéisme pour maladie longue durée\",\n",
    "    \"Taux d'absentéisme pour maternité/paternité\",\n",
    "    \"Taux d'absentéisme pour accident du travail / maladie professionnelle\",\n",
    "    \"Taux d'absentéisme pour congés spéciaux dont sans solde\"\n",
    "]].astype(float).sum(axis=1, skipna=False).round(decimals=2)"
   ]
  },
  {
   "cell_type": "code",
   "execution_count": null,
   "metadata": {},
   "outputs": [],
   "source": [
    "somme_des_taux_absentéisme_incohérent = comparaison_des_sommes[\"Taux d'absentéisme (hors formation)\"] != comparaison_des_sommes[\"somme_des_taux\"]"
   ]
  },
  {
   "cell_type": "code",
   "execution_count": null,
   "metadata": {},
   "outputs": [],
   "source": [
    "comparaison_des_sommes[somme_des_taux_absentéisme_incohérent]"
   ]
  },
  {
   "cell_type": "markdown",
   "metadata": {},
   "source": [
    "### 0 pour Taux d'absentéisme (hors formation) & NaN pour la somme des autres taux"
   ]
  },
  {
   "cell_type": "code",
   "execution_count": null,
   "metadata": {},
   "outputs": [],
   "source": [
    "taux_d_absentéisme_à_0_et_somme_à_nan = (comparaison_des_sommes[\"Taux d'absentéisme (hors formation)\"] == 0) & (comparaison_des_sommes[\"somme_des_taux\"].isna())"
   ]
  },
  {
   "cell_type": "code",
   "execution_count": null,
   "metadata": {},
   "outputs": [],
   "source": [
    "comparaison_des_sommes[taux_d_absentéisme_à_0_et_somme_à_nan].shape[0] / ann_ms_tdp_et.shape[0]"
   ]
  },
  {
   "cell_type": "markdown",
   "metadata": {},
   "source": [
    "Quand les taux d'absentéismes ne sont pas remplis (NAN) leur somme (Taux d'absentéisme (hors formation)) est à 0 => est-ce que c'est DIAMANT qui le calcule ? "
   ]
  },
  {
   "cell_type": "markdown",
   "metadata": {},
   "source": [
    "### NaN pour Taux d'absentéisme (hors formation) & NaN pour la somme des autres taux"
   ]
  },
  {
   "cell_type": "code",
   "execution_count": null,
   "metadata": {},
   "outputs": [],
   "source": [
    "taux_d_absentéisme_à_nan_et_somme_à_nan = (comparaison_des_sommes[\"Taux d'absentéisme (hors formation)\"].isna())"
   ]
  },
  {
   "cell_type": "code",
   "execution_count": null,
   "metadata": {},
   "outputs": [],
   "source": [
    "comparaison_des_sommes[taux_d_absentéisme_à_nan_et_somme_à_nan].shape[0] / ann_ms_tdp_et.shape[0]"
   ]
  },
  {
   "cell_type": "code",
   "execution_count": null,
   "metadata": {},
   "outputs": [],
   "source": [
    "comparaison_des_sommes[(~(taux_d_absentéisme_à_0_et_somme_à_nan | taux_d_absentéisme_à_nan_et_somme_à_nan)) & somme_des_taux_absentéisme_incohérent]"
   ]
  },
  {
   "cell_type": "markdown",
   "metadata": {},
   "source": [
    "Parfois, la somme des taux n'est pas parfaitement égales au taux d'absentéisme hors formations => erreur d'arrondi par DIAMANT ? Peut-on nous même faire la somme ?"
   ]
  },
  {
   "cell_type": "code",
   "execution_count": null,
   "metadata": {},
   "outputs": [],
   "source": [
    "comparaison_des_sommes.apply(lambda x: abs(x[\"Taux d'absentéisme (hors formation)\"] - x[\"somme_des_taux\"]) > 0.01, axis=1).sum()"
   ]
  },
  {
   "cell_type": "code",
   "execution_count": null,
   "metadata": {},
   "outputs": [],
   "source": [
    "ann_ms_tdp_et[colonnes].astype(float).describe()"
   ]
  },
  {
   "cell_type": "code",
   "execution_count": null,
   "metadata": {},
   "outputs": [],
   "source": [
    "ann_ms_tdp_et[colonnes].astype(float).hist(bins=100, figsize=(10, 20) ,layout=(11, 1))"
   ]
  },
  {
   "cell_type": "code",
   "execution_count": null,
   "metadata": {},
   "outputs": [],
   "source": []
  }
 ],
 "metadata": {
  "kernelspec": {
   "display_name": "Python 3.10.6 ('.venv': pipenv)",
   "language": "python",
   "name": "python3"
  },
  "language_info": {
   "codemirror_mode": {
    "name": "ipython",
    "version": 3
   },
   "file_extension": ".py",
   "mimetype": "text/x-python",
   "name": "python",
   "nbconvert_exporter": "python",
   "pygments_lexer": "ipython3",
   "version": "3.10.6"
  },
  "vscode": {
   "interpreter": {
    "hash": "f3cd1644c1a4218067384e6ba48455ab308536d690fa2569ad70152dfd852e1a"
   }
  }
 },
 "nbformat": 4,
 "nbformat_minor": 2
}
