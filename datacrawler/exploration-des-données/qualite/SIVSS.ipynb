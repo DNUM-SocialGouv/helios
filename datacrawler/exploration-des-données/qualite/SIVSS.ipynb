{
 "cells": [
  {
   "cell_type": "code",
   "execution_count": 8,
   "metadata": {},
   "outputs": [],
   "source": [
    "import os\n",
    "\n",
    "import pandas as pd\n",
    "import datetime\n",
    "CHEMIN_DOSSIER_DONNÉES = '../../../data_set/sivss/'\n",
    "encoding = 'utf-8'"
   ]
  },
  {
   "cell_type": "code",
   "execution_count": 9,
   "metadata": {},
   "outputs": [],
   "source": [
    "sivss = pd.read_csv(\n",
    "    os.path.join(CHEMIN_DOSSIER_DONNÉES, 'sivss_202401221848.csv'),\n",
    "    delimiter=\";\",\n",
    "    encoding=encoding,\n",
    "    usecols=['STRUCTURE_INTITULE',\n",
    "             'NUMERO_SIVSS',\n",
    "             'ANNEE_RECEPTION',\n",
    "             'FAMILLE_PRINCIPALE',\n",
    "             'NATURE_PRINCIPALE',\n",
    "             'AUTRE_SIGNAL_LIBELLE',\n",
    "             'FAMILLE_SECONDAIRE',\n",
    "             'NATURE_SECONDAIRE',\n",
    "             'AUTRE_SIGNAL_SECONDAIRE_LIBELLE',\n",
    "             'EST_EIGS',\n",
    "             'CONSEQUENCES_PERSONNE_EXPOSEE',\n",
    "             'RECLAMATION',\n",
    "             'DECLARANT_EST_ANONYME',\n",
    "             'DECLARANT_QUALITE_FONCTION',\n",
    "             'DECLARANT_CATEGORIE',\n",
    "             'DECLARANT_ORGANISME_TYPE',\n",
    "             'DECLARANT_ETABLISSEMENT_TYPE',\n",
    "             'DECLARANT_ORGANISME_NUMERO_FINESS',\n",
    "             'DECLARANT_ORGANISME_NOM',\n",
    "             'DECLARANT_ORGANISME_REGION',\n",
    "             'DECLARANT_ORGANISME_DEPARTEMENT',\n",
    "             'DECLARANT_ORGANISME_CODE_POSTAL',\n",
    "             'DECLARANT_ORGANISME_COMMUNE',\n",
    "             'DECLARANT_ORGANISME_CODE_INSEE',\n",
    "             'SURVENUE_CAS_COLLECTIVITE',\n",
    "             'SCC_ORGANISME_TYPE',\n",
    "             'SCC_ETABLISSEMENT_TYPE',\n",
    "             'SCC_ORGANISME_NOM',\n",
    "             'FINESS',\n",
    "             'SCC_ORGANISME_REGION',\n",
    "             'SCC_ORGANISME_DEPARTEMENT',\n",
    "             'SCC_ORGANISME_CODE_POSTAL',\n",
    "             'SCC_ORGANISME_COMMUNE',\n",
    "             'SCC_ORGANISME_CODE_INSEE',\n",
    "             'ETAT',\n",
    "             'SUPPORT_SIGNALEMENT',\n",
    "             'DATE_CLOTURE',\n",
    "             'MOTIF_CLOTURE'\n",
    "             ],\n",
    ")"
   ]
  },
  {
   "cell_type": "markdown",
   "metadata": {},
   "source": [
    "### Vérifier les doublons : On s'attend à avoir une seule valeur par (Finess, Année, numéro sivss)"
   ]
  },
  {
   "cell_type": "code",
   "execution_count": 10,
   "metadata": {},
   "outputs": [
    {
     "data": {
      "text/plain": [
       "0"
      ]
     },
     "execution_count": 10,
     "metadata": {},
     "output_type": "execute_result"
    }
   ],
   "source": [
    "sivss.duplicated(subset=[\"FINESS\", \"ANNEE_RECEPTION\", \"NUMERO_SIVSS\"]).sum()"
   ]
  },
  {
   "cell_type": "markdown",
   "metadata": {},
   "source": [
    "### Vérifier que toutes les lignes concerne des numéros FINESS à 9 chiffres"
   ]
  },
  {
   "cell_type": "code",
   "execution_count": 11,
   "metadata": {},
   "outputs": [],
   "source": [
    "rows_not_of_length_9 = sivss[sivss['FINESS'].astype(str).str.len() < 9]"
   ]
  },
  {
   "cell_type": "code",
   "execution_count": 12,
   "metadata": {},
   "outputs": [
    {
     "data": {
      "text/plain": [
       "53"
      ]
     },
     "execution_count": 12,
     "metadata": {},
     "output_type": "execute_result"
    }
   ],
   "source": [
    "rows_not_of_length_9['FINESS'].size"
   ]
  },
  {
   "cell_type": "markdown",
   "metadata": {},
   "source": [
    "### Vérifier que l'année est renseignée"
   ]
  },
  {
   "cell_type": "code",
   "execution_count": 13,
   "metadata": {},
   "outputs": [
    {
     "data": {
      "text/plain": [
       "0"
      ]
     },
     "execution_count": 13,
     "metadata": {},
     "output_type": "execute_result"
    }
   ],
   "source": [
    "sivss['ANNEE_RECEPTION'].isna().sum()"
   ]
  },
  {
   "cell_type": "markdown",
   "metadata": {},
   "source": [
    "### Vérifier les dates qu’on a (priorité sur les 3 dernières années, 2021 à 2023 + l’année en cours)"
   ]
  },
  {
   "cell_type": "code",
   "execution_count": 16,
   "metadata": {},
   "outputs": [
    {
     "data": {
      "text/plain": [
       "1"
      ]
     },
     "execution_count": 16,
     "metadata": {},
     "output_type": "execute_result"
    }
   ],
   "source": [
    "current_year = int(datetime.date.today().strftime(\"%Y\"))\n",
    "sivss[sivss['ANNEE_RECEPTION'].gt(current_year) | sivss['ANNEE_RECEPTION'].lt(current_year - 3)]['ANNEE_RECEPTION'].size"
   ]
  },
  {
   "cell_type": "markdown",
   "metadata": {},
   "source": [
    "### Vérifier les valeurs aberrantes (négatives) "
   ]
  },
  {
   "cell_type": "code",
   "execution_count": 17,
   "metadata": {},
   "outputs": [
    {
     "data": {
      "text/html": [
       "<div>\n",
       "<style scoped>\n",
       "    .dataframe tbody tr th:only-of-type {\n",
       "        vertical-align: middle;\n",
       "    }\n",
       "\n",
       "    .dataframe tbody tr th {\n",
       "        vertical-align: top;\n",
       "    }\n",
       "\n",
       "    .dataframe thead th {\n",
       "        text-align: right;\n",
       "    }\n",
       "</style>\n",
       "<table border=\"1\" class=\"dataframe\">\n",
       "  <thead>\n",
       "    <tr style=\"text-align: right;\">\n",
       "      <th></th>\n",
       "      <th>NUMERO_SIVSS</th>\n",
       "      <th>ANNEE_RECEPTION</th>\n",
       "      <th>AUTRE_SIGNAL_LIBELLE</th>\n",
       "      <th>AUTRE_SIGNAL_SECONDAIRE_LIBELLE</th>\n",
       "      <th>DECLARANT_ORGANISME_NUMERO_FINESS</th>\n",
       "      <th>DECLARANT_ORGANISME_CODE_POSTAL</th>\n",
       "      <th>DECLARANT_ORGANISME_CODE_INSEE</th>\n",
       "      <th>FINESS</th>\n",
       "      <th>SCC_ORGANISME_CODE_POSTAL</th>\n",
       "      <th>SCC_ORGANISME_CODE_INSEE</th>\n",
       "    </tr>\n",
       "  </thead>\n",
       "  <tbody>\n",
       "  </tbody>\n",
       "</table>\n",
       "</div>"
      ],
      "text/plain": [
       "Empty DataFrame\n",
       "Columns: [NUMERO_SIVSS, ANNEE_RECEPTION, AUTRE_SIGNAL_LIBELLE, AUTRE_SIGNAL_SECONDAIRE_LIBELLE, DECLARANT_ORGANISME_NUMERO_FINESS, DECLARANT_ORGANISME_CODE_POSTAL, DECLARANT_ORGANISME_CODE_INSEE, FINESS, SCC_ORGANISME_CODE_POSTAL, SCC_ORGANISME_CODE_INSEE]\n",
       "Index: []"
      ]
     },
     "execution_count": 17,
     "metadata": {},
     "output_type": "execute_result"
    }
   ],
   "source": [
    "sivss_num = sivss.select_dtypes(exclude = {object, bool})\n",
    "sivss_num[sivss_num.le(0).any(axis=1)]"
   ]
  }
 ],
 "metadata": {
  "kernelspec": {
   "display_name": "Python 3 (ipykernel)",
   "language": "python",
   "name": "python3"
  },
  "language_info": {
   "codemirror_mode": {
    "name": "ipython",
    "version": 3
   },
   "file_extension": ".py",
   "mimetype": "text/x-python",
   "name": "python",
   "nbconvert_exporter": "python",
   "pygments_lexer": "ipython3",
   "version": "3.10.8"
  }
 },
 "nbformat": 4,
 "nbformat_minor": 2
}
