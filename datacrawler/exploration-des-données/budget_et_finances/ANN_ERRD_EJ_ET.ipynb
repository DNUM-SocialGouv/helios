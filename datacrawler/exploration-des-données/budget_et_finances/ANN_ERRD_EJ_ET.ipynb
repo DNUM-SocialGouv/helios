{
 "cells": [
  {
   "cell_type": "markdown",
   "source": [
    "# Analyse de données Budget et Finances"
   ],
   "metadata": {
    "collapsed": false
   }
  },
  {
   "cell_type": "markdown",
   "source": [
    "## Paramétrage"
   ],
   "metadata": {
    "collapsed": false
   }
  },
  {
   "cell_type": "code",
   "execution_count": null,
   "outputs": [],
   "source": [
    "import os\n",
    "\n",
    "import pandas as pd\n",
    "CHEMIN_DOSSIER_DONNÉES = '../../../../données/DIAMANT'\n",
    "DATE_FICHIER = '2022_09_01'\n",
    "encoding = 'utf-8'\n"
   ],
   "metadata": {
    "collapsed": false,
    "pycharm": {
     "name": "#%%\n"
    }
   }
  },
  {
   "cell_type": "markdown",
   "source": [],
   "metadata": {
    "collapsed": false
   }
  },
  {
   "cell_type": "code",
   "execution_count": null,
   "outputs": [],
   "source": [
    "ann_errd_ej_et = pd.read_csv(\n",
    "    os.path.join(CHEMIN_DOSSIER_DONNÉES, 'ANN_ERRD_EJ_ET_' + DATE_FICHIER + '.CSV'),\n",
    "    delimiter=\";\",\n",
    "    encoding=encoding,\n",
    "    usecols=['Finess EJ',\n",
    "             'Finess',\n",
    "             'Année',\n",
    "             'Dépenses Groupe I ERRD',\n",
    "             'Dépenses Groupe II ERRD',\n",
    "             'Dépenses Groupe III ERRD',\n",
    "             'Recettes Groupe I ERRD',\n",
    "             'Recettes Groupe II ERRD',\n",
    "             'Recettes Groupe III ERRD',\n",
    "             'MS Résultat net comptable ERRD',\n",
    "             '655 Quotes-parts de résultat sur opérations faites en commun'],\n",
    ")"
   ],
   "metadata": {
    "collapsed": false,
    "pycharm": {
     "name": "#%%\n"
    }
   }
  },
  {
   "cell_type": "code",
   "execution_count": null,
   "outputs": [],
   "source": [
    "ann_ca_ej_et = pd.read_csv(\n",
    "    os.path.join(CHEMIN_DOSSIER_DONNÉES, 'ANN_CA_EJ_ET_' + DATE_FICHIER + '.CSV'),\n",
    "    delimiter=\";\",\n",
    "    encoding=encoding,\n",
    "    usecols=['Finess EJ',\n",
    "             'Finess',\n",
    "             'Année',\n",
    "             'Recettes Groupe I CA',\n",
    "             'Recettes Groupe II CA',\n",
    "             'Recettes Groupe III CA',\n",
    "             'Dépenses Groupe I CA',\n",
    "             'Dépenses Groupe II CA',\n",
    "             'Dépenses Groupe III CA',\n",
    "             'Charges CA PA',\n",
    "             'Produits CA PA',\n",
    "             'Taux de CAF CA PH',\n",
    "             'Taux vétusté Construction CA',\n",
    "             'MS Résultat net comptable CA PH',\n",
    "             'MS Résultat net comptable CA PA'],\n",
    ")"
   ],
   "metadata": {
    "collapsed": false,
    "pycharm": {
     "name": "#%%\n"
    }
   }
  },
  {
   "cell_type": "code",
   "execution_count": 224,
   "outputs": [],
   "source": [
    "ann_errd_ej = pd.read_csv(\n",
    "    os.path.join(CHEMIN_DOSSIER_DONNÉES, 'ANN_ERRD_EJ_' + DATE_FICHIER + '.CSV'),\n",
    "    delimiter=\";\",\n",
    "    encoding=encoding,\n",
    "    usecols=['Finess EJ',\n",
    "            'Année',\n",
    "            'Taux vétusté Construction ERRD',\n",
    "             'Taux de CAF ERRD'],\n",
    ")\n"
   ],
   "metadata": {
    "collapsed": false,
    "pycharm": {
     "name": "#%%\n"
    }
   }
  },
  {
   "cell_type": "markdown",
   "source": [
    "## Doublons"
   ],
   "metadata": {
    "collapsed": false
   }
  },
  {
   "cell_type": "markdown",
   "source": [
    "### On s'attend à avoir une seule valeur par (Finess, Année)"
   ],
   "metadata": {
    "collapsed": false
   }
  },
  {
   "cell_type": "code",
   "execution_count": null,
   "outputs": [],
   "source": [
    "a_plus_d_une_donnée_par_finess_par_année = (ann_errd_ej_et.groupby(['Finess', 'Année']).nunique() > 1).any(axis=1)"
   ],
   "metadata": {
    "collapsed": false,
    "pycharm": {
     "name": "#%%\n"
    }
   }
  },
  {
   "cell_type": "markdown",
   "source": [
    "## Valeurs manquantes\n"
   ],
   "metadata": {
    "collapsed": false
   }
  },
  {
   "cell_type": "code",
   "execution_count": null,
   "outputs": [],
   "source": [
    "ann_errd_ej_et.isna().sum() / ann_errd_ej_et.shape[0]\n"
   ],
   "metadata": {
    "collapsed": false,
    "pycharm": {
     "name": "#%%\n"
    }
   }
  },
  {
   "cell_type": "markdown",
   "source": [
    "### Années renseignées"
   ],
   "metadata": {
    "collapsed": false
   }
  },
  {
   "cell_type": "code",
   "execution_count": null,
   "outputs": [],
   "source": [
    "ann_errd_ej_et.groupby('Finess').count()['Année'].hist()\n"
   ],
   "metadata": {
    "collapsed": false,
    "pycharm": {
     "name": "#%%\n"
    }
   }
  },
  {
   "cell_type": "code",
   "execution_count": null,
   "outputs": [],
   "source": [
    "ann_errd_ej_et['Année'].nunique()"
   ],
   "metadata": {
    "collapsed": false,
    "pycharm": {
     "name": "#%%\n"
    }
   }
  },
  {
   "cell_type": "code",
   "execution_count": null,
   "outputs": [],
   "source": [
    "ann_errd_ej_et['Année'].hist()"
   ],
   "metadata": {
    "collapsed": false,
    "pycharm": {
     "name": "#%%\n"
    }
   }
  },
  {
   "cell_type": "code",
   "execution_count": null,
   "outputs": [],
   "source": [
    "ann_errd_ej_et['Année'].max()"
   ],
   "metadata": {
    "collapsed": false,
    "pycharm": {
     "name": "#%%\n"
    }
   }
  },
  {
   "cell_type": "markdown",
   "source": [
    "### Valeurs manquantes par colonne"
   ],
   "metadata": {
    "collapsed": false
   }
  },
  {
   "cell_type": "code",
   "execution_count": null,
   "outputs": [],
   "source": [
    "nombre_d_établissements_dans_ann_ms_tdp_et = ann_errd_ej_et['Finess'].nunique()"
   ],
   "metadata": {
    "collapsed": false,
    "pycharm": {
     "name": "#%%\n"
    }
   }
  },
  {
   "cell_type": "markdown",
   "source": [
    "#### % de valeurs manquantes par colonne"
   ],
   "metadata": {
    "collapsed": false
   }
  },
  {
   "cell_type": "code",
   "execution_count": null,
   "outputs": [],
   "source": [
    "est_une_valeur_manquante = ann_errd_ej_et.drop('Finess EJ', axis=1).set_index(['Finess', 'Année']).isna().reset_index()\n",
    "établissement_avec_au_moins_une_valeur_renseignée = (~est_une_valeur_manquante.groupby(\n",
    "    'Finess').any().drop('Année', axis=1))\n",
    "établissement_avec_au_moins_une_valeur_renseignée.sum() / nombre_d_établissements_dans_ann_ms_tdp_et"
   ],
   "metadata": {
    "collapsed": false,
    "pycharm": {
     "name": "#%%\n"
    }
   }
  },
  {
   "cell_type": "markdown",
   "source": [],
   "metadata": {
    "collapsed": false
   }
  },
  {
   "cell_type": "code",
   "execution_count": null,
   "outputs": [],
   "source": [
    "ann_errd_ej_et.groupby('Finess').any().sum() / nombre_d_établissements_dans_ann_ms_tdp_et\n"
   ],
   "metadata": {
    "collapsed": false,
    "pycharm": {
     "name": "#%%\n"
    }
   }
  },
  {
   "cell_type": "markdown",
   "source": [
    "0 équivaut à valeur manquante ? Dans quels cas ?"
   ],
   "metadata": {
    "collapsed": false
   }
  },
  {
   "cell_type": "markdown",
   "source": [
    "### Cohérence des données"
   ],
   "metadata": {
    "collapsed": false
   }
  },
  {
   "cell_type": "markdown",
   "source": [
    "#### Dépenses positives"
   ],
   "metadata": {
    "collapsed": false
   }
  },
  {
   "cell_type": "code",
   "execution_count": null,
   "outputs": [],
   "source": [
    "(ann_errd_ej_et['Dépenses Groupe I ERRD'] > 0).sum()"
   ],
   "metadata": {
    "collapsed": false,
    "pycharm": {
     "name": "#%%\n"
    }
   }
  },
  {
   "cell_type": "code",
   "execution_count": null,
   "outputs": [],
   "source": [
    "(ann_errd_ej_et['Dépenses Groupe II ERRD'] > 0).sum()\n",
    "ann_errd_ej_et[ann_errd_ej_et['Dépenses Groupe II ERRD'] > 0]"
   ],
   "metadata": {
    "collapsed": false,
    "pycharm": {
     "name": "#%%\n"
    }
   }
  },
  {
   "cell_type": "code",
   "execution_count": null,
   "outputs": [],
   "source": [
    "(ann_errd_ej_et['Dépenses Groupe III ERRD'] > 0).sum()\n",
    "ann_errd_ej_et[ann_errd_ej_et['Dépenses Groupe III ERRD'] > 0]\n"
   ],
   "metadata": {
    "collapsed": false,
    "pycharm": {
     "name": "#%%\n"
    }
   }
  },
  {
   "cell_type": "markdown",
   "source": [
    "#### Recettes négatives\n"
   ],
   "metadata": {
    "collapsed": false
   }
  },
  {
   "cell_type": "code",
   "execution_count": null,
   "outputs": [],
   "source": [
    "(ann_errd_ej_et['Recettes Groupe I ERRD'] < 0).sum()"
   ],
   "metadata": {
    "collapsed": false,
    "pycharm": {
     "name": "#%%\n"
    }
   }
  },
  {
   "cell_type": "code",
   "execution_count": null,
   "outputs": [],
   "source": [
    "(ann_errd_ej_et['Recettes Groupe II ERRD'] < 0).sum()\n"
   ],
   "metadata": {
    "collapsed": false,
    "pycharm": {
     "name": "#%%\n"
    }
   }
  },
  {
   "cell_type": "code",
   "execution_count": null,
   "outputs": [],
   "source": [
    "ann_errd_ej_et[ann_errd_ej_et['Recettes Groupe II ERRD'] < 0]"
   ],
   "metadata": {
    "collapsed": false,
    "pycharm": {
     "name": "#%%\n"
    }
   }
  },
  {
   "cell_type": "code",
   "execution_count": null,
   "outputs": [],
   "source": [
    "(ann_errd_ej_et['Recettes Groupe III ERRD'] < 0).sum()\n"
   ],
   "metadata": {
    "collapsed": false,
    "pycharm": {
     "name": "#%%\n"
    }
   }
  },
  {
   "cell_type": "code",
   "execution_count": null,
   "outputs": [],
   "source": [
    "ann_errd_ej_et[ann_errd_ej_et['Recettes Groupe III ERRD'] < 0]\n"
   ],
   "metadata": {
    "collapsed": false,
    "pycharm": {
     "name": "#%%\n"
    }
   }
  },
  {
   "cell_type": "markdown",
   "source": [
    "#### Résultat"
   ],
   "metadata": {
    "collapsed": false
   }
  },
  {
   "cell_type": "code",
   "execution_count": null,
   "outputs": [],
   "source": [
    "résultat = ann_errd_ej_et['Recettes Groupe I ERRD'] + ann_errd_ej_et['Recettes Groupe II ERRD'] + ann_errd_ej_et[\n",
    "    'Recettes Groupe III ERRD'] + ann_errd_ej_et['Dépenses Groupe I ERRD'] + ann_errd_ej_et['Dépenses Groupe II ERRD'] + ann_errd_ej_et['Dépenses Groupe III ERRD']\n"
   ],
   "metadata": {
    "collapsed": false,
    "pycharm": {
     "name": "#%%\n"
    }
   }
  },
  {
   "cell_type": "code",
   "execution_count": null,
   "outputs": [],
   "source": [
    "résultat.name = 'résultat'"
   ],
   "metadata": {
    "collapsed": false,
    "pycharm": {
     "name": "#%%\n"
    }
   }
  },
  {
   "cell_type": "code",
   "execution_count": null,
   "outputs": [],
   "source": [
    "ann_errd_ej_et.head()"
   ],
   "metadata": {
    "collapsed": false,
    "pycharm": {
     "name": "#%%\n"
    }
   }
  },
  {
   "cell_type": "code",
   "execution_count": null,
   "outputs": [],
   "source": [
    "a_un_résultat_différent_que_la_somme_des_dépenses_et_recettes = ~(résultat.round(decimals=2) == ann_errd_ej_et['MS Résultat net comptable ERRD'].round(decimals=2))\n",
    "ann_errd_ej_et.loc[a_un_résultat_différent_que_la_somme_des_dépenses_et_recettes, [\"Finess\",\n",
    "                                                                                  \"Année\",\n",
    "                                                                                  \"MS Résultat net comptable ERRD\"]].isna().sum()\n"
   ],
   "metadata": {
    "collapsed": false,
    "pycharm": {
     "name": "#%%\n"
    }
   }
  },
  {
   "cell_type": "code",
   "execution_count": null,
   "outputs": [],
   "source": [
    "a_un_résultat_différent_que_la_somme_des_dépenses_et_recettes.sum()"
   ],
   "metadata": {
    "collapsed": false,
    "pycharm": {
     "name": "#%%\n"
    }
   }
  },
  {
   "cell_type": "code",
   "execution_count": null,
   "outputs": [],
   "source": [
    "ann_errd_ej_et.loc[a_un_résultat_différent_que_la_somme_des_dépenses_et_recettes, [\"Finess\",\n",
    "                                                                                  \"Année\",\n",
    "                                                                                  \"MS Résultat net comptable ERRD\"]]"
   ],
   "metadata": {
    "collapsed": false,
    "pycharm": {
     "name": "#%%\n"
    }
   }
  },
  {
   "cell_type": "markdown",
   "source": [
    "Les fois où le résultat n'est pas consistant avec la somme des recettes et des dépenses c'est parce qu'on n'a pas de valeur renseignée"
   ],
   "metadata": {
    "collapsed": false
   }
  },
  {
   "cell_type": "markdown",
   "source": [
    "#### 655 Quotes-parts de résultat sur opérations faites en commun\n"
   ],
   "metadata": {
    "collapsed": false
   }
  },
  {
   "cell_type": "markdown",
   "source": [
    "C'est un indicateur qui est positif sur notre maquette"
   ],
   "metadata": {
    "collapsed": false
   }
  },
  {
   "cell_type": "code",
   "execution_count": null,
   "outputs": [],
   "source": [
    "ann_errd_ej_et['655 Quotes-parts de résultat sur opérations faites en commun'].hist(bins=50)\n"
   ],
   "metadata": {
    "collapsed": false,
    "pycharm": {
     "name": "#%%\n"
    }
   }
  },
  {
   "cell_type": "code",
   "execution_count": null,
   "outputs": [],
   "source": [
    "ann_errd_ej_et['655 Quotes-parts de résultat sur opérations faites en commun'].max()\n"
   ],
   "metadata": {
    "collapsed": false,
    "pycharm": {
     "name": "#%%\n"
    }
   }
  },
  {
   "cell_type": "code",
   "execution_count": null,
   "outputs": [],
   "source": [
    "(ann_errd_ej_et['655 Quotes-parts de résultat sur opérations faites en commun'] > 0).sum()\n"
   ],
   "metadata": {
    "collapsed": false,
    "pycharm": {
     "name": "#%%\n"
    }
   }
  },
  {
   "cell_type": "code",
   "execution_count": null,
   "outputs": [],
   "source": [
    "ann_errd_ej_et[ann_errd_ej_et['655 Quotes-parts de résultat sur opérations faites en commun'] > 0]\n"
   ],
   "metadata": {
    "collapsed": false,
    "pycharm": {
     "name": "#%%\n"
    }
   }
  },
  {
   "cell_type": "markdown",
   "source": [
    "Est-ce normal d'avoir des valeurs positives ?\n"
   ],
   "metadata": {
    "collapsed": false
   }
  },
  {
   "cell_type": "markdown",
   "source": [
    "### Stats descriptives\n"
   ],
   "metadata": {
    "collapsed": false
   }
  },
  {
   "cell_type": "code",
   "execution_count": null,
   "outputs": [],
   "source": [
    "ann_errd_ej_et.describe()"
   ],
   "metadata": {
    "collapsed": false,
    "pycharm": {
     "name": "#%%\n"
    }
   }
  },
  {
   "cell_type": "code",
   "execution_count": null,
   "outputs": [],
   "source": [
    "ann_errd_ej_et[[\n",
    "    'Dépenses Groupe II ERRD',\n",
    "    'Dépenses Groupe III ERRD',\n",
    "    'Recettes Groupe I ERRD',\n",
    "    'Recettes Groupe II ERRD',\n",
    "    'Recettes Groupe III ERRD',\n",
    "    'MS Résultat net comptable ERRD',\n",
    "    '655 Quotes-parts de résultat sur opérations faites en commun']].hist(bins=25)"
   ],
   "metadata": {
    "collapsed": false,
    "pycharm": {
     "name": "#%%\n"
    }
   }
  },
  {
   "cell_type": "markdown",
   "source": [
    "## ANN_CA_EJ_ET et ANN_ERRD_EJ_ET sont-ils bien disjoints ?\n"
   ],
   "metadata": {
    "collapsed": false
   }
  },
  {
   "cell_type": "code",
   "execution_count": null,
   "outputs": [],
   "source": [
    "finess_ann_ca_ej_et = set(ann_ca_ej_et['Finess'])"
   ],
   "metadata": {
    "collapsed": false,
    "pycharm": {
     "name": "#%%\n"
    }
   }
  },
  {
   "cell_type": "code",
   "execution_count": null,
   "outputs": [],
   "source": [
    "finess_ann_errd_ej_et = set(ann_errd_ej_et['Finess'])"
   ],
   "metadata": {
    "collapsed": false,
    "pycharm": {
     "name": "#%%\n"
    }
   }
  },
  {
   "cell_type": "code",
   "execution_count": null,
   "outputs": [],
   "source": [
    "len(finess_ann_ca_ej_et.intersection(finess_ann_errd_ej_et))"
   ],
   "metadata": {
    "collapsed": false,
    "pycharm": {
     "name": "#%%\n"
    }
   }
  },
  {
   "cell_type": "code",
   "execution_count": null,
   "outputs": [],
   "source": [
    "ann_ca_ej_et.merge(ann_errd_ej_et, on=['Finess', 'Année'], how='inner')\n"
   ],
   "metadata": {
    "collapsed": false,
    "pycharm": {
     "name": "#%%\n"
    }
   }
  },
  {
   "cell_type": "code",
   "execution_count": null,
   "outputs": [],
   "source": [
    "ann_errd_ej_et[[\n",
    "    'Finess',\n",
    "    'Année',\n",
    "    'Dépenses Groupe II ERRD',\n",
    "    'Dépenses Groupe III ERRD',\n",
    "    'Recettes Groupe I ERRD',\n",
    "    'Recettes Groupe II ERRD',\n",
    "    'Recettes Groupe III ERRD',\n",
    "    'MS Résultat net comptable ERRD']].merge(\n",
    "    ann_ca_ej_et[\n",
    "        [\n",
    "            'Finess',\n",
    "            'Année',\n",
    "            'Dépenses Groupe II CA',\n",
    "            'Dépenses Groupe III CA',\n",
    "            'Recettes Groupe I CA',\n",
    "            'Recettes Groupe II CA',\n",
    "            'Recettes Groupe III CA',\n",
    "            'MS Résultat net comptable CA PA',\n",
    "            'MS Résultat net comptable CA PH']\n",
    "    ],\n",
    "    on=['Finess', 'Année'],\n",
    "    how='inner'\n",
    ")"
   ],
   "metadata": {
    "collapsed": false,
    "pycharm": {
     "name": "#%%\n"
    }
   }
  },
  {
   "cell_type": "markdown",
   "source": [
    "Que fait-on pour les établissements que l'on retrouve à la fois dans la catégorie CA et ERRD ?"
   ],
   "metadata": {
    "collapsed": false
   }
  },
  {
   "cell_type": "markdown",
   "source": [
    "## ANN_CA_EJ_ET"
   ],
   "metadata": {
    "collapsed": false
   }
  },
  {
   "cell_type": "markdown",
   "source": [
    "### On s'attend à avoir une seule valeur par (Finess, Année)"
   ],
   "metadata": {
    "collapsed": false
   }
  },
  {
   "cell_type": "code",
   "execution_count": 147,
   "outputs": [],
   "source": [
    "a_plus_d_une_donnée_par_finess_par_année = (ann_ca_ej_et.groupby(['Finess', 'Année']).nunique() > 1).any(axis=1)"
   ],
   "metadata": {
    "collapsed": false,
    "pycharm": {
     "name": "#%%\n"
    }
   }
  },
  {
   "cell_type": "code",
   "execution_count": 150,
   "outputs": [
    {
     "data": {
      "text/plain": "0"
     },
     "execution_count": 150,
     "metadata": {},
     "output_type": "execute_result"
    }
   ],
   "source": [
    "a_plus_d_une_donnée_par_finess_par_année.sum()"
   ],
   "metadata": {
    "collapsed": false,
    "pycharm": {
     "name": "#%%\n"
    }
   }
  },
  {
   "cell_type": "markdown",
   "source": [
    "## Valeurs manquantes\n"
   ],
   "metadata": {
    "collapsed": false
   }
  },
  {
   "cell_type": "code",
   "execution_count": 151,
   "outputs": [
    {
     "data": {
      "text/plain": "Finess EJ                          0.000000\nFiness                             0.000000\nAnnée                              0.000000\nMS Résultat net comptable CA PH    0.039521\nTaux de CAF CA PH                  0.043042\nTaux vétusté Construction CA       0.787103\nMS Résultat net comptable CA PA    0.960374\nCharges CA PA                      0.960374\nProduits CA PA                     0.960374\nRecettes Groupe I CA               0.039521\nRecettes Groupe II CA              0.039521\nRecettes Groupe III CA             0.039521\nDépenses Groupe I CA               0.039521\nDépenses Groupe II CA              0.039521\nDépenses Groupe III CA             0.039521\ndtype: float64"
     },
     "execution_count": 151,
     "metadata": {},
     "output_type": "execute_result"
    }
   ],
   "source": [
    "ann_ca_ej_et.isna().sum() / ann_ca_ej_et.shape[0]"
   ],
   "metadata": {
    "collapsed": false,
    "pycharm": {
     "name": "#%%\n"
    }
   }
  },
  {
   "cell_type": "code",
   "execution_count": 157,
   "outputs": [
    {
     "data": {
      "text/plain": "9"
     },
     "execution_count": 157,
     "metadata": {},
     "output_type": "execute_result"
    }
   ],
   "source": [
    "aucune_valeur_de_résultat = (ann_ca_ej_et[\"MS Résultat net comptable CA PA\"].isna() & ann_ca_ej_et[\n",
    "    \"MS Résultat net comptable CA PH\"].isna())\n",
    "aucune_valeur_de_résultat.sum()"
   ],
   "metadata": {
    "collapsed": false,
    "pycharm": {
     "name": "#%%\n"
    }
   }
  },
  {
   "cell_type": "code",
   "execution_count": 158,
   "outputs": [
    {
     "data": {
      "text/plain": "       Finess EJ     Finess  Année  MS Résultat net comptable CA PH  \\\n4959   330790791  330785403   2020                              NaN   \n7381   460002439  460006331   2018                              NaN   \n11795  680012689  680012739   2018                              NaN   \n13012  730013307  730783859   2018                              NaN   \n13046  730784485  730783818   2018                              NaN   \n13977  750712341  750018749   2018                              NaN   \n13985  750712341  750047664   2018                              NaN   \n15206  750825846  910015189   2018                              NaN   \n16521  830210613  830201166   2018                              NaN   \n\n       Taux de CAF CA PH  Taux vétusté Construction CA  \\\n4959                 NaN                      0.379610   \n7381                 NaN                           NaN   \n11795                NaN                      0.374871   \n13012                NaN                           NaN   \n13046                NaN                           NaN   \n13977                NaN                           NaN   \n13985                NaN                           NaN   \n15206                NaN                           NaN   \n16521                NaN                      0.423614   \n\n       MS Résultat net comptable CA PA  Charges CA PA  Produits CA PA  \\\n4959                               NaN            NaN             NaN   \n7381                               NaN            NaN             NaN   \n11795                              NaN            NaN             NaN   \n13012                              NaN            NaN             NaN   \n13046                              NaN            NaN             NaN   \n13977                              NaN            NaN             NaN   \n13985                              NaN            NaN             NaN   \n15206                              NaN            NaN             NaN   \n16521                              NaN            NaN             NaN   \n\n       Recettes Groupe I CA  Recettes Groupe II CA  Recettes Groupe III CA  \\\n4959                    NaN                    NaN                     NaN   \n7381                    NaN                    NaN                     NaN   \n11795                   NaN                    NaN                     NaN   \n13012                   NaN                    NaN                     NaN   \n13046                   NaN                    NaN                     NaN   \n13977                   NaN                    NaN                     NaN   \n13985                   NaN                    NaN                     NaN   \n15206                   NaN                    NaN                     NaN   \n16521                   NaN                    NaN                     NaN   \n\n       Dépenses Groupe I CA  Dépenses Groupe II CA  Dépenses Groupe III CA  \n4959                    NaN                    NaN                     NaN  \n7381                    NaN                    NaN                     NaN  \n11795                   NaN                    NaN                     NaN  \n13012                   NaN                    NaN                     NaN  \n13046                   NaN                    NaN                     NaN  \n13977                   NaN                    NaN                     NaN  \n13985                   NaN                    NaN                     NaN  \n15206                   NaN                    NaN                     NaN  \n16521                   NaN                    NaN                     NaN  ",
      "text/html": "<div>\n<style scoped>\n    .dataframe tbody tr th:only-of-type {\n        vertical-align: middle;\n    }\n\n    .dataframe tbody tr th {\n        vertical-align: top;\n    }\n\n    .dataframe thead th {\n        text-align: right;\n    }\n</style>\n<table border=\"1\" class=\"dataframe\">\n  <thead>\n    <tr style=\"text-align: right;\">\n      <th></th>\n      <th>Finess EJ</th>\n      <th>Finess</th>\n      <th>Année</th>\n      <th>MS Résultat net comptable CA PH</th>\n      <th>Taux de CAF CA PH</th>\n      <th>Taux vétusté Construction CA</th>\n      <th>MS Résultat net comptable CA PA</th>\n      <th>Charges CA PA</th>\n      <th>Produits CA PA</th>\n      <th>Recettes Groupe I CA</th>\n      <th>Recettes Groupe II CA</th>\n      <th>Recettes Groupe III CA</th>\n      <th>Dépenses Groupe I CA</th>\n      <th>Dépenses Groupe II CA</th>\n      <th>Dépenses Groupe III CA</th>\n    </tr>\n  </thead>\n  <tbody>\n    <tr>\n      <th>4959</th>\n      <td>330790791</td>\n      <td>330785403</td>\n      <td>2020</td>\n      <td>NaN</td>\n      <td>NaN</td>\n      <td>0.379610</td>\n      <td>NaN</td>\n      <td>NaN</td>\n      <td>NaN</td>\n      <td>NaN</td>\n      <td>NaN</td>\n      <td>NaN</td>\n      <td>NaN</td>\n      <td>NaN</td>\n      <td>NaN</td>\n    </tr>\n    <tr>\n      <th>7381</th>\n      <td>460002439</td>\n      <td>460006331</td>\n      <td>2018</td>\n      <td>NaN</td>\n      <td>NaN</td>\n      <td>NaN</td>\n      <td>NaN</td>\n      <td>NaN</td>\n      <td>NaN</td>\n      <td>NaN</td>\n      <td>NaN</td>\n      <td>NaN</td>\n      <td>NaN</td>\n      <td>NaN</td>\n      <td>NaN</td>\n    </tr>\n    <tr>\n      <th>11795</th>\n      <td>680012689</td>\n      <td>680012739</td>\n      <td>2018</td>\n      <td>NaN</td>\n      <td>NaN</td>\n      <td>0.374871</td>\n      <td>NaN</td>\n      <td>NaN</td>\n      <td>NaN</td>\n      <td>NaN</td>\n      <td>NaN</td>\n      <td>NaN</td>\n      <td>NaN</td>\n      <td>NaN</td>\n      <td>NaN</td>\n    </tr>\n    <tr>\n      <th>13012</th>\n      <td>730013307</td>\n      <td>730783859</td>\n      <td>2018</td>\n      <td>NaN</td>\n      <td>NaN</td>\n      <td>NaN</td>\n      <td>NaN</td>\n      <td>NaN</td>\n      <td>NaN</td>\n      <td>NaN</td>\n      <td>NaN</td>\n      <td>NaN</td>\n      <td>NaN</td>\n      <td>NaN</td>\n      <td>NaN</td>\n    </tr>\n    <tr>\n      <th>13046</th>\n      <td>730784485</td>\n      <td>730783818</td>\n      <td>2018</td>\n      <td>NaN</td>\n      <td>NaN</td>\n      <td>NaN</td>\n      <td>NaN</td>\n      <td>NaN</td>\n      <td>NaN</td>\n      <td>NaN</td>\n      <td>NaN</td>\n      <td>NaN</td>\n      <td>NaN</td>\n      <td>NaN</td>\n      <td>NaN</td>\n    </tr>\n    <tr>\n      <th>13977</th>\n      <td>750712341</td>\n      <td>750018749</td>\n      <td>2018</td>\n      <td>NaN</td>\n      <td>NaN</td>\n      <td>NaN</td>\n      <td>NaN</td>\n      <td>NaN</td>\n      <td>NaN</td>\n      <td>NaN</td>\n      <td>NaN</td>\n      <td>NaN</td>\n      <td>NaN</td>\n      <td>NaN</td>\n      <td>NaN</td>\n    </tr>\n    <tr>\n      <th>13985</th>\n      <td>750712341</td>\n      <td>750047664</td>\n      <td>2018</td>\n      <td>NaN</td>\n      <td>NaN</td>\n      <td>NaN</td>\n      <td>NaN</td>\n      <td>NaN</td>\n      <td>NaN</td>\n      <td>NaN</td>\n      <td>NaN</td>\n      <td>NaN</td>\n      <td>NaN</td>\n      <td>NaN</td>\n      <td>NaN</td>\n    </tr>\n    <tr>\n      <th>15206</th>\n      <td>750825846</td>\n      <td>910015189</td>\n      <td>2018</td>\n      <td>NaN</td>\n      <td>NaN</td>\n      <td>NaN</td>\n      <td>NaN</td>\n      <td>NaN</td>\n      <td>NaN</td>\n      <td>NaN</td>\n      <td>NaN</td>\n      <td>NaN</td>\n      <td>NaN</td>\n      <td>NaN</td>\n      <td>NaN</td>\n    </tr>\n    <tr>\n      <th>16521</th>\n      <td>830210613</td>\n      <td>830201166</td>\n      <td>2018</td>\n      <td>NaN</td>\n      <td>NaN</td>\n      <td>0.423614</td>\n      <td>NaN</td>\n      <td>NaN</td>\n      <td>NaN</td>\n      <td>NaN</td>\n      <td>NaN</td>\n      <td>NaN</td>\n      <td>NaN</td>\n      <td>NaN</td>\n      <td>NaN</td>\n    </tr>\n  </tbody>\n</table>\n</div>"
     },
     "execution_count": 158,
     "metadata": {},
     "output_type": "execute_result"
    }
   ],
   "source": [
    "ann_ca_ej_et[aucune_valeur_de_résultat]"
   ],
   "metadata": {
    "collapsed": false,
    "pycharm": {
     "name": "#%%\n"
    }
   }
  },
  {
   "cell_type": "markdown",
   "source": [
    "### Années renseignées"
   ],
   "metadata": {
    "collapsed": false
   }
  },
  {
   "cell_type": "code",
   "execution_count": 159,
   "outputs": [
    {
     "data": {
      "text/plain": "<AxesSubplot:>"
     },
     "execution_count": 159,
     "metadata": {},
     "output_type": "execute_result"
    },
    {
     "data": {
      "text/plain": "<Figure size 640x480 with 1 Axes>",
      "image/png": "[encoded data removed]"
     },
     "metadata": {},
     "output_type": "display_data"
    }
   ],
   "source": [
    "ann_ca_ej_et.groupby('Finess').count()['Année'].hist()\n"
   ],
   "metadata": {
    "collapsed": false,
    "pycharm": {
     "name": "#%%\n"
    }
   }
  },
  {
   "cell_type": "code",
   "execution_count": 160,
   "outputs": [
    {
     "data": {
      "text/plain": "3"
     },
     "execution_count": 160,
     "metadata": {},
     "output_type": "execute_result"
    }
   ],
   "source": [
    "ann_ca_ej_et['Année'].nunique()"
   ],
   "metadata": {
    "collapsed": false,
    "pycharm": {
     "name": "#%%\n"
    }
   }
  },
  {
   "cell_type": "code",
   "execution_count": 161,
   "outputs": [
    {
     "data": {
      "text/plain": "<AxesSubplot:>"
     },
     "execution_count": 161,
     "metadata": {},
     "output_type": "execute_result"
    },
    {
     "data": {
      "text/plain": "<Figure size 640x480 with 1 Axes>",
      "image/png": "[encoded data removed]"
     },
     "metadata": {},
     "output_type": "display_data"
    }
   ],
   "source": [
    "ann_ca_ej_et['Année'].hist()"
   ],
   "metadata": {
    "collapsed": false,
    "pycharm": {
     "name": "#%%\n"
    }
   }
  },
  {
   "cell_type": "code",
   "execution_count": 162,
   "outputs": [
    {
     "data": {
      "text/plain": "2020"
     },
     "execution_count": 162,
     "metadata": {},
     "output_type": "execute_result"
    }
   ],
   "source": [
    "ann_ca_ej_et['Année'].max()"
   ],
   "metadata": {
    "collapsed": false,
    "pycharm": {
     "name": "#%%\n"
    }
   }
  },
  {
   "cell_type": "markdown",
   "source": [
    "Dans l'autre fichier, on observait la tendance inverse : plus d'années récentes, moins d'années passées"
   ],
   "metadata": {
    "collapsed": false,
    "pycharm": {
     "name": "#%% md\n"
    }
   }
  },
  {
   "cell_type": "markdown",
   "source": [
    "### Valeurs manquantes par colonne"
   ],
   "metadata": {
    "collapsed": false
   }
  },
  {
   "cell_type": "code",
   "execution_count": 163,
   "outputs": [],
   "source": [
    "nombre_d_établissements_dans_ann_ms_tdp_et = ann_ca_ej_et['Finess'].nunique()"
   ],
   "metadata": {
    "collapsed": false,
    "pycharm": {
     "name": "#%%\n"
    }
   }
  },
  {
   "cell_type": "markdown",
   "source": [
    "#### % de valeurs manquantes par colonne"
   ],
   "metadata": {
    "collapsed": false
   }
  },
  {
   "cell_type": "code",
   "execution_count": 164,
   "outputs": [
    {
     "data": {
      "text/plain": "MS Résultat net comptable CA PH    0.957444\nTaux de CAF CA PH                  0.950293\nTaux vétusté Construction CA       0.060610\nMS Résultat net comptable CA PA    0.041852\nCharges CA PA                      0.041852\nProduits CA PA                     0.041852\nRecettes Groupe I CA               0.957444\nRecettes Groupe II CA              0.957444\nRecettes Groupe III CA             0.957444\nDépenses Groupe I CA               0.957444\nDépenses Groupe II CA              0.957444\nDépenses Groupe III CA             0.957444\ndtype: float64"
     },
     "execution_count": 164,
     "metadata": {},
     "output_type": "execute_result"
    }
   ],
   "source": [
    "est_une_valeur_manquante = ann_ca_ej_et.drop('Finess EJ', axis=1).set_index(['Finess', 'Année']).isna().reset_index()\n",
    "établissement_avec_au_moins_une_valeur_renseignée = (~est_une_valeur_manquante.groupby(\n",
    "    'Finess').any().drop('Année', axis=1))\n",
    "établissement_avec_au_moins_une_valeur_renseignée.sum() / nombre_d_établissements_dans_ann_ms_tdp_et"
   ],
   "metadata": {
    "collapsed": false,
    "pycharm": {
     "name": "#%%\n"
    }
   }
  },
  {
   "cell_type": "markdown",
   "source": [
    "On a beaucoup plus d'établissements pour lesquels le résultat est calculé en mode PA que PH"
   ],
   "metadata": {
    "collapsed": false,
    "pycharm": {
     "name": "#%% md\n"
    }
   }
  },
  {
   "cell_type": "markdown",
   "source": [],
   "metadata": {
    "collapsed": false
   }
  },
  {
   "cell_type": "code",
   "execution_count": 165,
   "outputs": [
    {
     "data": {
      "text/plain": "Finess EJ                          1.000000\nAnnée                              1.000000\nMS Résultat net comptable CA PH    0.955803\nTaux de CAF CA PH                  0.955451\nTaux vétusté Construction CA       0.366237\nMS Résultat net comptable CA PA    0.041970\nCharges CA PA                      0.042204\nProduits CA PA                     0.042087\nRecettes Groupe I CA               0.949941\nRecettes Groupe II CA              0.899179\nRecettes Groupe III CA             0.880070\nDépenses Groupe I CA               0.954513\nDépenses Groupe II CA              0.956506\nDépenses Groupe III CA             0.952872\ndtype: float64"
     },
     "execution_count": 165,
     "metadata": {},
     "output_type": "execute_result"
    }
   ],
   "source": [
    "ann_ca_ej_et.groupby('Finess').any().sum() / nombre_d_établissements_dans_ann_ms_tdp_et\n"
   ],
   "metadata": {
    "collapsed": false,
    "pycharm": {
     "name": "#%%\n"
    }
   }
  },
  {
   "cell_type": "markdown",
   "source": [
    "0 équivaut à valeur manquante ? Dans quels cas ?"
   ],
   "metadata": {
    "collapsed": false
   }
  },
  {
   "cell_type": "markdown",
   "source": [
    "Que faire lorsque les recettes sont calculées en mode \"Charges / Produits\" ? On n'a pas la maquette"
   ],
   "metadata": {
    "collapsed": false,
    "pycharm": {
     "name": "#%% md\n"
    }
   }
  },
  {
   "cell_type": "markdown",
   "source": [
    "### Cohérence des données"
   ],
   "metadata": {
    "collapsed": false
   }
  },
  {
   "cell_type": "markdown",
   "source": [
    "#### Dépenses positives"
   ],
   "metadata": {
    "collapsed": false
   }
  },
  {
   "cell_type": "code",
   "execution_count": 170,
   "outputs": [
    {
     "data": {
      "text/plain": "       Finess EJ     Finess  Année  MS Résultat net comptable CA PH  \\\n6498   410005722  410005946   2020                         39435.69   \n16489  830210092  830016986   2018                       3636436.43   \n\n       Taux de CAF CA PH  Taux vétusté Construction CA  \\\n6498            0.335129                           NaN   \n16489           0.993378                           NaN   \n\n       MS Résultat net comptable CA PA  Charges CA PA  Produits CA PA  \\\n6498                               NaN            NaN             NaN   \n16489                              NaN            NaN             NaN   \n\n       Recettes Groupe I CA  Recettes Groupe II CA  Recettes Groupe III CA  \\\n6498              209205.86               16235.76                11810.18   \n16489            3266502.98              280451.45               119600.87   \n\n       Dépenses Groupe I CA  Dépenses Groupe II CA  Dépenses Groupe III CA  \n6498               10200.53             -154036.15               -53980.49  \n16489              13424.99               -4908.98               -38634.88  ",
      "text/html": "<div>\n<style scoped>\n    .dataframe tbody tr th:only-of-type {\n        vertical-align: middle;\n    }\n\n    .dataframe tbody tr th {\n        vertical-align: top;\n    }\n\n    .dataframe thead th {\n        text-align: right;\n    }\n</style>\n<table border=\"1\" class=\"dataframe\">\n  <thead>\n    <tr style=\"text-align: right;\">\n      <th></th>\n      <th>Finess EJ</th>\n      <th>Finess</th>\n      <th>Année</th>\n      <th>MS Résultat net comptable CA PH</th>\n      <th>Taux de CAF CA PH</th>\n      <th>Taux vétusté Construction CA</th>\n      <th>MS Résultat net comptable CA PA</th>\n      <th>Charges CA PA</th>\n      <th>Produits CA PA</th>\n      <th>Recettes Groupe I CA</th>\n      <th>Recettes Groupe II CA</th>\n      <th>Recettes Groupe III CA</th>\n      <th>Dépenses Groupe I CA</th>\n      <th>Dépenses Groupe II CA</th>\n      <th>Dépenses Groupe III CA</th>\n    </tr>\n  </thead>\n  <tbody>\n    <tr>\n      <th>6498</th>\n      <td>410005722</td>\n      <td>410005946</td>\n      <td>2020</td>\n      <td>39435.69</td>\n      <td>0.335129</td>\n      <td>NaN</td>\n      <td>NaN</td>\n      <td>NaN</td>\n      <td>NaN</td>\n      <td>209205.86</td>\n      <td>16235.76</td>\n      <td>11810.18</td>\n      <td>10200.53</td>\n      <td>-154036.15</td>\n      <td>-53980.49</td>\n    </tr>\n    <tr>\n      <th>16489</th>\n      <td>830210092</td>\n      <td>830016986</td>\n      <td>2018</td>\n      <td>3636436.43</td>\n      <td>0.993378</td>\n      <td>NaN</td>\n      <td>NaN</td>\n      <td>NaN</td>\n      <td>NaN</td>\n      <td>3266502.98</td>\n      <td>280451.45</td>\n      <td>119600.87</td>\n      <td>13424.99</td>\n      <td>-4908.98</td>\n      <td>-38634.88</td>\n    </tr>\n  </tbody>\n</table>\n</div>"
     },
     "execution_count": 170,
     "metadata": {},
     "output_type": "execute_result"
    }
   ],
   "source": [
    "(ann_ca_ej_et['Dépenses Groupe I CA'] > 0).sum()\n",
    "ann_ca_ej_et[ann_ca_ej_et['Dépenses Groupe I CA'] > 0]"
   ],
   "metadata": {
    "collapsed": false,
    "pycharm": {
     "name": "#%%\n"
    }
   }
  },
  {
   "cell_type": "code",
   "execution_count": 169,
   "outputs": [
    {
     "data": {
      "text/plain": "0"
     },
     "execution_count": 169,
     "metadata": {},
     "output_type": "execute_result"
    }
   ],
   "source": [
    "(ann_ca_ej_et['Dépenses Groupe II CA'] > 0).sum()"
   ],
   "metadata": {
    "collapsed": false,
    "pycharm": {
     "name": "#%%\n"
    }
   }
  },
  {
   "cell_type": "code",
   "execution_count": 168,
   "outputs": [
    {
     "data": {
      "text/plain": "       Finess EJ     Finess  Année  MS Résultat net comptable CA PH  \\\n3456   260013321  260010038   2018                         94070.69   \n4447   310788104  310020334   2018                         31783.74   \n6685   420787046  420009979   2019                         32420.08   \n7020   440018612  440029700   2020                         55772.16   \n7021   440018612  440029700   2019                         71134.61   \n7078   440031169  440045268   2019                         -3529.81   \n12230  690793435  750047631   2018                         29663.86   \n18600  940810328  940019219   2018                         56587.00   \n\n       Taux de CAF CA PH  Taux vétusté Construction CA  \\\n3456            0.210780                           NaN   \n4447            0.033289                      0.261784   \n6685            0.063308                           NaN   \n7020            0.372828                           NaN   \n7021            0.478533                           NaN   \n7078           -0.027780                           NaN   \n12230           0.026873                           NaN   \n18600           0.167949                           NaN   \n\n       MS Résultat net comptable CA PA  Charges CA PA  Produits CA PA  \\\n3456                               NaN            NaN             NaN   \n4447                               NaN            NaN             NaN   \n6685                               NaN            NaN             NaN   \n7020                               NaN            NaN             NaN   \n7021                               NaN            NaN             NaN   \n7078                               NaN            NaN             NaN   \n12230                              NaN            NaN             NaN   \n18600                              NaN            NaN             NaN   \n\n       Recettes Groupe I CA  Recettes Groupe II CA  Recettes Groupe III CA  \\\n3456              545751.49                7707.67               -28051.76   \n4447              929793.84                 770.87                    0.00   \n6685              405740.00                2497.57                    0.00   \n7020              155384.61                   0.00                  249.00   \n7021              153384.61                   0.00                18843.00   \n7078              212099.57                   0.00                    0.00   \n12230            1103854.06                   0.00                    0.00   \n18600             358205.00                 256.00                10240.00   \n\n       Dépenses Groupe I CA  Dépenses Groupe II CA  Dépenses Groupe III CA  \n3456             -110791.16             -375621.43                55075.88  \n4447              -84935.90             -814650.85                  805.78  \n6685               -5971.63             -376222.90                 6377.04  \n7020              -17299.55              -84783.47                 2221.57  \n7021              -24034.21              -77210.40                  151.61  \n7078              -44278.07             -173713.64                 2362.33  \n12230             -26272.82            -1048141.02                  223.64  \n18600             -24023.00             -292441.00                 4350.00  ",
      "text/html": "<div>\n<style scoped>\n    .dataframe tbody tr th:only-of-type {\n        vertical-align: middle;\n    }\n\n    .dataframe tbody tr th {\n        vertical-align: top;\n    }\n\n    .dataframe thead th {\n        text-align: right;\n    }\n</style>\n<table border=\"1\" class=\"dataframe\">\n  <thead>\n    <tr style=\"text-align: right;\">\n      <th></th>\n      <th>Finess EJ</th>\n      <th>Finess</th>\n      <th>Année</th>\n      <th>MS Résultat net comptable CA PH</th>\n      <th>Taux de CAF CA PH</th>\n      <th>Taux vétusté Construction CA</th>\n      <th>MS Résultat net comptable CA PA</th>\n      <th>Charges CA PA</th>\n      <th>Produits CA PA</th>\n      <th>Recettes Groupe I CA</th>\n      <th>Recettes Groupe II CA</th>\n      <th>Recettes Groupe III CA</th>\n      <th>Dépenses Groupe I CA</th>\n      <th>Dépenses Groupe II CA</th>\n      <th>Dépenses Groupe III CA</th>\n    </tr>\n  </thead>\n  <tbody>\n    <tr>\n      <th>3456</th>\n      <td>260013321</td>\n      <td>260010038</td>\n      <td>2018</td>\n      <td>94070.69</td>\n      <td>0.210780</td>\n      <td>NaN</td>\n      <td>NaN</td>\n      <td>NaN</td>\n      <td>NaN</td>\n      <td>545751.49</td>\n      <td>7707.67</td>\n      <td>-28051.76</td>\n      <td>-110791.16</td>\n      <td>-375621.43</td>\n      <td>55075.88</td>\n    </tr>\n    <tr>\n      <th>4447</th>\n      <td>310788104</td>\n      <td>310020334</td>\n      <td>2018</td>\n      <td>31783.74</td>\n      <td>0.033289</td>\n      <td>0.261784</td>\n      <td>NaN</td>\n      <td>NaN</td>\n      <td>NaN</td>\n      <td>929793.84</td>\n      <td>770.87</td>\n      <td>0.00</td>\n      <td>-84935.90</td>\n      <td>-814650.85</td>\n      <td>805.78</td>\n    </tr>\n    <tr>\n      <th>6685</th>\n      <td>420787046</td>\n      <td>420009979</td>\n      <td>2019</td>\n      <td>32420.08</td>\n      <td>0.063308</td>\n      <td>NaN</td>\n      <td>NaN</td>\n      <td>NaN</td>\n      <td>NaN</td>\n      <td>405740.00</td>\n      <td>2497.57</td>\n      <td>0.00</td>\n      <td>-5971.63</td>\n      <td>-376222.90</td>\n      <td>6377.04</td>\n    </tr>\n    <tr>\n      <th>7020</th>\n      <td>440018612</td>\n      <td>440029700</td>\n      <td>2020</td>\n      <td>55772.16</td>\n      <td>0.372828</td>\n      <td>NaN</td>\n      <td>NaN</td>\n      <td>NaN</td>\n      <td>NaN</td>\n      <td>155384.61</td>\n      <td>0.00</td>\n      <td>249.00</td>\n      <td>-17299.55</td>\n      <td>-84783.47</td>\n      <td>2221.57</td>\n    </tr>\n    <tr>\n      <th>7021</th>\n      <td>440018612</td>\n      <td>440029700</td>\n      <td>2019</td>\n      <td>71134.61</td>\n      <td>0.478533</td>\n      <td>NaN</td>\n      <td>NaN</td>\n      <td>NaN</td>\n      <td>NaN</td>\n      <td>153384.61</td>\n      <td>0.00</td>\n      <td>18843.00</td>\n      <td>-24034.21</td>\n      <td>-77210.40</td>\n      <td>151.61</td>\n    </tr>\n    <tr>\n      <th>7078</th>\n      <td>440031169</td>\n      <td>440045268</td>\n      <td>2019</td>\n      <td>-3529.81</td>\n      <td>-0.027780</td>\n      <td>NaN</td>\n      <td>NaN</td>\n      <td>NaN</td>\n      <td>NaN</td>\n      <td>212099.57</td>\n      <td>0.00</td>\n      <td>0.00</td>\n      <td>-44278.07</td>\n      <td>-173713.64</td>\n      <td>2362.33</td>\n    </tr>\n    <tr>\n      <th>12230</th>\n      <td>690793435</td>\n      <td>750047631</td>\n      <td>2018</td>\n      <td>29663.86</td>\n      <td>0.026873</td>\n      <td>NaN</td>\n      <td>NaN</td>\n      <td>NaN</td>\n      <td>NaN</td>\n      <td>1103854.06</td>\n      <td>0.00</td>\n      <td>0.00</td>\n      <td>-26272.82</td>\n      <td>-1048141.02</td>\n      <td>223.64</td>\n    </tr>\n    <tr>\n      <th>18600</th>\n      <td>940810328</td>\n      <td>940019219</td>\n      <td>2018</td>\n      <td>56587.00</td>\n      <td>0.167949</td>\n      <td>NaN</td>\n      <td>NaN</td>\n      <td>NaN</td>\n      <td>NaN</td>\n      <td>358205.00</td>\n      <td>256.00</td>\n      <td>10240.00</td>\n      <td>-24023.00</td>\n      <td>-292441.00</td>\n      <td>4350.00</td>\n    </tr>\n  </tbody>\n</table>\n</div>"
     },
     "execution_count": 168,
     "metadata": {},
     "output_type": "execute_result"
    }
   ],
   "source": [
    "(ann_ca_ej_et['Dépenses Groupe III CA'] > 0).sum()\n",
    "ann_ca_ej_et[ann_ca_ej_et['Dépenses Groupe III CA'] > 0]"
   ],
   "metadata": {
    "collapsed": false,
    "pycharm": {
     "name": "#%%\n"
    }
   }
  },
  {
   "cell_type": "code",
   "execution_count": 182,
   "outputs": [
    {
     "data": {
      "text/plain": "Empty DataFrame\nColumns: [Finess EJ, Finess, Année, MS Résultat net comptable CA PH, Taux de CAF CA PH, Taux vétusté Construction CA, MS Résultat net comptable CA PA, Charges CA PA, Produits CA PA, Recettes Groupe I CA, Recettes Groupe II CA, Recettes Groupe III CA, Dépenses Groupe I CA, Dépenses Groupe II CA, Dépenses Groupe III CA]\nIndex: []",
      "text/html": "<div>\n<style scoped>\n    .dataframe tbody tr th:only-of-type {\n        vertical-align: middle;\n    }\n\n    .dataframe tbody tr th {\n        vertical-align: top;\n    }\n\n    .dataframe thead th {\n        text-align: right;\n    }\n</style>\n<table border=\"1\" class=\"dataframe\">\n  <thead>\n    <tr style=\"text-align: right;\">\n      <th></th>\n      <th>Finess EJ</th>\n      <th>Finess</th>\n      <th>Année</th>\n      <th>MS Résultat net comptable CA PH</th>\n      <th>Taux de CAF CA PH</th>\n      <th>Taux vétusté Construction CA</th>\n      <th>MS Résultat net comptable CA PA</th>\n      <th>Charges CA PA</th>\n      <th>Produits CA PA</th>\n      <th>Recettes Groupe I CA</th>\n      <th>Recettes Groupe II CA</th>\n      <th>Recettes Groupe III CA</th>\n      <th>Dépenses Groupe I CA</th>\n      <th>Dépenses Groupe II CA</th>\n      <th>Dépenses Groupe III CA</th>\n    </tr>\n  </thead>\n  <tbody>\n  </tbody>\n</table>\n</div>"
     },
     "execution_count": 182,
     "metadata": {},
     "output_type": "execute_result"
    }
   ],
   "source": [
    "(ann_ca_ej_et['Charges CA PA'] > 0).sum()\n",
    "ann_ca_ej_et[ann_ca_ej_et['Charges CA PA'] > 0]"
   ],
   "metadata": {
    "collapsed": false,
    "pycharm": {
     "name": "#%%\n"
    }
   }
  },
  {
   "cell_type": "markdown",
   "source": [
    "#### Recettes négatives\n"
   ],
   "metadata": {
    "collapsed": false
   }
  },
  {
   "cell_type": "code",
   "execution_count": 176,
   "outputs": [
    {
     "data": {
      "text/plain": "0"
     },
     "execution_count": 176,
     "metadata": {},
     "output_type": "execute_result"
    }
   ],
   "source": [
    "(ann_ca_ej_et['Recettes Groupe I CA'] < 0).sum()"
   ],
   "metadata": {
    "collapsed": false,
    "pycharm": {
     "name": "#%%\n"
    }
   }
  },
  {
   "cell_type": "code",
   "execution_count": 177,
   "outputs": [
    {
     "data": {
      "text/plain": "96"
     },
     "execution_count": 177,
     "metadata": {},
     "output_type": "execute_result"
    }
   ],
   "source": [
    "(ann_ca_ej_et['Recettes Groupe II CA'] < 0).sum()\n"
   ],
   "metadata": {
    "collapsed": false,
    "pycharm": {
     "name": "#%%\n"
    }
   }
  },
  {
   "cell_type": "code",
   "execution_count": 178,
   "outputs": [
    {
     "data": {
      "text/plain": "       Finess EJ     Finess  Année  MS Résultat net comptable CA PH  \\\n117    020005211  020003679   2019                        220848.41   \n145    020005211  020018099   2020                        -33816.98   \n498    060013448  060020948   2020                         40509.36   \n499    060013448  060020948   2019                        -72358.27   \n514    060020443  040004087   2018                          2734.23   \n...          ...        ...    ...                              ...   \n18349  930813415  930690037   2020                        158396.21   \n18865  970111134  970104204   2019                         29616.35   \n18908  970209284  970210233   2020                         14513.07   \n18910  970209284  970210233   2018                         53093.02   \n18917  970209961  970209979   2020                         95051.94   \n\n       Taux de CAF CA PH  Taux vétusté Construction CA  \\\n117             0.271077                           NaN   \n145            -0.160963                           NaN   \n498             0.059992                           NaN   \n499            -0.033092                           NaN   \n514             0.041778                           NaN   \n...                  ...                           ...   \n18349           0.095180                           NaN   \n18865           0.066867                           NaN   \n18908           0.026357                           NaN   \n18910           0.314544                           NaN   \n18917           0.188655                           NaN   \n\n       MS Résultat net comptable CA PA  Charges CA PA  Produits CA PA  \\\n117                                NaN            NaN             NaN   \n145                                NaN            NaN             NaN   \n498                                NaN            NaN             NaN   \n499                                NaN            NaN             NaN   \n514                                NaN            NaN             NaN   \n...                                ...            ...             ...   \n18349                              NaN            NaN             NaN   \n18865                              NaN            NaN             NaN   \n18908                              NaN            NaN             NaN   \n18910                              NaN            NaN             NaN   \n18917                              NaN            NaN             NaN   \n\n       Recettes Groupe I CA  Recettes Groupe II CA  Recettes Groupe III CA  \\\n117              1672052.06                 -38.01               137168.59   \n145               106460.26                 -82.58                14429.10   \n498              1171974.52                -756.43                36076.10   \n499              1085999.97               -4228.41                78174.55   \n514                95290.39                 -19.81                  662.08   \n...                     ...                    ...                     ...   \n18349            2301823.32               -1819.08                44748.40   \n18865             568341.38                -734.05                12800.00   \n18908             656135.29               -1821.66                    0.00   \n18910             882511.09                -358.64                    0.00   \n18917             583790.22               -8482.08                39224.73   \n\n       Dépenses Groupe I CA  Dépenses Groupe II CA  Dépenses Groupe III CA  \n117              -186783.07             -975351.49              -426199.67  \n145                -5200.21             -109667.80               -39755.75  \n498               -74644.75             -980082.80              -112057.28  \n499               -52346.96            -1073179.50              -106777.92  \n514                -6082.67              -78626.76                -8489.00  \n...                     ...                    ...                     ...  \n18349            -315530.11            -1549508.63              -321317.69  \n18865             -72027.19             -411100.75               -67663.04  \n18908            -104065.27             -447697.66               -88037.63  \n18910            -136174.21             -387522.33              -305362.89  \n18917             -64172.44             -369074.42               -86234.07  \n\n[96 rows x 15 columns]",
      "text/html": "<div>\n<style scoped>\n    .dataframe tbody tr th:only-of-type {\n        vertical-align: middle;\n    }\n\n    .dataframe tbody tr th {\n        vertical-align: top;\n    }\n\n    .dataframe thead th {\n        text-align: right;\n    }\n</style>\n<table border=\"1\" class=\"dataframe\">\n  <thead>\n    <tr style=\"text-align: right;\">\n      <th></th>\n      <th>Finess EJ</th>\n      <th>Finess</th>\n      <th>Année</th>\n      <th>MS Résultat net comptable CA PH</th>\n      <th>Taux de CAF CA PH</th>\n      <th>Taux vétusté Construction CA</th>\n      <th>MS Résultat net comptable CA PA</th>\n      <th>Charges CA PA</th>\n      <th>Produits CA PA</th>\n      <th>Recettes Groupe I CA</th>\n      <th>Recettes Groupe II CA</th>\n      <th>Recettes Groupe III CA</th>\n      <th>Dépenses Groupe I CA</th>\n      <th>Dépenses Groupe II CA</th>\n      <th>Dépenses Groupe III CA</th>\n    </tr>\n  </thead>\n  <tbody>\n    <tr>\n      <th>117</th>\n      <td>020005211</td>\n      <td>020003679</td>\n      <td>2019</td>\n      <td>220848.41</td>\n      <td>0.271077</td>\n      <td>NaN</td>\n      <td>NaN</td>\n      <td>NaN</td>\n      <td>NaN</td>\n      <td>1672052.06</td>\n      <td>-38.01</td>\n      <td>137168.59</td>\n      <td>-186783.07</td>\n      <td>-975351.49</td>\n      <td>-426199.67</td>\n    </tr>\n    <tr>\n      <th>145</th>\n      <td>020005211</td>\n      <td>020018099</td>\n      <td>2020</td>\n      <td>-33816.98</td>\n      <td>-0.160963</td>\n      <td>NaN</td>\n      <td>NaN</td>\n      <td>NaN</td>\n      <td>NaN</td>\n      <td>106460.26</td>\n      <td>-82.58</td>\n      <td>14429.10</td>\n      <td>-5200.21</td>\n      <td>-109667.80</td>\n      <td>-39755.75</td>\n    </tr>\n    <tr>\n      <th>498</th>\n      <td>060013448</td>\n      <td>060020948</td>\n      <td>2020</td>\n      <td>40509.36</td>\n      <td>0.059992</td>\n      <td>NaN</td>\n      <td>NaN</td>\n      <td>NaN</td>\n      <td>NaN</td>\n      <td>1171974.52</td>\n      <td>-756.43</td>\n      <td>36076.10</td>\n      <td>-74644.75</td>\n      <td>-980082.80</td>\n      <td>-112057.28</td>\n    </tr>\n    <tr>\n      <th>499</th>\n      <td>060013448</td>\n      <td>060020948</td>\n      <td>2019</td>\n      <td>-72358.27</td>\n      <td>-0.033092</td>\n      <td>NaN</td>\n      <td>NaN</td>\n      <td>NaN</td>\n      <td>NaN</td>\n      <td>1085999.97</td>\n      <td>-4228.41</td>\n      <td>78174.55</td>\n      <td>-52346.96</td>\n      <td>-1073179.50</td>\n      <td>-106777.92</td>\n    </tr>\n    <tr>\n      <th>514</th>\n      <td>060020443</td>\n      <td>040004087</td>\n      <td>2018</td>\n      <td>2734.23</td>\n      <td>0.041778</td>\n      <td>NaN</td>\n      <td>NaN</td>\n      <td>NaN</td>\n      <td>NaN</td>\n      <td>95290.39</td>\n      <td>-19.81</td>\n      <td>662.08</td>\n      <td>-6082.67</td>\n      <td>-78626.76</td>\n      <td>-8489.00</td>\n    </tr>\n    <tr>\n      <th>...</th>\n      <td>...</td>\n      <td>...</td>\n      <td>...</td>\n      <td>...</td>\n      <td>...</td>\n      <td>...</td>\n      <td>...</td>\n      <td>...</td>\n      <td>...</td>\n      <td>...</td>\n      <td>...</td>\n      <td>...</td>\n      <td>...</td>\n      <td>...</td>\n      <td>...</td>\n    </tr>\n    <tr>\n      <th>18349</th>\n      <td>930813415</td>\n      <td>930690037</td>\n      <td>2020</td>\n      <td>158396.21</td>\n      <td>0.095180</td>\n      <td>NaN</td>\n      <td>NaN</td>\n      <td>NaN</td>\n      <td>NaN</td>\n      <td>2301823.32</td>\n      <td>-1819.08</td>\n      <td>44748.40</td>\n      <td>-315530.11</td>\n      <td>-1549508.63</td>\n      <td>-321317.69</td>\n    </tr>\n    <tr>\n      <th>18865</th>\n      <td>970111134</td>\n      <td>970104204</td>\n      <td>2019</td>\n      <td>29616.35</td>\n      <td>0.066867</td>\n      <td>NaN</td>\n      <td>NaN</td>\n      <td>NaN</td>\n      <td>NaN</td>\n      <td>568341.38</td>\n      <td>-734.05</td>\n      <td>12800.00</td>\n      <td>-72027.19</td>\n      <td>-411100.75</td>\n      <td>-67663.04</td>\n    </tr>\n    <tr>\n      <th>18908</th>\n      <td>970209284</td>\n      <td>970210233</td>\n      <td>2020</td>\n      <td>14513.07</td>\n      <td>0.026357</td>\n      <td>NaN</td>\n      <td>NaN</td>\n      <td>NaN</td>\n      <td>NaN</td>\n      <td>656135.29</td>\n      <td>-1821.66</td>\n      <td>0.00</td>\n      <td>-104065.27</td>\n      <td>-447697.66</td>\n      <td>-88037.63</td>\n    </tr>\n    <tr>\n      <th>18910</th>\n      <td>970209284</td>\n      <td>970210233</td>\n      <td>2018</td>\n      <td>53093.02</td>\n      <td>0.314544</td>\n      <td>NaN</td>\n      <td>NaN</td>\n      <td>NaN</td>\n      <td>NaN</td>\n      <td>882511.09</td>\n      <td>-358.64</td>\n      <td>0.00</td>\n      <td>-136174.21</td>\n      <td>-387522.33</td>\n      <td>-305362.89</td>\n    </tr>\n    <tr>\n      <th>18917</th>\n      <td>970209961</td>\n      <td>970209979</td>\n      <td>2020</td>\n      <td>95051.94</td>\n      <td>0.188655</td>\n      <td>NaN</td>\n      <td>NaN</td>\n      <td>NaN</td>\n      <td>NaN</td>\n      <td>583790.22</td>\n      <td>-8482.08</td>\n      <td>39224.73</td>\n      <td>-64172.44</td>\n      <td>-369074.42</td>\n      <td>-86234.07</td>\n    </tr>\n  </tbody>\n</table>\n<p>96 rows × 15 columns</p>\n</div>"
     },
     "execution_count": 178,
     "metadata": {},
     "output_type": "execute_result"
    }
   ],
   "source": [
    "ann_ca_ej_et[ann_ca_ej_et['Recettes Groupe II CA'] < 0]"
   ],
   "metadata": {
    "collapsed": false,
    "pycharm": {
     "name": "#%%\n"
    }
   }
  },
  {
   "cell_type": "code",
   "execution_count": 179,
   "outputs": [
    {
     "data": {
      "text/plain": "49"
     },
     "execution_count": 179,
     "metadata": {},
     "output_type": "execute_result"
    }
   ],
   "source": [
    "(ann_ca_ej_et['Recettes Groupe III CA'] < 0).sum()\n"
   ],
   "metadata": {
    "collapsed": false,
    "pycharm": {
     "name": "#%%\n"
    }
   }
  },
  {
   "cell_type": "code",
   "execution_count": 180,
   "outputs": [
    {
     "data": {
      "text/plain": "       Finess EJ     Finess  Année  MS Résultat net comptable CA PH  \\\n999    100000835  100005727   2019                         31583.03   \n1399   130007032  130809049   2020                         79222.81   \n1836   130804156  130810518   2018                           966.69   \n2902   220001192  220013346   2018                         35027.48   \n2951   220023287  220023295   2020                         49103.66   \n3456   260013321  260010038   2018                         94070.69   \n3929   2B0005631  2B0003388   2019                          5717.73   \n3930   2B0005631  2B0003388   2018                         15352.02   \n3932   2B0005631  2B0005136   2019                          9729.91   \n3933   2B0005631  2B0005136   2018                          8982.33   \n3974   300000494  300781291   2020                       -178671.83   \n4347   310781562  650789092   2019                        -20749.32   \n4505   310788609  820008191   2018                        -16228.94   \n4748   330050048  470012808   2018                        -69758.82   \n4890   330790791  330007485   2019                        332848.13   \n4928   330790791  330057290   2020                         10283.98   \n4960   330790791  330785403   2019                        332848.13   \n4961   330790791  330785403   2018                         45747.54   \n4981   330790791  330798919   2020                        -10462.93   \n5614   350001202  350039590   2020                         93389.84   \n6668   420016669  590812921   2018                         -6904.11   \n6796   430005801  430001818   2018                        -21580.66   \n6897   440000966  440041358   2019                         -5406.03   \n7152   450000633  580006047   2018                         82897.91   \n7717   480782523  430006106   2018                         16558.96   \n7801   490020773  490015740   2020                          -516.46   \n9208   590052254  590791034   2018                        -10583.33   \n10310  620001545  620108589   2019                           684.31   \n10570  620105767  620106534   2018                         29025.06   \n12919  720009562  720012574   2018                          3729.82   \n13765  750050916  920800174   2018                       -114358.52   \n13823  750058844  920700028   2018                       -282680.01   \n13919  750065591  500002910   2018                         32768.32   \n14710  750720930  750710626   2018                        -20063.66   \n14985  750721334  800007825   2018                         12647.77   \n16026  800001224  800003873   2020                         19684.21   \n16190  800006074  800017576   2020                         34581.16   \n16364  830003729  830003778   2018                           694.00   \n16401  830025615  830011839   2020                          6220.33   \n16666  840019145  840019095   2018                         65425.48   \n17701  920028263  750032948   2019                        -43564.18   \n17704  920028263  750040438   2019                        -28252.89   \n17884  920800976  920717691   2018                         55615.66   \n18065  930001094  930017470   2018                       -110994.37   \n18091  930014709  930023478   2019                        -28523.90   \n18361  930813415  930817382   2018                        -16664.78   \n18938  970301271  970109948   2019                        -21462.78   \n18958  970301933  970304853   2019                         77241.28   \n18959  970301933  970304853   2018                          7783.93   \n\n       Taux de CAF CA PH  Taux vétusté Construction CA  \\\n999             0.192853                           NaN   \n1399            0.143391                           NaN   \n1836            0.009989                           NaN   \n2902            0.106113                           NaN   \n2951            0.182354                           NaN   \n3456            0.210780                           NaN   \n3929            0.044682                           NaN   \n3930            0.057612                           NaN   \n3932            0.077089                           NaN   \n3933            0.071034                           NaN   \n3974           -0.029679                      0.847060   \n4347           -0.022722                           NaN   \n4505           -0.024651                           NaN   \n4748           -0.127342                           NaN   \n4890            0.125975                           NaN   \n4928            0.020903                           NaN   \n4960            0.125975                           NaN   \n4961            0.050558                      0.540936   \n4981            0.076424                           NaN   \n5614            0.184380                      0.661975   \n6668            0.013818                           NaN   \n6796           -0.018289                           NaN   \n6897           -0.011567                           NaN   \n7152            0.172911                           NaN   \n7717            0.032870                      0.538904   \n7801            0.007762                           NaN   \n9208            0.063209                           NaN   \n10310           0.014299                           NaN   \n10570           0.092854                      0.254981   \n12919           0.031577                      0.845396   \n13765          -0.102561                      1.000000   \n13823          -0.041288                      0.661869   \n13919           0.118660                           NaN   \n14710           0.107864                           NaN   \n14985           0.127958                           NaN   \n16026           0.061525                           NaN   \n16190           0.067965                           NaN   \n16364           0.004842                           NaN   \n16401           0.091856                      0.999253   \n16666           0.275514                           NaN   \n17701          -0.049648                           NaN   \n17704          -0.007011                           NaN   \n17884           0.096543                           NaN   \n18065          -0.013348                           NaN   \n18091           0.040128                           NaN   \n18361          -0.023973                           NaN   \n18938          -0.044488                           NaN   \n18958           0.531698                           NaN   \n18959           0.036177                           NaN   \n\n       MS Résultat net comptable CA PA  Charges CA PA  Produits CA PA  \\\n999                                NaN            NaN             NaN   \n1399                               NaN            NaN             NaN   \n1836                               NaN            NaN             NaN   \n2902                               NaN            NaN             NaN   \n2951                               NaN            NaN             NaN   \n3456                               NaN            NaN             NaN   \n3929                               NaN            NaN             NaN   \n3930                               NaN            NaN             NaN   \n3932                               NaN            NaN             NaN   \n3933                               NaN            NaN             NaN   \n3974                               NaN            NaN             NaN   \n4347                               NaN            NaN             NaN   \n4505                               NaN            NaN             NaN   \n4748                               NaN            NaN             NaN   \n4890                               NaN            NaN             NaN   \n4928                               NaN            NaN             NaN   \n4960                               NaN            NaN             NaN   \n4961                               NaN            NaN             NaN   \n4981                               NaN            NaN             NaN   \n5614                               NaN            NaN             NaN   \n6668                               NaN            NaN             NaN   \n6796                               NaN            NaN             NaN   \n6897                               NaN            NaN             NaN   \n7152                               NaN            NaN             NaN   \n7717                               NaN            NaN             NaN   \n7801                               NaN            NaN             NaN   \n9208                               NaN            NaN             NaN   \n10310                              NaN            NaN             NaN   \n10570                              NaN            NaN             NaN   \n12919                              NaN            NaN             NaN   \n13765                              NaN            NaN             NaN   \n13823                              NaN            NaN             NaN   \n13919                              NaN            NaN             NaN   \n14710                              NaN            NaN             NaN   \n14985                              NaN            NaN             NaN   \n16026                              NaN            NaN             NaN   \n16190                              NaN            NaN             NaN   \n16364                              NaN            NaN             NaN   \n16401                              NaN            NaN             NaN   \n16666                              NaN            NaN             NaN   \n17701                              NaN            NaN             NaN   \n17704                              NaN            NaN             NaN   \n17884                              NaN            NaN             NaN   \n18065                              NaN            NaN             NaN   \n18091                              NaN            NaN             NaN   \n18361                              NaN            NaN             NaN   \n18938                              NaN            NaN             NaN   \n18958                              NaN            NaN             NaN   \n18959                              NaN            NaN             NaN   \n\n       Recettes Groupe I CA  Recettes Groupe II CA  Recettes Groupe III CA  \\\n999               194974.13                4155.11                  -84.48   \n1399              614766.21                   0.00                -2051.67   \n1836              405120.88               10880.62                 -211.83   \n2902              408789.55                1438.23                  -36.19   \n2951              299873.74                   0.00                   -5.78   \n3456              545751.49                7707.67               -28051.76   \n3929              517344.00                 729.96                 -892.98   \n3930              517344.00                 466.43                -2958.29   \n3932              126752.00                 426.99                 -962.68   \n3933              126752.00                  39.72                 -340.56   \n3974             1624822.44               69589.87                 -862.47   \n4347              759375.97                   0.00                -2827.23   \n4505              237303.37                1497.70                   -0.05   \n4748              508616.60                9059.62                  -68.89   \n4890             4287673.97              508875.05                -8332.51   \n4928              627151.80               27812.11                -9889.83   \n4960             4287673.97              508875.05                -8332.51   \n4961             4303140.31              467612.61              -109116.32   \n4981              910835.35               99849.24              -119879.82   \n5614              636685.00                1520.53               -12554.17   \n6668              484521.60                   0.00                  -47.23   \n6796              675784.38                2731.05                -4842.96   \n6897              228000.00                3853.59                 -129.35   \n7152             1090629.53              155557.44                 -455.10   \n7717              748198.27                   0.00                 -599.00   \n7801              434289.62               12559.06                 -691.60   \n9208             1150690.93                   5.90                  -80.66   \n10310             160377.09                   3.87                 -877.83   \n10570            1087159.32                 253.53                -4827.89   \n12919             971370.00               41505.74               -76467.93   \n13765             976628.66               39170.04                 -155.69   \n13823            4819348.33               81608.40                -8426.58   \n13919             883556.03               55106.72               -41760.58   \n14710            1259610.00               53931.99                  -51.53   \n14985             549784.50                 125.86               -37942.08   \n16026             929002.30                -359.10                -4090.62   \n16190             631633.40                 783.26                   -0.06   \n16364             145517.00                1394.00                -3587.00   \n16401             674443.61                   0.00               -14274.99   \n16666             242838.96                1283.81                -3088.20   \n17701             666042.33                   0.00                -3971.00   \n17704            2560836.42                   0.00                -8951.84   \n17884             954764.77               46128.28                 -718.30   \n18065            1188866.96              308826.82                 -840.59   \n18091             707315.84               32997.84                 -809.79   \n18361             485683.81                  30.01                 -262.25   \n18938             370093.90                  63.71                -2290.75   \n18958            1265226.92                 647.97                 -275.93   \n18959             682804.69               10234.69               -12098.55   \n\n       Dépenses Groupe I CA  Dépenses Groupe II CA  Dépenses Groupe III CA  \n999                -5881.00             -144296.86               -17283.87  \n1399              -50229.08             -430436.93               -52825.72  \n1836              -65691.54             -263349.65               -85781.79  \n2902              -34701.05             -307767.33               -32695.73  \n2951              -10772.82             -222744.83               -17246.65  \n3456             -110791.16             -375621.43                55075.88  \n3929              -53305.39             -275592.35              -182565.51  \n3930              -51183.84             -265506.44              -182809.84  \n3932              -14973.46              -61877.47               -39635.47  \n3933              -12459.19              -64858.23               -40151.41  \n3974             -192264.83            -1466730.17              -213226.67  \n4347              -72342.50             -700735.66                -4219.90  \n4505              -17271.58             -198788.19               -38970.19  \n4748              -58196.36             -477701.27               -51468.52  \n4890             -941360.02            -2860018.22              -653990.14  \n4928              -12385.97             -593511.51               -28892.62  \n4960             -941360.02            -2860018.22              -653990.14  \n4961             -953871.76            -3066121.93              -595895.37  \n4981             -133857.98             -600414.38              -166995.34  \n5614             -118428.44             -367733.04               -46100.04  \n6668              -42409.44             -374455.03               -74514.01  \n6796             -108530.38             -462088.07              -124634.68  \n6897               -7240.28             -200623.79               -29266.20  \n7152             -141351.41             -737955.32              -283527.23  \n7717              -80755.37             -638069.81               -12215.13  \n7801              -28714.88             -409452.22                -8506.44  \n9208              -56473.17             -939959.26              -164767.07  \n10310             -12709.41             -126686.23               -19423.18  \n10570             -37971.07             -885920.14              -129668.69  \n12919            -132499.83             -707862.33               -92315.83  \n13765            -155409.41             -812775.75              -161816.37  \n13823            -779854.19            -3704622.70              -690733.27  \n13919            -139415.78             -602245.74              -122472.33  \n14710            -134877.41             -871300.55              -327376.16  \n14985             -23146.16             -412953.28               -63221.07  \n16026             -68005.74             -644731.93              -192130.70  \n16190             -31964.39             -491766.87               -74104.18  \n16364             -12332.00             -126972.00                -3326.00  \n16401             -21861.72             -537744.59               -94341.98  \n16666              -4270.85             -170675.58                 -662.66  \n17701             -20426.66             -596056.69               -89152.16  \n17704             -61718.31            -2355402.03              -163017.13  \n17884            -138888.26             -645300.22              -160370.61  \n18065            -297044.51             -871126.18              -439676.87  \n18091             -25694.09             -609045.42              -133288.28  \n18361             -81836.34             -391701.94               -28578.07  \n18938             -36288.98             -299454.38               -53586.28  \n18958             -74064.19             -423068.68              -691224.81  \n18959             -97674.06             -457112.52              -118370.32  ",
      "text/html": "<div>\n<style scoped>\n    .dataframe tbody tr th:only-of-type {\n        vertical-align: middle;\n    }\n\n    .dataframe tbody tr th {\n        vertical-align: top;\n    }\n\n    .dataframe thead th {\n        text-align: right;\n    }\n</style>\n<table border=\"1\" class=\"dataframe\">\n  <thead>\n    <tr style=\"text-align: right;\">\n      <th></th>\n      <th>Finess EJ</th>\n      <th>Finess</th>\n      <th>Année</th>\n      <th>MS Résultat net comptable CA PH</th>\n      <th>Taux de CAF CA PH</th>\n      <th>Taux vétusté Construction CA</th>\n      <th>MS Résultat net comptable CA PA</th>\n      <th>Charges CA PA</th>\n      <th>Produits CA PA</th>\n      <th>Recettes Groupe I CA</th>\n      <th>Recettes Groupe II CA</th>\n      <th>Recettes Groupe III CA</th>\n      <th>Dépenses Groupe I CA</th>\n      <th>Dépenses Groupe II CA</th>\n      <th>Dépenses Groupe III CA</th>\n    </tr>\n  </thead>\n  <tbody>\n    <tr>\n      <th>999</th>\n      <td>100000835</td>\n      <td>100005727</td>\n      <td>2019</td>\n      <td>31583.03</td>\n      <td>0.192853</td>\n      <td>NaN</td>\n      <td>NaN</td>\n      <td>NaN</td>\n      <td>NaN</td>\n      <td>194974.13</td>\n      <td>4155.11</td>\n      <td>-84.48</td>\n      <td>-5881.00</td>\n      <td>-144296.86</td>\n      <td>-17283.87</td>\n    </tr>\n    <tr>\n      <th>1399</th>\n      <td>130007032</td>\n      <td>130809049</td>\n      <td>2020</td>\n      <td>79222.81</td>\n      <td>0.143391</td>\n      <td>NaN</td>\n      <td>NaN</td>\n      <td>NaN</td>\n      <td>NaN</td>\n      <td>614766.21</td>\n      <td>0.00</td>\n      <td>-2051.67</td>\n      <td>-50229.08</td>\n      <td>-430436.93</td>\n      <td>-52825.72</td>\n    </tr>\n    <tr>\n      <th>1836</th>\n      <td>130804156</td>\n      <td>130810518</td>\n      <td>2018</td>\n      <td>966.69</td>\n      <td>0.009989</td>\n      <td>NaN</td>\n      <td>NaN</td>\n      <td>NaN</td>\n      <td>NaN</td>\n      <td>405120.88</td>\n      <td>10880.62</td>\n      <td>-211.83</td>\n      <td>-65691.54</td>\n      <td>-263349.65</td>\n      <td>-85781.79</td>\n    </tr>\n    <tr>\n      <th>2902</th>\n      <td>220001192</td>\n      <td>220013346</td>\n      <td>2018</td>\n      <td>35027.48</td>\n      <td>0.106113</td>\n      <td>NaN</td>\n      <td>NaN</td>\n      <td>NaN</td>\n      <td>NaN</td>\n      <td>408789.55</td>\n      <td>1438.23</td>\n      <td>-36.19</td>\n      <td>-34701.05</td>\n      <td>-307767.33</td>\n      <td>-32695.73</td>\n    </tr>\n    <tr>\n      <th>2951</th>\n      <td>220023287</td>\n      <td>220023295</td>\n      <td>2020</td>\n      <td>49103.66</td>\n      <td>0.182354</td>\n      <td>NaN</td>\n      <td>NaN</td>\n      <td>NaN</td>\n      <td>NaN</td>\n      <td>299873.74</td>\n      <td>0.00</td>\n      <td>-5.78</td>\n      <td>-10772.82</td>\n      <td>-222744.83</td>\n      <td>-17246.65</td>\n    </tr>\n    <tr>\n      <th>3456</th>\n      <td>260013321</td>\n      <td>260010038</td>\n      <td>2018</td>\n      <td>94070.69</td>\n      <td>0.210780</td>\n      <td>NaN</td>\n      <td>NaN</td>\n      <td>NaN</td>\n      <td>NaN</td>\n      <td>545751.49</td>\n      <td>7707.67</td>\n      <td>-28051.76</td>\n      <td>-110791.16</td>\n      <td>-375621.43</td>\n      <td>55075.88</td>\n    </tr>\n    <tr>\n      <th>3929</th>\n      <td>2B0005631</td>\n      <td>2B0003388</td>\n      <td>2019</td>\n      <td>5717.73</td>\n      <td>0.044682</td>\n      <td>NaN</td>\n      <td>NaN</td>\n      <td>NaN</td>\n      <td>NaN</td>\n      <td>517344.00</td>\n      <td>729.96</td>\n      <td>-892.98</td>\n      <td>-53305.39</td>\n      <td>-275592.35</td>\n      <td>-182565.51</td>\n    </tr>\n    <tr>\n      <th>3930</th>\n      <td>2B0005631</td>\n      <td>2B0003388</td>\n      <td>2018</td>\n      <td>15352.02</td>\n      <td>0.057612</td>\n      <td>NaN</td>\n      <td>NaN</td>\n      <td>NaN</td>\n      <td>NaN</td>\n      <td>517344.00</td>\n      <td>466.43</td>\n      <td>-2958.29</td>\n      <td>-51183.84</td>\n      <td>-265506.44</td>\n      <td>-182809.84</td>\n    </tr>\n    <tr>\n      <th>3932</th>\n      <td>2B0005631</td>\n      <td>2B0005136</td>\n      <td>2019</td>\n      <td>9729.91</td>\n      <td>0.077089</td>\n      <td>NaN</td>\n      <td>NaN</td>\n      <td>NaN</td>\n      <td>NaN</td>\n      <td>126752.00</td>\n      <td>426.99</td>\n      <td>-962.68</td>\n      <td>-14973.46</td>\n      <td>-61877.47</td>\n      <td>-39635.47</td>\n    </tr>\n    <tr>\n      <th>3933</th>\n      <td>2B0005631</td>\n      <td>2B0005136</td>\n      <td>2018</td>\n      <td>8982.33</td>\n      <td>0.071034</td>\n      <td>NaN</td>\n      <td>NaN</td>\n      <td>NaN</td>\n      <td>NaN</td>\n      <td>126752.00</td>\n      <td>39.72</td>\n      <td>-340.56</td>\n      <td>-12459.19</td>\n      <td>-64858.23</td>\n      <td>-40151.41</td>\n    </tr>\n    <tr>\n      <th>3974</th>\n      <td>300000494</td>\n      <td>300781291</td>\n      <td>2020</td>\n      <td>-178671.83</td>\n      <td>-0.029679</td>\n      <td>0.847060</td>\n      <td>NaN</td>\n      <td>NaN</td>\n      <td>NaN</td>\n      <td>1624822.44</td>\n      <td>69589.87</td>\n      <td>-862.47</td>\n      <td>-192264.83</td>\n      <td>-1466730.17</td>\n      <td>-213226.67</td>\n    </tr>\n    <tr>\n      <th>4347</th>\n      <td>310781562</td>\n      <td>650789092</td>\n      <td>2019</td>\n      <td>-20749.32</td>\n      <td>-0.022722</td>\n      <td>NaN</td>\n      <td>NaN</td>\n      <td>NaN</td>\n      <td>NaN</td>\n      <td>759375.97</td>\n      <td>0.00</td>\n      <td>-2827.23</td>\n      <td>-72342.50</td>\n      <td>-700735.66</td>\n      <td>-4219.90</td>\n    </tr>\n    <tr>\n      <th>4505</th>\n      <td>310788609</td>\n      <td>820008191</td>\n      <td>2018</td>\n      <td>-16228.94</td>\n      <td>-0.024651</td>\n      <td>NaN</td>\n      <td>NaN</td>\n      <td>NaN</td>\n      <td>NaN</td>\n      <td>237303.37</td>\n      <td>1497.70</td>\n      <td>-0.05</td>\n      <td>-17271.58</td>\n      <td>-198788.19</td>\n      <td>-38970.19</td>\n    </tr>\n    <tr>\n      <th>4748</th>\n      <td>330050048</td>\n      <td>470012808</td>\n      <td>2018</td>\n      <td>-69758.82</td>\n      <td>-0.127342</td>\n      <td>NaN</td>\n      <td>NaN</td>\n      <td>NaN</td>\n      <td>NaN</td>\n      <td>508616.60</td>\n      <td>9059.62</td>\n      <td>-68.89</td>\n      <td>-58196.36</td>\n      <td>-477701.27</td>\n      <td>-51468.52</td>\n    </tr>\n    <tr>\n      <th>4890</th>\n      <td>330790791</td>\n      <td>330007485</td>\n      <td>2019</td>\n      <td>332848.13</td>\n      <td>0.125975</td>\n      <td>NaN</td>\n      <td>NaN</td>\n      <td>NaN</td>\n      <td>NaN</td>\n      <td>4287673.97</td>\n      <td>508875.05</td>\n      <td>-8332.51</td>\n      <td>-941360.02</td>\n      <td>-2860018.22</td>\n      <td>-653990.14</td>\n    </tr>\n    <tr>\n      <th>4928</th>\n      <td>330790791</td>\n      <td>330057290</td>\n      <td>2020</td>\n      <td>10283.98</td>\n      <td>0.020903</td>\n      <td>NaN</td>\n      <td>NaN</td>\n      <td>NaN</td>\n      <td>NaN</td>\n      <td>627151.80</td>\n      <td>27812.11</td>\n      <td>-9889.83</td>\n      <td>-12385.97</td>\n      <td>-593511.51</td>\n      <td>-28892.62</td>\n    </tr>\n    <tr>\n      <th>4960</th>\n      <td>330790791</td>\n      <td>330785403</td>\n      <td>2019</td>\n      <td>332848.13</td>\n      <td>0.125975</td>\n      <td>NaN</td>\n      <td>NaN</td>\n      <td>NaN</td>\n      <td>NaN</td>\n      <td>4287673.97</td>\n      <td>508875.05</td>\n      <td>-8332.51</td>\n      <td>-941360.02</td>\n      <td>-2860018.22</td>\n      <td>-653990.14</td>\n    </tr>\n    <tr>\n      <th>4961</th>\n      <td>330790791</td>\n      <td>330785403</td>\n      <td>2018</td>\n      <td>45747.54</td>\n      <td>0.050558</td>\n      <td>0.540936</td>\n      <td>NaN</td>\n      <td>NaN</td>\n      <td>NaN</td>\n      <td>4303140.31</td>\n      <td>467612.61</td>\n      <td>-109116.32</td>\n      <td>-953871.76</td>\n      <td>-3066121.93</td>\n      <td>-595895.37</td>\n    </tr>\n    <tr>\n      <th>4981</th>\n      <td>330790791</td>\n      <td>330798919</td>\n      <td>2020</td>\n      <td>-10462.93</td>\n      <td>0.076424</td>\n      <td>NaN</td>\n      <td>NaN</td>\n      <td>NaN</td>\n      <td>NaN</td>\n      <td>910835.35</td>\n      <td>99849.24</td>\n      <td>-119879.82</td>\n      <td>-133857.98</td>\n      <td>-600414.38</td>\n      <td>-166995.34</td>\n    </tr>\n    <tr>\n      <th>5614</th>\n      <td>350001202</td>\n      <td>350039590</td>\n      <td>2020</td>\n      <td>93389.84</td>\n      <td>0.184380</td>\n      <td>0.661975</td>\n      <td>NaN</td>\n      <td>NaN</td>\n      <td>NaN</td>\n      <td>636685.00</td>\n      <td>1520.53</td>\n      <td>-12554.17</td>\n      <td>-118428.44</td>\n      <td>-367733.04</td>\n      <td>-46100.04</td>\n    </tr>\n    <tr>\n      <th>6668</th>\n      <td>420016669</td>\n      <td>590812921</td>\n      <td>2018</td>\n      <td>-6904.11</td>\n      <td>0.013818</td>\n      <td>NaN</td>\n      <td>NaN</td>\n      <td>NaN</td>\n      <td>NaN</td>\n      <td>484521.60</td>\n      <td>0.00</td>\n      <td>-47.23</td>\n      <td>-42409.44</td>\n      <td>-374455.03</td>\n      <td>-74514.01</td>\n    </tr>\n    <tr>\n      <th>6796</th>\n      <td>430005801</td>\n      <td>430001818</td>\n      <td>2018</td>\n      <td>-21580.66</td>\n      <td>-0.018289</td>\n      <td>NaN</td>\n      <td>NaN</td>\n      <td>NaN</td>\n      <td>NaN</td>\n      <td>675784.38</td>\n      <td>2731.05</td>\n      <td>-4842.96</td>\n      <td>-108530.38</td>\n      <td>-462088.07</td>\n      <td>-124634.68</td>\n    </tr>\n    <tr>\n      <th>6897</th>\n      <td>440000966</td>\n      <td>440041358</td>\n      <td>2019</td>\n      <td>-5406.03</td>\n      <td>-0.011567</td>\n      <td>NaN</td>\n      <td>NaN</td>\n      <td>NaN</td>\n      <td>NaN</td>\n      <td>228000.00</td>\n      <td>3853.59</td>\n      <td>-129.35</td>\n      <td>-7240.28</td>\n      <td>-200623.79</td>\n      <td>-29266.20</td>\n    </tr>\n    <tr>\n      <th>7152</th>\n      <td>450000633</td>\n      <td>580006047</td>\n      <td>2018</td>\n      <td>82897.91</td>\n      <td>0.172911</td>\n      <td>NaN</td>\n      <td>NaN</td>\n      <td>NaN</td>\n      <td>NaN</td>\n      <td>1090629.53</td>\n      <td>155557.44</td>\n      <td>-455.10</td>\n      <td>-141351.41</td>\n      <td>-737955.32</td>\n      <td>-283527.23</td>\n    </tr>\n    <tr>\n      <th>7717</th>\n      <td>480782523</td>\n      <td>430006106</td>\n      <td>2018</td>\n      <td>16558.96</td>\n      <td>0.032870</td>\n      <td>0.538904</td>\n      <td>NaN</td>\n      <td>NaN</td>\n      <td>NaN</td>\n      <td>748198.27</td>\n      <td>0.00</td>\n      <td>-599.00</td>\n      <td>-80755.37</td>\n      <td>-638069.81</td>\n      <td>-12215.13</td>\n    </tr>\n    <tr>\n      <th>7801</th>\n      <td>490020773</td>\n      <td>490015740</td>\n      <td>2020</td>\n      <td>-516.46</td>\n      <td>0.007762</td>\n      <td>NaN</td>\n      <td>NaN</td>\n      <td>NaN</td>\n      <td>NaN</td>\n      <td>434289.62</td>\n      <td>12559.06</td>\n      <td>-691.60</td>\n      <td>-28714.88</td>\n      <td>-409452.22</td>\n      <td>-8506.44</td>\n    </tr>\n    <tr>\n      <th>9208</th>\n      <td>590052254</td>\n      <td>590791034</td>\n      <td>2018</td>\n      <td>-10583.33</td>\n      <td>0.063209</td>\n      <td>NaN</td>\n      <td>NaN</td>\n      <td>NaN</td>\n      <td>NaN</td>\n      <td>1150690.93</td>\n      <td>5.90</td>\n      <td>-80.66</td>\n      <td>-56473.17</td>\n      <td>-939959.26</td>\n      <td>-164767.07</td>\n    </tr>\n    <tr>\n      <th>10310</th>\n      <td>620001545</td>\n      <td>620108589</td>\n      <td>2019</td>\n      <td>684.31</td>\n      <td>0.014299</td>\n      <td>NaN</td>\n      <td>NaN</td>\n      <td>NaN</td>\n      <td>NaN</td>\n      <td>160377.09</td>\n      <td>3.87</td>\n      <td>-877.83</td>\n      <td>-12709.41</td>\n      <td>-126686.23</td>\n      <td>-19423.18</td>\n    </tr>\n    <tr>\n      <th>10570</th>\n      <td>620105767</td>\n      <td>620106534</td>\n      <td>2018</td>\n      <td>29025.06</td>\n      <td>0.092854</td>\n      <td>0.254981</td>\n      <td>NaN</td>\n      <td>NaN</td>\n      <td>NaN</td>\n      <td>1087159.32</td>\n      <td>253.53</td>\n      <td>-4827.89</td>\n      <td>-37971.07</td>\n      <td>-885920.14</td>\n      <td>-129668.69</td>\n    </tr>\n    <tr>\n      <th>12919</th>\n      <td>720009562</td>\n      <td>720012574</td>\n      <td>2018</td>\n      <td>3729.82</td>\n      <td>0.031577</td>\n      <td>0.845396</td>\n      <td>NaN</td>\n      <td>NaN</td>\n      <td>NaN</td>\n      <td>971370.00</td>\n      <td>41505.74</td>\n      <td>-76467.93</td>\n      <td>-132499.83</td>\n      <td>-707862.33</td>\n      <td>-92315.83</td>\n    </tr>\n    <tr>\n      <th>13765</th>\n      <td>750050916</td>\n      <td>920800174</td>\n      <td>2018</td>\n      <td>-114358.52</td>\n      <td>-0.102561</td>\n      <td>1.000000</td>\n      <td>NaN</td>\n      <td>NaN</td>\n      <td>NaN</td>\n      <td>976628.66</td>\n      <td>39170.04</td>\n      <td>-155.69</td>\n      <td>-155409.41</td>\n      <td>-812775.75</td>\n      <td>-161816.37</td>\n    </tr>\n    <tr>\n      <th>13823</th>\n      <td>750058844</td>\n      <td>920700028</td>\n      <td>2018</td>\n      <td>-282680.01</td>\n      <td>-0.041288</td>\n      <td>0.661869</td>\n      <td>NaN</td>\n      <td>NaN</td>\n      <td>NaN</td>\n      <td>4819348.33</td>\n      <td>81608.40</td>\n      <td>-8426.58</td>\n      <td>-779854.19</td>\n      <td>-3704622.70</td>\n      <td>-690733.27</td>\n    </tr>\n    <tr>\n      <th>13919</th>\n      <td>750065591</td>\n      <td>500002910</td>\n      <td>2018</td>\n      <td>32768.32</td>\n      <td>0.118660</td>\n      <td>NaN</td>\n      <td>NaN</td>\n      <td>NaN</td>\n      <td>NaN</td>\n      <td>883556.03</td>\n      <td>55106.72</td>\n      <td>-41760.58</td>\n      <td>-139415.78</td>\n      <td>-602245.74</td>\n      <td>-122472.33</td>\n    </tr>\n    <tr>\n      <th>14710</th>\n      <td>750720930</td>\n      <td>750710626</td>\n      <td>2018</td>\n      <td>-20063.66</td>\n      <td>0.107864</td>\n      <td>NaN</td>\n      <td>NaN</td>\n      <td>NaN</td>\n      <td>NaN</td>\n      <td>1259610.00</td>\n      <td>53931.99</td>\n      <td>-51.53</td>\n      <td>-134877.41</td>\n      <td>-871300.55</td>\n      <td>-327376.16</td>\n    </tr>\n    <tr>\n      <th>14985</th>\n      <td>750721334</td>\n      <td>800007825</td>\n      <td>2018</td>\n      <td>12647.77</td>\n      <td>0.127958</td>\n      <td>NaN</td>\n      <td>NaN</td>\n      <td>NaN</td>\n      <td>NaN</td>\n      <td>549784.50</td>\n      <td>125.86</td>\n      <td>-37942.08</td>\n      <td>-23146.16</td>\n      <td>-412953.28</td>\n      <td>-63221.07</td>\n    </tr>\n    <tr>\n      <th>16026</th>\n      <td>800001224</td>\n      <td>800003873</td>\n      <td>2020</td>\n      <td>19684.21</td>\n      <td>0.061525</td>\n      <td>NaN</td>\n      <td>NaN</td>\n      <td>NaN</td>\n      <td>NaN</td>\n      <td>929002.30</td>\n      <td>-359.10</td>\n      <td>-4090.62</td>\n      <td>-68005.74</td>\n      <td>-644731.93</td>\n      <td>-192130.70</td>\n    </tr>\n    <tr>\n      <th>16190</th>\n      <td>800006074</td>\n      <td>800017576</td>\n      <td>2020</td>\n      <td>34581.16</td>\n      <td>0.067965</td>\n      <td>NaN</td>\n      <td>NaN</td>\n      <td>NaN</td>\n      <td>NaN</td>\n      <td>631633.40</td>\n      <td>783.26</td>\n      <td>-0.06</td>\n      <td>-31964.39</td>\n      <td>-491766.87</td>\n      <td>-74104.18</td>\n    </tr>\n    <tr>\n      <th>16364</th>\n      <td>830003729</td>\n      <td>830003778</td>\n      <td>2018</td>\n      <td>694.00</td>\n      <td>0.004842</td>\n      <td>NaN</td>\n      <td>NaN</td>\n      <td>NaN</td>\n      <td>NaN</td>\n      <td>145517.00</td>\n      <td>1394.00</td>\n      <td>-3587.00</td>\n      <td>-12332.00</td>\n      <td>-126972.00</td>\n      <td>-3326.00</td>\n    </tr>\n    <tr>\n      <th>16401</th>\n      <td>830025615</td>\n      <td>830011839</td>\n      <td>2020</td>\n      <td>6220.33</td>\n      <td>0.091856</td>\n      <td>0.999253</td>\n      <td>NaN</td>\n      <td>NaN</td>\n      <td>NaN</td>\n      <td>674443.61</td>\n      <td>0.00</td>\n      <td>-14274.99</td>\n      <td>-21861.72</td>\n      <td>-537744.59</td>\n      <td>-94341.98</td>\n    </tr>\n    <tr>\n      <th>16666</th>\n      <td>840019145</td>\n      <td>840019095</td>\n      <td>2018</td>\n      <td>65425.48</td>\n      <td>0.275514</td>\n      <td>NaN</td>\n      <td>NaN</td>\n      <td>NaN</td>\n      <td>NaN</td>\n      <td>242838.96</td>\n      <td>1283.81</td>\n      <td>-3088.20</td>\n      <td>-4270.85</td>\n      <td>-170675.58</td>\n      <td>-662.66</td>\n    </tr>\n    <tr>\n      <th>17701</th>\n      <td>920028263</td>\n      <td>750032948</td>\n      <td>2019</td>\n      <td>-43564.18</td>\n      <td>-0.049648</td>\n      <td>NaN</td>\n      <td>NaN</td>\n      <td>NaN</td>\n      <td>NaN</td>\n      <td>666042.33</td>\n      <td>0.00</td>\n      <td>-3971.00</td>\n      <td>-20426.66</td>\n      <td>-596056.69</td>\n      <td>-89152.16</td>\n    </tr>\n    <tr>\n      <th>17704</th>\n      <td>920028263</td>\n      <td>750040438</td>\n      <td>2019</td>\n      <td>-28252.89</td>\n      <td>-0.007011</td>\n      <td>NaN</td>\n      <td>NaN</td>\n      <td>NaN</td>\n      <td>NaN</td>\n      <td>2560836.42</td>\n      <td>0.00</td>\n      <td>-8951.84</td>\n      <td>-61718.31</td>\n      <td>-2355402.03</td>\n      <td>-163017.13</td>\n    </tr>\n    <tr>\n      <th>17884</th>\n      <td>920800976</td>\n      <td>920717691</td>\n      <td>2018</td>\n      <td>55615.66</td>\n      <td>0.096543</td>\n      <td>NaN</td>\n      <td>NaN</td>\n      <td>NaN</td>\n      <td>NaN</td>\n      <td>954764.77</td>\n      <td>46128.28</td>\n      <td>-718.30</td>\n      <td>-138888.26</td>\n      <td>-645300.22</td>\n      <td>-160370.61</td>\n    </tr>\n    <tr>\n      <th>18065</th>\n      <td>930001094</td>\n      <td>930017470</td>\n      <td>2018</td>\n      <td>-110994.37</td>\n      <td>-0.013348</td>\n      <td>NaN</td>\n      <td>NaN</td>\n      <td>NaN</td>\n      <td>NaN</td>\n      <td>1188866.96</td>\n      <td>308826.82</td>\n      <td>-840.59</td>\n      <td>-297044.51</td>\n      <td>-871126.18</td>\n      <td>-439676.87</td>\n    </tr>\n    <tr>\n      <th>18091</th>\n      <td>930014709</td>\n      <td>930023478</td>\n      <td>2019</td>\n      <td>-28523.90</td>\n      <td>0.040128</td>\n      <td>NaN</td>\n      <td>NaN</td>\n      <td>NaN</td>\n      <td>NaN</td>\n      <td>707315.84</td>\n      <td>32997.84</td>\n      <td>-809.79</td>\n      <td>-25694.09</td>\n      <td>-609045.42</td>\n      <td>-133288.28</td>\n    </tr>\n    <tr>\n      <th>18361</th>\n      <td>930813415</td>\n      <td>930817382</td>\n      <td>2018</td>\n      <td>-16664.78</td>\n      <td>-0.023973</td>\n      <td>NaN</td>\n      <td>NaN</td>\n      <td>NaN</td>\n      <td>NaN</td>\n      <td>485683.81</td>\n      <td>30.01</td>\n      <td>-262.25</td>\n      <td>-81836.34</td>\n      <td>-391701.94</td>\n      <td>-28578.07</td>\n    </tr>\n    <tr>\n      <th>18938</th>\n      <td>970301271</td>\n      <td>970109948</td>\n      <td>2019</td>\n      <td>-21462.78</td>\n      <td>-0.044488</td>\n      <td>NaN</td>\n      <td>NaN</td>\n      <td>NaN</td>\n      <td>NaN</td>\n      <td>370093.90</td>\n      <td>63.71</td>\n      <td>-2290.75</td>\n      <td>-36288.98</td>\n      <td>-299454.38</td>\n      <td>-53586.28</td>\n    </tr>\n    <tr>\n      <th>18958</th>\n      <td>970301933</td>\n      <td>970304853</td>\n      <td>2019</td>\n      <td>77241.28</td>\n      <td>0.531698</td>\n      <td>NaN</td>\n      <td>NaN</td>\n      <td>NaN</td>\n      <td>NaN</td>\n      <td>1265226.92</td>\n      <td>647.97</td>\n      <td>-275.93</td>\n      <td>-74064.19</td>\n      <td>-423068.68</td>\n      <td>-691224.81</td>\n    </tr>\n    <tr>\n      <th>18959</th>\n      <td>970301933</td>\n      <td>970304853</td>\n      <td>2018</td>\n      <td>7783.93</td>\n      <td>0.036177</td>\n      <td>NaN</td>\n      <td>NaN</td>\n      <td>NaN</td>\n      <td>NaN</td>\n      <td>682804.69</td>\n      <td>10234.69</td>\n      <td>-12098.55</td>\n      <td>-97674.06</td>\n      <td>-457112.52</td>\n      <td>-118370.32</td>\n    </tr>\n  </tbody>\n</table>\n</div>"
     },
     "execution_count": 180,
     "metadata": {},
     "output_type": "execute_result"
    }
   ],
   "source": [
    "ann_ca_ej_et[ann_ca_ej_et['Recettes Groupe III CA'] < 0]\n"
   ],
   "metadata": {
    "collapsed": false,
    "pycharm": {
     "name": "#%%\n"
    }
   }
  },
  {
   "cell_type": "code",
   "execution_count": 184,
   "outputs": [
    {
     "data": {
      "text/plain": "Empty DataFrame\nColumns: [Finess EJ, Finess, Année, MS Résultat net comptable CA PH, Taux de CAF CA PH, Taux vétusté Construction CA, MS Résultat net comptable CA PA, Charges CA PA, Produits CA PA, Recettes Groupe I CA, Recettes Groupe II CA, Recettes Groupe III CA, Dépenses Groupe I CA, Dépenses Groupe II CA, Dépenses Groupe III CA]\nIndex: []",
      "text/html": "<div>\n<style scoped>\n    .dataframe tbody tr th:only-of-type {\n        vertical-align: middle;\n    }\n\n    .dataframe tbody tr th {\n        vertical-align: top;\n    }\n\n    .dataframe thead th {\n        text-align: right;\n    }\n</style>\n<table border=\"1\" class=\"dataframe\">\n  <thead>\n    <tr style=\"text-align: right;\">\n      <th></th>\n      <th>Finess EJ</th>\n      <th>Finess</th>\n      <th>Année</th>\n      <th>MS Résultat net comptable CA PH</th>\n      <th>Taux de CAF CA PH</th>\n      <th>Taux vétusté Construction CA</th>\n      <th>MS Résultat net comptable CA PA</th>\n      <th>Charges CA PA</th>\n      <th>Produits CA PA</th>\n      <th>Recettes Groupe I CA</th>\n      <th>Recettes Groupe II CA</th>\n      <th>Recettes Groupe III CA</th>\n      <th>Dépenses Groupe I CA</th>\n      <th>Dépenses Groupe II CA</th>\n      <th>Dépenses Groupe III CA</th>\n    </tr>\n  </thead>\n  <tbody>\n  </tbody>\n</table>\n</div>"
     },
     "execution_count": 184,
     "metadata": {},
     "output_type": "execute_result"
    }
   ],
   "source": [
    "(ann_ca_ej_et['Produits CA PA'] < 0).sum()\n",
    "ann_ca_ej_et[ann_ca_ej_et['Produits CA PA'] < 0]"
   ],
   "metadata": {
    "collapsed": false,
    "pycharm": {
     "name": "#%%\n"
    }
   }
  },
  {
   "cell_type": "markdown",
   "source": [
    "#### Résultat"
   ],
   "metadata": {
    "collapsed": false
   }
  },
  {
   "cell_type": "code",
   "execution_count": 197,
   "outputs": [],
   "source": [
    "ann_ca_ej_et_avec_résultat_CA_PH_renseigné = ann_ca_ej_et.dropna(subset=['MS Résultat net comptable CA PH'])"
   ],
   "metadata": {
    "collapsed": false,
    "pycharm": {
     "name": "#%%\n"
    }
   }
  },
  {
   "cell_type": "code",
   "execution_count": 198,
   "outputs": [],
   "source": [
    "résultat = ann_ca_ej_et_avec_résultat_CA_PH_renseigné['Recettes Groupe I CA'] + ann_ca_ej_et_avec_résultat_CA_PH_renseigné['Recettes Groupe II CA'] + ann_ca_ej_et_avec_résultat_CA_PH_renseigné[\n",
    "    'Recettes Groupe III CA'] + ann_ca_ej_et_avec_résultat_CA_PH_renseigné['Dépenses Groupe I CA'] + ann_ca_ej_et_avec_résultat_CA_PH_renseigné['Dépenses Groupe II CA'] + ann_ca_ej_et_avec_résultat_CA_PH_renseigné['Dépenses Groupe III CA']\n"
   ],
   "metadata": {
    "collapsed": false,
    "pycharm": {
     "name": "#%%\n"
    }
   }
  },
  {
   "cell_type": "code",
   "execution_count": 194,
   "outputs": [],
   "source": [
    "résultat.name = 'résultat'"
   ],
   "metadata": {
    "collapsed": false,
    "pycharm": {
     "name": "#%%\n"
    }
   }
  },
  {
   "cell_type": "code",
   "execution_count": 199,
   "outputs": [
    {
     "data": {
      "text/plain": "Finess                             0.0\nAnnée                              0.0\nMS Résultat net comptable CA PH    0.0\ndtype: float64"
     },
     "execution_count": 199,
     "metadata": {},
     "output_type": "execute_result"
    }
   ],
   "source": [
    "a_un_résultat_différent_que_la_somme_des_dépenses_et_recettes = ~(résultat.round(decimals=2) == ann_ca_ej_et_avec_résultat_CA_PH_renseigné['MS Résultat net comptable CA PH'].round(decimals=2))\n",
    "ann_ca_ej_et_avec_résultat_CA_PH_renseigné.loc[a_un_résultat_différent_que_la_somme_des_dépenses_et_recettes, [\"Finess\",\n",
    "                                                                                  \"Année\",\n",
    "                                                                                  \"MS Résultat net comptable CA PH\"]].isna().sum()\n"
   ],
   "metadata": {
    "collapsed": false,
    "pycharm": {
     "name": "#%%\n"
    }
   }
  },
  {
   "cell_type": "code",
   "source": [
    "ann_ca_ej_et_avec_résultat_CA_PA_renseigné = ann_ca_ej_et.dropna(subset=['MS Résultat net comptable CA PA'])"
   ],
   "metadata": {
    "collapsed": false,
    "pycharm": {
     "name": "#%%\n"
    }
   },
   "execution_count": 203,
   "outputs": []
  },
  {
   "cell_type": "code",
   "execution_count": 204,
   "outputs": [],
   "source": [
    "résultat = ann_ca_ej_et_avec_résultat_CA_PA_renseigné['Produits CA PA'] + ann_ca_ej_et_avec_résultat_CA_PA_renseigné['Charges CA PA']"
   ],
   "metadata": {
    "collapsed": false,
    "pycharm": {
     "name": "#%%\n"
    }
   }
  },
  {
   "cell_type": "code",
   "execution_count": 205,
   "outputs": [
    {
     "data": {
      "text/plain": "Finess                             0.0\nAnnée                              0.0\nMS Résultat net comptable CA PA    0.0\ndtype: float64"
     },
     "execution_count": 205,
     "metadata": {},
     "output_type": "execute_result"
    }
   ],
   "source": [
    "a_un_résultat_différent_que_la_somme_des_dépenses_et_recettes = ~(résultat.round(decimals=2) == ann_ca_ej_et_avec_résultat_CA_PA_renseigné['MS Résultat net comptable CA PA'].round(decimals=2))\n",
    "ann_ca_ej_et_avec_résultat_CA_PA_renseigné.loc[a_un_résultat_différent_que_la_somme_des_dépenses_et_recettes, [\"Finess\",\n",
    "                                                                                                               \"Année\",\n",
    "                                                                                                               \"MS Résultat net comptable CA PA\"]].isna().sum()\n"
   ],
   "metadata": {
    "collapsed": false,
    "pycharm": {
     "name": "#%%\n"
    }
   }
  },
  {
   "cell_type": "markdown",
   "source": [
    "### Taux de vétusté construction"
   ],
   "metadata": {
    "collapsed": false,
    "pycharm": {
     "name": "#%% md\n"
    }
   }
  },
  {
   "cell_type": "code",
   "execution_count": 213,
   "outputs": [
    {
     "data": {
      "text/plain": "1"
     },
     "execution_count": 213,
     "metadata": {},
     "output_type": "execute_result"
    }
   ],
   "source": [
    "a_une_vétusté_négative = ann_ca_ej_et['Taux vétusté Construction CA'] < 0\n",
    "(a_une_vétusté_négative).sum()"
   ],
   "metadata": {
    "collapsed": false,
    "pycharm": {
     "name": "#%%\n"
    }
   }
  },
  {
   "cell_type": "code",
   "execution_count": 214,
   "outputs": [
    {
     "data": {
      "text/plain": "       Finess EJ     Finess  Année  MS Résultat net comptable CA PH  \\\n18720  950016402  950014241   2020                          8385.34   \n\n       Taux de CAF CA PH  Taux vétusté Construction CA  \\\n18720           0.023344                   -121.917079   \n\n       MS Résultat net comptable CA PA  Charges CA PA  Produits CA PA  \\\n18720                              NaN            NaN             NaN   \n\n       Recettes Groupe I CA  Recettes Groupe II CA  Recettes Groupe III CA  \\\n18720             992622.88               33956.12                 9662.94   \n\n       Dépenses Groupe I CA  Dépenses Groupe II CA  Dépenses Groupe III CA  \n18720            -146951.28             -673150.46              -207754.86  ",
      "text/html": "<div>\n<style scoped>\n    .dataframe tbody tr th:only-of-type {\n        vertical-align: middle;\n    }\n\n    .dataframe tbody tr th {\n        vertical-align: top;\n    }\n\n    .dataframe thead th {\n        text-align: right;\n    }\n</style>\n<table border=\"1\" class=\"dataframe\">\n  <thead>\n    <tr style=\"text-align: right;\">\n      <th></th>\n      <th>Finess EJ</th>\n      <th>Finess</th>\n      <th>Année</th>\n      <th>MS Résultat net comptable CA PH</th>\n      <th>Taux de CAF CA PH</th>\n      <th>Taux vétusté Construction CA</th>\n      <th>MS Résultat net comptable CA PA</th>\n      <th>Charges CA PA</th>\n      <th>Produits CA PA</th>\n      <th>Recettes Groupe I CA</th>\n      <th>Recettes Groupe II CA</th>\n      <th>Recettes Groupe III CA</th>\n      <th>Dépenses Groupe I CA</th>\n      <th>Dépenses Groupe II CA</th>\n      <th>Dépenses Groupe III CA</th>\n    </tr>\n  </thead>\n  <tbody>\n    <tr>\n      <th>18720</th>\n      <td>950016402</td>\n      <td>950014241</td>\n      <td>2020</td>\n      <td>8385.34</td>\n      <td>0.023344</td>\n      <td>-121.917079</td>\n      <td>NaN</td>\n      <td>NaN</td>\n      <td>NaN</td>\n      <td>992622.88</td>\n      <td>33956.12</td>\n      <td>9662.94</td>\n      <td>-146951.28</td>\n      <td>-673150.46</td>\n      <td>-207754.86</td>\n    </tr>\n  </tbody>\n</table>\n</div>"
     },
     "execution_count": 214,
     "metadata": {},
     "output_type": "execute_result"
    }
   ],
   "source": [
    "ann_ca_ej_et[a_une_vétusté_négative]"
   ],
   "metadata": {
    "collapsed": false,
    "pycharm": {
     "name": "#%%\n"
    }
   }
  },
  {
   "cell_type": "code",
   "execution_count": 215,
   "outputs": [
    {
     "data": {
      "text/plain": "65"
     },
     "execution_count": 215,
     "metadata": {},
     "output_type": "execute_result"
    }
   ],
   "source": [
    "a_une_vétusté_sup_à_1 = ann_ca_ej_et['Taux vétusté Construction CA'] > 1\n",
    "(a_une_vétusté_sup_à_1).sum()"
   ],
   "metadata": {
    "collapsed": false,
    "pycharm": {
     "name": "#%%\n"
    }
   }
  },
  {
   "cell_type": "code",
   "execution_count": 216,
   "outputs": [
    {
     "data": {
      "text/plain": "       Finess EJ     Finess  Année  MS Résultat net comptable CA PH  \\\n330    030000665  030785844   2020                      -4725219.86   \n392    030007801  780690038   2020                         69202.13   \n487    060002094  060791712   2020                        119960.95   \n524    060020443  060014438   2020                        125459.64   \n1124   110786100  110002854   2018                          1468.66   \n...          ...        ...    ...                              ...   \n17073  870008984  870005683   2018                          2272.50   \n17896  920800976  920813755   2018                         49351.38   \n18161  930019484  590805313   2020                         40951.34   \n18708  950016402  950001792   2020                        -16920.88   \n18710  950016402  950001792   2018                       -158799.34   \n\n       Taux de CAF CA PH  Taux vétusté Construction CA  \\\n330            -8.025350                      8.370917   \n392             0.197519                      5.188913   \n487             0.121229                      5.918179   \n524             0.128359                     10.402527   \n1124            0.018955                      1.241304   \n...                  ...                           ...   \n17073           0.046536                      1.362541   \n17896           0.181000                     17.924093   \n18161           0.023087                      1.062912   \n18708          -0.024660                      8.715567   \n18710          -0.120750                     14.161033   \n\n       MS Résultat net comptable CA PA  Charges CA PA  Produits CA PA  \\\n330                                NaN            NaN             NaN   \n392                                NaN            NaN             NaN   \n487                                NaN            NaN             NaN   \n524                                NaN            NaN             NaN   \n1124                               NaN            NaN             NaN   \n...                                ...            ...             ...   \n17073                              NaN            NaN             NaN   \n17896                              NaN            NaN             NaN   \n18161                              NaN            NaN             NaN   \n18708                              NaN            NaN             NaN   \n18710                              NaN            NaN             NaN   \n\n       Recettes Groupe I CA  Recettes Groupe II CA  Recettes Groupe III CA  \\\n330                    0.00              483995.45                56720.00   \n392              3096441.10               10006.27               120756.59   \n487              4803299.02              462314.65               231969.69   \n524              1269958.04                1262.78                23211.05   \n1124             1908845.62               10212.65                15154.95   \n...                     ...                    ...                     ...   \n17073             731166.80                   0.00                36153.30   \n17896            1275128.32               79193.39                66264.99   \n18161            5844217.12              130729.25               112495.90   \n18708             942872.64               27123.31                46103.94   \n18710             899414.05               32276.43                15736.56   \n\n       Dépenses Groupe I CA  Dépenses Groupe II CA  Dépenses Groupe III CA  \n330              -785012.46            -3570197.02              -910725.83  \n392              -493581.61            -1882766.61              -781653.61  \n487              -537314.79            -3929557.97              -910749.65  \n524               -92103.02             -896720.91              -180148.30  \n1124             -302875.59            -1457450.12              -172418.85  \n...                     ...                    ...                     ...  \n17073             -97963.23             -505819.50              -161264.87  \n17896            -175144.50             -818202.74              -377888.08  \n18161            -661838.72            -3691697.88             -1692954.33  \n18708            -106384.41             -771351.92              -155284.44  \n18710            -146559.89             -804012.71              -155653.78  \n\n[65 rows x 15 columns]",
      "text/html": "<div>\n<style scoped>\n    .dataframe tbody tr th:only-of-type {\n        vertical-align: middle;\n    }\n\n    .dataframe tbody tr th {\n        vertical-align: top;\n    }\n\n    .dataframe thead th {\n        text-align: right;\n    }\n</style>\n<table border=\"1\" class=\"dataframe\">\n  <thead>\n    <tr style=\"text-align: right;\">\n      <th></th>\n      <th>Finess EJ</th>\n      <th>Finess</th>\n      <th>Année</th>\n      <th>MS Résultat net comptable CA PH</th>\n      <th>Taux de CAF CA PH</th>\n      <th>Taux vétusté Construction CA</th>\n      <th>MS Résultat net comptable CA PA</th>\n      <th>Charges CA PA</th>\n      <th>Produits CA PA</th>\n      <th>Recettes Groupe I CA</th>\n      <th>Recettes Groupe II CA</th>\n      <th>Recettes Groupe III CA</th>\n      <th>Dépenses Groupe I CA</th>\n      <th>Dépenses Groupe II CA</th>\n      <th>Dépenses Groupe III CA</th>\n    </tr>\n  </thead>\n  <tbody>\n    <tr>\n      <th>330</th>\n      <td>030000665</td>\n      <td>030785844</td>\n      <td>2020</td>\n      <td>-4725219.86</td>\n      <td>-8.025350</td>\n      <td>8.370917</td>\n      <td>NaN</td>\n      <td>NaN</td>\n      <td>NaN</td>\n      <td>0.00</td>\n      <td>483995.45</td>\n      <td>56720.00</td>\n      <td>-785012.46</td>\n      <td>-3570197.02</td>\n      <td>-910725.83</td>\n    </tr>\n    <tr>\n      <th>392</th>\n      <td>030007801</td>\n      <td>780690038</td>\n      <td>2020</td>\n      <td>69202.13</td>\n      <td>0.197519</td>\n      <td>5.188913</td>\n      <td>NaN</td>\n      <td>NaN</td>\n      <td>NaN</td>\n      <td>3096441.10</td>\n      <td>10006.27</td>\n      <td>120756.59</td>\n      <td>-493581.61</td>\n      <td>-1882766.61</td>\n      <td>-781653.61</td>\n    </tr>\n    <tr>\n      <th>487</th>\n      <td>060002094</td>\n      <td>060791712</td>\n      <td>2020</td>\n      <td>119960.95</td>\n      <td>0.121229</td>\n      <td>5.918179</td>\n      <td>NaN</td>\n      <td>NaN</td>\n      <td>NaN</td>\n      <td>4803299.02</td>\n      <td>462314.65</td>\n      <td>231969.69</td>\n      <td>-537314.79</td>\n      <td>-3929557.97</td>\n      <td>-910749.65</td>\n    </tr>\n    <tr>\n      <th>524</th>\n      <td>060020443</td>\n      <td>060014438</td>\n      <td>2020</td>\n      <td>125459.64</td>\n      <td>0.128359</td>\n      <td>10.402527</td>\n      <td>NaN</td>\n      <td>NaN</td>\n      <td>NaN</td>\n      <td>1269958.04</td>\n      <td>1262.78</td>\n      <td>23211.05</td>\n      <td>-92103.02</td>\n      <td>-896720.91</td>\n      <td>-180148.30</td>\n    </tr>\n    <tr>\n      <th>1124</th>\n      <td>110786100</td>\n      <td>110002854</td>\n      <td>2018</td>\n      <td>1468.66</td>\n      <td>0.018955</td>\n      <td>1.241304</td>\n      <td>NaN</td>\n      <td>NaN</td>\n      <td>NaN</td>\n      <td>1908845.62</td>\n      <td>10212.65</td>\n      <td>15154.95</td>\n      <td>-302875.59</td>\n      <td>-1457450.12</td>\n      <td>-172418.85</td>\n    </tr>\n    <tr>\n      <th>...</th>\n      <td>...</td>\n      <td>...</td>\n      <td>...</td>\n      <td>...</td>\n      <td>...</td>\n      <td>...</td>\n      <td>...</td>\n      <td>...</td>\n      <td>...</td>\n      <td>...</td>\n      <td>...</td>\n      <td>...</td>\n      <td>...</td>\n      <td>...</td>\n      <td>...</td>\n    </tr>\n    <tr>\n      <th>17073</th>\n      <td>870008984</td>\n      <td>870005683</td>\n      <td>2018</td>\n      <td>2272.50</td>\n      <td>0.046536</td>\n      <td>1.362541</td>\n      <td>NaN</td>\n      <td>NaN</td>\n      <td>NaN</td>\n      <td>731166.80</td>\n      <td>0.00</td>\n      <td>36153.30</td>\n      <td>-97963.23</td>\n      <td>-505819.50</td>\n      <td>-161264.87</td>\n    </tr>\n    <tr>\n      <th>17896</th>\n      <td>920800976</td>\n      <td>920813755</td>\n      <td>2018</td>\n      <td>49351.38</td>\n      <td>0.181000</td>\n      <td>17.924093</td>\n      <td>NaN</td>\n      <td>NaN</td>\n      <td>NaN</td>\n      <td>1275128.32</td>\n      <td>79193.39</td>\n      <td>66264.99</td>\n      <td>-175144.50</td>\n      <td>-818202.74</td>\n      <td>-377888.08</td>\n    </tr>\n    <tr>\n      <th>18161</th>\n      <td>930019484</td>\n      <td>590805313</td>\n      <td>2020</td>\n      <td>40951.34</td>\n      <td>0.023087</td>\n      <td>1.062912</td>\n      <td>NaN</td>\n      <td>NaN</td>\n      <td>NaN</td>\n      <td>5844217.12</td>\n      <td>130729.25</td>\n      <td>112495.90</td>\n      <td>-661838.72</td>\n      <td>-3691697.88</td>\n      <td>-1692954.33</td>\n    </tr>\n    <tr>\n      <th>18708</th>\n      <td>950016402</td>\n      <td>950001792</td>\n      <td>2020</td>\n      <td>-16920.88</td>\n      <td>-0.024660</td>\n      <td>8.715567</td>\n      <td>NaN</td>\n      <td>NaN</td>\n      <td>NaN</td>\n      <td>942872.64</td>\n      <td>27123.31</td>\n      <td>46103.94</td>\n      <td>-106384.41</td>\n      <td>-771351.92</td>\n      <td>-155284.44</td>\n    </tr>\n    <tr>\n      <th>18710</th>\n      <td>950016402</td>\n      <td>950001792</td>\n      <td>2018</td>\n      <td>-158799.34</td>\n      <td>-0.120750</td>\n      <td>14.161033</td>\n      <td>NaN</td>\n      <td>NaN</td>\n      <td>NaN</td>\n      <td>899414.05</td>\n      <td>32276.43</td>\n      <td>15736.56</td>\n      <td>-146559.89</td>\n      <td>-804012.71</td>\n      <td>-155653.78</td>\n    </tr>\n  </tbody>\n</table>\n<p>65 rows × 15 columns</p>\n</div>"
     },
     "execution_count": 216,
     "metadata": {},
     "output_type": "execute_result"
    }
   ],
   "source": [
    "ann_ca_ej_et[a_une_vétusté_sup_à_1]"
   ],
   "metadata": {
    "collapsed": false,
    "pycharm": {
     "name": "#%%\n"
    }
   }
  },
  {
   "cell_type": "markdown",
   "source": [
    "Que fait-on de taux non compris entre 0 et 1 ?"
   ],
   "metadata": {
    "collapsed": false
   }
  },
  {
   "cell_type": "markdown",
   "source": [
    "### Taux de CAF"
   ],
   "metadata": {
    "collapsed": false,
    "pycharm": {
     "name": "#%% md\n"
    }
   }
  },
  {
   "cell_type": "markdown",
   "source": [
    "Question pour Nicolas : quelles sont les valeurs normales ?"
   ],
   "metadata": {
    "collapsed": false,
    "pycharm": {
     "name": "#%% md\n"
    }
   }
  },
  {
   "cell_type": "code",
   "execution_count": 217,
   "outputs": [
    {
     "data": {
      "text/plain": "3040"
     },
     "execution_count": 217,
     "metadata": {},
     "output_type": "execute_result"
    }
   ],
   "source": [
    "a_une_caf_négative = ann_ca_ej_et['Taux de CAF CA PH'] < 0\n",
    "(a_une_caf_négative).sum()"
   ],
   "metadata": {
    "collapsed": false,
    "pycharm": {
     "name": "#%%\n"
    }
   }
  },
  {
   "cell_type": "code",
   "execution_count": 218,
   "outputs": [
    {
     "data": {
      "text/plain": "       Finess EJ     Finess  Année  MS Résultat net comptable CA PH  \\\n0      010000255  010008183   2018                        -38103.17   \n23     010012532  010787752   2018                        -33653.80   \n25     010012532  010788891   2019                         -5643.89   \n41     010787109  010008928   2020                         -6771.70   \n48     010787109  010787778   2019                         -6968.57   \n...          ...        ...    ...                              ...   \n18994  970405270  970408423   2020                        -11109.74   \n18997  970405270  970409009   2019                        -14583.06   \n18998  970405270  970409009   2018                        -19236.27   \n19007  970411005  970408480   2020                          -737.57   \n19010  970430898  970405320   2018                        -89565.95   \n\n       Taux de CAF CA PH  Taux vétusté Construction CA  \\\n0              -0.015592                           NaN   \n23             -0.029547                           NaN   \n25             -0.000858                           NaN   \n41             -0.018703                           NaN   \n48             -0.021296                           NaN   \n...                  ...                           ...   \n18994          -0.017905                           NaN   \n18997          -0.014963                           NaN   \n18998          -0.026743                           NaN   \n19007          -0.003672                           NaN   \n19010          -0.001362                           NaN   \n\n       MS Résultat net comptable CA PA  Charges CA PA  Produits CA PA  \\\n0                                  NaN            NaN             NaN   \n23                                 NaN            NaN             NaN   \n25                                 NaN            NaN             NaN   \n41                                 NaN            NaN             NaN   \n48                                 NaN            NaN             NaN   \n...                                ...            ...             ...   \n18994                              NaN            NaN             NaN   \n18997                              NaN            NaN             NaN   \n18998                              NaN            NaN             NaN   \n19007                              NaN            NaN             NaN   \n19010                              NaN            NaN             NaN   \n\n       Recettes Groupe I CA  Recettes Groupe II CA  Recettes Groupe III CA  \\\n0                 785679.66                   0.00                10237.09   \n23                701845.64                6590.83                18361.94   \n25                428646.72                   0.49                10134.92   \n41                290668.78                   0.01                    0.00   \n48                300095.08                   0.00                    0.00   \n...                     ...                    ...                     ...   \n18994             414348.00                6770.77                  164.29   \n18997             508499.36                   0.66                    0.77   \n18998             406626.22                   5.22                    8.39   \n19007             200847.58                   0.00                33420.00   \n19010             766711.05                1681.00                74941.00   \n\n       Dépenses Groupe I CA  Dépenses Groupe II CA  Dépenses Groupe III CA  \n0                 -34324.46             -713409.63               -86285.83  \n23               -218972.64             -477111.11               -64368.46  \n25                -36285.19             -391505.28               -16635.55  \n41                -14272.67             -232665.72               -50502.10  \n48                -20597.22             -240043.16               -46423.27  \n...                     ...                    ...                     ...  \n18994             -17074.27             -352182.54               -63135.99  \n18997             -41718.79             -386528.84               -94836.22  \n18998              -2009.68             -328313.55               -95552.87  \n19007                  0.00             -235005.15                    0.00  \n19010            -224387.00             -573180.00              -135332.00  \n\n[3040 rows x 15 columns]",
      "text/html": "<div>\n<style scoped>\n    .dataframe tbody tr th:only-of-type {\n        vertical-align: middle;\n    }\n\n    .dataframe tbody tr th {\n        vertical-align: top;\n    }\n\n    .dataframe thead th {\n        text-align: right;\n    }\n</style>\n<table border=\"1\" class=\"dataframe\">\n  <thead>\n    <tr style=\"text-align: right;\">\n      <th></th>\n      <th>Finess EJ</th>\n      <th>Finess</th>\n      <th>Année</th>\n      <th>MS Résultat net comptable CA PH</th>\n      <th>Taux de CAF CA PH</th>\n      <th>Taux vétusté Construction CA</th>\n      <th>MS Résultat net comptable CA PA</th>\n      <th>Charges CA PA</th>\n      <th>Produits CA PA</th>\n      <th>Recettes Groupe I CA</th>\n      <th>Recettes Groupe II CA</th>\n      <th>Recettes Groupe III CA</th>\n      <th>Dépenses Groupe I CA</th>\n      <th>Dépenses Groupe II CA</th>\n      <th>Dépenses Groupe III CA</th>\n    </tr>\n  </thead>\n  <tbody>\n    <tr>\n      <th>0</th>\n      <td>010000255</td>\n      <td>010008183</td>\n      <td>2018</td>\n      <td>-38103.17</td>\n      <td>-0.015592</td>\n      <td>NaN</td>\n      <td>NaN</td>\n      <td>NaN</td>\n      <td>NaN</td>\n      <td>785679.66</td>\n      <td>0.00</td>\n      <td>10237.09</td>\n      <td>-34324.46</td>\n      <td>-713409.63</td>\n      <td>-86285.83</td>\n    </tr>\n    <tr>\n      <th>23</th>\n      <td>010012532</td>\n      <td>010787752</td>\n      <td>2018</td>\n      <td>-33653.80</td>\n      <td>-0.029547</td>\n      <td>NaN</td>\n      <td>NaN</td>\n      <td>NaN</td>\n      <td>NaN</td>\n      <td>701845.64</td>\n      <td>6590.83</td>\n      <td>18361.94</td>\n      <td>-218972.64</td>\n      <td>-477111.11</td>\n      <td>-64368.46</td>\n    </tr>\n    <tr>\n      <th>25</th>\n      <td>010012532</td>\n      <td>010788891</td>\n      <td>2019</td>\n      <td>-5643.89</td>\n      <td>-0.000858</td>\n      <td>NaN</td>\n      <td>NaN</td>\n      <td>NaN</td>\n      <td>NaN</td>\n      <td>428646.72</td>\n      <td>0.49</td>\n      <td>10134.92</td>\n      <td>-36285.19</td>\n      <td>-391505.28</td>\n      <td>-16635.55</td>\n    </tr>\n    <tr>\n      <th>41</th>\n      <td>010787109</td>\n      <td>010008928</td>\n      <td>2020</td>\n      <td>-6771.70</td>\n      <td>-0.018703</td>\n      <td>NaN</td>\n      <td>NaN</td>\n      <td>NaN</td>\n      <td>NaN</td>\n      <td>290668.78</td>\n      <td>0.01</td>\n      <td>0.00</td>\n      <td>-14272.67</td>\n      <td>-232665.72</td>\n      <td>-50502.10</td>\n    </tr>\n    <tr>\n      <th>48</th>\n      <td>010787109</td>\n      <td>010787778</td>\n      <td>2019</td>\n      <td>-6968.57</td>\n      <td>-0.021296</td>\n      <td>NaN</td>\n      <td>NaN</td>\n      <td>NaN</td>\n      <td>NaN</td>\n      <td>300095.08</td>\n      <td>0.00</td>\n      <td>0.00</td>\n      <td>-20597.22</td>\n      <td>-240043.16</td>\n      <td>-46423.27</td>\n    </tr>\n    <tr>\n      <th>...</th>\n      <td>...</td>\n      <td>...</td>\n      <td>...</td>\n      <td>...</td>\n      <td>...</td>\n      <td>...</td>\n      <td>...</td>\n      <td>...</td>\n      <td>...</td>\n      <td>...</td>\n      <td>...</td>\n      <td>...</td>\n      <td>...</td>\n      <td>...</td>\n      <td>...</td>\n    </tr>\n    <tr>\n      <th>18994</th>\n      <td>970405270</td>\n      <td>970408423</td>\n      <td>2020</td>\n      <td>-11109.74</td>\n      <td>-0.017905</td>\n      <td>NaN</td>\n      <td>NaN</td>\n      <td>NaN</td>\n      <td>NaN</td>\n      <td>414348.00</td>\n      <td>6770.77</td>\n      <td>164.29</td>\n      <td>-17074.27</td>\n      <td>-352182.54</td>\n      <td>-63135.99</td>\n    </tr>\n    <tr>\n      <th>18997</th>\n      <td>970405270</td>\n      <td>970409009</td>\n      <td>2019</td>\n      <td>-14583.06</td>\n      <td>-0.014963</td>\n      <td>NaN</td>\n      <td>NaN</td>\n      <td>NaN</td>\n      <td>NaN</td>\n      <td>508499.36</td>\n      <td>0.66</td>\n      <td>0.77</td>\n      <td>-41718.79</td>\n      <td>-386528.84</td>\n      <td>-94836.22</td>\n    </tr>\n    <tr>\n      <th>18998</th>\n      <td>970405270</td>\n      <td>970409009</td>\n      <td>2018</td>\n      <td>-19236.27</td>\n      <td>-0.026743</td>\n      <td>NaN</td>\n      <td>NaN</td>\n      <td>NaN</td>\n      <td>NaN</td>\n      <td>406626.22</td>\n      <td>5.22</td>\n      <td>8.39</td>\n      <td>-2009.68</td>\n      <td>-328313.55</td>\n      <td>-95552.87</td>\n    </tr>\n    <tr>\n      <th>19007</th>\n      <td>970411005</td>\n      <td>970408480</td>\n      <td>2020</td>\n      <td>-737.57</td>\n      <td>-0.003672</td>\n      <td>NaN</td>\n      <td>NaN</td>\n      <td>NaN</td>\n      <td>NaN</td>\n      <td>200847.58</td>\n      <td>0.00</td>\n      <td>33420.00</td>\n      <td>0.00</td>\n      <td>-235005.15</td>\n      <td>0.00</td>\n    </tr>\n    <tr>\n      <th>19010</th>\n      <td>970430898</td>\n      <td>970405320</td>\n      <td>2018</td>\n      <td>-89565.95</td>\n      <td>-0.001362</td>\n      <td>NaN</td>\n      <td>NaN</td>\n      <td>NaN</td>\n      <td>NaN</td>\n      <td>766711.05</td>\n      <td>1681.00</td>\n      <td>74941.00</td>\n      <td>-224387.00</td>\n      <td>-573180.00</td>\n      <td>-135332.00</td>\n    </tr>\n  </tbody>\n</table>\n<p>3040 rows × 15 columns</p>\n</div>"
     },
     "execution_count": 218,
     "metadata": {},
     "output_type": "execute_result"
    }
   ],
   "source": [
    "ann_ca_ej_et[a_une_caf_négative]"
   ],
   "metadata": {
    "collapsed": false,
    "pycharm": {
     "name": "#%%\n"
    }
   }
  },
  {
   "cell_type": "code",
   "execution_count": 219,
   "outputs": [
    {
     "data": {
      "text/plain": "11"
     },
     "execution_count": 219,
     "metadata": {},
     "output_type": "execute_result"
    }
   ],
   "source": [
    "a_une_caf_sup_à_1 = ann_ca_ej_et['Taux de CAF CA PH'] > 1\n",
    "(a_une_caf_sup_à_1).sum()"
   ],
   "metadata": {
    "collapsed": false,
    "pycharm": {
     "name": "#%%\n"
    }
   }
  },
  {
   "cell_type": "code",
   "execution_count": 220,
   "outputs": [
    {
     "data": {
      "text/plain": "       Finess EJ     Finess  Année  MS Résultat net comptable CA PH  \\\n122    020005211  020004552   2018                          7711.55   \n1237   120002548  120002589   2019                        210550.46   \n1777   130804115  040789026   2020                      -1499597.00   \n2226   150783041  150000768   2020                       -452800.29   \n2229   150783041  150782936   2020                       -489673.70   \n3995   300000759  300780574   2020                      -1936613.30   \n4167   310000294  310780655   2020                      -4523602.16   \n4310   310024419  810099994   2020                      -1491263.42   \n10323  620001958  620030627   2020                       -487408.95   \n11577  670794163  670780295   2020                      -4189650.70   \n11677  680000023  680017357   2020                       -811996.03   \n\n       Taux de CAF CA PH  Taux vétusté Construction CA  \\\n122            44.226509                           NaN   \n1237            1.022592                           NaN   \n1777          185.387929                      0.333692   \n2226          185.402986                           NaN   \n2229           91.143005                           NaN   \n3995          361.169672                      0.125668   \n4167          175.869783                      0.336210   \n4310           45.374471                      0.944114   \n10323         263.369058                           NaN   \n11577           6.246640                      0.425586   \n11677           3.830539                      0.555583   \n\n       MS Résultat net comptable CA PA  Charges CA PA  Produits CA PA  \\\n122                                NaN            NaN             NaN   \n1237                               NaN            NaN             NaN   \n1777                               NaN            NaN             NaN   \n2226                               NaN            NaN             NaN   \n2229                               NaN            NaN             NaN   \n3995                               NaN            NaN             NaN   \n4167                               NaN            NaN             NaN   \n4310                               NaN            NaN             NaN   \n10323                              NaN            NaN             NaN   \n11577                              NaN            NaN             NaN   \n11677                              NaN            NaN             NaN   \n\n       Recettes Groupe I CA  Recettes Groupe II CA  Recettes Groupe III CA  \\\n122                    0.00                   0.00                39790.82   \n1237              211533.86                4305.00                 4981.00   \n1777                   0.00                 230.47               164206.86   \n2226                   0.00                6088.79                    0.00   \n2229                   0.00                2674.57                 7907.64   \n3995                   0.00               13478.57               112440.35   \n4167                   0.00               22448.14               116275.85   \n4310                   0.00               22733.49                68204.42   \n10323                  0.00                   0.00                 7885.96   \n11577            2583015.70               39134.86               158167.36   \n11677             419191.80               17328.20                16653.17   \n\n       Dépenses Groupe I CA  Dépenses Groupe II CA  Dépenses Groupe III CA  \n122                 -882.13              -30330.66                 -866.48  \n1237                   0.00               -1580.00                -8689.40  \n1777              -78193.52            -1230499.30              -355341.51  \n2226              -73224.50             -308386.88               -77277.70  \n2229              -93610.90             -327905.43               -78739.58  \n3995             -163999.44            -1377053.73              -521479.05  \n4167             -698229.08            -3250356.23              -713740.84  \n4310             -195858.52            -1074487.12              -311855.69  \n10323             -37507.87             -400631.67               -57155.37  \n11577            -467819.85            -1913312.72             -4588836.05  \n11677             -50378.80             -274517.41              -940272.99  ",
      "text/html": "<div>\n<style scoped>\n    .dataframe tbody tr th:only-of-type {\n        vertical-align: middle;\n    }\n\n    .dataframe tbody tr th {\n        vertical-align: top;\n    }\n\n    .dataframe thead th {\n        text-align: right;\n    }\n</style>\n<table border=\"1\" class=\"dataframe\">\n  <thead>\n    <tr style=\"text-align: right;\">\n      <th></th>\n      <th>Finess EJ</th>\n      <th>Finess</th>\n      <th>Année</th>\n      <th>MS Résultat net comptable CA PH</th>\n      <th>Taux de CAF CA PH</th>\n      <th>Taux vétusté Construction CA</th>\n      <th>MS Résultat net comptable CA PA</th>\n      <th>Charges CA PA</th>\n      <th>Produits CA PA</th>\n      <th>Recettes Groupe I CA</th>\n      <th>Recettes Groupe II CA</th>\n      <th>Recettes Groupe III CA</th>\n      <th>Dépenses Groupe I CA</th>\n      <th>Dépenses Groupe II CA</th>\n      <th>Dépenses Groupe III CA</th>\n    </tr>\n  </thead>\n  <tbody>\n    <tr>\n      <th>122</th>\n      <td>020005211</td>\n      <td>020004552</td>\n      <td>2018</td>\n      <td>7711.55</td>\n      <td>44.226509</td>\n      <td>NaN</td>\n      <td>NaN</td>\n      <td>NaN</td>\n      <td>NaN</td>\n      <td>0.00</td>\n      <td>0.00</td>\n      <td>39790.82</td>\n      <td>-882.13</td>\n      <td>-30330.66</td>\n      <td>-866.48</td>\n    </tr>\n    <tr>\n      <th>1237</th>\n      <td>120002548</td>\n      <td>120002589</td>\n      <td>2019</td>\n      <td>210550.46</td>\n      <td>1.022592</td>\n      <td>NaN</td>\n      <td>NaN</td>\n      <td>NaN</td>\n      <td>NaN</td>\n      <td>211533.86</td>\n      <td>4305.00</td>\n      <td>4981.00</td>\n      <td>0.00</td>\n      <td>-1580.00</td>\n      <td>-8689.40</td>\n    </tr>\n    <tr>\n      <th>1777</th>\n      <td>130804115</td>\n      <td>040789026</td>\n      <td>2020</td>\n      <td>-1499597.00</td>\n      <td>185.387929</td>\n      <td>0.333692</td>\n      <td>NaN</td>\n      <td>NaN</td>\n      <td>NaN</td>\n      <td>0.00</td>\n      <td>230.47</td>\n      <td>164206.86</td>\n      <td>-78193.52</td>\n      <td>-1230499.30</td>\n      <td>-355341.51</td>\n    </tr>\n    <tr>\n      <th>2226</th>\n      <td>150783041</td>\n      <td>150000768</td>\n      <td>2020</td>\n      <td>-452800.29</td>\n      <td>185.402986</td>\n      <td>NaN</td>\n      <td>NaN</td>\n      <td>NaN</td>\n      <td>NaN</td>\n      <td>0.00</td>\n      <td>6088.79</td>\n      <td>0.00</td>\n      <td>-73224.50</td>\n      <td>-308386.88</td>\n      <td>-77277.70</td>\n    </tr>\n    <tr>\n      <th>2229</th>\n      <td>150783041</td>\n      <td>150782936</td>\n      <td>2020</td>\n      <td>-489673.70</td>\n      <td>91.143005</td>\n      <td>NaN</td>\n      <td>NaN</td>\n      <td>NaN</td>\n      <td>NaN</td>\n      <td>0.00</td>\n      <td>2674.57</td>\n      <td>7907.64</td>\n      <td>-93610.90</td>\n      <td>-327905.43</td>\n      <td>-78739.58</td>\n    </tr>\n    <tr>\n      <th>3995</th>\n      <td>300000759</td>\n      <td>300780574</td>\n      <td>2020</td>\n      <td>-1936613.30</td>\n      <td>361.169672</td>\n      <td>0.125668</td>\n      <td>NaN</td>\n      <td>NaN</td>\n      <td>NaN</td>\n      <td>0.00</td>\n      <td>13478.57</td>\n      <td>112440.35</td>\n      <td>-163999.44</td>\n      <td>-1377053.73</td>\n      <td>-521479.05</td>\n    </tr>\n    <tr>\n      <th>4167</th>\n      <td>310000294</td>\n      <td>310780655</td>\n      <td>2020</td>\n      <td>-4523602.16</td>\n      <td>175.869783</td>\n      <td>0.336210</td>\n      <td>NaN</td>\n      <td>NaN</td>\n      <td>NaN</td>\n      <td>0.00</td>\n      <td>22448.14</td>\n      <td>116275.85</td>\n      <td>-698229.08</td>\n      <td>-3250356.23</td>\n      <td>-713740.84</td>\n    </tr>\n    <tr>\n      <th>4310</th>\n      <td>310024419</td>\n      <td>810099994</td>\n      <td>2020</td>\n      <td>-1491263.42</td>\n      <td>45.374471</td>\n      <td>0.944114</td>\n      <td>NaN</td>\n      <td>NaN</td>\n      <td>NaN</td>\n      <td>0.00</td>\n      <td>22733.49</td>\n      <td>68204.42</td>\n      <td>-195858.52</td>\n      <td>-1074487.12</td>\n      <td>-311855.69</td>\n    </tr>\n    <tr>\n      <th>10323</th>\n      <td>620001958</td>\n      <td>620030627</td>\n      <td>2020</td>\n      <td>-487408.95</td>\n      <td>263.369058</td>\n      <td>NaN</td>\n      <td>NaN</td>\n      <td>NaN</td>\n      <td>NaN</td>\n      <td>0.00</td>\n      <td>0.00</td>\n      <td>7885.96</td>\n      <td>-37507.87</td>\n      <td>-400631.67</td>\n      <td>-57155.37</td>\n    </tr>\n    <tr>\n      <th>11577</th>\n      <td>670794163</td>\n      <td>670780295</td>\n      <td>2020</td>\n      <td>-4189650.70</td>\n      <td>6.246640</td>\n      <td>0.425586</td>\n      <td>NaN</td>\n      <td>NaN</td>\n      <td>NaN</td>\n      <td>2583015.70</td>\n      <td>39134.86</td>\n      <td>158167.36</td>\n      <td>-467819.85</td>\n      <td>-1913312.72</td>\n      <td>-4588836.05</td>\n    </tr>\n    <tr>\n      <th>11677</th>\n      <td>680000023</td>\n      <td>680017357</td>\n      <td>2020</td>\n      <td>-811996.03</td>\n      <td>3.830539</td>\n      <td>0.555583</td>\n      <td>NaN</td>\n      <td>NaN</td>\n      <td>NaN</td>\n      <td>419191.80</td>\n      <td>17328.20</td>\n      <td>16653.17</td>\n      <td>-50378.80</td>\n      <td>-274517.41</td>\n      <td>-940272.99</td>\n    </tr>\n  </tbody>\n</table>\n</div>"
     },
     "execution_count": 220,
     "metadata": {},
     "output_type": "execute_result"
    }
   ],
   "source": [
    "ann_ca_ej_et[a_une_caf_sup_à_1]"
   ],
   "metadata": {
    "collapsed": false,
    "pycharm": {
     "name": "#%%\n"
    }
   }
  },
  {
   "cell_type": "markdown",
   "source": [
    "Beaucoup de taux de CAF négatifs."
   ],
   "metadata": {
    "collapsed": false
   }
  },
  {
   "cell_type": "markdown",
   "source": [
    "### Stats descriptives\n"
   ],
   "metadata": {
    "collapsed": false
   }
  },
  {
   "cell_type": "code",
   "execution_count": 221,
   "outputs": [
    {
     "data": {
      "text/plain": "              Année  MS Résultat net comptable CA PH  Taux de CAF CA PH  \\\ncount  19028.000000                     1.827600e+04       18209.000000   \nmean    2018.851114                     2.230555e+04          -2.494019   \nstd        0.809597                     1.938460e+05         218.865181   \nmin     2018.000000                    -5.665613e+06      -28409.095608   \n25%     2018.000000                    -8.187223e+03           0.018559   \n50%     2019.000000                     1.268067e+04           0.064024   \n75%     2020.000000                     5.597747e+04           0.115774   \nmax     2020.000000                     3.636436e+06         361.169672   \n\n       Taux vétusté Construction CA  MS Résultat net comptable CA PA  \\\ncount                   4051.000000                     7.540000e+02   \nmean                       0.869589                     5.506956e+03   \nstd                        7.444944                     7.231931e+04   \nmin                     -121.917079                    -7.851738e+05   \n25%                        0.363371                    -9.141040e+03   \n50%                        0.568211                     2.372810e+03   \n75%                        0.772616                     2.448438e+04   \nmax                      301.808836                     1.023928e+06   \n\n       Charges CA PA  Produits CA PA  Recettes Groupe I CA  \\\ncount   7.540000e+02    7.540000e+02          1.827600e+04   \nmean   -5.107468e+05    5.162537e+05          1.405845e+06   \nstd     6.387519e+05    6.570112e+05          1.453386e+06   \nmin    -8.549627e+06    0.000000e+00          0.000000e+00   \n25%    -6.493355e+05    1.772301e+05          4.560638e+05   \n50%    -3.124567e+05    3.139139e+05          9.094240e+05   \n75%    -1.695768e+05    6.423454e+05          1.823702e+06   \nmax     0.000000e+00    9.573555e+06          1.970953e+07   \n\n       Recettes Groupe II CA  Recettes Groupe III CA  Dépenses Groupe I CA  \\\ncount           1.827600e+04            1.827600e+04          1.827600e+04   \nmean            6.884288e+04            4.484964e+04         -1.942875e+05   \nstd             1.973031e+05            1.093338e+05          2.631222e+05   \nmin            -2.415432e+05           -1.198798e+05         -3.158491e+06   \n25%             1.209878e+03            1.279383e+03         -2.594815e+05   \n50%             1.372756e+04            1.223981e+04         -8.903710e+04   \n75%             5.799718e+04            4.660344e+04         -3.022374e+04   \nmax             5.537523e+06            4.128178e+06          1.342499e+04   \n\n       Dépenses Groupe II CA  Dépenses Groupe III CA  \ncount           1.827600e+04            1.827600e+04  \nmean           -1.069297e+06           -2.336473e+05  \nstd             1.077130e+06            3.025958e+05  \nmin            -1.397617e+07           -4.810723e+06  \n25%            -1.391245e+06           -3.116372e+05  \n50%            -7.159256e+05           -1.202111e+05  \n75%            -3.714305e+05           -4.358241e+04  \nmax             0.000000e+00            5.507588e+04  ",
      "text/html": "<div>\n<style scoped>\n    .dataframe tbody tr th:only-of-type {\n        vertical-align: middle;\n    }\n\n    .dataframe tbody tr th {\n        vertical-align: top;\n    }\n\n    .dataframe thead th {\n        text-align: right;\n    }\n</style>\n<table border=\"1\" class=\"dataframe\">\n  <thead>\n    <tr style=\"text-align: right;\">\n      <th></th>\n      <th>Année</th>\n      <th>MS Résultat net comptable CA PH</th>\n      <th>Taux de CAF CA PH</th>\n      <th>Taux vétusté Construction CA</th>\n      <th>MS Résultat net comptable CA PA</th>\n      <th>Charges CA PA</th>\n      <th>Produits CA PA</th>\n      <th>Recettes Groupe I CA</th>\n      <th>Recettes Groupe II CA</th>\n      <th>Recettes Groupe III CA</th>\n      <th>Dépenses Groupe I CA</th>\n      <th>Dépenses Groupe II CA</th>\n      <th>Dépenses Groupe III CA</th>\n    </tr>\n  </thead>\n  <tbody>\n    <tr>\n      <th>count</th>\n      <td>19028.000000</td>\n      <td>1.827600e+04</td>\n      <td>18209.000000</td>\n      <td>4051.000000</td>\n      <td>7.540000e+02</td>\n      <td>7.540000e+02</td>\n      <td>7.540000e+02</td>\n      <td>1.827600e+04</td>\n      <td>1.827600e+04</td>\n      <td>1.827600e+04</td>\n      <td>1.827600e+04</td>\n      <td>1.827600e+04</td>\n      <td>1.827600e+04</td>\n    </tr>\n    <tr>\n      <th>mean</th>\n      <td>2018.851114</td>\n      <td>2.230555e+04</td>\n      <td>-2.494019</td>\n      <td>0.869589</td>\n      <td>5.506956e+03</td>\n      <td>-5.107468e+05</td>\n      <td>5.162537e+05</td>\n      <td>1.405845e+06</td>\n      <td>6.884288e+04</td>\n      <td>4.484964e+04</td>\n      <td>-1.942875e+05</td>\n      <td>-1.069297e+06</td>\n      <td>-2.336473e+05</td>\n    </tr>\n    <tr>\n      <th>std</th>\n      <td>0.809597</td>\n      <td>1.938460e+05</td>\n      <td>218.865181</td>\n      <td>7.444944</td>\n      <td>7.231931e+04</td>\n      <td>6.387519e+05</td>\n      <td>6.570112e+05</td>\n      <td>1.453386e+06</td>\n      <td>1.973031e+05</td>\n      <td>1.093338e+05</td>\n      <td>2.631222e+05</td>\n      <td>1.077130e+06</td>\n      <td>3.025958e+05</td>\n    </tr>\n    <tr>\n      <th>min</th>\n      <td>2018.000000</td>\n      <td>-5.665613e+06</td>\n      <td>-28409.095608</td>\n      <td>-121.917079</td>\n      <td>-7.851738e+05</td>\n      <td>-8.549627e+06</td>\n      <td>0.000000e+00</td>\n      <td>0.000000e+00</td>\n      <td>-2.415432e+05</td>\n      <td>-1.198798e+05</td>\n      <td>-3.158491e+06</td>\n      <td>-1.397617e+07</td>\n      <td>-4.810723e+06</td>\n    </tr>\n    <tr>\n      <th>25%</th>\n      <td>2018.000000</td>\n      <td>-8.187223e+03</td>\n      <td>0.018559</td>\n      <td>0.363371</td>\n      <td>-9.141040e+03</td>\n      <td>-6.493355e+05</td>\n      <td>1.772301e+05</td>\n      <td>4.560638e+05</td>\n      <td>1.209878e+03</td>\n      <td>1.279383e+03</td>\n      <td>-2.594815e+05</td>\n      <td>-1.391245e+06</td>\n      <td>-3.116372e+05</td>\n    </tr>\n    <tr>\n      <th>50%</th>\n      <td>2019.000000</td>\n      <td>1.268067e+04</td>\n      <td>0.064024</td>\n      <td>0.568211</td>\n      <td>2.372810e+03</td>\n      <td>-3.124567e+05</td>\n      <td>3.139139e+05</td>\n      <td>9.094240e+05</td>\n      <td>1.372756e+04</td>\n      <td>1.223981e+04</td>\n      <td>-8.903710e+04</td>\n      <td>-7.159256e+05</td>\n      <td>-1.202111e+05</td>\n    </tr>\n    <tr>\n      <th>75%</th>\n      <td>2020.000000</td>\n      <td>5.597747e+04</td>\n      <td>0.115774</td>\n      <td>0.772616</td>\n      <td>2.448438e+04</td>\n      <td>-1.695768e+05</td>\n      <td>6.423454e+05</td>\n      <td>1.823702e+06</td>\n      <td>5.799718e+04</td>\n      <td>4.660344e+04</td>\n      <td>-3.022374e+04</td>\n      <td>-3.714305e+05</td>\n      <td>-4.358241e+04</td>\n    </tr>\n    <tr>\n      <th>max</th>\n      <td>2020.000000</td>\n      <td>3.636436e+06</td>\n      <td>361.169672</td>\n      <td>301.808836</td>\n      <td>1.023928e+06</td>\n      <td>0.000000e+00</td>\n      <td>9.573555e+06</td>\n      <td>1.970953e+07</td>\n      <td>5.537523e+06</td>\n      <td>4.128178e+06</td>\n      <td>1.342499e+04</td>\n      <td>0.000000e+00</td>\n      <td>5.507588e+04</td>\n    </tr>\n  </tbody>\n</table>\n</div>"
     },
     "execution_count": 221,
     "metadata": {},
     "output_type": "execute_result"
    }
   ],
   "source": [
    "ann_ca_ej_et.describe()\n"
   ],
   "metadata": {
    "collapsed": false,
    "pycharm": {
     "name": "#%%\n"
    }
   }
  },
  {
   "cell_type": "markdown",
   "source": [
    "## ANN_ERRD_EJ"
   ],
   "metadata": {
    "collapsed": false,
    "pycharm": {
     "name": "#%% md\n"
    }
   }
  },
  {
   "cell_type": "code",
   "execution_count": 234,
   "outputs": [
    {
     "data": {
      "text/plain": "       Finess EJ     Finess  Année  Taux de CAF CA PH  \\\n0      010009132  010001436   2020           0.197122   \n1      010009132  010001436   2019           0.066363   \n2      010009132  010001436   2018           0.104104   \n3      010780120  010788263   2018           0.112033   \n4      010783009  260004361   2020           0.081425   \n...          ...        ...    ...                ...   \n21504  970430898  970405320   2019           0.127921   \n21505  970430898  970405320   2018          -0.001362   \n21506  970430898  970405320   2018          -0.001362   \n21507  970430922  970462156   2020           0.109355   \n21508  970430922  970462156   2019           0.003807   \n\n       Taux vétusté Construction CA  Taux de CAF ERRD  \\\n0                          0.657887          0.054197   \n1                               NaN          0.060626   \n2                               NaN          0.079454   \n3                               NaN          0.061383   \n4                          0.506868          0.124806   \n...                             ...               ...   \n21504                           NaN          0.114065   \n21505                           NaN          0.094587   \n21506                           NaN          0.046756   \n21507                           NaN          0.142014   \n21508                           NaN          0.082444   \n\n       Taux vétusté Construction ERRD  \n0                                 NaN  \n1                                 NaN  \n2                                 NaN  \n3                                 NaN  \n4                                 NaN  \n...                               ...  \n21504                        0.421053  \n21505                        0.397879  \n21506                        0.265291  \n21507                             NaN  \n21508                             NaN  \n\n[21509 rows x 7 columns]",
      "text/html": "<div>\n<style scoped>\n    .dataframe tbody tr th:only-of-type {\n        vertical-align: middle;\n    }\n\n    .dataframe tbody tr th {\n        vertical-align: top;\n    }\n\n    .dataframe thead th {\n        text-align: right;\n    }\n</style>\n<table border=\"1\" class=\"dataframe\">\n  <thead>\n    <tr style=\"text-align: right;\">\n      <th></th>\n      <th>Finess EJ</th>\n      <th>Finess</th>\n      <th>Année</th>\n      <th>Taux de CAF CA PH</th>\n      <th>Taux vétusté Construction CA</th>\n      <th>Taux de CAF ERRD</th>\n      <th>Taux vétusté Construction ERRD</th>\n    </tr>\n  </thead>\n  <tbody>\n    <tr>\n      <th>0</th>\n      <td>010009132</td>\n      <td>010001436</td>\n      <td>2020</td>\n      <td>0.197122</td>\n      <td>0.657887</td>\n      <td>0.054197</td>\n      <td>NaN</td>\n    </tr>\n    <tr>\n      <th>1</th>\n      <td>010009132</td>\n      <td>010001436</td>\n      <td>2019</td>\n      <td>0.066363</td>\n      <td>NaN</td>\n      <td>0.060626</td>\n      <td>NaN</td>\n    </tr>\n    <tr>\n      <th>2</th>\n      <td>010009132</td>\n      <td>010001436</td>\n      <td>2018</td>\n      <td>0.104104</td>\n      <td>NaN</td>\n      <td>0.079454</td>\n      <td>NaN</td>\n    </tr>\n    <tr>\n      <th>3</th>\n      <td>010780120</td>\n      <td>010788263</td>\n      <td>2018</td>\n      <td>0.112033</td>\n      <td>NaN</td>\n      <td>0.061383</td>\n      <td>NaN</td>\n    </tr>\n    <tr>\n      <th>4</th>\n      <td>010783009</td>\n      <td>260004361</td>\n      <td>2020</td>\n      <td>0.081425</td>\n      <td>0.506868</td>\n      <td>0.124806</td>\n      <td>NaN</td>\n    </tr>\n    <tr>\n      <th>...</th>\n      <td>...</td>\n      <td>...</td>\n      <td>...</td>\n      <td>...</td>\n      <td>...</td>\n      <td>...</td>\n      <td>...</td>\n    </tr>\n    <tr>\n      <th>21504</th>\n      <td>970430898</td>\n      <td>970405320</td>\n      <td>2019</td>\n      <td>0.127921</td>\n      <td>NaN</td>\n      <td>0.114065</td>\n      <td>0.421053</td>\n    </tr>\n    <tr>\n      <th>21505</th>\n      <td>970430898</td>\n      <td>970405320</td>\n      <td>2018</td>\n      <td>-0.001362</td>\n      <td>NaN</td>\n      <td>0.094587</td>\n      <td>0.397879</td>\n    </tr>\n    <tr>\n      <th>21506</th>\n      <td>970430898</td>\n      <td>970405320</td>\n      <td>2018</td>\n      <td>-0.001362</td>\n      <td>NaN</td>\n      <td>0.046756</td>\n      <td>0.265291</td>\n    </tr>\n    <tr>\n      <th>21507</th>\n      <td>970430922</td>\n      <td>970462156</td>\n      <td>2020</td>\n      <td>0.109355</td>\n      <td>NaN</td>\n      <td>0.142014</td>\n      <td>NaN</td>\n    </tr>\n    <tr>\n      <th>21508</th>\n      <td>970430922</td>\n      <td>970462156</td>\n      <td>2019</td>\n      <td>0.003807</td>\n      <td>NaN</td>\n      <td>0.082444</td>\n      <td>NaN</td>\n    </tr>\n  </tbody>\n</table>\n<p>21509 rows × 7 columns</p>\n</div>"
     },
     "execution_count": 234,
     "metadata": {},
     "output_type": "execute_result"
    }
   ],
   "source": [
    "ann_ca_ej_et[['Finess EJ', 'Finess', 'Année','Taux de CAF CA PH', 'Taux vétusté Construction CA']].merge(\n",
    "    ann_errd_ej[['Finess EJ', 'Année','Taux de CAF ERRD', 'Taux vétusté Construction ERRD']]\n",
    ", on=['Finess EJ', 'Année'], how='inner')\n"
   ],
   "metadata": {
    "collapsed": false,
    "pycharm": {
     "name": "#%%\n"
    }
   }
  },
  {
   "cell_type": "markdown",
   "source": [
    "Quelle règle de gestion lorsqu'on a l'info des deux côtés ?"
   ],
   "metadata": {
    "collapsed": false,
    "pycharm": {
     "name": "#%% md\n"
    }
   }
  },
  {
   "cell_type": "markdown",
   "source": [
    "### Taux de vétusté"
   ],
   "metadata": {
    "collapsed": false,
    "pycharm": {
     "name": "#%% md\n"
    }
   }
  },
  {
   "cell_type": "code",
   "execution_count": 236,
   "outputs": [
    {
     "data": {
      "text/plain": "0"
     },
     "execution_count": 236,
     "metadata": {},
     "output_type": "execute_result"
    }
   ],
   "source": [
    "a_une_vétusté_négative = ann_errd_ej['Taux vétusté Construction ERRD'] < 0\n",
    "(a_une_vétusté_négative).sum()"
   ],
   "metadata": {
    "collapsed": false,
    "pycharm": {
     "name": "#%%\n"
    }
   }
  },
  {
   "cell_type": "code",
   "execution_count": 237,
   "outputs": [
    {
     "data": {
      "text/plain": "Empty DataFrame\nColumns: [Finess EJ, Année, Taux de CAF ERRD, Taux vétusté Construction ERRD]\nIndex: []",
      "text/html": "<div>\n<style scoped>\n    .dataframe tbody tr th:only-of-type {\n        vertical-align: middle;\n    }\n\n    .dataframe tbody tr th {\n        vertical-align: top;\n    }\n\n    .dataframe thead th {\n        text-align: right;\n    }\n</style>\n<table border=\"1\" class=\"dataframe\">\n  <thead>\n    <tr style=\"text-align: right;\">\n      <th></th>\n      <th>Finess EJ</th>\n      <th>Année</th>\n      <th>Taux de CAF ERRD</th>\n      <th>Taux vétusté Construction ERRD</th>\n    </tr>\n  </thead>\n  <tbody>\n  </tbody>\n</table>\n</div>"
     },
     "execution_count": 237,
     "metadata": {},
     "output_type": "execute_result"
    }
   ],
   "source": [
    "ann_errd_ej[a_une_vétusté_négative]"
   ],
   "metadata": {
    "collapsed": false,
    "pycharm": {
     "name": "#%%\n"
    }
   }
  },
  {
   "cell_type": "code",
   "execution_count": 238,
   "outputs": [
    {
     "data": {
      "text/plain": "181"
     },
     "execution_count": 238,
     "metadata": {},
     "output_type": "execute_result"
    }
   ],
   "source": [
    "a_une_vétusté_sup_à_1 = ann_errd_ej['Taux vétusté Construction ERRD'] > 1\n",
    "(a_une_vétusté_sup_à_1).sum()"
   ],
   "metadata": {
    "collapsed": false,
    "pycharm": {
     "name": "#%%\n"
    }
   }
  },
  {
   "cell_type": "code",
   "execution_count": 239,
   "outputs": [
    {
     "data": {
      "text/plain": "       Finess EJ  Année  Taux de CAF ERRD  Taux vétusté Construction ERRD\n174    570001321   2020          0.033780                        6.071298\n253    670011709   2020          0.123618                       14.385999\n664    330786138   2020          0.170089                        3.080527\n719    400014650   2020          0.052533                      113.144851\n872    790008221   2020          0.045939                        4.631752\n...          ...    ...               ...                             ...\n12669  720000850   2018          0.098830                        4.273720\n12710  850000431   2018          0.066317                       19.219321\n12712  850000464   2018          0.084477                       10.260870\n12879  130000250   2018          0.073646                        8.741285\n13012  840000723   2018          0.098843                       11.776130\n\n[181 rows x 4 columns]",
      "text/html": "<div>\n<style scoped>\n    .dataframe tbody tr th:only-of-type {\n        vertical-align: middle;\n    }\n\n    .dataframe tbody tr th {\n        vertical-align: top;\n    }\n\n    .dataframe thead th {\n        text-align: right;\n    }\n</style>\n<table border=\"1\" class=\"dataframe\">\n  <thead>\n    <tr style=\"text-align: right;\">\n      <th></th>\n      <th>Finess EJ</th>\n      <th>Année</th>\n      <th>Taux de CAF ERRD</th>\n      <th>Taux vétusté Construction ERRD</th>\n    </tr>\n  </thead>\n  <tbody>\n    <tr>\n      <th>174</th>\n      <td>570001321</td>\n      <td>2020</td>\n      <td>0.033780</td>\n      <td>6.071298</td>\n    </tr>\n    <tr>\n      <th>253</th>\n      <td>670011709</td>\n      <td>2020</td>\n      <td>0.123618</td>\n      <td>14.385999</td>\n    </tr>\n    <tr>\n      <th>664</th>\n      <td>330786138</td>\n      <td>2020</td>\n      <td>0.170089</td>\n      <td>3.080527</td>\n    </tr>\n    <tr>\n      <th>719</th>\n      <td>400014650</td>\n      <td>2020</td>\n      <td>0.052533</td>\n      <td>113.144851</td>\n    </tr>\n    <tr>\n      <th>872</th>\n      <td>790008221</td>\n      <td>2020</td>\n      <td>0.045939</td>\n      <td>4.631752</td>\n    </tr>\n    <tr>\n      <th>...</th>\n      <td>...</td>\n      <td>...</td>\n      <td>...</td>\n      <td>...</td>\n    </tr>\n    <tr>\n      <th>12669</th>\n      <td>720000850</td>\n      <td>2018</td>\n      <td>0.098830</td>\n      <td>4.273720</td>\n    </tr>\n    <tr>\n      <th>12710</th>\n      <td>850000431</td>\n      <td>2018</td>\n      <td>0.066317</td>\n      <td>19.219321</td>\n    </tr>\n    <tr>\n      <th>12712</th>\n      <td>850000464</td>\n      <td>2018</td>\n      <td>0.084477</td>\n      <td>10.260870</td>\n    </tr>\n    <tr>\n      <th>12879</th>\n      <td>130000250</td>\n      <td>2018</td>\n      <td>0.073646</td>\n      <td>8.741285</td>\n    </tr>\n    <tr>\n      <th>13012</th>\n      <td>840000723</td>\n      <td>2018</td>\n      <td>0.098843</td>\n      <td>11.776130</td>\n    </tr>\n  </tbody>\n</table>\n<p>181 rows × 4 columns</p>\n</div>"
     },
     "execution_count": 239,
     "metadata": {},
     "output_type": "execute_result"
    }
   ],
   "source": [
    "ann_errd_ej[a_une_vétusté_sup_à_1]"
   ],
   "metadata": {
    "collapsed": false,
    "pycharm": {
     "name": "#%%\n"
    }
   }
  },
  {
   "cell_type": "markdown",
   "source": [
    "Que fait-on de taux non compris entre 0 et 1 ?"
   ],
   "metadata": {
    "collapsed": false
   }
  },
  {
   "cell_type": "markdown",
   "source": [
    "### Taux de CAF"
   ],
   "metadata": {
    "collapsed": false
   }
  },
  {
   "cell_type": "markdown",
   "source": [
    "Question pour Nicolas : quelles sont les valeurs normales ?"
   ],
   "metadata": {
    "collapsed": false
   }
  },
  {
   "cell_type": "markdown",
   "source": [],
   "metadata": {
    "collapsed": false
   }
  },
  {
   "cell_type": "code",
   "execution_count": 240,
   "outputs": [
    {
     "data": {
      "text/plain": "1240"
     },
     "execution_count": 240,
     "metadata": {},
     "output_type": "execute_result"
    }
   ],
   "source": [
    "a_une_caf_négative = ann_errd_ej['Taux de CAF ERRD'] < 0\n",
    "(a_une_caf_négative).sum()"
   ],
   "metadata": {
    "collapsed": false,
    "pycharm": {
     "name": "#%%\n"
    }
   }
  },
  {
   "cell_type": "code",
   "execution_count": 241,
   "outputs": [
    {
     "data": {
      "text/plain": "       Finess EJ  Année  Taux de CAF ERRD  Taux vétusté Construction ERRD\n4      080000433   2020         -0.012266                        0.809068\n63     510005945   2020         -0.013350                        0.680338\n82     520780032   2020         -0.000803                             NaN\n91     520783408   2020         -0.102442                        0.204702\n98     540000049   2020         -0.052307                             NaN\n...          ...    ...               ...                             ...\n12987  830100616   2018         -0.062007                             NaN\n12992  830210282   2018         -0.016304                        0.030799\n12996  920030152   2018         -0.081524                             NaN\n13016  840000780   2018         -0.004706                        0.646891\n13037  840019178   2018         -0.145760                        0.321014\n\n[1240 rows x 4 columns]",
      "text/html": "<div>\n<style scoped>\n    .dataframe tbody tr th:only-of-type {\n        vertical-align: middle;\n    }\n\n    .dataframe tbody tr th {\n        vertical-align: top;\n    }\n\n    .dataframe thead th {\n        text-align: right;\n    }\n</style>\n<table border=\"1\" class=\"dataframe\">\n  <thead>\n    <tr style=\"text-align: right;\">\n      <th></th>\n      <th>Finess EJ</th>\n      <th>Année</th>\n      <th>Taux de CAF ERRD</th>\n      <th>Taux vétusté Construction ERRD</th>\n    </tr>\n  </thead>\n  <tbody>\n    <tr>\n      <th>4</th>\n      <td>080000433</td>\n      <td>2020</td>\n      <td>-0.012266</td>\n      <td>0.809068</td>\n    </tr>\n    <tr>\n      <th>63</th>\n      <td>510005945</td>\n      <td>2020</td>\n      <td>-0.013350</td>\n      <td>0.680338</td>\n    </tr>\n    <tr>\n      <th>82</th>\n      <td>520780032</td>\n      <td>2020</td>\n      <td>-0.000803</td>\n      <td>NaN</td>\n    </tr>\n    <tr>\n      <th>91</th>\n      <td>520783408</td>\n      <td>2020</td>\n      <td>-0.102442</td>\n      <td>0.204702</td>\n    </tr>\n    <tr>\n      <th>98</th>\n      <td>540000049</td>\n      <td>2020</td>\n      <td>-0.052307</td>\n      <td>NaN</td>\n    </tr>\n    <tr>\n      <th>...</th>\n      <td>...</td>\n      <td>...</td>\n      <td>...</td>\n      <td>...</td>\n    </tr>\n    <tr>\n      <th>12987</th>\n      <td>830100616</td>\n      <td>2018</td>\n      <td>-0.062007</td>\n      <td>NaN</td>\n    </tr>\n    <tr>\n      <th>12992</th>\n      <td>830210282</td>\n      <td>2018</td>\n      <td>-0.016304</td>\n      <td>0.030799</td>\n    </tr>\n    <tr>\n      <th>12996</th>\n      <td>920030152</td>\n      <td>2018</td>\n      <td>-0.081524</td>\n      <td>NaN</td>\n    </tr>\n    <tr>\n      <th>13016</th>\n      <td>840000780</td>\n      <td>2018</td>\n      <td>-0.004706</td>\n      <td>0.646891</td>\n    </tr>\n    <tr>\n      <th>13037</th>\n      <td>840019178</td>\n      <td>2018</td>\n      <td>-0.145760</td>\n      <td>0.321014</td>\n    </tr>\n  </tbody>\n</table>\n<p>1240 rows × 4 columns</p>\n</div>"
     },
     "execution_count": 241,
     "metadata": {},
     "output_type": "execute_result"
    }
   ],
   "source": [
    "ann_errd_ej[a_une_caf_négative]"
   ],
   "metadata": {
    "collapsed": false,
    "pycharm": {
     "name": "#%%\n"
    }
   }
  },
  {
   "cell_type": "code",
   "execution_count": 242,
   "outputs": [
    {
     "data": {
      "text/plain": "0"
     },
     "execution_count": 242,
     "metadata": {},
     "output_type": "execute_result"
    }
   ],
   "source": [
    "a_une_caf_sup_à_1 = ann_errd_ej['Taux de CAF ERRD'] > 1\n",
    "(a_une_caf_sup_à_1).sum()"
   ],
   "metadata": {
    "collapsed": false,
    "pycharm": {
     "name": "#%%\n"
    }
   }
  },
  {
   "cell_type": "code",
   "execution_count": 243,
   "outputs": [
    {
     "data": {
      "text/plain": "Empty DataFrame\nColumns: [Finess EJ, Année, Taux de CAF ERRD, Taux vétusté Construction ERRD]\nIndex: []",
      "text/html": "<div>\n<style scoped>\n    .dataframe tbody tr th:only-of-type {\n        vertical-align: middle;\n    }\n\n    .dataframe tbody tr th {\n        vertical-align: top;\n    }\n\n    .dataframe thead th {\n        text-align: right;\n    }\n</style>\n<table border=\"1\" class=\"dataframe\">\n  <thead>\n    <tr style=\"text-align: right;\">\n      <th></th>\n      <th>Finess EJ</th>\n      <th>Année</th>\n      <th>Taux de CAF ERRD</th>\n      <th>Taux vétusté Construction ERRD</th>\n    </tr>\n  </thead>\n  <tbody>\n  </tbody>\n</table>\n</div>"
     },
     "execution_count": 243,
     "metadata": {},
     "output_type": "execute_result"
    }
   ],
   "source": [
    "ann_errd_ej[a_une_caf_sup_à_1]"
   ],
   "metadata": {
    "collapsed": false,
    "pycharm": {
     "name": "#%%\n"
    }
   }
  },
  {
   "cell_type": "markdown",
   "source": [
    "Beaucoup de taux de CAF négatifs.\n"
   ],
   "metadata": {
    "collapsed": false
   }
  }
 ],
 "metadata": {
  "kernelspec": {
   "display_name": "Python 3",
   "language": "python",
   "name": "python3"
  },
  "language_info": {
   "codemirror_mode": {
    "name": "ipython",
    "version": 2
   },
   "file_extension": ".py",
   "mimetype": "text/x-python",
   "name": "python",
   "nbconvert_exporter": "python",
   "pygments_lexer": "ipython2",
   "version": "2.7.6"
  }
 },
 "nbformat": 4,
 "nbformat_minor": 0
}