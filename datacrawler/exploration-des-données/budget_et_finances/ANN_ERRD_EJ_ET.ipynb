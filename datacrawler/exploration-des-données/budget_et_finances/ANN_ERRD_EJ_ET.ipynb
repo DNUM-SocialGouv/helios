{
 "cells": [
  {
   "cell_type": "markdown",
   "metadata": {
    "collapsed": false
   },
   "source": [
    "# Analyse de données Budget et Finances"
   ]
  },
  {
   "cell_type": "markdown",
   "metadata": {
    "collapsed": false
   },
   "source": [
    "## Paramétrage"
   ]
  },
  {
   "cell_type": "code",
   "execution_count": 5,
   "metadata": {
    "collapsed": false,
    "pycharm": {
     "name": "#%%\n"
    }
   },
   "outputs": [],
   "source": [
    "import os\n",
    "\n",
    "import pandas as pd\n",
    "CHEMIN_DOSSIER_DONNÉES = '../../../../données/DIAMANT/'\n",
    "DATE_FICHIER = '2022_09_01'\n",
    "encoding = 'utf-8'\n"
   ]
  },
  {
   "cell_type": "markdown",
   "metadata": {
    "collapsed": false
   },
   "source": []
  },
  {
   "cell_type": "code",
   "execution_count": 6,
   "metadata": {
    "collapsed": false,
    "pycharm": {
     "name": "#%%\n"
    }
   },
   "outputs": [],
   "source": [
    "ann_errd_ej_et = pd.read_csv(\n",
    "    os.path.join(CHEMIN_DOSSIER_DONNÉES, 'ANN_ERRD_EJ_ET_' + DATE_FICHIER + '.CSV'),\n",
    "    delimiter=\";\",\n",
    "    encoding=encoding,\n",
    "    usecols=['Finess EJ',\n",
    "             'Finess',\n",
    "             'Année',\n",
    "             'Dépenses Groupe I ERRD',\n",
    "             'Dépenses Groupe II ERRD',\n",
    "             'Dépenses Groupe III ERRD',\n",
    "             'Recettes Groupe I ERRD',\n",
    "             'Recettes Groupe II ERRD',\n",
    "             'Recettes Groupe III ERRD',\n",
    "             'MS Résultat net comptable ERRD',\n",
    "             '655 Quotes-parts de résultat sur opérations faites en commun'],\n",
    ")"
   ]
  },
  {
   "cell_type": "code",
   "execution_count": 7,
   "metadata": {
    "collapsed": false,
    "pycharm": {
     "name": "#%%\n"
    }
   },
   "outputs": [],
   "source": [
    "ann_ca_ej_et = pd.read_csv(\n",
    "    os.path.join(CHEMIN_DOSSIER_DONNÉES, 'ANN_CA_EJ_ET_' + DATE_FICHIER + '.CSV'),\n",
    "    delimiter=\";\",\n",
    "    encoding=encoding,\n",
    "    usecols=['Finess EJ',\n",
    "             'Finess',\n",
    "             'Année',\n",
    "             'Recettes Groupe I CA',\n",
    "             'Recettes Groupe II CA',\n",
    "             'Recettes Groupe III CA',\n",
    "             'Dépenses Groupe I CA',\n",
    "             'Dépenses Groupe II CA',\n",
    "             'Dépenses Groupe III CA',\n",
    "             'Charges CA PA',\n",
    "             'Produits CA PA',\n",
    "             'Taux de CAF CA PH',\n",
    "             'Taux vétusté Construction CA',\n",
    "             'MS Résultat net comptable CA PH',\n",
    "             'MS Résultat net comptable CA PA'],\n",
    ")"
   ]
  },
  {
   "cell_type": "code",
   "execution_count": 8,
   "metadata": {
    "collapsed": false,
    "pycharm": {
     "name": "#%%\n"
    }
   },
   "outputs": [],
   "source": [
    "ann_errd_ej = pd.read_csv(\n",
    "    os.path.join(CHEMIN_DOSSIER_DONNÉES, 'ANN_ERRD_EJ_' + DATE_FICHIER + '.CSV'),\n",
    "    delimiter=\";\",\n",
    "    encoding=encoding,\n",
    "    usecols=['Finess EJ',\n",
    "            'Année',\n",
    "            'Taux vétusté Construction ERRD',\n",
    "             'Taux de CAF ERRD'],\n",
    ")\n"
   ]
  },
  {
   "cell_type": "markdown",
   "metadata": {
    "collapsed": false
   },
   "source": [
    "## Doublons"
   ]
  },
  {
   "cell_type": "markdown",
   "metadata": {
    "collapsed": false
   },
   "source": [
    "### On s'attend à avoir une seule valeur par (Finess, Année)"
   ]
  },
  {
   "cell_type": "code",
   "execution_count": 9,
   "metadata": {
    "collapsed": false,
    "pycharm": {
     "name": "#%%\n"
    }
   },
   "outputs": [],
   "source": [
    "a_plus_d_une_donnée_par_finess_par_année = (ann_errd_ej_et.groupby(['Finess', 'Année']).nunique() > 1).any(axis=1)"
   ]
  },
  {
   "cell_type": "markdown",
   "metadata": {
    "collapsed": false
   },
   "source": [
    "## Valeurs manquantes\n"
   ]
  },
  {
   "cell_type": "code",
   "execution_count": 10,
   "metadata": {
    "collapsed": false,
    "pycharm": {
     "name": "#%%\n"
    }
   },
   "outputs": [
    {
     "data": {
      "text/plain": "Finess EJ                                                       0.000000\nFiness                                                          0.000000\nAnnée                                                           0.000000\nMS Résultat net comptable ERRD                                  0.006272\n655 Quotes-parts de résultat sur opérations faites en commun    0.093075\nDépenses Groupe I ERRD                                          0.006272\nDépenses Groupe II ERRD                                         0.006272\nDépenses Groupe III ERRD                                        0.006272\nRecettes Groupe I ERRD                                          0.006272\nRecettes Groupe II ERRD                                         0.006272\nRecettes Groupe III ERRD                                        0.006272\ndtype: float64"
     },
     "execution_count": 10,
     "metadata": {},
     "output_type": "execute_result"
    }
   ],
   "source": [
    "ann_errd_ej_et.isna().sum() / ann_errd_ej_et.shape[0]\n"
   ]
  },
  {
   "cell_type": "markdown",
   "metadata": {
    "collapsed": false
   },
   "source": [
    "### Années renseignées"
   ]
  },
  {
   "cell_type": "code",
   "execution_count": 11,
   "metadata": {
    "collapsed": false,
    "pycharm": {
     "name": "#%%\n"
    }
   },
   "outputs": [
    {
     "data": {
      "text/plain": "<AxesSubplot:>"
     },
     "execution_count": 11,
     "metadata": {},
     "output_type": "execute_result"
    },
    {
     "data": {
      "text/plain": "<Figure size 640x480 with 1 Axes>",
      "image/png": "[encoded data removed]"
     },
     "metadata": {},
     "output_type": "display_data"
    }
   ],
   "source": [
    "ann_errd_ej_et.groupby('Finess').count()['Année'].hist()\n"
   ]
  },
  {
   "cell_type": "code",
   "execution_count": 12,
   "metadata": {
    "collapsed": false,
    "pycharm": {
     "name": "#%%\n"
    }
   },
   "outputs": [
    {
     "data": {
      "text/plain": "3"
     },
     "execution_count": 12,
     "metadata": {},
     "output_type": "execute_result"
    }
   ],
   "source": [
    "ann_errd_ej_et['Année'].nunique()"
   ]
  },
  {
   "cell_type": "code",
   "execution_count": 13,
   "metadata": {
    "collapsed": false,
    "pycharm": {
     "name": "#%%\n"
    }
   },
   "outputs": [
    {
     "data": {
      "text/plain": "<AxesSubplot:>"
     },
     "execution_count": 13,
     "metadata": {},
     "output_type": "execute_result"
    },
    {
     "data": {
      "text/plain": "<Figure size 640x480 with 1 Axes>",
      "image/png": "[encoded data removed]"
     },
     "metadata": {},
     "output_type": "display_data"
    }
   ],
   "source": [
    "ann_errd_ej_et['Année'].hist()"
   ]
  },
  {
   "cell_type": "code",
   "execution_count": 14,
   "metadata": {
    "collapsed": false,
    "pycharm": {
     "name": "#%%\n"
    }
   },
   "outputs": [
    {
     "data": {
      "text/plain": "2020"
     },
     "execution_count": 14,
     "metadata": {},
     "output_type": "execute_result"
    }
   ],
   "source": [
    "ann_errd_ej_et['Année'].max()"
   ]
  },
  {
   "cell_type": "markdown",
   "metadata": {
    "collapsed": false
   },
   "source": [
    "### Valeurs manquantes par colonne"
   ]
  },
  {
   "cell_type": "code",
   "execution_count": 15,
   "metadata": {
    "collapsed": false,
    "pycharm": {
     "name": "#%%\n"
    }
   },
   "outputs": [],
   "source": [
    "nombre_d_établissements_dans_ann_ms_tdp_et = ann_errd_ej_et['Finess'].nunique()"
   ]
  },
  {
   "cell_type": "markdown",
   "metadata": {
    "collapsed": false
   },
   "source": [
    "#### % de valeurs manquantes par colonne"
   ]
  },
  {
   "cell_type": "code",
   "execution_count": 16,
   "metadata": {
    "collapsed": false,
    "pycharm": {
     "name": "#%%\n"
    }
   },
   "outputs": [
    {
     "data": {
      "text/plain": "MS Résultat net comptable ERRD                                  0.986708\n655 Quotes-parts de résultat sur opérations faites en commun    0.896560\nDépenses Groupe I ERRD                                          0.986708\nDépenses Groupe II ERRD                                         0.986708\nDépenses Groupe III ERRD                                        0.986708\nRecettes Groupe I ERRD                                          0.986708\nRecettes Groupe II ERRD                                         0.986708\nRecettes Groupe III ERRD                                        0.986708\ndtype: float64"
     },
     "execution_count": 16,
     "metadata": {},
     "output_type": "execute_result"
    }
   ],
   "source": [
    "est_une_valeur_manquante = ann_errd_ej_et.drop('Finess EJ', axis=1).set_index(['Finess', 'Année']).isna().reset_index()\n",
    "établissement_avec_au_moins_une_valeur_renseignée = (~est_une_valeur_manquante.groupby(\n",
    "    'Finess').any().drop('Année', axis=1))\n",
    "établissement_avec_au_moins_une_valeur_renseignée.sum() / nombre_d_établissements_dans_ann_ms_tdp_et"
   ]
  },
  {
   "cell_type": "markdown",
   "metadata": {
    "collapsed": false
   },
   "source": []
  },
  {
   "cell_type": "code",
   "execution_count": 17,
   "metadata": {
    "collapsed": false,
    "pycharm": {
     "name": "#%%\n"
    }
   },
   "outputs": [
    {
     "data": {
      "text/plain": "Finess EJ                                                       1.000000\nAnnée                                                           1.000000\nMS Résultat net comptable ERRD                                  0.983425\n655 Quotes-parts de résultat sur opérations faites en commun    0.398671\nDépenses Groupe I ERRD                                          0.980297\nDépenses Groupe II ERRD                                         0.978499\nDépenses Groupe III ERRD                                        0.978812\nRecettes Groupe I ERRD                                          0.971384\nRecettes Groupe II ERRD                                         0.842299\nRecettes Groupe III ERRD                                        0.877482\ndtype: float64"
     },
     "execution_count": 17,
     "metadata": {},
     "output_type": "execute_result"
    }
   ],
   "source": [
    "ann_errd_ej_et.groupby('Finess').any().sum() / nombre_d_établissements_dans_ann_ms_tdp_et\n"
   ]
  },
  {
   "cell_type": "markdown",
   "metadata": {
    "collapsed": false
   },
   "source": [
    "0 équivaut à valeur manquante ? Dans quels cas ?\n",
    "Non, sauf si toute la ligne est à 0 (établissement fermé, sous CA)"
   ]
  },
  {
   "cell_type": "markdown",
   "metadata": {
    "collapsed": false
   },
   "source": [
    "### Cohérence des données"
   ]
  },
  {
   "cell_type": "markdown",
   "metadata": {
    "collapsed": false
   },
   "source": [
    "#### Dépenses positives"
   ]
  },
  {
   "cell_type": "code",
   "execution_count": 18,
   "metadata": {
    "collapsed": false,
    "pycharm": {
     "name": "#%%\n"
    }
   },
   "outputs": [
    {
     "data": {
      "text/plain": "0"
     },
     "execution_count": 18,
     "metadata": {},
     "output_type": "execute_result"
    }
   ],
   "source": [
    "(ann_errd_ej_et['Dépenses Groupe I ERRD'] > 0).sum()"
   ]
  },
  {
   "cell_type": "code",
   "execution_count": 19,
   "metadata": {
    "collapsed": false,
    "pycharm": {
     "name": "#%%\n"
    }
   },
   "outputs": [
    {
     "data": {
      "text/plain": "       Finess EJ     Finess  Année  MS Résultat net comptable ERRD  \\\n22599  750005068  260003322   2019                        -15505.0   \n\n       655 Quotes-parts de résultat sur opérations faites en commun  \\\n22599                                                0.0              \n\n       Dépenses Groupe I ERRD  Dépenses Groupe II ERRD  \\\n22599                     0.0                   6813.0   \n\n       Dépenses Groupe III ERRD  Recettes Groupe I ERRD  \\\n22599                  -22318.0                     0.0   \n\n       Recettes Groupe II ERRD  Recettes Groupe III ERRD  \n22599                      0.0                       0.0  ",
      "text/html": "<div>\n<style scoped>\n    .dataframe tbody tr th:only-of-type {\n        vertical-align: middle;\n    }\n\n    .dataframe tbody tr th {\n        vertical-align: top;\n    }\n\n    .dataframe thead th {\n        text-align: right;\n    }\n</style>\n<table border=\"1\" class=\"dataframe\">\n  <thead>\n    <tr style=\"text-align: right;\">\n      <th></th>\n      <th>Finess EJ</th>\n      <th>Finess</th>\n      <th>Année</th>\n      <th>MS Résultat net comptable ERRD</th>\n      <th>655 Quotes-parts de résultat sur opérations faites en commun</th>\n      <th>Dépenses Groupe I ERRD</th>\n      <th>Dépenses Groupe II ERRD</th>\n      <th>Dépenses Groupe III ERRD</th>\n      <th>Recettes Groupe I ERRD</th>\n      <th>Recettes Groupe II ERRD</th>\n      <th>Recettes Groupe III ERRD</th>\n    </tr>\n  </thead>\n  <tbody>\n    <tr>\n      <th>22599</th>\n      <td>750005068</td>\n      <td>260003322</td>\n      <td>2019</td>\n      <td>-15505.0</td>\n      <td>0.0</td>\n      <td>0.0</td>\n      <td>6813.0</td>\n      <td>-22318.0</td>\n      <td>0.0</td>\n      <td>0.0</td>\n      <td>0.0</td>\n    </tr>\n  </tbody>\n</table>\n</div>"
     },
     "execution_count": 19,
     "metadata": {},
     "output_type": "execute_result"
    }
   ],
   "source": [
    "(ann_errd_ej_et['Dépenses Groupe II ERRD'] > 0).sum()\n",
    "ann_errd_ej_et[ann_errd_ej_et['Dépenses Groupe II ERRD'] > 0]"
   ]
  },
  {
   "cell_type": "code",
   "execution_count": 20,
   "metadata": {
    "collapsed": false,
    "pycharm": {
     "name": "#%%\n"
    }
   },
   "outputs": [
    {
     "data": {
      "text/plain": "       Finess EJ     Finess  Année  MS Résultat net comptable ERRD  \\\n799    210007118  890974587   2020                       155827.39   \n1956   130006901  130784473   2018                        49062.75   \n4507   210000873  510012172   2020                       120026.65   \n6476   210007118  300785284   2020                       121881.76   \n6837   330001249  330059809   2018                        -5290.05   \n7342   330001249  330783580   2020                         1372.09   \n10806  440049252  770814804   2019                        83347.59   \n12457  450011325  450007406   2019                       217793.71   \n14587  440005783  440041739   2019                       -86450.54   \n16064  570026823  590790101   2019                      -134612.71   \n16497  660000753  660003880   2018                       127373.02   \n17856  660000753  660003880   2019                        21872.02   \n19294  750813859  830200176   2019                       -60276.02   \n20113  440049252  770814804   2020                        31520.56   \n25901  830002473  830004529   2019                         1400.59   \n27440  840019145  840017479   2018                         5772.88   \n29481  830002473  830004529   2020                       -36863.61   \n\n       655 Quotes-parts de résultat sur opérations faites en commun  \\\n799                                                  0.0              \n1956                                                 0.0              \n4507                                                 0.0              \n6476                                                 0.0              \n6837                                                 0.0              \n7342                                                 0.0              \n10806                                                0.0              \n12457                                                0.0              \n14587                                                0.0              \n16064                                                0.0              \n16497                                                0.0              \n17856                                                0.0              \n19294                                                0.0              \n20113                                                0.0              \n25901                                                0.0              \n27440                                           -28019.0              \n29481                                                0.0              \n\n       Dépenses Groupe I ERRD  Dépenses Groupe II ERRD  \\\n799                -166215.13              -1318018.15   \n1956                -61015.34              -1968102.93   \n4507               -170930.67              -1469876.84   \n6476               -148623.54              -1222952.43   \n6837                -16508.18               -477444.04   \n7342               -118120.26              -1915404.14   \n10806              -175327.13              -1690981.18   \n12457              -114609.06              -1687894.24   \n14587               -92508.69              -1963568.98   \n16064               -41671.68              -1441656.33   \n16497               -75474.79              -2103419.28   \n17856              -132648.18              -2181020.50   \n19294               -80809.57              -1336722.37   \n20113              -223261.74              -1914599.62   \n25901              -173368.37              -1048044.66   \n27440                -9252.37               -561553.90   \n29481              -285558.24              -1232084.19   \n\n       Dépenses Groupe III ERRD  Recettes Groupe I ERRD  \\\n799                     2210.89              1637849.78   \n1956                   73445.35              2004735.67   \n4507                   18035.14              1742799.02   \n6476                    7865.81              1485591.92   \n6837                   15199.16               473463.01   \n7342                   15892.04              2003804.45   \n10806                  29227.16              1920128.74   \n12457                 175272.35              1820511.91   \n14587                  30660.04              1895435.09   \n16064                  14915.61              1326846.08   \n16497                  30420.68              2275846.41   \n17856                  11976.79              2317813.91   \n19294                   4521.52              1344210.80   \n20113                   4713.37              2164668.55   \n25901                 162439.63              1054733.99   \n27440                   1033.43               562436.77   \n29481                 262707.40              1218071.42   \n\n       Recettes Groupe II ERRD  Recettes Groupe III ERRD  \n799                        0.0                      0.00  \n1956                       0.0                      0.00  \n4507                       0.0                      0.00  \n6476                       0.0                      0.00  \n6837                       0.0                      0.00  \n7342                       0.0                  15200.00  \n10806                      0.0                    300.00  \n12457                      0.0                  24512.75  \n14587                      0.0                  43532.00  \n16064                      0.0                   6953.61  \n16497                      0.0                      0.00  \n17856                      0.0                   5750.00  \n19294                      0.0                   8523.60  \n20113                      0.0                      0.00  \n25901                      0.0                   5640.00  \n27440                   1818.9                  11290.05  \n29481                      0.0                      0.00  ",
      "text/html": "<div>\n<style scoped>\n    .dataframe tbody tr th:only-of-type {\n        vertical-align: middle;\n    }\n\n    .dataframe tbody tr th {\n        vertical-align: top;\n    }\n\n    .dataframe thead th {\n        text-align: right;\n    }\n</style>\n<table border=\"1\" class=\"dataframe\">\n  <thead>\n    <tr style=\"text-align: right;\">\n      <th></th>\n      <th>Finess EJ</th>\n      <th>Finess</th>\n      <th>Année</th>\n      <th>MS Résultat net comptable ERRD</th>\n      <th>655 Quotes-parts de résultat sur opérations faites en commun</th>\n      <th>Dépenses Groupe I ERRD</th>\n      <th>Dépenses Groupe II ERRD</th>\n      <th>Dépenses Groupe III ERRD</th>\n      <th>Recettes Groupe I ERRD</th>\n      <th>Recettes Groupe II ERRD</th>\n      <th>Recettes Groupe III ERRD</th>\n    </tr>\n  </thead>\n  <tbody>\n    <tr>\n      <th>799</th>\n      <td>210007118</td>\n      <td>890974587</td>\n      <td>2020</td>\n      <td>155827.39</td>\n      <td>0.0</td>\n      <td>-166215.13</td>\n      <td>-1318018.15</td>\n      <td>2210.89</td>\n      <td>1637849.78</td>\n      <td>0.0</td>\n      <td>0.00</td>\n    </tr>\n    <tr>\n      <th>1956</th>\n      <td>130006901</td>\n      <td>130784473</td>\n      <td>2018</td>\n      <td>49062.75</td>\n      <td>0.0</td>\n      <td>-61015.34</td>\n      <td>-1968102.93</td>\n      <td>73445.35</td>\n      <td>2004735.67</td>\n      <td>0.0</td>\n      <td>0.00</td>\n    </tr>\n    <tr>\n      <th>4507</th>\n      <td>210000873</td>\n      <td>510012172</td>\n      <td>2020</td>\n      <td>120026.65</td>\n      <td>0.0</td>\n      <td>-170930.67</td>\n      <td>-1469876.84</td>\n      <td>18035.14</td>\n      <td>1742799.02</td>\n      <td>0.0</td>\n      <td>0.00</td>\n    </tr>\n    <tr>\n      <th>6476</th>\n      <td>210007118</td>\n      <td>300785284</td>\n      <td>2020</td>\n      <td>121881.76</td>\n      <td>0.0</td>\n      <td>-148623.54</td>\n      <td>-1222952.43</td>\n      <td>7865.81</td>\n      <td>1485591.92</td>\n      <td>0.0</td>\n      <td>0.00</td>\n    </tr>\n    <tr>\n      <th>6837</th>\n      <td>330001249</td>\n      <td>330059809</td>\n      <td>2018</td>\n      <td>-5290.05</td>\n      <td>0.0</td>\n      <td>-16508.18</td>\n      <td>-477444.04</td>\n      <td>15199.16</td>\n      <td>473463.01</td>\n      <td>0.0</td>\n      <td>0.00</td>\n    </tr>\n    <tr>\n      <th>7342</th>\n      <td>330001249</td>\n      <td>330783580</td>\n      <td>2020</td>\n      <td>1372.09</td>\n      <td>0.0</td>\n      <td>-118120.26</td>\n      <td>-1915404.14</td>\n      <td>15892.04</td>\n      <td>2003804.45</td>\n      <td>0.0</td>\n      <td>15200.00</td>\n    </tr>\n    <tr>\n      <th>10806</th>\n      <td>440049252</td>\n      <td>770814804</td>\n      <td>2019</td>\n      <td>83347.59</td>\n      <td>0.0</td>\n      <td>-175327.13</td>\n      <td>-1690981.18</td>\n      <td>29227.16</td>\n      <td>1920128.74</td>\n      <td>0.0</td>\n      <td>300.00</td>\n    </tr>\n    <tr>\n      <th>12457</th>\n      <td>450011325</td>\n      <td>450007406</td>\n      <td>2019</td>\n      <td>217793.71</td>\n      <td>0.0</td>\n      <td>-114609.06</td>\n      <td>-1687894.24</td>\n      <td>175272.35</td>\n      <td>1820511.91</td>\n      <td>0.0</td>\n      <td>24512.75</td>\n    </tr>\n    <tr>\n      <th>14587</th>\n      <td>440005783</td>\n      <td>440041739</td>\n      <td>2019</td>\n      <td>-86450.54</td>\n      <td>0.0</td>\n      <td>-92508.69</td>\n      <td>-1963568.98</td>\n      <td>30660.04</td>\n      <td>1895435.09</td>\n      <td>0.0</td>\n      <td>43532.00</td>\n    </tr>\n    <tr>\n      <th>16064</th>\n      <td>570026823</td>\n      <td>590790101</td>\n      <td>2019</td>\n      <td>-134612.71</td>\n      <td>0.0</td>\n      <td>-41671.68</td>\n      <td>-1441656.33</td>\n      <td>14915.61</td>\n      <td>1326846.08</td>\n      <td>0.0</td>\n      <td>6953.61</td>\n    </tr>\n    <tr>\n      <th>16497</th>\n      <td>660000753</td>\n      <td>660003880</td>\n      <td>2018</td>\n      <td>127373.02</td>\n      <td>0.0</td>\n      <td>-75474.79</td>\n      <td>-2103419.28</td>\n      <td>30420.68</td>\n      <td>2275846.41</td>\n      <td>0.0</td>\n      <td>0.00</td>\n    </tr>\n    <tr>\n      <th>17856</th>\n      <td>660000753</td>\n      <td>660003880</td>\n      <td>2019</td>\n      <td>21872.02</td>\n      <td>0.0</td>\n      <td>-132648.18</td>\n      <td>-2181020.50</td>\n      <td>11976.79</td>\n      <td>2317813.91</td>\n      <td>0.0</td>\n      <td>5750.00</td>\n    </tr>\n    <tr>\n      <th>19294</th>\n      <td>750813859</td>\n      <td>830200176</td>\n      <td>2019</td>\n      <td>-60276.02</td>\n      <td>0.0</td>\n      <td>-80809.57</td>\n      <td>-1336722.37</td>\n      <td>4521.52</td>\n      <td>1344210.80</td>\n      <td>0.0</td>\n      <td>8523.60</td>\n    </tr>\n    <tr>\n      <th>20113</th>\n      <td>440049252</td>\n      <td>770814804</td>\n      <td>2020</td>\n      <td>31520.56</td>\n      <td>0.0</td>\n      <td>-223261.74</td>\n      <td>-1914599.62</td>\n      <td>4713.37</td>\n      <td>2164668.55</td>\n      <td>0.0</td>\n      <td>0.00</td>\n    </tr>\n    <tr>\n      <th>25901</th>\n      <td>830002473</td>\n      <td>830004529</td>\n      <td>2019</td>\n      <td>1400.59</td>\n      <td>0.0</td>\n      <td>-173368.37</td>\n      <td>-1048044.66</td>\n      <td>162439.63</td>\n      <td>1054733.99</td>\n      <td>0.0</td>\n      <td>5640.00</td>\n    </tr>\n    <tr>\n      <th>27440</th>\n      <td>840019145</td>\n      <td>840017479</td>\n      <td>2018</td>\n      <td>5772.88</td>\n      <td>-28019.0</td>\n      <td>-9252.37</td>\n      <td>-561553.90</td>\n      <td>1033.43</td>\n      <td>562436.77</td>\n      <td>1818.9</td>\n      <td>11290.05</td>\n    </tr>\n    <tr>\n      <th>29481</th>\n      <td>830002473</td>\n      <td>830004529</td>\n      <td>2020</td>\n      <td>-36863.61</td>\n      <td>0.0</td>\n      <td>-285558.24</td>\n      <td>-1232084.19</td>\n      <td>262707.40</td>\n      <td>1218071.42</td>\n      <td>0.0</td>\n      <td>0.00</td>\n    </tr>\n  </tbody>\n</table>\n</div>"
     },
     "execution_count": 20,
     "metadata": {},
     "output_type": "execute_result"
    }
   ],
   "source": [
    "(ann_errd_ej_et['Dépenses Groupe III ERRD'] > 0).sum()\n",
    "ann_errd_ej_et[ann_errd_ej_et['Dépenses Groupe III ERRD'] > 0]\n"
   ]
  },
  {
   "cell_type": "markdown",
   "metadata": {
    "collapsed": false
   },
   "source": [
    "#### Recettes négatives\n"
   ]
  },
  {
   "cell_type": "code",
   "execution_count": 21,
   "metadata": {
    "collapsed": false,
    "pycharm": {
     "name": "#%%\n"
    }
   },
   "outputs": [
    {
     "data": {
      "text/plain": "0"
     },
     "execution_count": 21,
     "metadata": {},
     "output_type": "execute_result"
    }
   ],
   "source": [
    "(ann_errd_ej_et['Recettes Groupe I ERRD'] < 0).sum()"
   ]
  },
  {
   "cell_type": "code",
   "execution_count": 22,
   "metadata": {
    "collapsed": false,
    "pycharm": {
     "name": "#%%\n"
    }
   },
   "outputs": [
    {
     "data": {
      "text/plain": "152"
     },
     "execution_count": 22,
     "metadata": {},
     "output_type": "execute_result"
    }
   ],
   "source": [
    "(ann_errd_ej_et['Recettes Groupe II ERRD'] < 0).sum()\n"
   ]
  },
  {
   "cell_type": "code",
   "execution_count": 23,
   "metadata": {
    "collapsed": false,
    "pycharm": {
     "name": "#%%\n"
    }
   },
   "outputs": [
    {
     "data": {
      "text/plain": "       Finess EJ     Finess  Année  MS Résultat net comptable ERRD  \\\n239    130804057  130790041   2019                       119775.57   \n288    210781266  890971294   2019                       107408.16   \n428    010785897  010006369   2020                        55760.98   \n594    010785897  010788388   2018                        70722.91   \n1822   010785947  010010619   2020                        25269.35   \n...          ...        ...    ...                             ...   \n30823  940004088  910015148   2018                         4734.90   \n31126  940004088  940006208   2019                        71228.27   \n31555  750829962  750052193   2020                      -106881.81   \n31556  750830275  780701983   2019                        56656.14   \n31557  750830275  950680256   2020                       -90855.77   \n\n       655 Quotes-parts de résultat sur opérations faites en commun  \\\n239                                           -176688.77              \n288                                            -27984.00              \n428                                            -11395.00              \n594                                                 0.00              \n1822                                            -7772.00              \n...                                                  ...              \n30823                                         -146801.12              \n31126                                         -133822.07              \n31555                                         -131749.00              \n31556                                          -50349.14              \n31557                                          -48841.64              \n\n       Dépenses Groupe I ERRD  Dépenses Groupe II ERRD  \\\n239                -522741.45              -1916653.86   \n288                -121593.01               -669169.90   \n428                 -37621.40               -289336.23   \n594                 -79156.75               -675409.11   \n1822                 -6197.64               -159869.49   \n...                       ...                      ...   \n30823              -760642.33              -2188587.32   \n31126              -751750.98              -2140087.34   \n31555              -961167.03              -3119441.92   \n31556               -27155.60               -389377.20   \n31557               -25486.57               -393746.88   \n\n       Dépenses Groupe III ERRD  Recettes Groupe I ERRD  \\\n239                  -414061.01              2895087.26   \n288                  -114401.03              1033733.67   \n428                   -25030.81               403111.51   \n594                   -18142.74               831741.09   \n1822                  -52370.34               235502.00   \n...                         ...                     ...   \n30823               -1284144.53              3535781.01   \n31126                -973939.61              3685812.14   \n31555               -1359908.38              5146716.41   \n31556                -126037.35               598463.91   \n31557                -101651.95               427532.84   \n\n       Recettes Groupe II ERRD  Recettes Groupe III ERRD  \n239                   -5485.05                  83629.68  \n288                  -24747.17                   3585.60  \n428                    -338.51                   4976.42  \n594                    -514.49                  12204.91  \n1822                   -817.58                   9022.40  \n...                        ...                       ...  \n30823                 -3042.70                 705370.77  \n31126                 -4922.66                 256116.72  \n31555                 -2394.33                 189313.44  \n31556                  -110.12                    872.50  \n31557                   -57.81                   2554.60  \n\n[152 rows x 11 columns]",
      "text/html": "<div>\n<style scoped>\n    .dataframe tbody tr th:only-of-type {\n        vertical-align: middle;\n    }\n\n    .dataframe tbody tr th {\n        vertical-align: top;\n    }\n\n    .dataframe thead th {\n        text-align: right;\n    }\n</style>\n<table border=\"1\" class=\"dataframe\">\n  <thead>\n    <tr style=\"text-align: right;\">\n      <th></th>\n      <th>Finess EJ</th>\n      <th>Finess</th>\n      <th>Année</th>\n      <th>MS Résultat net comptable ERRD</th>\n      <th>655 Quotes-parts de résultat sur opérations faites en commun</th>\n      <th>Dépenses Groupe I ERRD</th>\n      <th>Dépenses Groupe II ERRD</th>\n      <th>Dépenses Groupe III ERRD</th>\n      <th>Recettes Groupe I ERRD</th>\n      <th>Recettes Groupe II ERRD</th>\n      <th>Recettes Groupe III ERRD</th>\n    </tr>\n  </thead>\n  <tbody>\n    <tr>\n      <th>239</th>\n      <td>130804057</td>\n      <td>130790041</td>\n      <td>2019</td>\n      <td>119775.57</td>\n      <td>-176688.77</td>\n      <td>-522741.45</td>\n      <td>-1916653.86</td>\n      <td>-414061.01</td>\n      <td>2895087.26</td>\n      <td>-5485.05</td>\n      <td>83629.68</td>\n    </tr>\n    <tr>\n      <th>288</th>\n      <td>210781266</td>\n      <td>890971294</td>\n      <td>2019</td>\n      <td>107408.16</td>\n      <td>-27984.00</td>\n      <td>-121593.01</td>\n      <td>-669169.90</td>\n      <td>-114401.03</td>\n      <td>1033733.67</td>\n      <td>-24747.17</td>\n      <td>3585.60</td>\n    </tr>\n    <tr>\n      <th>428</th>\n      <td>010785897</td>\n      <td>010006369</td>\n      <td>2020</td>\n      <td>55760.98</td>\n      <td>-11395.00</td>\n      <td>-37621.40</td>\n      <td>-289336.23</td>\n      <td>-25030.81</td>\n      <td>403111.51</td>\n      <td>-338.51</td>\n      <td>4976.42</td>\n    </tr>\n    <tr>\n      <th>594</th>\n      <td>010785897</td>\n      <td>010788388</td>\n      <td>2018</td>\n      <td>70722.91</td>\n      <td>0.00</td>\n      <td>-79156.75</td>\n      <td>-675409.11</td>\n      <td>-18142.74</td>\n      <td>831741.09</td>\n      <td>-514.49</td>\n      <td>12204.91</td>\n    </tr>\n    <tr>\n      <th>1822</th>\n      <td>010785947</td>\n      <td>010010619</td>\n      <td>2020</td>\n      <td>25269.35</td>\n      <td>-7772.00</td>\n      <td>-6197.64</td>\n      <td>-159869.49</td>\n      <td>-52370.34</td>\n      <td>235502.00</td>\n      <td>-817.58</td>\n      <td>9022.40</td>\n    </tr>\n    <tr>\n      <th>...</th>\n      <td>...</td>\n      <td>...</td>\n      <td>...</td>\n      <td>...</td>\n      <td>...</td>\n      <td>...</td>\n      <td>...</td>\n      <td>...</td>\n      <td>...</td>\n      <td>...</td>\n      <td>...</td>\n    </tr>\n    <tr>\n      <th>30823</th>\n      <td>940004088</td>\n      <td>910015148</td>\n      <td>2018</td>\n      <td>4734.90</td>\n      <td>-146801.12</td>\n      <td>-760642.33</td>\n      <td>-2188587.32</td>\n      <td>-1284144.53</td>\n      <td>3535781.01</td>\n      <td>-3042.70</td>\n      <td>705370.77</td>\n    </tr>\n    <tr>\n      <th>31126</th>\n      <td>940004088</td>\n      <td>940006208</td>\n      <td>2019</td>\n      <td>71228.27</td>\n      <td>-133822.07</td>\n      <td>-751750.98</td>\n      <td>-2140087.34</td>\n      <td>-973939.61</td>\n      <td>3685812.14</td>\n      <td>-4922.66</td>\n      <td>256116.72</td>\n    </tr>\n    <tr>\n      <th>31555</th>\n      <td>750829962</td>\n      <td>750052193</td>\n      <td>2020</td>\n      <td>-106881.81</td>\n      <td>-131749.00</td>\n      <td>-961167.03</td>\n      <td>-3119441.92</td>\n      <td>-1359908.38</td>\n      <td>5146716.41</td>\n      <td>-2394.33</td>\n      <td>189313.44</td>\n    </tr>\n    <tr>\n      <th>31556</th>\n      <td>750830275</td>\n      <td>780701983</td>\n      <td>2019</td>\n      <td>56656.14</td>\n      <td>-50349.14</td>\n      <td>-27155.60</td>\n      <td>-389377.20</td>\n      <td>-126037.35</td>\n      <td>598463.91</td>\n      <td>-110.12</td>\n      <td>872.50</td>\n    </tr>\n    <tr>\n      <th>31557</th>\n      <td>750830275</td>\n      <td>950680256</td>\n      <td>2020</td>\n      <td>-90855.77</td>\n      <td>-48841.64</td>\n      <td>-25486.57</td>\n      <td>-393746.88</td>\n      <td>-101651.95</td>\n      <td>427532.84</td>\n      <td>-57.81</td>\n      <td>2554.60</td>\n    </tr>\n  </tbody>\n</table>\n<p>152 rows × 11 columns</p>\n</div>"
     },
     "execution_count": 23,
     "metadata": {},
     "output_type": "execute_result"
    }
   ],
   "source": [
    "ann_errd_ej_et[ann_errd_ej_et['Recettes Groupe II ERRD'] < 0]"
   ]
  },
  {
   "cell_type": "code",
   "execution_count": 24,
   "metadata": {
    "collapsed": false,
    "pycharm": {
     "name": "#%%\n"
    }
   },
   "outputs": [
    {
     "data": {
      "text/plain": "55"
     },
     "execution_count": 24,
     "metadata": {},
     "output_type": "execute_result"
    }
   ],
   "source": [
    "(ann_errd_ej_et['Recettes Groupe III ERRD'] < 0).sum()\n"
   ]
  },
  {
   "cell_type": "code",
   "execution_count": 25,
   "metadata": {
    "collapsed": false,
    "pycharm": {
     "name": "#%%\n"
    }
   },
   "outputs": [
    {
     "data": {
      "text/plain": "       Finess EJ     Finess  Année  MS Résultat net comptable ERRD  \\\n748    130022429  130022478   2018                    -10467.36999   \n1334   240002436  240008763   2019                      1928.26000   \n1371   060024957  060020708   2018                   -251683.18000   \n2353   140024449  140011628   2018                    -26766.17000   \n3540   130804115  130809767   2020                     99665.68000   \n3751   290007384  290030832   2019                      9249.64000   \n5182   2B0000020  2B0003628   2019                   -138465.71000   \n6876   340785880  340017763   2020                    332719.60000   \n7413   2A0001848  2A0002358   2019                     22468.55000   \n7893   260013321  260013545   2020                     38562.49000   \n8830   310781562  810009415   2019                     40969.57000   \n8845   370013948  370004186   2020                     10027.78000   \n9290   450000831  450002241   2019                     48729.18000   \n9750   060001054  060782505   2020                    -24001.60000   \n12212  560006132  560009573   2020                     33033.23000   \n12986  420787046  420789315   2020                      1906.87000   \n13739  560014649  350030599   2019                     12361.12000   \n13904  680021821  580005361   2020                     38901.26000   \n14781  450001094  450014162   2018                     -8666.17000   \n15912  120000351  120782396   2020                     45753.00000   \n17353  750050916  920800174   2020                    -37638.64000   \n18656  750719239  910012319   2019                     86700.03000   \n19080  760000539  140001066   2020                   -102190.85000   \n20796  830003356  830215349   2020                     -1979.83000   \n20820  690003751  690009329   2020                    -26854.12000   \n21220  690802715  690030903   2020                   -106488.93000   \n21865  690802715  690045505   2020                     54420.60000   \n22043  830017935  830017943   2018                      -931.23000   \n22207  750720930  920031473   2019                   -110850.36000   \n22397  750046518  440022960   2018                    -33569.32000   \n22512  780804472  780020103   2019                    -48198.36000   \n22581  750720930  920022761   2019                    196657.00000   \n22978  780804472  780825832   2020                     54692.15000   \n23002  830020210  830009908   2020                   -187730.02000   \n23167  920030152  950010868   2018                   -391272.86000   \n23389  750719239  910012319   2018                    -64094.93000   \n23509  750043713  310018874   2019                      4151.00000   \n23879  780804472  780801148   2020                    -60396.83000   \n23964  680021748  300013018   2020                     25748.04000   \n24804  780804472  780801148   2019                     76916.04000   \n25054  780804472  780012019   2020                    -94823.39000   \n25130  750058984  690801840   2018                    -26410.81000   \n25260  620018937  620105312   2018                     59268.88000   \n25511  770000875  770803492   2019                   -111723.72000   \n25922  860793090  860005842   2019                      -996.33000   \n26010  780804472  780825832   2019                     84083.83000   \n26569  820001998  820005783   2020                     57794.70000   \n27129  780804472  780020103   2020                   -160410.08000   \n27201  920030152  240013888   2018                    -60587.98000   \n27291  830000998  830200333   2018                     52417.19000   \n27293  830002309  830212155   2020                     26214.07000   \n27628  830003653  830216412   2018                    -15905.00000   \n28787  750719239  950783100   2018                    218294.76000   \n29464  780804472  780012019   2019                     22319.80000   \n30210  750059925  710974452   2018                    -97788.56000   \n\n       655 Quotes-parts de résultat sur opérations faites en commun  \\\n748                                                 0.00              \n1334                                                0.00              \n1371                                                0.00              \n2353                                                0.00              \n3540                                           -83747.90              \n3751                                           -60098.59              \n5182                                                0.00              \n6876                                                0.00              \n7413                                                0.00              \n7893                                                0.00              \n8830                                           -16871.00              \n8845                                                0.00              \n9290                                                0.00              \n9750                                                0.00              \n12212                                               0.00              \n12986                                          -66002.48              \n13739                                          -85565.40              \n13904                                               0.00              \n14781                                               0.00              \n15912                                               0.00              \n17353                                          -20445.36              \n18656                                          -28470.00              \n19080                                               0.00              \n20796                                               0.00              \n20820                                               0.00              \n21220                                          -16542.00              \n21865                                           -7722.00              \n22043                                               0.00              \n22207                                           -7457.40              \n22397                                               0.00              \n22512                                         -122623.32              \n22581                                          -67116.64              \n22978                                          -63270.54              \n23002                                               0.00              \n23167                                               0.00              \n23389                                          -17120.00              \n23509                                           -3381.00              \n23879                                          -74864.48              \n23964                                               0.00              \n24804                                          -60202.10              \n25054                                          -36100.37              \n25130                                               0.00              \n25260                                          -25308.00              \n25511                                               0.00              \n25922                                               0.00              \n26010                                          -58943.00              \n26569                                               0.00              \n27129                                         -128536.78              \n27201                                               0.00              \n27291                                               0.00              \n27293                                               0.00              \n27628                                               0.00              \n28787                                          -76670.00              \n29464                                          -33134.36              \n30210                                               0.00              \n\n       Dépenses Groupe I ERRD  Dépenses Groupe II ERRD  \\\n748              -80683.96999               -200111.74   \n1334             -59891.93000               -969784.45   \n1371             -86785.43000               -843830.34   \n2353             -52129.92000               -644195.99   \n3540            -295362.13000               -857501.65   \n3751             -87594.03000               -648860.58   \n5182            -279529.30000              -1011646.13   \n6876            -925874.27000              -3511354.29   \n7413              -7603.77000                -94563.24   \n7893              -6652.81000               -109304.32   \n8830             -39032.73000               -459215.17   \n8845             -31345.31000               -421689.21   \n9290            -573976.51000              -3353628.75   \n9750             -95411.42000               -737950.66   \n12212           -911853.16000              -4089449.64   \n12986           -487164.89000              -2375980.90   \n13739           -288329.96000              -1647079.31   \n13904           -110377.27000              -1321020.01   \n14781             -9446.35000               -235705.68   \n15912           -120230.65000              -1782922.00   \n17353           -134009.87000               -894077.98   \n18656           -326475.80000               -353628.41   \n19080           -142847.93000              -1916097.73   \n20796           -124406.30000              -1475995.32   \n20820            -65734.28000              -1548959.49   \n21220            -83021.57000               -373505.80   \n21865            -39315.85000               -210174.46   \n22043           -133485.86000              -1169094.19   \n22207            -19251.55000                -96855.82   \n22397            -91606.54000              -1306231.23   \n22512           -361168.43000              -1704681.11   \n22581           -153421.71000               -872210.57   \n22978            -68706.18000               -911113.51   \n23002           -193583.03000              -2563636.57   \n23167           -122283.85000              -1939297.98   \n23389           -264612.36000               -416085.07   \n23509            -80587.00000               -256590.00   \n23879           -230604.50000              -1054627.19   \n23964            -64269.54000              -1150525.87   \n24804           -201688.70000               -990563.09   \n25054            -78453.66000               -450536.82   \n25130            -89726.97000              -1373316.43   \n25260           -358908.82000              -1753609.86   \n25511           -142792.36000              -1191770.23   \n25922             -4315.35000               -101511.85   \n26010            -54994.55000               -898923.28   \n26569            -54349.69000               -634059.52   \n27129           -344247.73000              -1811775.52   \n27201            -65957.24000              -1122166.43   \n27291            -18435.80000               -463515.27   \n27293            -80819.67000               -945484.12   \n27628            -26247.80000               -326068.87   \n28787           -491049.60000              -3099220.58   \n29464            -98590.90000               -407559.85   \n30210            -76822.68000              -1433825.93   \n\n       Dépenses Groupe III ERRD  Recettes Groupe I ERRD  \\\n748                    -4612.98               286351.73   \n1334                  -92392.14              1124191.87   \n1371                   -9638.00               775401.59   \n2353                   -3507.00               691715.41   \n3540                 -330305.86              1532881.91   \n3751                 -140383.72               827774.77   \n5182                 -199522.57              1382990.20   \n6876                -1148576.64              5831797.62   \n7413                   -8298.25               165095.04   \n7893                  -18122.58               174002.39   \n8830                  -62120.93               601946.51   \n8845                   -3718.95               430622.31   \n9290                 -470863.72              4364668.79   \n9750                  -47911.03               907581.01   \n12212                -545980.77              5445299.91   \n12986                -302245.23              2926375.76   \n13739                -345181.93              2249663.98   \n13904                 -95933.38              1573614.97   \n14781                 -10320.44               245688.38   \n15912                 -21819.26              1935301.00   \n17353                -194770.68              1129125.08   \n18656                -142500.91               896795.90   \n19080                 -28639.81              1982295.63   \n20796                 -70946.19              1707096.48   \n20820                 -91191.89              1679610.95   \n21220                 -87470.24               446526.38   \n21865                 -57718.90               451813.10   \n22043                 -34555.54              1339026.36   \n22207                 -39700.18                40613.19   \n22397                 -53346.30              1426405.75   \n22512                -501466.83              2204067.56   \n22581                -360453.32              1568937.16   \n22978                -255933.79              1295877.00   \n23002                -107991.44              2744822.25   \n23167                -104346.83              1817296.08   \n23389                -126825.11               793032.57   \n23509                 -39295.00               382824.00   \n23879                -208262.33              1265191.31   \n23964                 -65559.69              1341542.91   \n24804                -218839.16              1275504.83   \n25054                -164605.01               563083.82   \n25130                 -33519.69              1490152.28   \n25260                -479143.27              2574806.59   \n25511                 -18885.72              1265724.59   \n25922                 -14856.45               119774.18   \n26010                -261553.46              1285450.00   \n26569                 -42277.11               789443.53   \n27129                -487475.52              2205938.14   \n27201                 -55485.89              1201148.60   \n27291                  -6321.00               543511.26   \n27293                 -70907.88              1189584.34   \n27628                  -1607.00               339841.67   \n28787                -435772.86              4118523.05   \n29464                -181695.81               667922.00   \n30210                 -45367.76              1647130.27   \n\n       Recettes Groupe II ERRD  Recettes Groupe III ERRD  \n748                       0.00                 -11410.41  \n1334                      0.00                   -195.09  \n1371                      0.00                 -86831.00  \n2353                      0.00                 -18648.67  \n3540                  52921.08                  -2967.67  \n3751                  58427.75                   -114.55  \n5182                      0.00                 -30757.91  \n6876                  95505.17                  -8777.99  \n7413                    402.26                 -32563.49  \n7893                      0.00                  -1360.19  \n8830                    242.07                   -850.18  \n8845                  36250.00                    -91.06  \n9290                 118373.86                 -35844.49  \n9750                      0.00                 -50309.50  \n12212                137744.40                  -2727.51  \n12986                240973.24                    -51.11  \n13739                 43334.05                    -45.71  \n13904                     0.00                  -7383.05  \n14781                  1253.79                   -135.87  \n15912                 92887.30                 -57463.39  \n17353                 57412.86                  -1318.05  \n18656                 42676.85                 -30167.60  \n19080                  4291.83                  -1192.84  \n20796                     0.00                 -37728.50  \n20820                     0.00                   -579.41  \n21220                   569.48                  -9587.18  \n21865                   133.07                 -90316.36  \n22043                     0.00                  -2822.00  \n22207                  4518.17                   -174.17  \n22397                     0.00                  -8791.00  \n22512                353625.63                 -38575.18  \n22581                 15373.00                  -1567.56  \n22978                 53960.78                 -59392.15  \n23002                     0.00                 -67341.23  \n23167                     0.00                 -42640.28  \n23389                 36753.91                 -86358.87  \n23509                  2071.00                  -4272.00  \n23879                194363.98                 -26458.10  \n23964                     0.00                 -35439.77  \n24804                226687.68                 -14185.52  \n25054                 39099.15                  -3410.87  \n25130                     0.00                 -20000.00  \n25260                 81585.34                  -5461.10  \n25511                     0.00                 -24000.00  \n25922                     0.00                    -86.86  \n26010                 34602.16                 -20497.04  \n26569                     0.00                   -962.51  \n27129                315623.74                 -38473.19  \n27201                     0.00                 -18127.02  \n27291                     0.00                  -2822.00  \n27293                     0.00                 -66158.60  \n27628                     0.00                  -1823.00  \n28787                127768.05                  -1953.30  \n29464                 45009.60                  -2765.24  \n30210               -121691.46                 -67211.00  ",
      "text/html": "<div>\n<style scoped>\n    .dataframe tbody tr th:only-of-type {\n        vertical-align: middle;\n    }\n\n    .dataframe tbody tr th {\n        vertical-align: top;\n    }\n\n    .dataframe thead th {\n        text-align: right;\n    }\n</style>\n<table border=\"1\" class=\"dataframe\">\n  <thead>\n    <tr style=\"text-align: right;\">\n      <th></th>\n      <th>Finess EJ</th>\n      <th>Finess</th>\n      <th>Année</th>\n      <th>MS Résultat net comptable ERRD</th>\n      <th>655 Quotes-parts de résultat sur opérations faites en commun</th>\n      <th>Dépenses Groupe I ERRD</th>\n      <th>Dépenses Groupe II ERRD</th>\n      <th>Dépenses Groupe III ERRD</th>\n      <th>Recettes Groupe I ERRD</th>\n      <th>Recettes Groupe II ERRD</th>\n      <th>Recettes Groupe III ERRD</th>\n    </tr>\n  </thead>\n  <tbody>\n    <tr>\n      <th>748</th>\n      <td>130022429</td>\n      <td>130022478</td>\n      <td>2018</td>\n      <td>-10467.36999</td>\n      <td>0.00</td>\n      <td>-80683.96999</td>\n      <td>-200111.74</td>\n      <td>-4612.98</td>\n      <td>286351.73</td>\n      <td>0.00</td>\n      <td>-11410.41</td>\n    </tr>\n    <tr>\n      <th>1334</th>\n      <td>240002436</td>\n      <td>240008763</td>\n      <td>2019</td>\n      <td>1928.26000</td>\n      <td>0.00</td>\n      <td>-59891.93000</td>\n      <td>-969784.45</td>\n      <td>-92392.14</td>\n      <td>1124191.87</td>\n      <td>0.00</td>\n      <td>-195.09</td>\n    </tr>\n    <tr>\n      <th>1371</th>\n      <td>060024957</td>\n      <td>060020708</td>\n      <td>2018</td>\n      <td>-251683.18000</td>\n      <td>0.00</td>\n      <td>-86785.43000</td>\n      <td>-843830.34</td>\n      <td>-9638.00</td>\n      <td>775401.59</td>\n      <td>0.00</td>\n      <td>-86831.00</td>\n    </tr>\n    <tr>\n      <th>2353</th>\n      <td>140024449</td>\n      <td>140011628</td>\n      <td>2018</td>\n      <td>-26766.17000</td>\n      <td>0.00</td>\n      <td>-52129.92000</td>\n      <td>-644195.99</td>\n      <td>-3507.00</td>\n      <td>691715.41</td>\n      <td>0.00</td>\n      <td>-18648.67</td>\n    </tr>\n    <tr>\n      <th>3540</th>\n      <td>130804115</td>\n      <td>130809767</td>\n      <td>2020</td>\n      <td>99665.68000</td>\n      <td>-83747.90</td>\n      <td>-295362.13000</td>\n      <td>-857501.65</td>\n      <td>-330305.86</td>\n      <td>1532881.91</td>\n      <td>52921.08</td>\n      <td>-2967.67</td>\n    </tr>\n    <tr>\n      <th>3751</th>\n      <td>290007384</td>\n      <td>290030832</td>\n      <td>2019</td>\n      <td>9249.64000</td>\n      <td>-60098.59</td>\n      <td>-87594.03000</td>\n      <td>-648860.58</td>\n      <td>-140383.72</td>\n      <td>827774.77</td>\n      <td>58427.75</td>\n      <td>-114.55</td>\n    </tr>\n    <tr>\n      <th>5182</th>\n      <td>2B0000020</td>\n      <td>2B0003628</td>\n      <td>2019</td>\n      <td>-138465.71000</td>\n      <td>0.00</td>\n      <td>-279529.30000</td>\n      <td>-1011646.13</td>\n      <td>-199522.57</td>\n      <td>1382990.20</td>\n      <td>0.00</td>\n      <td>-30757.91</td>\n    </tr>\n    <tr>\n      <th>6876</th>\n      <td>340785880</td>\n      <td>340017763</td>\n      <td>2020</td>\n      <td>332719.60000</td>\n      <td>0.00</td>\n      <td>-925874.27000</td>\n      <td>-3511354.29</td>\n      <td>-1148576.64</td>\n      <td>5831797.62</td>\n      <td>95505.17</td>\n      <td>-8777.99</td>\n    </tr>\n    <tr>\n      <th>7413</th>\n      <td>2A0001848</td>\n      <td>2A0002358</td>\n      <td>2019</td>\n      <td>22468.55000</td>\n      <td>0.00</td>\n      <td>-7603.77000</td>\n      <td>-94563.24</td>\n      <td>-8298.25</td>\n      <td>165095.04</td>\n      <td>402.26</td>\n      <td>-32563.49</td>\n    </tr>\n    <tr>\n      <th>7893</th>\n      <td>260013321</td>\n      <td>260013545</td>\n      <td>2020</td>\n      <td>38562.49000</td>\n      <td>0.00</td>\n      <td>-6652.81000</td>\n      <td>-109304.32</td>\n      <td>-18122.58</td>\n      <td>174002.39</td>\n      <td>0.00</td>\n      <td>-1360.19</td>\n    </tr>\n    <tr>\n      <th>8830</th>\n      <td>310781562</td>\n      <td>810009415</td>\n      <td>2019</td>\n      <td>40969.57000</td>\n      <td>-16871.00</td>\n      <td>-39032.73000</td>\n      <td>-459215.17</td>\n      <td>-62120.93</td>\n      <td>601946.51</td>\n      <td>242.07</td>\n      <td>-850.18</td>\n    </tr>\n    <tr>\n      <th>8845</th>\n      <td>370013948</td>\n      <td>370004186</td>\n      <td>2020</td>\n      <td>10027.78000</td>\n      <td>0.00</td>\n      <td>-31345.31000</td>\n      <td>-421689.21</td>\n      <td>-3718.95</td>\n      <td>430622.31</td>\n      <td>36250.00</td>\n      <td>-91.06</td>\n    </tr>\n    <tr>\n      <th>9290</th>\n      <td>450000831</td>\n      <td>450002241</td>\n      <td>2019</td>\n      <td>48729.18000</td>\n      <td>0.00</td>\n      <td>-573976.51000</td>\n      <td>-3353628.75</td>\n      <td>-470863.72</td>\n      <td>4364668.79</td>\n      <td>118373.86</td>\n      <td>-35844.49</td>\n    </tr>\n    <tr>\n      <th>9750</th>\n      <td>060001054</td>\n      <td>060782505</td>\n      <td>2020</td>\n      <td>-24001.60000</td>\n      <td>0.00</td>\n      <td>-95411.42000</td>\n      <td>-737950.66</td>\n      <td>-47911.03</td>\n      <td>907581.01</td>\n      <td>0.00</td>\n      <td>-50309.50</td>\n    </tr>\n    <tr>\n      <th>12212</th>\n      <td>560006132</td>\n      <td>560009573</td>\n      <td>2020</td>\n      <td>33033.23000</td>\n      <td>0.00</td>\n      <td>-911853.16000</td>\n      <td>-4089449.64</td>\n      <td>-545980.77</td>\n      <td>5445299.91</td>\n      <td>137744.40</td>\n      <td>-2727.51</td>\n    </tr>\n    <tr>\n      <th>12986</th>\n      <td>420787046</td>\n      <td>420789315</td>\n      <td>2020</td>\n      <td>1906.87000</td>\n      <td>-66002.48</td>\n      <td>-487164.89000</td>\n      <td>-2375980.90</td>\n      <td>-302245.23</td>\n      <td>2926375.76</td>\n      <td>240973.24</td>\n      <td>-51.11</td>\n    </tr>\n    <tr>\n      <th>13739</th>\n      <td>560014649</td>\n      <td>350030599</td>\n      <td>2019</td>\n      <td>12361.12000</td>\n      <td>-85565.40</td>\n      <td>-288329.96000</td>\n      <td>-1647079.31</td>\n      <td>-345181.93</td>\n      <td>2249663.98</td>\n      <td>43334.05</td>\n      <td>-45.71</td>\n    </tr>\n    <tr>\n      <th>13904</th>\n      <td>680021821</td>\n      <td>580005361</td>\n      <td>2020</td>\n      <td>38901.26000</td>\n      <td>0.00</td>\n      <td>-110377.27000</td>\n      <td>-1321020.01</td>\n      <td>-95933.38</td>\n      <td>1573614.97</td>\n      <td>0.00</td>\n      <td>-7383.05</td>\n    </tr>\n    <tr>\n      <th>14781</th>\n      <td>450001094</td>\n      <td>450014162</td>\n      <td>2018</td>\n      <td>-8666.17000</td>\n      <td>0.00</td>\n      <td>-9446.35000</td>\n      <td>-235705.68</td>\n      <td>-10320.44</td>\n      <td>245688.38</td>\n      <td>1253.79</td>\n      <td>-135.87</td>\n    </tr>\n    <tr>\n      <th>15912</th>\n      <td>120000351</td>\n      <td>120782396</td>\n      <td>2020</td>\n      <td>45753.00000</td>\n      <td>0.00</td>\n      <td>-120230.65000</td>\n      <td>-1782922.00</td>\n      <td>-21819.26</td>\n      <td>1935301.00</td>\n      <td>92887.30</td>\n      <td>-57463.39</td>\n    </tr>\n    <tr>\n      <th>17353</th>\n      <td>750050916</td>\n      <td>920800174</td>\n      <td>2020</td>\n      <td>-37638.64000</td>\n      <td>-20445.36</td>\n      <td>-134009.87000</td>\n      <td>-894077.98</td>\n      <td>-194770.68</td>\n      <td>1129125.08</td>\n      <td>57412.86</td>\n      <td>-1318.05</td>\n    </tr>\n    <tr>\n      <th>18656</th>\n      <td>750719239</td>\n      <td>910012319</td>\n      <td>2019</td>\n      <td>86700.03000</td>\n      <td>-28470.00</td>\n      <td>-326475.80000</td>\n      <td>-353628.41</td>\n      <td>-142500.91</td>\n      <td>896795.90</td>\n      <td>42676.85</td>\n      <td>-30167.60</td>\n    </tr>\n    <tr>\n      <th>19080</th>\n      <td>760000539</td>\n      <td>140001066</td>\n      <td>2020</td>\n      <td>-102190.85000</td>\n      <td>0.00</td>\n      <td>-142847.93000</td>\n      <td>-1916097.73</td>\n      <td>-28639.81</td>\n      <td>1982295.63</td>\n      <td>4291.83</td>\n      <td>-1192.84</td>\n    </tr>\n    <tr>\n      <th>20796</th>\n      <td>830003356</td>\n      <td>830215349</td>\n      <td>2020</td>\n      <td>-1979.83000</td>\n      <td>0.00</td>\n      <td>-124406.30000</td>\n      <td>-1475995.32</td>\n      <td>-70946.19</td>\n      <td>1707096.48</td>\n      <td>0.00</td>\n      <td>-37728.50</td>\n    </tr>\n    <tr>\n      <th>20820</th>\n      <td>690003751</td>\n      <td>690009329</td>\n      <td>2020</td>\n      <td>-26854.12000</td>\n      <td>0.00</td>\n      <td>-65734.28000</td>\n      <td>-1548959.49</td>\n      <td>-91191.89</td>\n      <td>1679610.95</td>\n      <td>0.00</td>\n      <td>-579.41</td>\n    </tr>\n    <tr>\n      <th>21220</th>\n      <td>690802715</td>\n      <td>690030903</td>\n      <td>2020</td>\n      <td>-106488.93000</td>\n      <td>-16542.00</td>\n      <td>-83021.57000</td>\n      <td>-373505.80</td>\n      <td>-87470.24</td>\n      <td>446526.38</td>\n      <td>569.48</td>\n      <td>-9587.18</td>\n    </tr>\n    <tr>\n      <th>21865</th>\n      <td>690802715</td>\n      <td>690045505</td>\n      <td>2020</td>\n      <td>54420.60000</td>\n      <td>-7722.00</td>\n      <td>-39315.85000</td>\n      <td>-210174.46</td>\n      <td>-57718.90</td>\n      <td>451813.10</td>\n      <td>133.07</td>\n      <td>-90316.36</td>\n    </tr>\n    <tr>\n      <th>22043</th>\n      <td>830017935</td>\n      <td>830017943</td>\n      <td>2018</td>\n      <td>-931.23000</td>\n      <td>0.00</td>\n      <td>-133485.86000</td>\n      <td>-1169094.19</td>\n      <td>-34555.54</td>\n      <td>1339026.36</td>\n      <td>0.00</td>\n      <td>-2822.00</td>\n    </tr>\n    <tr>\n      <th>22207</th>\n      <td>750720930</td>\n      <td>920031473</td>\n      <td>2019</td>\n      <td>-110850.36000</td>\n      <td>-7457.40</td>\n      <td>-19251.55000</td>\n      <td>-96855.82</td>\n      <td>-39700.18</td>\n      <td>40613.19</td>\n      <td>4518.17</td>\n      <td>-174.17</td>\n    </tr>\n    <tr>\n      <th>22397</th>\n      <td>750046518</td>\n      <td>440022960</td>\n      <td>2018</td>\n      <td>-33569.32000</td>\n      <td>0.00</td>\n      <td>-91606.54000</td>\n      <td>-1306231.23</td>\n      <td>-53346.30</td>\n      <td>1426405.75</td>\n      <td>0.00</td>\n      <td>-8791.00</td>\n    </tr>\n    <tr>\n      <th>22512</th>\n      <td>780804472</td>\n      <td>780020103</td>\n      <td>2019</td>\n      <td>-48198.36000</td>\n      <td>-122623.32</td>\n      <td>-361168.43000</td>\n      <td>-1704681.11</td>\n      <td>-501466.83</td>\n      <td>2204067.56</td>\n      <td>353625.63</td>\n      <td>-38575.18</td>\n    </tr>\n    <tr>\n      <th>22581</th>\n      <td>750720930</td>\n      <td>920022761</td>\n      <td>2019</td>\n      <td>196657.00000</td>\n      <td>-67116.64</td>\n      <td>-153421.71000</td>\n      <td>-872210.57</td>\n      <td>-360453.32</td>\n      <td>1568937.16</td>\n      <td>15373.00</td>\n      <td>-1567.56</td>\n    </tr>\n    <tr>\n      <th>22978</th>\n      <td>780804472</td>\n      <td>780825832</td>\n      <td>2020</td>\n      <td>54692.15000</td>\n      <td>-63270.54</td>\n      <td>-68706.18000</td>\n      <td>-911113.51</td>\n      <td>-255933.79</td>\n      <td>1295877.00</td>\n      <td>53960.78</td>\n      <td>-59392.15</td>\n    </tr>\n    <tr>\n      <th>23002</th>\n      <td>830020210</td>\n      <td>830009908</td>\n      <td>2020</td>\n      <td>-187730.02000</td>\n      <td>0.00</td>\n      <td>-193583.03000</td>\n      <td>-2563636.57</td>\n      <td>-107991.44</td>\n      <td>2744822.25</td>\n      <td>0.00</td>\n      <td>-67341.23</td>\n    </tr>\n    <tr>\n      <th>23167</th>\n      <td>920030152</td>\n      <td>950010868</td>\n      <td>2018</td>\n      <td>-391272.86000</td>\n      <td>0.00</td>\n      <td>-122283.85000</td>\n      <td>-1939297.98</td>\n      <td>-104346.83</td>\n      <td>1817296.08</td>\n      <td>0.00</td>\n      <td>-42640.28</td>\n    </tr>\n    <tr>\n      <th>23389</th>\n      <td>750719239</td>\n      <td>910012319</td>\n      <td>2018</td>\n      <td>-64094.93000</td>\n      <td>-17120.00</td>\n      <td>-264612.36000</td>\n      <td>-416085.07</td>\n      <td>-126825.11</td>\n      <td>793032.57</td>\n      <td>36753.91</td>\n      <td>-86358.87</td>\n    </tr>\n    <tr>\n      <th>23509</th>\n      <td>750043713</td>\n      <td>310018874</td>\n      <td>2019</td>\n      <td>4151.00000</td>\n      <td>-3381.00</td>\n      <td>-80587.00000</td>\n      <td>-256590.00</td>\n      <td>-39295.00</td>\n      <td>382824.00</td>\n      <td>2071.00</td>\n      <td>-4272.00</td>\n    </tr>\n    <tr>\n      <th>23879</th>\n      <td>780804472</td>\n      <td>780801148</td>\n      <td>2020</td>\n      <td>-60396.83000</td>\n      <td>-74864.48</td>\n      <td>-230604.50000</td>\n      <td>-1054627.19</td>\n      <td>-208262.33</td>\n      <td>1265191.31</td>\n      <td>194363.98</td>\n      <td>-26458.10</td>\n    </tr>\n    <tr>\n      <th>23964</th>\n      <td>680021748</td>\n      <td>300013018</td>\n      <td>2020</td>\n      <td>25748.04000</td>\n      <td>0.00</td>\n      <td>-64269.54000</td>\n      <td>-1150525.87</td>\n      <td>-65559.69</td>\n      <td>1341542.91</td>\n      <td>0.00</td>\n      <td>-35439.77</td>\n    </tr>\n    <tr>\n      <th>24804</th>\n      <td>780804472</td>\n      <td>780801148</td>\n      <td>2019</td>\n      <td>76916.04000</td>\n      <td>-60202.10</td>\n      <td>-201688.70000</td>\n      <td>-990563.09</td>\n      <td>-218839.16</td>\n      <td>1275504.83</td>\n      <td>226687.68</td>\n      <td>-14185.52</td>\n    </tr>\n    <tr>\n      <th>25054</th>\n      <td>780804472</td>\n      <td>780012019</td>\n      <td>2020</td>\n      <td>-94823.39000</td>\n      <td>-36100.37</td>\n      <td>-78453.66000</td>\n      <td>-450536.82</td>\n      <td>-164605.01</td>\n      <td>563083.82</td>\n      <td>39099.15</td>\n      <td>-3410.87</td>\n    </tr>\n    <tr>\n      <th>25130</th>\n      <td>750058984</td>\n      <td>690801840</td>\n      <td>2018</td>\n      <td>-26410.81000</td>\n      <td>0.00</td>\n      <td>-89726.97000</td>\n      <td>-1373316.43</td>\n      <td>-33519.69</td>\n      <td>1490152.28</td>\n      <td>0.00</td>\n      <td>-20000.00</td>\n    </tr>\n    <tr>\n      <th>25260</th>\n      <td>620018937</td>\n      <td>620105312</td>\n      <td>2018</td>\n      <td>59268.88000</td>\n      <td>-25308.00</td>\n      <td>-358908.82000</td>\n      <td>-1753609.86</td>\n      <td>-479143.27</td>\n      <td>2574806.59</td>\n      <td>81585.34</td>\n      <td>-5461.10</td>\n    </tr>\n    <tr>\n      <th>25511</th>\n      <td>770000875</td>\n      <td>770803492</td>\n      <td>2019</td>\n      <td>-111723.72000</td>\n      <td>0.00</td>\n      <td>-142792.36000</td>\n      <td>-1191770.23</td>\n      <td>-18885.72</td>\n      <td>1265724.59</td>\n      <td>0.00</td>\n      <td>-24000.00</td>\n    </tr>\n    <tr>\n      <th>25922</th>\n      <td>860793090</td>\n      <td>860005842</td>\n      <td>2019</td>\n      <td>-996.33000</td>\n      <td>0.00</td>\n      <td>-4315.35000</td>\n      <td>-101511.85</td>\n      <td>-14856.45</td>\n      <td>119774.18</td>\n      <td>0.00</td>\n      <td>-86.86</td>\n    </tr>\n    <tr>\n      <th>26010</th>\n      <td>780804472</td>\n      <td>780825832</td>\n      <td>2019</td>\n      <td>84083.83000</td>\n      <td>-58943.00</td>\n      <td>-54994.55000</td>\n      <td>-898923.28</td>\n      <td>-261553.46</td>\n      <td>1285450.00</td>\n      <td>34602.16</td>\n      <td>-20497.04</td>\n    </tr>\n    <tr>\n      <th>26569</th>\n      <td>820001998</td>\n      <td>820005783</td>\n      <td>2020</td>\n      <td>57794.70000</td>\n      <td>0.00</td>\n      <td>-54349.69000</td>\n      <td>-634059.52</td>\n      <td>-42277.11</td>\n      <td>789443.53</td>\n      <td>0.00</td>\n      <td>-962.51</td>\n    </tr>\n    <tr>\n      <th>27129</th>\n      <td>780804472</td>\n      <td>780020103</td>\n      <td>2020</td>\n      <td>-160410.08000</td>\n      <td>-128536.78</td>\n      <td>-344247.73000</td>\n      <td>-1811775.52</td>\n      <td>-487475.52</td>\n      <td>2205938.14</td>\n      <td>315623.74</td>\n      <td>-38473.19</td>\n    </tr>\n    <tr>\n      <th>27201</th>\n      <td>920030152</td>\n      <td>240013888</td>\n      <td>2018</td>\n      <td>-60587.98000</td>\n      <td>0.00</td>\n      <td>-65957.24000</td>\n      <td>-1122166.43</td>\n      <td>-55485.89</td>\n      <td>1201148.60</td>\n      <td>0.00</td>\n      <td>-18127.02</td>\n    </tr>\n    <tr>\n      <th>27291</th>\n      <td>830000998</td>\n      <td>830200333</td>\n      <td>2018</td>\n      <td>52417.19000</td>\n      <td>0.00</td>\n      <td>-18435.80000</td>\n      <td>-463515.27</td>\n      <td>-6321.00</td>\n      <td>543511.26</td>\n      <td>0.00</td>\n      <td>-2822.00</td>\n    </tr>\n    <tr>\n      <th>27293</th>\n      <td>830002309</td>\n      <td>830212155</td>\n      <td>2020</td>\n      <td>26214.07000</td>\n      <td>0.00</td>\n      <td>-80819.67000</td>\n      <td>-945484.12</td>\n      <td>-70907.88</td>\n      <td>1189584.34</td>\n      <td>0.00</td>\n      <td>-66158.60</td>\n    </tr>\n    <tr>\n      <th>27628</th>\n      <td>830003653</td>\n      <td>830216412</td>\n      <td>2018</td>\n      <td>-15905.00000</td>\n      <td>0.00</td>\n      <td>-26247.80000</td>\n      <td>-326068.87</td>\n      <td>-1607.00</td>\n      <td>339841.67</td>\n      <td>0.00</td>\n      <td>-1823.00</td>\n    </tr>\n    <tr>\n      <th>28787</th>\n      <td>750719239</td>\n      <td>950783100</td>\n      <td>2018</td>\n      <td>218294.76000</td>\n      <td>-76670.00</td>\n      <td>-491049.60000</td>\n      <td>-3099220.58</td>\n      <td>-435772.86</td>\n      <td>4118523.05</td>\n      <td>127768.05</td>\n      <td>-1953.30</td>\n    </tr>\n    <tr>\n      <th>29464</th>\n      <td>780804472</td>\n      <td>780012019</td>\n      <td>2019</td>\n      <td>22319.80000</td>\n      <td>-33134.36</td>\n      <td>-98590.90000</td>\n      <td>-407559.85</td>\n      <td>-181695.81</td>\n      <td>667922.00</td>\n      <td>45009.60</td>\n      <td>-2765.24</td>\n    </tr>\n    <tr>\n      <th>30210</th>\n      <td>750059925</td>\n      <td>710974452</td>\n      <td>2018</td>\n      <td>-97788.56000</td>\n      <td>0.00</td>\n      <td>-76822.68000</td>\n      <td>-1433825.93</td>\n      <td>-45367.76</td>\n      <td>1647130.27</td>\n      <td>-121691.46</td>\n      <td>-67211.00</td>\n    </tr>\n  </tbody>\n</table>\n</div>"
     },
     "execution_count": 25,
     "metadata": {},
     "output_type": "execute_result"
    }
   ],
   "source": [
    "ann_errd_ej_et[ann_errd_ej_et['Recettes Groupe III ERRD'] < 0]\n"
   ]
  },
  {
   "cell_type": "markdown",
   "metadata": {
    "collapsed": false
   },
   "source": [
    "#### Résultat"
   ]
  },
  {
   "cell_type": "code",
   "execution_count": 26,
   "metadata": {
    "collapsed": false,
    "pycharm": {
     "name": "#%%\n"
    }
   },
   "outputs": [],
   "source": [
    "résultat = ann_errd_ej_et['Recettes Groupe I ERRD'] + ann_errd_ej_et['Recettes Groupe II ERRD'] + ann_errd_ej_et[\n",
    "    'Recettes Groupe III ERRD'] + ann_errd_ej_et['Dépenses Groupe I ERRD'] + ann_errd_ej_et['Dépenses Groupe II ERRD'] + ann_errd_ej_et['Dépenses Groupe III ERRD']\n"
   ]
  },
  {
   "cell_type": "code",
   "execution_count": 27,
   "metadata": {
    "collapsed": false,
    "pycharm": {
     "name": "#%%\n"
    }
   },
   "outputs": [],
   "source": [
    "résultat.name = 'résultat'"
   ]
  },
  {
   "cell_type": "code",
   "execution_count": 28,
   "metadata": {
    "collapsed": false,
    "pycharm": {
     "name": "#%%\n"
    }
   },
   "outputs": [
    {
     "data": {
      "text/plain": "   Finess EJ     Finess  Année  MS Résultat net comptable ERRD  \\\n0  010780948  010780948   2018                          378.80   \n1  010780948  010788024   2018                      -102288.22   \n2  010780997  010788032   2018                       -18451.62   \n3  010783009  010002848   2020                       136159.29   \n4  010783009  010010601   2018                        63324.77   \n\n   655 Quotes-parts de résultat sur opérations faites en commun  \\\n0                                               0.00              \n1                                               0.00              \n2                                               0.00              \n3                                           -7473.18              \n4                                          -16575.00              \n\n   Dépenses Groupe I ERRD  Dépenses Groupe II ERRD  Dépenses Groupe III ERRD  \\\n0                -2766.62                -49830.38                 -15503.05   \n1             -1300952.94              -8251561.23               -1069927.25   \n2              -832473.95              -5186383.22                -966185.25   \n3               -19137.12               -652324.40                 -84315.29   \n4              -447890.76              -1660935.16                -514151.85   \n\n   Recettes Groupe I ERRD  Recettes Groupe II ERRD  Recettes Groupe III ERRD  \n0                    0.00                 66178.85                   2300.00  \n1              9974018.14                401046.88                 145088.18  \n2              6522515.58                263668.26                 180406.96  \n3               829865.20                 16782.70                  45288.20  \n4              2538151.42                  7293.53                 140857.59  ",
      "text/html": "<div>\n<style scoped>\n    .dataframe tbody tr th:only-of-type {\n        vertical-align: middle;\n    }\n\n    .dataframe tbody tr th {\n        vertical-align: top;\n    }\n\n    .dataframe thead th {\n        text-align: right;\n    }\n</style>\n<table border=\"1\" class=\"dataframe\">\n  <thead>\n    <tr style=\"text-align: right;\">\n      <th></th>\n      <th>Finess EJ</th>\n      <th>Finess</th>\n      <th>Année</th>\n      <th>MS Résultat net comptable ERRD</th>\n      <th>655 Quotes-parts de résultat sur opérations faites en commun</th>\n      <th>Dépenses Groupe I ERRD</th>\n      <th>Dépenses Groupe II ERRD</th>\n      <th>Dépenses Groupe III ERRD</th>\n      <th>Recettes Groupe I ERRD</th>\n      <th>Recettes Groupe II ERRD</th>\n      <th>Recettes Groupe III ERRD</th>\n    </tr>\n  </thead>\n  <tbody>\n    <tr>\n      <th>0</th>\n      <td>010780948</td>\n      <td>010780948</td>\n      <td>2018</td>\n      <td>378.80</td>\n      <td>0.00</td>\n      <td>-2766.62</td>\n      <td>-49830.38</td>\n      <td>-15503.05</td>\n      <td>0.00</td>\n      <td>66178.85</td>\n      <td>2300.00</td>\n    </tr>\n    <tr>\n      <th>1</th>\n      <td>010780948</td>\n      <td>010788024</td>\n      <td>2018</td>\n      <td>-102288.22</td>\n      <td>0.00</td>\n      <td>-1300952.94</td>\n      <td>-8251561.23</td>\n      <td>-1069927.25</td>\n      <td>9974018.14</td>\n      <td>401046.88</td>\n      <td>145088.18</td>\n    </tr>\n    <tr>\n      <th>2</th>\n      <td>010780997</td>\n      <td>010788032</td>\n      <td>2018</td>\n      <td>-18451.62</td>\n      <td>0.00</td>\n      <td>-832473.95</td>\n      <td>-5186383.22</td>\n      <td>-966185.25</td>\n      <td>6522515.58</td>\n      <td>263668.26</td>\n      <td>180406.96</td>\n    </tr>\n    <tr>\n      <th>3</th>\n      <td>010783009</td>\n      <td>010002848</td>\n      <td>2020</td>\n      <td>136159.29</td>\n      <td>-7473.18</td>\n      <td>-19137.12</td>\n      <td>-652324.40</td>\n      <td>-84315.29</td>\n      <td>829865.20</td>\n      <td>16782.70</td>\n      <td>45288.20</td>\n    </tr>\n    <tr>\n      <th>4</th>\n      <td>010783009</td>\n      <td>010010601</td>\n      <td>2018</td>\n      <td>63324.77</td>\n      <td>-16575.00</td>\n      <td>-447890.76</td>\n      <td>-1660935.16</td>\n      <td>-514151.85</td>\n      <td>2538151.42</td>\n      <td>7293.53</td>\n      <td>140857.59</td>\n    </tr>\n  </tbody>\n</table>\n</div>"
     },
     "execution_count": 28,
     "metadata": {},
     "output_type": "execute_result"
    }
   ],
   "source": [
    "ann_errd_ej_et.head()"
   ]
  },
  {
   "cell_type": "code",
   "execution_count": 29,
   "metadata": {
    "collapsed": false,
    "pycharm": {
     "name": "#%%\n"
    }
   },
   "outputs": [
    {
     "data": {
      "text/plain": "Finess                              0\nAnnée                               0\nMS Résultat net comptable ERRD    199\ndtype: int64"
     },
     "execution_count": 29,
     "metadata": {},
     "output_type": "execute_result"
    }
   ],
   "source": [
    "a_un_résultat_différent_que_la_somme_des_dépenses_et_recettes = ~(résultat.round(decimals=2) == ann_errd_ej_et['MS Résultat net comptable ERRD'].round(decimals=2))\n",
    "ann_errd_ej_et.loc[a_un_résultat_différent_que_la_somme_des_dépenses_et_recettes, [\"Finess\",\n",
    "                                                                                  \"Année\",\n",
    "                                                                                  \"MS Résultat net comptable ERRD\"]].isna().sum()\n"
   ]
  },
  {
   "cell_type": "code",
   "execution_count": 30,
   "metadata": {
    "collapsed": false,
    "pycharm": {
     "name": "#%%\n"
    }
   },
   "outputs": [
    {
     "data": {
      "text/plain": "199"
     },
     "execution_count": 30,
     "metadata": {},
     "output_type": "execute_result"
    }
   ],
   "source": [
    "a_un_résultat_différent_que_la_somme_des_dépenses_et_recettes.sum()"
   ]
  },
  {
   "cell_type": "code",
   "execution_count": 31,
   "metadata": {
    "collapsed": false,
    "pycharm": {
     "name": "#%%\n"
    }
   },
   "outputs": [
    {
     "data": {
      "text/plain": "          Finess  Année  MS Résultat net comptable ERRD\n283    210003349   2020                             NaN\n409    060022902   2020                             NaN\n598    020003984   2020                             NaN\n767    140015488   2018                             NaN\n1119   130802119   2020                             NaN\n...          ...    ...                             ...\n30354  910002385   2020                             NaN\n30413  890971302   2018                             NaN\n30955  2B0003636   2019                             NaN\n31338  560002305   2018                             NaN\n31574  780002663   2018                             NaN\n\n[199 rows x 3 columns]",
      "text/html": "<div>\n<style scoped>\n    .dataframe tbody tr th:only-of-type {\n        vertical-align: middle;\n    }\n\n    .dataframe tbody tr th {\n        vertical-align: top;\n    }\n\n    .dataframe thead th {\n        text-align: right;\n    }\n</style>\n<table border=\"1\" class=\"dataframe\">\n  <thead>\n    <tr style=\"text-align: right;\">\n      <th></th>\n      <th>Finess</th>\n      <th>Année</th>\n      <th>MS Résultat net comptable ERRD</th>\n    </tr>\n  </thead>\n  <tbody>\n    <tr>\n      <th>283</th>\n      <td>210003349</td>\n      <td>2020</td>\n      <td>NaN</td>\n    </tr>\n    <tr>\n      <th>409</th>\n      <td>060022902</td>\n      <td>2020</td>\n      <td>NaN</td>\n    </tr>\n    <tr>\n      <th>598</th>\n      <td>020003984</td>\n      <td>2020</td>\n      <td>NaN</td>\n    </tr>\n    <tr>\n      <th>767</th>\n      <td>140015488</td>\n      <td>2018</td>\n      <td>NaN</td>\n    </tr>\n    <tr>\n      <th>1119</th>\n      <td>130802119</td>\n      <td>2020</td>\n      <td>NaN</td>\n    </tr>\n    <tr>\n      <th>...</th>\n      <td>...</td>\n      <td>...</td>\n      <td>...</td>\n    </tr>\n    <tr>\n      <th>30354</th>\n      <td>910002385</td>\n      <td>2020</td>\n      <td>NaN</td>\n    </tr>\n    <tr>\n      <th>30413</th>\n      <td>890971302</td>\n      <td>2018</td>\n      <td>NaN</td>\n    </tr>\n    <tr>\n      <th>30955</th>\n      <td>2B0003636</td>\n      <td>2019</td>\n      <td>NaN</td>\n    </tr>\n    <tr>\n      <th>31338</th>\n      <td>560002305</td>\n      <td>2018</td>\n      <td>NaN</td>\n    </tr>\n    <tr>\n      <th>31574</th>\n      <td>780002663</td>\n      <td>2018</td>\n      <td>NaN</td>\n    </tr>\n  </tbody>\n</table>\n<p>199 rows × 3 columns</p>\n</div>"
     },
     "execution_count": 31,
     "metadata": {},
     "output_type": "execute_result"
    }
   ],
   "source": [
    "ann_errd_ej_et.loc[a_un_résultat_différent_que_la_somme_des_dépenses_et_recettes, [\"Finess\",\n",
    "                                                                                  \"Année\",\n",
    "                                                                                  \"MS Résultat net comptable ERRD\"]]"
   ]
  },
  {
   "cell_type": "markdown",
   "metadata": {
    "collapsed": false
   },
   "source": [
    "Les fois où le résultat n'est pas consistant avec la somme des recettes et des dépenses c'est parce qu'on n'a pas de valeur renseignée"
   ]
  },
  {
   "cell_type": "markdown",
   "metadata": {
    "collapsed": false
   },
   "source": [
    "#### 655 Quotes-parts de résultat sur opérations faites en commun\n"
   ]
  },
  {
   "cell_type": "markdown",
   "metadata": {
    "collapsed": false
   },
   "source": [
    "C'est un indicateur qui est positif sur notre maquette"
   ]
  },
  {
   "cell_type": "code",
   "execution_count": 32,
   "metadata": {
    "collapsed": false,
    "pycharm": {
     "name": "#%%\n"
    }
   },
   "outputs": [
    {
     "data": {
      "text/plain": "<AxesSubplot:>"
     },
     "execution_count": 32,
     "metadata": {},
     "output_type": "execute_result"
    },
    {
     "data": {
      "text/plain": "<Figure size 640x480 with 1 Axes>",
      "image/png": "[encoded data removed]"
     },
     "metadata": {},
     "output_type": "display_data"
    }
   ],
   "source": [
    "ann_errd_ej_et['655 Quotes-parts de résultat sur opérations faites en commun'].hist(bins=50)\n"
   ]
  },
  {
   "cell_type": "code",
   "execution_count": 33,
   "metadata": {
    "collapsed": false,
    "pycharm": {
     "name": "#%%\n"
    }
   },
   "outputs": [
    {
     "data": {
      "text/plain": "11293.95"
     },
     "execution_count": 33,
     "metadata": {},
     "output_type": "execute_result"
    }
   ],
   "source": [
    "ann_errd_ej_et['655 Quotes-parts de résultat sur opérations faites en commun'].max()\n"
   ]
  },
  {
   "cell_type": "code",
   "execution_count": 34,
   "metadata": {
    "collapsed": false,
    "pycharm": {
     "name": "#%%\n"
    }
   },
   "outputs": [
    {
     "data": {
      "text/plain": "6"
     },
     "execution_count": 34,
     "metadata": {},
     "output_type": "execute_result"
    }
   ],
   "source": [
    "(ann_errd_ej_et['655 Quotes-parts de résultat sur opérations faites en commun'] > 0).sum()\n"
   ]
  },
  {
   "cell_type": "code",
   "execution_count": 35,
   "metadata": {
    "collapsed": false,
    "pycharm": {
     "name": "#%%\n"
    }
   },
   "outputs": [
    {
     "data": {
      "text/plain": "       Finess EJ     Finess  Année  MS Résultat net comptable ERRD  \\\n5899   220001598  220005771   2020                        30513.47   \n9385   440002277  440003598   2018                      -203465.20   \n14574  530000330  530002229   2020                        21457.15   \n20111  440035079  440024701   2018                         2835.85   \n20347  670006469  670787894   2019                        26779.15   \n22915  730000205  730780392   2020                        65606.89   \n\n       655 Quotes-parts de résultat sur opérations faites en commun  \\\n5899                                               24.85              \n9385                                             1242.79              \n14574                                           11293.95              \n20111                                            1787.29              \n20347                                             280.02              \n22915                                            2873.41              \n\n       Dépenses Groupe I ERRD  Dépenses Groupe II ERRD  \\\n5899               -104309.57               -856643.35   \n9385               -324002.37              -1973783.79   \n14574              -475332.83              -2099133.21   \n20111              -636823.92              -2232417.26   \n20347             -1515847.18              -5669139.49   \n22915              -943313.84              -5354138.69   \n\n       Dépenses Groupe III ERRD  Recettes Groupe I ERRD  \\\n5899                 -181070.56               456084.16   \n9385                 -383022.09              2303838.11   \n14574                -315227.13              2762856.00   \n20111                -714290.25              3405500.63   \n20347                -959054.70              7240799.86   \n22915                -868083.06              6890716.35   \n\n       Recettes Groupe II ERRD  Recettes Groupe III ERRD  \n5899                 679972.00                  36480.79  \n9385                 165946.53                   7558.41  \n14574                 63159.68                  85134.64  \n20111                 18447.20                 162419.45  \n20347                845958.12                  84062.54  \n22915                127031.25                 213394.88  ",
      "text/html": "<div>\n<style scoped>\n    .dataframe tbody tr th:only-of-type {\n        vertical-align: middle;\n    }\n\n    .dataframe tbody tr th {\n        vertical-align: top;\n    }\n\n    .dataframe thead th {\n        text-align: right;\n    }\n</style>\n<table border=\"1\" class=\"dataframe\">\n  <thead>\n    <tr style=\"text-align: right;\">\n      <th></th>\n      <th>Finess EJ</th>\n      <th>Finess</th>\n      <th>Année</th>\n      <th>MS Résultat net comptable ERRD</th>\n      <th>655 Quotes-parts de résultat sur opérations faites en commun</th>\n      <th>Dépenses Groupe I ERRD</th>\n      <th>Dépenses Groupe II ERRD</th>\n      <th>Dépenses Groupe III ERRD</th>\n      <th>Recettes Groupe I ERRD</th>\n      <th>Recettes Groupe II ERRD</th>\n      <th>Recettes Groupe III ERRD</th>\n    </tr>\n  </thead>\n  <tbody>\n    <tr>\n      <th>5899</th>\n      <td>220001598</td>\n      <td>220005771</td>\n      <td>2020</td>\n      <td>30513.47</td>\n      <td>24.85</td>\n      <td>-104309.57</td>\n      <td>-856643.35</td>\n      <td>-181070.56</td>\n      <td>456084.16</td>\n      <td>679972.00</td>\n      <td>36480.79</td>\n    </tr>\n    <tr>\n      <th>9385</th>\n      <td>440002277</td>\n      <td>440003598</td>\n      <td>2018</td>\n      <td>-203465.20</td>\n      <td>1242.79</td>\n      <td>-324002.37</td>\n      <td>-1973783.79</td>\n      <td>-383022.09</td>\n      <td>2303838.11</td>\n      <td>165946.53</td>\n      <td>7558.41</td>\n    </tr>\n    <tr>\n      <th>14574</th>\n      <td>530000330</td>\n      <td>530002229</td>\n      <td>2020</td>\n      <td>21457.15</td>\n      <td>11293.95</td>\n      <td>-475332.83</td>\n      <td>-2099133.21</td>\n      <td>-315227.13</td>\n      <td>2762856.00</td>\n      <td>63159.68</td>\n      <td>85134.64</td>\n    </tr>\n    <tr>\n      <th>20111</th>\n      <td>440035079</td>\n      <td>440024701</td>\n      <td>2018</td>\n      <td>2835.85</td>\n      <td>1787.29</td>\n      <td>-636823.92</td>\n      <td>-2232417.26</td>\n      <td>-714290.25</td>\n      <td>3405500.63</td>\n      <td>18447.20</td>\n      <td>162419.45</td>\n    </tr>\n    <tr>\n      <th>20347</th>\n      <td>670006469</td>\n      <td>670787894</td>\n      <td>2019</td>\n      <td>26779.15</td>\n      <td>280.02</td>\n      <td>-1515847.18</td>\n      <td>-5669139.49</td>\n      <td>-959054.70</td>\n      <td>7240799.86</td>\n      <td>845958.12</td>\n      <td>84062.54</td>\n    </tr>\n    <tr>\n      <th>22915</th>\n      <td>730000205</td>\n      <td>730780392</td>\n      <td>2020</td>\n      <td>65606.89</td>\n      <td>2873.41</td>\n      <td>-943313.84</td>\n      <td>-5354138.69</td>\n      <td>-868083.06</td>\n      <td>6890716.35</td>\n      <td>127031.25</td>\n      <td>213394.88</td>\n    </tr>\n  </tbody>\n</table>\n</div>"
     },
     "execution_count": 35,
     "metadata": {},
     "output_type": "execute_result"
    }
   ],
   "source": [
    "ann_errd_ej_et[ann_errd_ej_et['655 Quotes-parts de résultat sur opérations faites en commun'] > 0]\n"
   ]
  },
  {
   "cell_type": "markdown",
   "metadata": {
    "collapsed": false
   },
   "source": [
    "Est-ce normal d'avoir des valeurs positives ?\n",
    "A priori non, c'est une charge des établissements donc négative\n"
   ]
  },
  {
   "cell_type": "markdown",
   "metadata": {
    "collapsed": false
   },
   "source": [
    "### Stats descriptives\n"
   ]
  },
  {
   "cell_type": "code",
   "execution_count": 36,
   "metadata": {
    "collapsed": false,
    "pycharm": {
     "name": "#%%\n"
    }
   },
   "outputs": [
    {
     "data": {
      "text/plain": "              Année  MS Résultat net comptable ERRD  \\\ncount  31727.000000                    3.152800e+04   \nmean    2019.100419                    2.350870e+04   \nstd        0.815403                    2.113686e+05   \nmin     2018.000000                   -1.118700e+07   \n25%     2018.000000                   -2.102406e+04   \n50%     2019.000000                    1.363797e+04   \n75%     2020.000000                    7.692921e+04   \nmax     2020.000000                    3.500944e+06   \n\n       655 Quotes-parts de résultat sur opérations faites en commun  \\\ncount                                       2.877400e+04              \nmean                                       -2.881825e+04              \nstd                                         6.396432e+04              \nmin                                        -1.542886e+06              \n25%                                        -3.454314e+04              \n50%                                         0.000000e+00              \n75%                                         0.000000e+00              \nmax                                         1.129395e+04              \n\n       Dépenses Groupe I ERRD  Dépenses Groupe II ERRD  \\\ncount            3.152800e+04             3.152800e+04   \nmean            -4.047973e+05            -1.864085e+06   \nstd              9.758329e+05             2.786087e+06   \nmin             -8.594111e+07            -2.388008e+08   \n25%             -5.079825e+05            -2.347455e+06   \n50%             -2.462952e+05            -1.528297e+06   \n75%             -8.364830e+04            -8.154321e+05   \nmax              0.000000e+00             6.813000e+03   \n\n       Dépenses Groupe III ERRD  Recettes Groupe I ERRD  \\\ncount              3.152800e+04            3.152800e+04   \nmean              -3.902103e+05            2.448667e+06   \nstd                6.108557e+05            3.700328e+06   \nmin               -4.401044e+07            0.000000e+00   \n25%               -5.609218e+05            9.675826e+05   \n50%               -2.643025e+05            1.850950e+06   \n75%               -6.213655e+04            3.212670e+06   \nmax                2.627074e+05            3.124881e+08   \n\n       Recettes Groupe II ERRD  Recettes Groupe III ERRD  \ncount             3.152800e+04              3.152800e+04  \nmean              1.610317e+05              7.290285e+04  \nstd               7.021782e+05              3.019658e+05  \nmin              -2.996012e+05             -9.031636e+04  \n25%               7.012675e+02              1.212463e+03  \n50%               3.424996e+04              2.133088e+04  \n75%               1.275396e+05              8.092569e+04  \nmax               4.412330e+07              4.291966e+07  ",
      "text/html": "<div>\n<style scoped>\n    .dataframe tbody tr th:only-of-type {\n        vertical-align: middle;\n    }\n\n    .dataframe tbody tr th {\n        vertical-align: top;\n    }\n\n    .dataframe thead th {\n        text-align: right;\n    }\n</style>\n<table border=\"1\" class=\"dataframe\">\n  <thead>\n    <tr style=\"text-align: right;\">\n      <th></th>\n      <th>Année</th>\n      <th>MS Résultat net comptable ERRD</th>\n      <th>655 Quotes-parts de résultat sur opérations faites en commun</th>\n      <th>Dépenses Groupe I ERRD</th>\n      <th>Dépenses Groupe II ERRD</th>\n      <th>Dépenses Groupe III ERRD</th>\n      <th>Recettes Groupe I ERRD</th>\n      <th>Recettes Groupe II ERRD</th>\n      <th>Recettes Groupe III ERRD</th>\n    </tr>\n  </thead>\n  <tbody>\n    <tr>\n      <th>count</th>\n      <td>31727.000000</td>\n      <td>3.152800e+04</td>\n      <td>2.877400e+04</td>\n      <td>3.152800e+04</td>\n      <td>3.152800e+04</td>\n      <td>3.152800e+04</td>\n      <td>3.152800e+04</td>\n      <td>3.152800e+04</td>\n      <td>3.152800e+04</td>\n    </tr>\n    <tr>\n      <th>mean</th>\n      <td>2019.100419</td>\n      <td>2.350870e+04</td>\n      <td>-2.881825e+04</td>\n      <td>-4.047973e+05</td>\n      <td>-1.864085e+06</td>\n      <td>-3.902103e+05</td>\n      <td>2.448667e+06</td>\n      <td>1.610317e+05</td>\n      <td>7.290285e+04</td>\n    </tr>\n    <tr>\n      <th>std</th>\n      <td>0.815403</td>\n      <td>2.113686e+05</td>\n      <td>6.396432e+04</td>\n      <td>9.758329e+05</td>\n      <td>2.786087e+06</td>\n      <td>6.108557e+05</td>\n      <td>3.700328e+06</td>\n      <td>7.021782e+05</td>\n      <td>3.019658e+05</td>\n    </tr>\n    <tr>\n      <th>min</th>\n      <td>2018.000000</td>\n      <td>-1.118700e+07</td>\n      <td>-1.542886e+06</td>\n      <td>-8.594111e+07</td>\n      <td>-2.388008e+08</td>\n      <td>-4.401044e+07</td>\n      <td>0.000000e+00</td>\n      <td>-2.996012e+05</td>\n      <td>-9.031636e+04</td>\n    </tr>\n    <tr>\n      <th>25%</th>\n      <td>2018.000000</td>\n      <td>-2.102406e+04</td>\n      <td>-3.454314e+04</td>\n      <td>-5.079825e+05</td>\n      <td>-2.347455e+06</td>\n      <td>-5.609218e+05</td>\n      <td>9.675826e+05</td>\n      <td>7.012675e+02</td>\n      <td>1.212463e+03</td>\n    </tr>\n    <tr>\n      <th>50%</th>\n      <td>2019.000000</td>\n      <td>1.363797e+04</td>\n      <td>0.000000e+00</td>\n      <td>-2.462952e+05</td>\n      <td>-1.528297e+06</td>\n      <td>-2.643025e+05</td>\n      <td>1.850950e+06</td>\n      <td>3.424996e+04</td>\n      <td>2.133088e+04</td>\n    </tr>\n    <tr>\n      <th>75%</th>\n      <td>2020.000000</td>\n      <td>7.692921e+04</td>\n      <td>0.000000e+00</td>\n      <td>-8.364830e+04</td>\n      <td>-8.154321e+05</td>\n      <td>-6.213655e+04</td>\n      <td>3.212670e+06</td>\n      <td>1.275396e+05</td>\n      <td>8.092569e+04</td>\n    </tr>\n    <tr>\n      <th>max</th>\n      <td>2020.000000</td>\n      <td>3.500944e+06</td>\n      <td>1.129395e+04</td>\n      <td>0.000000e+00</td>\n      <td>6.813000e+03</td>\n      <td>2.627074e+05</td>\n      <td>3.124881e+08</td>\n      <td>4.412330e+07</td>\n      <td>4.291966e+07</td>\n    </tr>\n  </tbody>\n</table>\n</div>"
     },
     "execution_count": 36,
     "metadata": {},
     "output_type": "execute_result"
    }
   ],
   "source": [
    "ann_errd_ej_et.describe()"
   ]
  },
  {
   "cell_type": "code",
   "execution_count": 37,
   "metadata": {
    "collapsed": false,
    "pycharm": {
     "name": "#%%\n"
    }
   },
   "outputs": [
    {
     "data": {
      "text/plain": "array([[<AxesSubplot:title={'center':'Dépenses Groupe II ERRD'}>,\n        <AxesSubplot:title={'center':'Dépenses Groupe III ERRD'}>,\n        <AxesSubplot:title={'center':'Recettes Groupe I ERRD'}>],\n       [<AxesSubplot:title={'center':'Recettes Groupe II ERRD'}>,\n        <AxesSubplot:title={'center':'Recettes Groupe III ERRD'}>,\n        <AxesSubplot:title={'center':'MS Résultat net comptable ERRD'}>],\n       [<AxesSubplot:title={'center':'655 Quotes-parts de résultat sur opérations faites en commun'}>,\n        <AxesSubplot:>, <AxesSubplot:>]], dtype=object)"
     },
     "execution_count": 37,
     "metadata": {},
     "output_type": "execute_result"
    },
    {
     "data": {
      "text/plain": "<Figure size 640x480 with 9 Axes>",
      "image/png": "[encoded data removed]"
     },
     "metadata": {},
     "output_type": "display_data"
    }
   ],
   "source": [
    "ann_errd_ej_et[[\n",
    "    'Dépenses Groupe II ERRD',\n",
    "    'Dépenses Groupe III ERRD',\n",
    "    'Recettes Groupe I ERRD',\n",
    "    'Recettes Groupe II ERRD',\n",
    "    'Recettes Groupe III ERRD',\n",
    "    'MS Résultat net comptable ERRD',\n",
    "    '655 Quotes-parts de résultat sur opérations faites en commun']].hist(bins=25)"
   ]
  },
  {
   "cell_type": "markdown",
   "metadata": {
    "collapsed": false
   },
   "source": [
    "## ANN_CA_EJ_ET et ANN_ERRD_EJ_ET sont-ils bien disjoints ?\n"
   ]
  },
  {
   "cell_type": "code",
   "execution_count": 38,
   "metadata": {
    "collapsed": false,
    "pycharm": {
     "name": "#%%\n"
    }
   },
   "outputs": [],
   "source": [
    "finess_ann_ca_ej_et = set(ann_ca_ej_et['Finess'])"
   ]
  },
  {
   "cell_type": "code",
   "execution_count": 39,
   "metadata": {
    "collapsed": false,
    "pycharm": {
     "name": "#%%\n"
    }
   },
   "outputs": [],
   "source": [
    "finess_ann_errd_ej_et = set(ann_errd_ej_et['Finess'])"
   ]
  },
  {
   "cell_type": "code",
   "execution_count": 40,
   "metadata": {
    "collapsed": false,
    "pycharm": {
     "name": "#%%\n"
    }
   },
   "outputs": [
    {
     "data": {
      "text/plain": "2574"
     },
     "execution_count": 40,
     "metadata": {},
     "output_type": "execute_result"
    }
   ],
   "source": [
    "len(finess_ann_ca_ej_et.intersection(finess_ann_errd_ej_et))"
   ]
  },
  {
   "cell_type": "code",
   "execution_count": 41,
   "metadata": {
    "collapsed": false,
    "pycharm": {
     "name": "#%%\n"
    }
   },
   "outputs": [
    {
     "data": {
      "text/plain": "    Finess EJ_x     Finess  Année  MS Résultat net comptable CA PH  \\\n0     010009132  010001436   2020                         26381.93   \n1     010009132  010001436   2019                          8406.58   \n2     010780120  010788263   2018                         48740.62   \n3     010785897  010784205   2018                          8432.03   \n4     030002158  030007397   2018                         80096.59   \n..          ...        ...    ...                              ...   \n218   940017304  750801375   2020                        270536.03   \n219   940810328  940016108   2020                         53134.43   \n220   940810328  940019219   2020                         47916.24   \n221   940810328  940025034   2020                        180654.92   \n222   970100202  970109807   2018                              NaN   \n\n     Taux de CAF CA PH  Taux vétusté Construction CA  \\\n0             0.197122                      0.657887   \n1             0.066363                           NaN   \n2             0.112033                           NaN   \n3             0.051205                           NaN   \n4             0.114864                           NaN   \n..                 ...                           ...   \n218           0.161629                           NaN   \n219           0.131885                           NaN   \n220           0.113875                           NaN   \n221           0.346752                           NaN   \n222                NaN                           NaN   \n\n     MS Résultat net comptable CA PA  Charges CA PA  Produits CA PA  \\\n0                                NaN            NaN             NaN   \n1                                NaN            NaN             NaN   \n2                                NaN            NaN             NaN   \n3                                NaN            NaN             NaN   \n4                                NaN            NaN             NaN   \n..                               ...            ...             ...   \n218                              NaN            NaN             NaN   \n219                              NaN            NaN             NaN   \n220                              NaN            NaN             NaN   \n221                              NaN            NaN             NaN   \n222                       -267749.86     -1722082.3      1454332.44   \n\n     Recettes Groupe I CA  ...  Dépenses Groupe III CA  Finess EJ_y  \\\n0               131977.72  ...                 -966.44    010009132   \n1               126461.21  ...                -4723.86    010009132   \n2               438885.13  ...               -17378.18    010780120   \n3              3945326.63  ...              -589927.51    010785897   \n4              1061894.35  ...              -131019.54    030002158   \n..                    ...  ...                     ...          ...   \n218            2480168.74  ...              -345486.64    940017304   \n219             406264.33  ...               -13130.82    940810328   \n220             438341.27  ...                -2002.56    940810328   \n221             567932.85  ...               -16276.96    940810328   \n222                   NaN  ...                     NaN    970100202   \n\n     MS Résultat net comptable ERRD  \\\n0                       10155.35000   \n1                       17223.71000   \n2                       48740.62000   \n3                       30215.93000   \n4                       80096.59001   \n..                              ...   \n218                    270536.03000   \n219                    462758.33000   \n220                    143350.84000   \n221                    531773.07000   \n222                   -218930.63000   \n\n     655 Quotes-parts de résultat sur opérations faites en commun  \\\n0                                                  NaN              \n1                                                  NaN              \n2                                                  NaN              \n3                                           -149865.00              \n4                                                  NaN              \n..                                                 ...              \n218                                          -40341.73              \n219                                         -123068.00              \n220                                          -62677.00              \n221                                          -54282.00              \n222                                                NaN              \n\n     Dépenses Groupe I ERRD Dépenses Groupe II ERRD  Dépenses Groupe III ERRD  \\\n0              -81852.31000              -808267.77                 -37935.12   \n1              -90409.18000              -742692.26                 -39444.41   \n2              -47572.44000              -344675.43                 -17378.18   \n3             -563038.02000             -3383305.56                -519147.03   \n4             -225170.65999              -635150.05                -131019.54   \n..                      ...                     ...                       ...   \n218            -82281.52000             -1790025.65                -345486.64   \n219           -591167.99000             -1515144.63                -698646.70   \n220           -300944.88000             -1115571.74                -255596.59   \n221           -236272.72000              -854591.38                -109539.57   \n222           -441622.26000             -1167480.45                -472161.04   \n\n     Recettes Groupe I ERRD  Recettes Groupe II ERRD  Recettes Groupe III ERRD  \n0                 903953.36                 34257.19                      0.00  \n1                 850229.68                 38364.60                   1175.28  \n2                 438885.13                 19481.54                      0.00  \n3                3980045.50                417409.79                  98251.25  \n4                1061894.35                  8880.41                    662.08  \n..                      ...                      ...                       ...  \n218              2480168.74                  5086.02                   3075.08  \n219              3189446.05                   288.35                  77983.25  \n220              1815460.40                     3.65                      0.00  \n221              1731820.25                   356.49                      0.00  \n222              1857509.81                  2791.63                   2031.68  \n\n[223 rows x 24 columns]",
      "text/html": "<div>\n<style scoped>\n    .dataframe tbody tr th:only-of-type {\n        vertical-align: middle;\n    }\n\n    .dataframe tbody tr th {\n        vertical-align: top;\n    }\n\n    .dataframe thead th {\n        text-align: right;\n    }\n</style>\n<table border=\"1\" class=\"dataframe\">\n  <thead>\n    <tr style=\"text-align: right;\">\n      <th></th>\n      <th>Finess EJ_x</th>\n      <th>Finess</th>\n      <th>Année</th>\n      <th>MS Résultat net comptable CA PH</th>\n      <th>Taux de CAF CA PH</th>\n      <th>Taux vétusté Construction CA</th>\n      <th>MS Résultat net comptable CA PA</th>\n      <th>Charges CA PA</th>\n      <th>Produits CA PA</th>\n      <th>Recettes Groupe I CA</th>\n      <th>...</th>\n      <th>Dépenses Groupe III CA</th>\n      <th>Finess EJ_y</th>\n      <th>MS Résultat net comptable ERRD</th>\n      <th>655 Quotes-parts de résultat sur opérations faites en commun</th>\n      <th>Dépenses Groupe I ERRD</th>\n      <th>Dépenses Groupe II ERRD</th>\n      <th>Dépenses Groupe III ERRD</th>\n      <th>Recettes Groupe I ERRD</th>\n      <th>Recettes Groupe II ERRD</th>\n      <th>Recettes Groupe III ERRD</th>\n    </tr>\n  </thead>\n  <tbody>\n    <tr>\n      <th>0</th>\n      <td>010009132</td>\n      <td>010001436</td>\n      <td>2020</td>\n      <td>26381.93</td>\n      <td>0.197122</td>\n      <td>0.657887</td>\n      <td>NaN</td>\n      <td>NaN</td>\n      <td>NaN</td>\n      <td>131977.72</td>\n      <td>...</td>\n      <td>-966.44</td>\n      <td>010009132</td>\n      <td>10155.35000</td>\n      <td>NaN</td>\n      <td>-81852.31000</td>\n      <td>-808267.77</td>\n      <td>-37935.12</td>\n      <td>903953.36</td>\n      <td>34257.19</td>\n      <td>0.00</td>\n    </tr>\n    <tr>\n      <th>1</th>\n      <td>010009132</td>\n      <td>010001436</td>\n      <td>2019</td>\n      <td>8406.58</td>\n      <td>0.066363</td>\n      <td>NaN</td>\n      <td>NaN</td>\n      <td>NaN</td>\n      <td>NaN</td>\n      <td>126461.21</td>\n      <td>...</td>\n      <td>-4723.86</td>\n      <td>010009132</td>\n      <td>17223.71000</td>\n      <td>NaN</td>\n      <td>-90409.18000</td>\n      <td>-742692.26</td>\n      <td>-39444.41</td>\n      <td>850229.68</td>\n      <td>38364.60</td>\n      <td>1175.28</td>\n    </tr>\n    <tr>\n      <th>2</th>\n      <td>010780120</td>\n      <td>010788263</td>\n      <td>2018</td>\n      <td>48740.62</td>\n      <td>0.112033</td>\n      <td>NaN</td>\n      <td>NaN</td>\n      <td>NaN</td>\n      <td>NaN</td>\n      <td>438885.13</td>\n      <td>...</td>\n      <td>-17378.18</td>\n      <td>010780120</td>\n      <td>48740.62000</td>\n      <td>NaN</td>\n      <td>-47572.44000</td>\n      <td>-344675.43</td>\n      <td>-17378.18</td>\n      <td>438885.13</td>\n      <td>19481.54</td>\n      <td>0.00</td>\n    </tr>\n    <tr>\n      <th>3</th>\n      <td>010785897</td>\n      <td>010784205</td>\n      <td>2018</td>\n      <td>8432.03</td>\n      <td>0.051205</td>\n      <td>NaN</td>\n      <td>NaN</td>\n      <td>NaN</td>\n      <td>NaN</td>\n      <td>3945326.63</td>\n      <td>...</td>\n      <td>-589927.51</td>\n      <td>010785897</td>\n      <td>30215.93000</td>\n      <td>-149865.00</td>\n      <td>-563038.02000</td>\n      <td>-3383305.56</td>\n      <td>-519147.03</td>\n      <td>3980045.50</td>\n      <td>417409.79</td>\n      <td>98251.25</td>\n    </tr>\n    <tr>\n      <th>4</th>\n      <td>030002158</td>\n      <td>030007397</td>\n      <td>2018</td>\n      <td>80096.59</td>\n      <td>0.114864</td>\n      <td>NaN</td>\n      <td>NaN</td>\n      <td>NaN</td>\n      <td>NaN</td>\n      <td>1061894.35</td>\n      <td>...</td>\n      <td>-131019.54</td>\n      <td>030002158</td>\n      <td>80096.59001</td>\n      <td>NaN</td>\n      <td>-225170.65999</td>\n      <td>-635150.05</td>\n      <td>-131019.54</td>\n      <td>1061894.35</td>\n      <td>8880.41</td>\n      <td>662.08</td>\n    </tr>\n    <tr>\n      <th>...</th>\n      <td>...</td>\n      <td>...</td>\n      <td>...</td>\n      <td>...</td>\n      <td>...</td>\n      <td>...</td>\n      <td>...</td>\n      <td>...</td>\n      <td>...</td>\n      <td>...</td>\n      <td>...</td>\n      <td>...</td>\n      <td>...</td>\n      <td>...</td>\n      <td>...</td>\n      <td>...</td>\n      <td>...</td>\n      <td>...</td>\n      <td>...</td>\n      <td>...</td>\n      <td>...</td>\n    </tr>\n    <tr>\n      <th>218</th>\n      <td>940017304</td>\n      <td>750801375</td>\n      <td>2020</td>\n      <td>270536.03</td>\n      <td>0.161629</td>\n      <td>NaN</td>\n      <td>NaN</td>\n      <td>NaN</td>\n      <td>NaN</td>\n      <td>2480168.74</td>\n      <td>...</td>\n      <td>-345486.64</td>\n      <td>940017304</td>\n      <td>270536.03000</td>\n      <td>-40341.73</td>\n      <td>-82281.52000</td>\n      <td>-1790025.65</td>\n      <td>-345486.64</td>\n      <td>2480168.74</td>\n      <td>5086.02</td>\n      <td>3075.08</td>\n    </tr>\n    <tr>\n      <th>219</th>\n      <td>940810328</td>\n      <td>940016108</td>\n      <td>2020</td>\n      <td>53134.43</td>\n      <td>0.131885</td>\n      <td>NaN</td>\n      <td>NaN</td>\n      <td>NaN</td>\n      <td>NaN</td>\n      <td>406264.33</td>\n      <td>...</td>\n      <td>-13130.82</td>\n      <td>940810328</td>\n      <td>462758.33000</td>\n      <td>-123068.00</td>\n      <td>-591167.99000</td>\n      <td>-1515144.63</td>\n      <td>-698646.70</td>\n      <td>3189446.05</td>\n      <td>288.35</td>\n      <td>77983.25</td>\n    </tr>\n    <tr>\n      <th>220</th>\n      <td>940810328</td>\n      <td>940019219</td>\n      <td>2020</td>\n      <td>47916.24</td>\n      <td>0.113875</td>\n      <td>NaN</td>\n      <td>NaN</td>\n      <td>NaN</td>\n      <td>NaN</td>\n      <td>438341.27</td>\n      <td>...</td>\n      <td>-2002.56</td>\n      <td>940810328</td>\n      <td>143350.84000</td>\n      <td>-62677.00</td>\n      <td>-300944.88000</td>\n      <td>-1115571.74</td>\n      <td>-255596.59</td>\n      <td>1815460.40</td>\n      <td>3.65</td>\n      <td>0.00</td>\n    </tr>\n    <tr>\n      <th>221</th>\n      <td>940810328</td>\n      <td>940025034</td>\n      <td>2020</td>\n      <td>180654.92</td>\n      <td>0.346752</td>\n      <td>NaN</td>\n      <td>NaN</td>\n      <td>NaN</td>\n      <td>NaN</td>\n      <td>567932.85</td>\n      <td>...</td>\n      <td>-16276.96</td>\n      <td>940810328</td>\n      <td>531773.07000</td>\n      <td>-54282.00</td>\n      <td>-236272.72000</td>\n      <td>-854591.38</td>\n      <td>-109539.57</td>\n      <td>1731820.25</td>\n      <td>356.49</td>\n      <td>0.00</td>\n    </tr>\n    <tr>\n      <th>222</th>\n      <td>970100202</td>\n      <td>970109807</td>\n      <td>2018</td>\n      <td>NaN</td>\n      <td>NaN</td>\n      <td>NaN</td>\n      <td>-267749.86</td>\n      <td>-1722082.3</td>\n      <td>1454332.44</td>\n      <td>NaN</td>\n      <td>...</td>\n      <td>NaN</td>\n      <td>970100202</td>\n      <td>-218930.63000</td>\n      <td>NaN</td>\n      <td>-441622.26000</td>\n      <td>-1167480.45</td>\n      <td>-472161.04</td>\n      <td>1857509.81</td>\n      <td>2791.63</td>\n      <td>2031.68</td>\n    </tr>\n  </tbody>\n</table>\n<p>223 rows × 24 columns</p>\n</div>"
     },
     "execution_count": 41,
     "metadata": {},
     "output_type": "execute_result"
    }
   ],
   "source": [
    "ann_ca_ej_et.merge(ann_errd_ej_et, on=['Finess', 'Année'], how='inner')\n"
   ]
  },
  {
   "cell_type": "code",
   "execution_count": 42,
   "metadata": {
    "collapsed": false,
    "pycharm": {
     "name": "#%%\n"
    }
   },
   "outputs": [
    {
     "data": {
      "text/plain": "        Finess  Année  Dépenses Groupe II ERRD  Dépenses Groupe III ERRD  \\\n0    030780621   2018               -841227.24                -208525.08   \n1    100010388   2018               -118547.96                 -19177.40   \n2    130031958   2018               -748637.80                -271762.33   \n3    140031618   2020               -163282.30                 -46438.48   \n4    010788263   2018               -344675.43                 -17378.18   \n..         ...    ...                      ...                       ...   \n218  360006225   2020                     0.00                      0.00   \n219  400786216   2019               -242567.62                 -17092.32   \n220  570012609   2020                     0.00                      0.00   \n221  630009223   2019              -1752478.14                -416869.18   \n222  950510040   2020              -1992849.49                -880676.16   \n\n     Recettes Groupe I ERRD  Recettes Groupe II ERRD  \\\n0                1201556.34                     0.00   \n1                 243125.38                 11209.36   \n2                1202073.70                 19160.95   \n3                 257222.42                   149.65   \n4                 438885.13                 19481.54   \n..                      ...                      ...   \n218                    0.00                     0.00   \n219               281519.28                     0.51   \n220                    0.00                     0.00   \n221              2438781.43                 55514.38   \n222              3054979.58                298889.85   \n\n     Recettes Groupe III ERRD  MS Résultat net comptable ERRD  \\\n0                    42948.30                        62526.29   \n1                     7414.81                        83922.72   \n2                    18578.65                       -26360.39   \n3                       22.49                        39811.04   \n4                        0.00                        48740.62   \n..                        ...                             ...   \n218                      0.00                            0.00   \n219                      0.00                        15342.29   \n220                      0.00                            0.00   \n221                  24337.01                       -18105.91   \n222                 200631.89                       232664.45   \n\n     Dépenses Groupe II CA  Dépenses Groupe III CA  Recettes Groupe I CA  \\\n0               -841227.24              -208525.08            1201556.34   \n1                      NaN                     NaN                   NaN   \n2               -325307.98               -12589.61             348160.00   \n3                     0.00                    0.00                  0.00   \n4               -348273.61               -17378.18             438885.13   \n..                     ...                     ...                   ...   \n218             -490033.11              -174667.80             893275.35   \n219             -242567.62               -17092.32             281519.28   \n220             -392029.61               -29235.99             520221.69   \n221            -1752478.14              -416869.18            2438781.43   \n222             -256075.15              -229370.52               5700.00   \n\n     Recettes Groupe II CA  Recettes Groupe III CA  \\\n0                     0.00                42948.30   \n1                      NaN                     NaN   \n2                  2565.00                 3229.73   \n3                     0.00                    0.00   \n4                 19481.54                    0.00   \n..                     ...                     ...   \n218               96506.10                    0.00   \n219                   0.51                    0.00   \n220               11241.32                  128.40   \n221               55514.38                24337.01   \n222              214168.00               270997.90   \n\n     MS Résultat net comptable CA PA  MS Résultat net comptable CA PH  \n0                                NaN                         62526.29  \n1                           82010.45                              NaN  \n2                                NaN                        -31340.87  \n3                                NaN                             0.00  \n4                                NaN                         48740.62  \n..                               ...                              ...  \n218                              NaN                        111658.65  \n219                              NaN                         15342.29  \n220                              NaN                         52933.21  \n221                              NaN                        -18105.91  \n222                              NaN                             0.00  \n\n[223 rows x 15 columns]",
      "text/html": "<div>\n<style scoped>\n    .dataframe tbody tr th:only-of-type {\n        vertical-align: middle;\n    }\n\n    .dataframe tbody tr th {\n        vertical-align: top;\n    }\n\n    .dataframe thead th {\n        text-align: right;\n    }\n</style>\n<table border=\"1\" class=\"dataframe\">\n  <thead>\n    <tr style=\"text-align: right;\">\n      <th></th>\n      <th>Finess</th>\n      <th>Année</th>\n      <th>Dépenses Groupe II ERRD</th>\n      <th>Dépenses Groupe III ERRD</th>\n      <th>Recettes Groupe I ERRD</th>\n      <th>Recettes Groupe II ERRD</th>\n      <th>Recettes Groupe III ERRD</th>\n      <th>MS Résultat net comptable ERRD</th>\n      <th>Dépenses Groupe II CA</th>\n      <th>Dépenses Groupe III CA</th>\n      <th>Recettes Groupe I CA</th>\n      <th>Recettes Groupe II CA</th>\n      <th>Recettes Groupe III CA</th>\n      <th>MS Résultat net comptable CA PA</th>\n      <th>MS Résultat net comptable CA PH</th>\n    </tr>\n  </thead>\n  <tbody>\n    <tr>\n      <th>0</th>\n      <td>030780621</td>\n      <td>2018</td>\n      <td>-841227.24</td>\n      <td>-208525.08</td>\n      <td>1201556.34</td>\n      <td>0.00</td>\n      <td>42948.30</td>\n      <td>62526.29</td>\n      <td>-841227.24</td>\n      <td>-208525.08</td>\n      <td>1201556.34</td>\n      <td>0.00</td>\n      <td>42948.30</td>\n      <td>NaN</td>\n      <td>62526.29</td>\n    </tr>\n    <tr>\n      <th>1</th>\n      <td>100010388</td>\n      <td>2018</td>\n      <td>-118547.96</td>\n      <td>-19177.40</td>\n      <td>243125.38</td>\n      <td>11209.36</td>\n      <td>7414.81</td>\n      <td>83922.72</td>\n      <td>NaN</td>\n      <td>NaN</td>\n      <td>NaN</td>\n      <td>NaN</td>\n      <td>NaN</td>\n      <td>82010.45</td>\n      <td>NaN</td>\n    </tr>\n    <tr>\n      <th>2</th>\n      <td>130031958</td>\n      <td>2018</td>\n      <td>-748637.80</td>\n      <td>-271762.33</td>\n      <td>1202073.70</td>\n      <td>19160.95</td>\n      <td>18578.65</td>\n      <td>-26360.39</td>\n      <td>-325307.98</td>\n      <td>-12589.61</td>\n      <td>348160.00</td>\n      <td>2565.00</td>\n      <td>3229.73</td>\n      <td>NaN</td>\n      <td>-31340.87</td>\n    </tr>\n    <tr>\n      <th>3</th>\n      <td>140031618</td>\n      <td>2020</td>\n      <td>-163282.30</td>\n      <td>-46438.48</td>\n      <td>257222.42</td>\n      <td>149.65</td>\n      <td>22.49</td>\n      <td>39811.04</td>\n      <td>0.00</td>\n      <td>0.00</td>\n      <td>0.00</td>\n      <td>0.00</td>\n      <td>0.00</td>\n      <td>NaN</td>\n      <td>0.00</td>\n    </tr>\n    <tr>\n      <th>4</th>\n      <td>010788263</td>\n      <td>2018</td>\n      <td>-344675.43</td>\n      <td>-17378.18</td>\n      <td>438885.13</td>\n      <td>19481.54</td>\n      <td>0.00</td>\n      <td>48740.62</td>\n      <td>-348273.61</td>\n      <td>-17378.18</td>\n      <td>438885.13</td>\n      <td>19481.54</td>\n      <td>0.00</td>\n      <td>NaN</td>\n      <td>48740.62</td>\n    </tr>\n    <tr>\n      <th>...</th>\n      <td>...</td>\n      <td>...</td>\n      <td>...</td>\n      <td>...</td>\n      <td>...</td>\n      <td>...</td>\n      <td>...</td>\n      <td>...</td>\n      <td>...</td>\n      <td>...</td>\n      <td>...</td>\n      <td>...</td>\n      <td>...</td>\n      <td>...</td>\n      <td>...</td>\n    </tr>\n    <tr>\n      <th>218</th>\n      <td>360006225</td>\n      <td>2020</td>\n      <td>0.00</td>\n      <td>0.00</td>\n      <td>0.00</td>\n      <td>0.00</td>\n      <td>0.00</td>\n      <td>0.00</td>\n      <td>-490033.11</td>\n      <td>-174667.80</td>\n      <td>893275.35</td>\n      <td>96506.10</td>\n      <td>0.00</td>\n      <td>NaN</td>\n      <td>111658.65</td>\n    </tr>\n    <tr>\n      <th>219</th>\n      <td>400786216</td>\n      <td>2019</td>\n      <td>-242567.62</td>\n      <td>-17092.32</td>\n      <td>281519.28</td>\n      <td>0.51</td>\n      <td>0.00</td>\n      <td>15342.29</td>\n      <td>-242567.62</td>\n      <td>-17092.32</td>\n      <td>281519.28</td>\n      <td>0.51</td>\n      <td>0.00</td>\n      <td>NaN</td>\n      <td>15342.29</td>\n    </tr>\n    <tr>\n      <th>220</th>\n      <td>570012609</td>\n      <td>2020</td>\n      <td>0.00</td>\n      <td>0.00</td>\n      <td>0.00</td>\n      <td>0.00</td>\n      <td>0.00</td>\n      <td>0.00</td>\n      <td>-392029.61</td>\n      <td>-29235.99</td>\n      <td>520221.69</td>\n      <td>11241.32</td>\n      <td>128.40</td>\n      <td>NaN</td>\n      <td>52933.21</td>\n    </tr>\n    <tr>\n      <th>221</th>\n      <td>630009223</td>\n      <td>2019</td>\n      <td>-1752478.14</td>\n      <td>-416869.18</td>\n      <td>2438781.43</td>\n      <td>55514.38</td>\n      <td>24337.01</td>\n      <td>-18105.91</td>\n      <td>-1752478.14</td>\n      <td>-416869.18</td>\n      <td>2438781.43</td>\n      <td>55514.38</td>\n      <td>24337.01</td>\n      <td>NaN</td>\n      <td>-18105.91</td>\n    </tr>\n    <tr>\n      <th>222</th>\n      <td>950510040</td>\n      <td>2020</td>\n      <td>-1992849.49</td>\n      <td>-880676.16</td>\n      <td>3054979.58</td>\n      <td>298889.85</td>\n      <td>200631.89</td>\n      <td>232664.45</td>\n      <td>-256075.15</td>\n      <td>-229370.52</td>\n      <td>5700.00</td>\n      <td>214168.00</td>\n      <td>270997.90</td>\n      <td>NaN</td>\n      <td>0.00</td>\n    </tr>\n  </tbody>\n</table>\n<p>223 rows × 15 columns</p>\n</div>"
     },
     "execution_count": 42,
     "metadata": {},
     "output_type": "execute_result"
    }
   ],
   "source": [
    "ann_errd_ej_et[[\n",
    "    'Finess',\n",
    "    'Année',\n",
    "    'Dépenses Groupe II ERRD',\n",
    "    'Dépenses Groupe III ERRD',\n",
    "    'Recettes Groupe I ERRD',\n",
    "    'Recettes Groupe II ERRD',\n",
    "    'Recettes Groupe III ERRD',\n",
    "    'MS Résultat net comptable ERRD']].merge(\n",
    "    ann_ca_ej_et[\n",
    "        [\n",
    "            'Finess',\n",
    "            'Année',\n",
    "            'Dépenses Groupe II CA',\n",
    "            'Dépenses Groupe III CA',\n",
    "            'Recettes Groupe I CA',\n",
    "            'Recettes Groupe II CA',\n",
    "            'Recettes Groupe III CA',\n",
    "            'MS Résultat net comptable CA PA',\n",
    "            'MS Résultat net comptable CA PH']\n",
    "    ],\n",
    "    on=['Finess', 'Année'],\n",
    "    how='inner'\n",
    ")"
   ]
  },
  {
   "cell_type": "markdown",
   "metadata": {
    "collapsed": false
   },
   "source": [
    "Que fait-on pour les établissements que l'on retrouve à la fois dans la catégorie CA et ERRD ?\n",
    "On privilégie les données issues de la catégorie ERRD"
   ]
  },
  {
   "cell_type": "markdown",
   "metadata": {
    "collapsed": false
   },
   "source": [
    "## ANN_CA_EJ_ET"
   ]
  },
  {
   "cell_type": "markdown",
   "metadata": {
    "collapsed": false
   },
   "source": [
    "### On s'attend à avoir une seule valeur par (Finess, Année)"
   ]
  },
  {
   "cell_type": "code",
   "execution_count": 43,
   "metadata": {
    "collapsed": false,
    "pycharm": {
     "name": "#%%\n"
    }
   },
   "outputs": [],
   "source": [
    "a_plus_d_une_donnée_par_finess_par_année = (ann_ca_ej_et.groupby(['Finess', 'Année']).nunique() > 1).any(axis=1)"
   ]
  },
  {
   "cell_type": "code",
   "execution_count": 44,
   "metadata": {
    "collapsed": false,
    "pycharm": {
     "name": "#%%\n"
    }
   },
   "outputs": [
    {
     "data": {
      "text/plain": "0"
     },
     "execution_count": 44,
     "metadata": {},
     "output_type": "execute_result"
    }
   ],
   "source": [
    "a_plus_d_une_donnée_par_finess_par_année.sum()"
   ]
  },
  {
   "cell_type": "markdown",
   "metadata": {
    "collapsed": false
   },
   "source": [
    "## Valeurs manquantes\n"
   ]
  },
  {
   "cell_type": "code",
   "execution_count": 45,
   "metadata": {},
   "outputs": [
    {
     "data": {
      "text/plain": "       Finess EJ     Finess  Année  MS Résultat net comptable CA PH  \\\n9      010009058  010009066   2020                              NaN   \n10     010009058  010009066   2019                              NaN   \n11     010009058  010009066   2018                              NaN   \n15     010009140  010009157   2020                              NaN   \n16     010009140  010009157   2019                              NaN   \n...          ...        ...    ...                              ...   \n18420  940017304  750040669   2020                              NaN   \n18781  970100202  970109807   2018                              NaN   \n18798  970100582  970109203   2018                              NaN   \n18897  970206777  970203360   2018                              NaN   \n18928  970213377  970210696   2018                              NaN   \n\n       Taux de CAF CA PH  Taux vétusté Construction CA  \\\n9                    NaN                           NaN   \n10                   NaN                           NaN   \n11                   NaN                           NaN   \n15                   NaN                           NaN   \n16                   NaN                           NaN   \n...                  ...                           ...   \n18420                NaN                           NaN   \n18781                NaN                           NaN   \n18798                NaN                           NaN   \n18897                NaN                           NaN   \n18928                NaN                           NaN   \n\n       MS Résultat net comptable CA PA  Charges CA PA  Produits CA PA  \\\n9                             18887.13     -177631.39       196518.52   \n10                            11986.65     -207285.97       219272.62   \n11                           -17920.75     -236730.55       218809.80   \n15                            -6629.09     -410049.38       403420.29   \n16                           -21289.24     -437574.88       416285.64   \n...                                ...            ...             ...   \n18420                         77197.84     -688440.38       765638.22   \n18781                       -267749.86    -1722082.30      1454332.44   \n18798                         -4893.14     -163952.97       159059.83   \n18897                       -189354.27     -759566.50       570212.23   \n18928                             0.00     -222697.34       222697.34   \n\n       Recettes Groupe I CA  Recettes Groupe II CA  Recettes Groupe III CA  \\\n9                       NaN                    NaN                     NaN   \n10                      NaN                    NaN                     NaN   \n11                      NaN                    NaN                     NaN   \n15                      NaN                    NaN                     NaN   \n16                      NaN                    NaN                     NaN   \n...                     ...                    ...                     ...   \n18420                   NaN                    NaN                     NaN   \n18781                   NaN                    NaN                     NaN   \n18798                   NaN                    NaN                     NaN   \n18897                   NaN                    NaN                     NaN   \n18928                   NaN                    NaN                     NaN   \n\n       Dépenses Groupe I CA  Dépenses Groupe II CA  Dépenses Groupe III CA  \n9                       NaN                    NaN                     NaN  \n10                      NaN                    NaN                     NaN  \n11                      NaN                    NaN                     NaN  \n15                      NaN                    NaN                     NaN  \n16                      NaN                    NaN                     NaN  \n...                     ...                    ...                     ...  \n18420                   NaN                    NaN                     NaN  \n18781                   NaN                    NaN                     NaN  \n18798                   NaN                    NaN                     NaN  \n18897                   NaN                    NaN                     NaN  \n18928                   NaN                    NaN                     NaN  \n\n[754 rows x 15 columns]",
      "text/html": "<div>\n<style scoped>\n    .dataframe tbody tr th:only-of-type {\n        vertical-align: middle;\n    }\n\n    .dataframe tbody tr th {\n        vertical-align: top;\n    }\n\n    .dataframe thead th {\n        text-align: right;\n    }\n</style>\n<table border=\"1\" class=\"dataframe\">\n  <thead>\n    <tr style=\"text-align: right;\">\n      <th></th>\n      <th>Finess EJ</th>\n      <th>Finess</th>\n      <th>Année</th>\n      <th>MS Résultat net comptable CA PH</th>\n      <th>Taux de CAF CA PH</th>\n      <th>Taux vétusté Construction CA</th>\n      <th>MS Résultat net comptable CA PA</th>\n      <th>Charges CA PA</th>\n      <th>Produits CA PA</th>\n      <th>Recettes Groupe I CA</th>\n      <th>Recettes Groupe II CA</th>\n      <th>Recettes Groupe III CA</th>\n      <th>Dépenses Groupe I CA</th>\n      <th>Dépenses Groupe II CA</th>\n      <th>Dépenses Groupe III CA</th>\n    </tr>\n  </thead>\n  <tbody>\n    <tr>\n      <th>9</th>\n      <td>010009058</td>\n      <td>010009066</td>\n      <td>2020</td>\n      <td>NaN</td>\n      <td>NaN</td>\n      <td>NaN</td>\n      <td>18887.13</td>\n      <td>-177631.39</td>\n      <td>196518.52</td>\n      <td>NaN</td>\n      <td>NaN</td>\n      <td>NaN</td>\n      <td>NaN</td>\n      <td>NaN</td>\n      <td>NaN</td>\n    </tr>\n    <tr>\n      <th>10</th>\n      <td>010009058</td>\n      <td>010009066</td>\n      <td>2019</td>\n      <td>NaN</td>\n      <td>NaN</td>\n      <td>NaN</td>\n      <td>11986.65</td>\n      <td>-207285.97</td>\n      <td>219272.62</td>\n      <td>NaN</td>\n      <td>NaN</td>\n      <td>NaN</td>\n      <td>NaN</td>\n      <td>NaN</td>\n      <td>NaN</td>\n    </tr>\n    <tr>\n      <th>11</th>\n      <td>010009058</td>\n      <td>010009066</td>\n      <td>2018</td>\n      <td>NaN</td>\n      <td>NaN</td>\n      <td>NaN</td>\n      <td>-17920.75</td>\n      <td>-236730.55</td>\n      <td>218809.80</td>\n      <td>NaN</td>\n      <td>NaN</td>\n      <td>NaN</td>\n      <td>NaN</td>\n      <td>NaN</td>\n      <td>NaN</td>\n    </tr>\n    <tr>\n      <th>15</th>\n      <td>010009140</td>\n      <td>010009157</td>\n      <td>2020</td>\n      <td>NaN</td>\n      <td>NaN</td>\n      <td>NaN</td>\n      <td>-6629.09</td>\n      <td>-410049.38</td>\n      <td>403420.29</td>\n      <td>NaN</td>\n      <td>NaN</td>\n      <td>NaN</td>\n      <td>NaN</td>\n      <td>NaN</td>\n      <td>NaN</td>\n    </tr>\n    <tr>\n      <th>16</th>\n      <td>010009140</td>\n      <td>010009157</td>\n      <td>2019</td>\n      <td>NaN</td>\n      <td>NaN</td>\n      <td>NaN</td>\n      <td>-21289.24</td>\n      <td>-437574.88</td>\n      <td>416285.64</td>\n      <td>NaN</td>\n      <td>NaN</td>\n      <td>NaN</td>\n      <td>NaN</td>\n      <td>NaN</td>\n      <td>NaN</td>\n    </tr>\n    <tr>\n      <th>...</th>\n      <td>...</td>\n      <td>...</td>\n      <td>...</td>\n      <td>...</td>\n      <td>...</td>\n      <td>...</td>\n      <td>...</td>\n      <td>...</td>\n      <td>...</td>\n      <td>...</td>\n      <td>...</td>\n      <td>...</td>\n      <td>...</td>\n      <td>...</td>\n      <td>...</td>\n    </tr>\n    <tr>\n      <th>18420</th>\n      <td>940017304</td>\n      <td>750040669</td>\n      <td>2020</td>\n      <td>NaN</td>\n      <td>NaN</td>\n      <td>NaN</td>\n      <td>77197.84</td>\n      <td>-688440.38</td>\n      <td>765638.22</td>\n      <td>NaN</td>\n      <td>NaN</td>\n      <td>NaN</td>\n      <td>NaN</td>\n      <td>NaN</td>\n      <td>NaN</td>\n    </tr>\n    <tr>\n      <th>18781</th>\n      <td>970100202</td>\n      <td>970109807</td>\n      <td>2018</td>\n      <td>NaN</td>\n      <td>NaN</td>\n      <td>NaN</td>\n      <td>-267749.86</td>\n      <td>-1722082.30</td>\n      <td>1454332.44</td>\n      <td>NaN</td>\n      <td>NaN</td>\n      <td>NaN</td>\n      <td>NaN</td>\n      <td>NaN</td>\n      <td>NaN</td>\n    </tr>\n    <tr>\n      <th>18798</th>\n      <td>970100582</td>\n      <td>970109203</td>\n      <td>2018</td>\n      <td>NaN</td>\n      <td>NaN</td>\n      <td>NaN</td>\n      <td>-4893.14</td>\n      <td>-163952.97</td>\n      <td>159059.83</td>\n      <td>NaN</td>\n      <td>NaN</td>\n      <td>NaN</td>\n      <td>NaN</td>\n      <td>NaN</td>\n      <td>NaN</td>\n    </tr>\n    <tr>\n      <th>18897</th>\n      <td>970206777</td>\n      <td>970203360</td>\n      <td>2018</td>\n      <td>NaN</td>\n      <td>NaN</td>\n      <td>NaN</td>\n      <td>-189354.27</td>\n      <td>-759566.50</td>\n      <td>570212.23</td>\n      <td>NaN</td>\n      <td>NaN</td>\n      <td>NaN</td>\n      <td>NaN</td>\n      <td>NaN</td>\n      <td>NaN</td>\n    </tr>\n    <tr>\n      <th>18928</th>\n      <td>970213377</td>\n      <td>970210696</td>\n      <td>2018</td>\n      <td>NaN</td>\n      <td>NaN</td>\n      <td>NaN</td>\n      <td>0.00</td>\n      <td>-222697.34</td>\n      <td>222697.34</td>\n      <td>NaN</td>\n      <td>NaN</td>\n      <td>NaN</td>\n      <td>NaN</td>\n      <td>NaN</td>\n      <td>NaN</td>\n    </tr>\n  </tbody>\n</table>\n<p>754 rows × 15 columns</p>\n</div>"
     },
     "execution_count": 45,
     "metadata": {},
     "output_type": "execute_result"
    }
   ],
   "source": [
    "ann_ca_ej_et[ann_ca_ej_et[\"Charges CA PA\"].isna() == False]"
   ]
  },
  {
   "cell_type": "code",
   "execution_count": 46,
   "metadata": {
    "collapsed": false,
    "pycharm": {
     "name": "#%%\n"
    }
   },
   "outputs": [
    {
     "data": {
      "text/plain": "Finess EJ                          0.000000\nFiness                             0.000000\nAnnée                              0.000000\nMS Résultat net comptable CA PH    0.039521\nTaux de CAF CA PH                  0.043042\nTaux vétusté Construction CA       0.787103\nMS Résultat net comptable CA PA    0.960374\nCharges CA PA                      0.960374\nProduits CA PA                     0.960374\nRecettes Groupe I CA               0.039521\nRecettes Groupe II CA              0.039521\nRecettes Groupe III CA             0.039521\nDépenses Groupe I CA               0.039521\nDépenses Groupe II CA              0.039521\nDépenses Groupe III CA             0.039521\ndtype: float64"
     },
     "execution_count": 46,
     "metadata": {},
     "output_type": "execute_result"
    }
   ],
   "source": [
    "ann_ca_ej_et.isna().sum() / ann_ca_ej_et.shape[0]"
   ]
  },
  {
   "cell_type": "code",
   "execution_count": 47,
   "metadata": {
    "collapsed": false,
    "pycharm": {
     "name": "#%%\n"
    }
   },
   "outputs": [
    {
     "data": {
      "text/plain": "9"
     },
     "execution_count": 47,
     "metadata": {},
     "output_type": "execute_result"
    }
   ],
   "source": [
    "aucune_valeur_de_résultat = (ann_ca_ej_et[\"MS Résultat net comptable CA PA\"].isna() & ann_ca_ej_et[\n",
    "    \"MS Résultat net comptable CA PH\"].isna())\n",
    "aucune_valeur_de_résultat.sum()"
   ]
  },
  {
   "cell_type": "code",
   "execution_count": 48,
   "metadata": {
    "collapsed": false,
    "pycharm": {
     "name": "#%%\n"
    }
   },
   "outputs": [
    {
     "data": {
      "text/plain": "       Finess EJ     Finess  Année  MS Résultat net comptable CA PH  \\\n4959   330790791  330785403   2020                              NaN   \n7381   460002439  460006331   2018                              NaN   \n11795  680012689  680012739   2018                              NaN   \n13012  730013307  730783859   2018                              NaN   \n13046  730784485  730783818   2018                              NaN   \n13977  750712341  750018749   2018                              NaN   \n13985  750712341  750047664   2018                              NaN   \n15206  750825846  910015189   2018                              NaN   \n16521  830210613  830201166   2018                              NaN   \n\n       Taux de CAF CA PH  Taux vétusté Construction CA  \\\n4959                 NaN                      0.379610   \n7381                 NaN                           NaN   \n11795                NaN                      0.374871   \n13012                NaN                           NaN   \n13046                NaN                           NaN   \n13977                NaN                           NaN   \n13985                NaN                           NaN   \n15206                NaN                           NaN   \n16521                NaN                      0.423614   \n\n       MS Résultat net comptable CA PA  Charges CA PA  Produits CA PA  \\\n4959                               NaN            NaN             NaN   \n7381                               NaN            NaN             NaN   \n11795                              NaN            NaN             NaN   \n13012                              NaN            NaN             NaN   \n13046                              NaN            NaN             NaN   \n13977                              NaN            NaN             NaN   \n13985                              NaN            NaN             NaN   \n15206                              NaN            NaN             NaN   \n16521                              NaN            NaN             NaN   \n\n       Recettes Groupe I CA  Recettes Groupe II CA  Recettes Groupe III CA  \\\n4959                    NaN                    NaN                     NaN   \n7381                    NaN                    NaN                     NaN   \n11795                   NaN                    NaN                     NaN   \n13012                   NaN                    NaN                     NaN   \n13046                   NaN                    NaN                     NaN   \n13977                   NaN                    NaN                     NaN   \n13985                   NaN                    NaN                     NaN   \n15206                   NaN                    NaN                     NaN   \n16521                   NaN                    NaN                     NaN   \n\n       Dépenses Groupe I CA  Dépenses Groupe II CA  Dépenses Groupe III CA  \n4959                    NaN                    NaN                     NaN  \n7381                    NaN                    NaN                     NaN  \n11795                   NaN                    NaN                     NaN  \n13012                   NaN                    NaN                     NaN  \n13046                   NaN                    NaN                     NaN  \n13977                   NaN                    NaN                     NaN  \n13985                   NaN                    NaN                     NaN  \n15206                   NaN                    NaN                     NaN  \n16521                   NaN                    NaN                     NaN  ",
      "text/html": "<div>\n<style scoped>\n    .dataframe tbody tr th:only-of-type {\n        vertical-align: middle;\n    }\n\n    .dataframe tbody tr th {\n        vertical-align: top;\n    }\n\n    .dataframe thead th {\n        text-align: right;\n    }\n</style>\n<table border=\"1\" class=\"dataframe\">\n  <thead>\n    <tr style=\"text-align: right;\">\n      <th></th>\n      <th>Finess EJ</th>\n      <th>Finess</th>\n      <th>Année</th>\n      <th>MS Résultat net comptable CA PH</th>\n      <th>Taux de CAF CA PH</th>\n      <th>Taux vétusté Construction CA</th>\n      <th>MS Résultat net comptable CA PA</th>\n      <th>Charges CA PA</th>\n      <th>Produits CA PA</th>\n      <th>Recettes Groupe I CA</th>\n      <th>Recettes Groupe II CA</th>\n      <th>Recettes Groupe III CA</th>\n      <th>Dépenses Groupe I CA</th>\n      <th>Dépenses Groupe II CA</th>\n      <th>Dépenses Groupe III CA</th>\n    </tr>\n  </thead>\n  <tbody>\n    <tr>\n      <th>4959</th>\n      <td>330790791</td>\n      <td>330785403</td>\n      <td>2020</td>\n      <td>NaN</td>\n      <td>NaN</td>\n      <td>0.379610</td>\n      <td>NaN</td>\n      <td>NaN</td>\n      <td>NaN</td>\n      <td>NaN</td>\n      <td>NaN</td>\n      <td>NaN</td>\n      <td>NaN</td>\n      <td>NaN</td>\n      <td>NaN</td>\n    </tr>\n    <tr>\n      <th>7381</th>\n      <td>460002439</td>\n      <td>460006331</td>\n      <td>2018</td>\n      <td>NaN</td>\n      <td>NaN</td>\n      <td>NaN</td>\n      <td>NaN</td>\n      <td>NaN</td>\n      <td>NaN</td>\n      <td>NaN</td>\n      <td>NaN</td>\n      <td>NaN</td>\n      <td>NaN</td>\n      <td>NaN</td>\n      <td>NaN</td>\n    </tr>\n    <tr>\n      <th>11795</th>\n      <td>680012689</td>\n      <td>680012739</td>\n      <td>2018</td>\n      <td>NaN</td>\n      <td>NaN</td>\n      <td>0.374871</td>\n      <td>NaN</td>\n      <td>NaN</td>\n      <td>NaN</td>\n      <td>NaN</td>\n      <td>NaN</td>\n      <td>NaN</td>\n      <td>NaN</td>\n      <td>NaN</td>\n      <td>NaN</td>\n    </tr>\n    <tr>\n      <th>13012</th>\n      <td>730013307</td>\n      <td>730783859</td>\n      <td>2018</td>\n      <td>NaN</td>\n      <td>NaN</td>\n      <td>NaN</td>\n      <td>NaN</td>\n      <td>NaN</td>\n      <td>NaN</td>\n      <td>NaN</td>\n      <td>NaN</td>\n      <td>NaN</td>\n      <td>NaN</td>\n      <td>NaN</td>\n      <td>NaN</td>\n    </tr>\n    <tr>\n      <th>13046</th>\n      <td>730784485</td>\n      <td>730783818</td>\n      <td>2018</td>\n      <td>NaN</td>\n      <td>NaN</td>\n      <td>NaN</td>\n      <td>NaN</td>\n      <td>NaN</td>\n      <td>NaN</td>\n      <td>NaN</td>\n      <td>NaN</td>\n      <td>NaN</td>\n      <td>NaN</td>\n      <td>NaN</td>\n      <td>NaN</td>\n    </tr>\n    <tr>\n      <th>13977</th>\n      <td>750712341</td>\n      <td>750018749</td>\n      <td>2018</td>\n      <td>NaN</td>\n      <td>NaN</td>\n      <td>NaN</td>\n      <td>NaN</td>\n      <td>NaN</td>\n      <td>NaN</td>\n      <td>NaN</td>\n      <td>NaN</td>\n      <td>NaN</td>\n      <td>NaN</td>\n      <td>NaN</td>\n      <td>NaN</td>\n    </tr>\n    <tr>\n      <th>13985</th>\n      <td>750712341</td>\n      <td>750047664</td>\n      <td>2018</td>\n      <td>NaN</td>\n      <td>NaN</td>\n      <td>NaN</td>\n      <td>NaN</td>\n      <td>NaN</td>\n      <td>NaN</td>\n      <td>NaN</td>\n      <td>NaN</td>\n      <td>NaN</td>\n      <td>NaN</td>\n      <td>NaN</td>\n      <td>NaN</td>\n    </tr>\n    <tr>\n      <th>15206</th>\n      <td>750825846</td>\n      <td>910015189</td>\n      <td>2018</td>\n      <td>NaN</td>\n      <td>NaN</td>\n      <td>NaN</td>\n      <td>NaN</td>\n      <td>NaN</td>\n      <td>NaN</td>\n      <td>NaN</td>\n      <td>NaN</td>\n      <td>NaN</td>\n      <td>NaN</td>\n      <td>NaN</td>\n      <td>NaN</td>\n    </tr>\n    <tr>\n      <th>16521</th>\n      <td>830210613</td>\n      <td>830201166</td>\n      <td>2018</td>\n      <td>NaN</td>\n      <td>NaN</td>\n      <td>0.423614</td>\n      <td>NaN</td>\n      <td>NaN</td>\n      <td>NaN</td>\n      <td>NaN</td>\n      <td>NaN</td>\n      <td>NaN</td>\n      <td>NaN</td>\n      <td>NaN</td>\n      <td>NaN</td>\n    </tr>\n  </tbody>\n</table>\n</div>"
     },
     "execution_count": 48,
     "metadata": {},
     "output_type": "execute_result"
    }
   ],
   "source": [
    "ann_ca_ej_et[aucune_valeur_de_résultat]"
   ]
  },
  {
   "cell_type": "markdown",
   "metadata": {
    "collapsed": false
   },
   "source": [
    "### Années renseignées"
   ]
  },
  {
   "cell_type": "code",
   "execution_count": 49,
   "metadata": {
    "collapsed": false,
    "pycharm": {
     "name": "#%%\n"
    }
   },
   "outputs": [
    {
     "data": {
      "text/plain": "<AxesSubplot:>"
     },
     "execution_count": 49,
     "metadata": {},
     "output_type": "execute_result"
    },
    {
     "data": {
      "text/plain": "<Figure size 640x480 with 1 Axes>",
      "image/png": "[encoded data removed]"
     },
     "metadata": {},
     "output_type": "display_data"
    }
   ],
   "source": [
    "ann_ca_ej_et.groupby('Finess').count()['Année'].hist()\n"
   ]
  },
  {
   "cell_type": "code",
   "execution_count": 50,
   "metadata": {
    "collapsed": false,
    "pycharm": {
     "name": "#%%\n"
    }
   },
   "outputs": [
    {
     "data": {
      "text/plain": "3"
     },
     "execution_count": 50,
     "metadata": {},
     "output_type": "execute_result"
    }
   ],
   "source": [
    "ann_ca_ej_et['Année'].nunique()"
   ]
  },
  {
   "cell_type": "code",
   "execution_count": 51,
   "metadata": {
    "collapsed": false,
    "pycharm": {
     "name": "#%%\n"
    }
   },
   "outputs": [
    {
     "data": {
      "text/plain": "<AxesSubplot:>"
     },
     "execution_count": 51,
     "metadata": {},
     "output_type": "execute_result"
    },
    {
     "data": {
      "text/plain": "<Figure size 640x480 with 1 Axes>",
      "image/png": "[encoded data removed]"
     },
     "metadata": {},
     "output_type": "display_data"
    }
   ],
   "source": [
    "ann_ca_ej_et['Année'].hist()"
   ]
  },
  {
   "cell_type": "code",
   "execution_count": 52,
   "metadata": {
    "collapsed": false,
    "pycharm": {
     "name": "#%%\n"
    }
   },
   "outputs": [
    {
     "data": {
      "text/plain": "2020"
     },
     "execution_count": 52,
     "metadata": {},
     "output_type": "execute_result"
    }
   ],
   "source": [
    "ann_ca_ej_et['Année'].max()"
   ]
  },
  {
   "cell_type": "markdown",
   "metadata": {
    "collapsed": false,
    "pycharm": {
     "name": "#%% md\n"
    }
   },
   "source": [
    "Dans l'autre fichier, on observait la tendance inverse : plus d'années récentes, moins d'années passées"
   ]
  },
  {
   "cell_type": "markdown",
   "metadata": {
    "collapsed": false
   },
   "source": [
    "### Valeurs manquantes par colonne"
   ]
  },
  {
   "cell_type": "code",
   "execution_count": 53,
   "metadata": {
    "collapsed": false,
    "pycharm": {
     "name": "#%%\n"
    }
   },
   "outputs": [],
   "source": [
    "nombre_d_établissements_dans_ann_ms_tdp_et = ann_ca_ej_et['Finess'].nunique()"
   ]
  },
  {
   "cell_type": "markdown",
   "metadata": {
    "collapsed": false
   },
   "source": [
    "#### % de valeurs manquantes par colonne"
   ]
  },
  {
   "cell_type": "code",
   "execution_count": 54,
   "metadata": {
    "collapsed": false,
    "pycharm": {
     "name": "#%%\n"
    }
   },
   "outputs": [
    {
     "data": {
      "text/plain": "MS Résultat net comptable CA PH    0.957444\nTaux de CAF CA PH                  0.950293\nTaux vétusté Construction CA       0.060610\nMS Résultat net comptable CA PA    0.041852\nCharges CA PA                      0.041852\nProduits CA PA                     0.041852\nRecettes Groupe I CA               0.957444\nRecettes Groupe II CA              0.957444\nRecettes Groupe III CA             0.957444\nDépenses Groupe I CA               0.957444\nDépenses Groupe II CA              0.957444\nDépenses Groupe III CA             0.957444\ndtype: float64"
     },
     "execution_count": 54,
     "metadata": {},
     "output_type": "execute_result"
    }
   ],
   "source": [
    "est_une_valeur_manquante = ann_ca_ej_et.drop('Finess EJ', axis=1).set_index(['Finess', 'Année']).isna().reset_index()\n",
    "établissement_avec_au_moins_une_valeur_renseignée = (~est_une_valeur_manquante.groupby(\n",
    "    'Finess').any().drop('Année', axis=1))\n",
    "établissement_avec_au_moins_une_valeur_renseignée.sum() / nombre_d_établissements_dans_ann_ms_tdp_et"
   ]
  },
  {
   "cell_type": "markdown",
   "metadata": {
    "collapsed": false,
    "pycharm": {
     "name": "#%% md\n"
    }
   },
   "source": [
    "On a beaucoup plus d'établissements pour lesquels le résultat est calculé en mode PA que PH"
   ]
  },
  {
   "cell_type": "markdown",
   "metadata": {
    "collapsed": false
   },
   "source": []
  },
  {
   "cell_type": "code",
   "execution_count": 55,
   "metadata": {
    "collapsed": false,
    "pycharm": {
     "name": "#%%\n"
    }
   },
   "outputs": [
    {
     "data": {
      "text/plain": "Finess EJ                          1.000000\nAnnée                              1.000000\nMS Résultat net comptable CA PH    0.955803\nTaux de CAF CA PH                  0.955451\nTaux vétusté Construction CA       0.366237\nMS Résultat net comptable CA PA    0.041970\nCharges CA PA                      0.042204\nProduits CA PA                     0.042087\nRecettes Groupe I CA               0.949941\nRecettes Groupe II CA              0.899179\nRecettes Groupe III CA             0.880070\nDépenses Groupe I CA               0.954513\nDépenses Groupe II CA              0.956506\nDépenses Groupe III CA             0.952872\ndtype: float64"
     },
     "execution_count": 55,
     "metadata": {},
     "output_type": "execute_result"
    }
   ],
   "source": [
    "ann_ca_ej_et.groupby('Finess').any().sum() / nombre_d_établissements_dans_ann_ms_tdp_et\n"
   ]
  },
  {
   "cell_type": "markdown",
   "metadata": {
    "collapsed": false
   },
   "source": [
    "0 équivaut à valeur manquante ? Dans quels cas ?"
   ]
  },
  {
   "cell_type": "markdown",
   "metadata": {
    "collapsed": false,
    "pycharm": {
     "name": "#%% md\n"
    }
   },
   "source": [
    "Que faire lorsque les recettes sont calculées en mode \"Charges / Produits\" ? On n'a pas la maquette"
   ]
  },
  {
   "cell_type": "markdown",
   "metadata": {
    "collapsed": false
   },
   "source": [
    "### Cohérence des données"
   ]
  },
  {
   "cell_type": "markdown",
   "metadata": {
    "collapsed": false
   },
   "source": [
    "#### Dépenses positives"
   ]
  },
  {
   "cell_type": "code",
   "execution_count": 56,
   "metadata": {
    "collapsed": false,
    "pycharm": {
     "name": "#%%\n"
    }
   },
   "outputs": [
    {
     "data": {
      "text/plain": "       Finess EJ     Finess  Année  MS Résultat net comptable CA PH  \\\n6498   410005722  410005946   2020                         39435.69   \n16489  830210092  830016986   2018                       3636436.43   \n\n       Taux de CAF CA PH  Taux vétusté Construction CA  \\\n6498            0.335129                           NaN   \n16489           0.993378                           NaN   \n\n       MS Résultat net comptable CA PA  Charges CA PA  Produits CA PA  \\\n6498                               NaN            NaN             NaN   \n16489                              NaN            NaN             NaN   \n\n       Recettes Groupe I CA  Recettes Groupe II CA  Recettes Groupe III CA  \\\n6498              209205.86               16235.76                11810.18   \n16489            3266502.98              280451.45               119600.87   \n\n       Dépenses Groupe I CA  Dépenses Groupe II CA  Dépenses Groupe III CA  \n6498               10200.53             -154036.15               -53980.49  \n16489              13424.99               -4908.98               -38634.88  ",
      "text/html": "<div>\n<style scoped>\n    .dataframe tbody tr th:only-of-type {\n        vertical-align: middle;\n    }\n\n    .dataframe tbody tr th {\n        vertical-align: top;\n    }\n\n    .dataframe thead th {\n        text-align: right;\n    }\n</style>\n<table border=\"1\" class=\"dataframe\">\n  <thead>\n    <tr style=\"text-align: right;\">\n      <th></th>\n      <th>Finess EJ</th>\n      <th>Finess</th>\n      <th>Année</th>\n      <th>MS Résultat net comptable CA PH</th>\n      <th>Taux de CAF CA PH</th>\n      <th>Taux vétusté Construction CA</th>\n      <th>MS Résultat net comptable CA PA</th>\n      <th>Charges CA PA</th>\n      <th>Produits CA PA</th>\n      <th>Recettes Groupe I CA</th>\n      <th>Recettes Groupe II CA</th>\n      <th>Recettes Groupe III CA</th>\n      <th>Dépenses Groupe I CA</th>\n      <th>Dépenses Groupe II CA</th>\n      <th>Dépenses Groupe III CA</th>\n    </tr>\n  </thead>\n  <tbody>\n    <tr>\n      <th>6498</th>\n      <td>410005722</td>\n      <td>410005946</td>\n      <td>2020</td>\n      <td>39435.69</td>\n      <td>0.335129</td>\n      <td>NaN</td>\n      <td>NaN</td>\n      <td>NaN</td>\n      <td>NaN</td>\n      <td>209205.86</td>\n      <td>16235.76</td>\n      <td>11810.18</td>\n      <td>10200.53</td>\n      <td>-154036.15</td>\n      <td>-53980.49</td>\n    </tr>\n    <tr>\n      <th>16489</th>\n      <td>830210092</td>\n      <td>830016986</td>\n      <td>2018</td>\n      <td>3636436.43</td>\n      <td>0.993378</td>\n      <td>NaN</td>\n      <td>NaN</td>\n      <td>NaN</td>\n      <td>NaN</td>\n      <td>3266502.98</td>\n      <td>280451.45</td>\n      <td>119600.87</td>\n      <td>13424.99</td>\n      <td>-4908.98</td>\n      <td>-38634.88</td>\n    </tr>\n  </tbody>\n</table>\n</div>"
     },
     "execution_count": 56,
     "metadata": {},
     "output_type": "execute_result"
    }
   ],
   "source": [
    "(ann_ca_ej_et['Dépenses Groupe I CA'] > 0).sum()\n",
    "ann_ca_ej_et[ann_ca_ej_et['Dépenses Groupe I CA'] > 0]"
   ]
  },
  {
   "cell_type": "code",
   "execution_count": 57,
   "metadata": {
    "collapsed": false,
    "pycharm": {
     "name": "#%%\n"
    }
   },
   "outputs": [
    {
     "data": {
      "text/plain": "0"
     },
     "execution_count": 57,
     "metadata": {},
     "output_type": "execute_result"
    }
   ],
   "source": [
    "(ann_ca_ej_et['Dépenses Groupe II CA'] > 0).sum()"
   ]
  },
  {
   "cell_type": "code",
   "execution_count": 58,
   "metadata": {
    "collapsed": false,
    "pycharm": {
     "name": "#%%\n"
    }
   },
   "outputs": [
    {
     "data": {
      "text/plain": "       Finess EJ     Finess  Année  MS Résultat net comptable CA PH  \\\n3456   260013321  260010038   2018                         94070.69   \n4447   310788104  310020334   2018                         31783.74   \n6685   420787046  420009979   2019                         32420.08   \n7020   440018612  440029700   2020                         55772.16   \n7021   440018612  440029700   2019                         71134.61   \n7078   440031169  440045268   2019                         -3529.81   \n12230  690793435  750047631   2018                         29663.86   \n18600  940810328  940019219   2018                         56587.00   \n\n       Taux de CAF CA PH  Taux vétusté Construction CA  \\\n3456            0.210780                           NaN   \n4447            0.033289                      0.261784   \n6685            0.063308                           NaN   \n7020            0.372828                           NaN   \n7021            0.478533                           NaN   \n7078           -0.027780                           NaN   \n12230           0.026873                           NaN   \n18600           0.167949                           NaN   \n\n       MS Résultat net comptable CA PA  Charges CA PA  Produits CA PA  \\\n3456                               NaN            NaN             NaN   \n4447                               NaN            NaN             NaN   \n6685                               NaN            NaN             NaN   \n7020                               NaN            NaN             NaN   \n7021                               NaN            NaN             NaN   \n7078                               NaN            NaN             NaN   \n12230                              NaN            NaN             NaN   \n18600                              NaN            NaN             NaN   \n\n       Recettes Groupe I CA  Recettes Groupe II CA  Recettes Groupe III CA  \\\n3456              545751.49                7707.67               -28051.76   \n4447              929793.84                 770.87                    0.00   \n6685              405740.00                2497.57                    0.00   \n7020              155384.61                   0.00                  249.00   \n7021              153384.61                   0.00                18843.00   \n7078              212099.57                   0.00                    0.00   \n12230            1103854.06                   0.00                    0.00   \n18600             358205.00                 256.00                10240.00   \n\n       Dépenses Groupe I CA  Dépenses Groupe II CA  Dépenses Groupe III CA  \n3456             -110791.16             -375621.43                55075.88  \n4447              -84935.90             -814650.85                  805.78  \n6685               -5971.63             -376222.90                 6377.04  \n7020              -17299.55              -84783.47                 2221.57  \n7021              -24034.21              -77210.40                  151.61  \n7078              -44278.07             -173713.64                 2362.33  \n12230             -26272.82            -1048141.02                  223.64  \n18600             -24023.00             -292441.00                 4350.00  ",
      "text/html": "<div>\n<style scoped>\n    .dataframe tbody tr th:only-of-type {\n        vertical-align: middle;\n    }\n\n    .dataframe tbody tr th {\n        vertical-align: top;\n    }\n\n    .dataframe thead th {\n        text-align: right;\n    }\n</style>\n<table border=\"1\" class=\"dataframe\">\n  <thead>\n    <tr style=\"text-align: right;\">\n      <th></th>\n      <th>Finess EJ</th>\n      <th>Finess</th>\n      <th>Année</th>\n      <th>MS Résultat net comptable CA PH</th>\n      <th>Taux de CAF CA PH</th>\n      <th>Taux vétusté Construction CA</th>\n      <th>MS Résultat net comptable CA PA</th>\n      <th>Charges CA PA</th>\n      <th>Produits CA PA</th>\n      <th>Recettes Groupe I CA</th>\n      <th>Recettes Groupe II CA</th>\n      <th>Recettes Groupe III CA</th>\n      <th>Dépenses Groupe I CA</th>\n      <th>Dépenses Groupe II CA</th>\n      <th>Dépenses Groupe III CA</th>\n    </tr>\n  </thead>\n  <tbody>\n    <tr>\n      <th>3456</th>\n      <td>260013321</td>\n      <td>260010038</td>\n      <td>2018</td>\n      <td>94070.69</td>\n      <td>0.210780</td>\n      <td>NaN</td>\n      <td>NaN</td>\n      <td>NaN</td>\n      <td>NaN</td>\n      <td>545751.49</td>\n      <td>7707.67</td>\n      <td>-28051.76</td>\n      <td>-110791.16</td>\n      <td>-375621.43</td>\n      <td>55075.88</td>\n    </tr>\n    <tr>\n      <th>4447</th>\n      <td>310788104</td>\n      <td>310020334</td>\n      <td>2018</td>\n      <td>31783.74</td>\n      <td>0.033289</td>\n      <td>0.261784</td>\n      <td>NaN</td>\n      <td>NaN</td>\n      <td>NaN</td>\n      <td>929793.84</td>\n      <td>770.87</td>\n      <td>0.00</td>\n      <td>-84935.90</td>\n      <td>-814650.85</td>\n      <td>805.78</td>\n    </tr>\n    <tr>\n      <th>6685</th>\n      <td>420787046</td>\n      <td>420009979</td>\n      <td>2019</td>\n      <td>32420.08</td>\n      <td>0.063308</td>\n      <td>NaN</td>\n      <td>NaN</td>\n      <td>NaN</td>\n      <td>NaN</td>\n      <td>405740.00</td>\n      <td>2497.57</td>\n      <td>0.00</td>\n      <td>-5971.63</td>\n      <td>-376222.90</td>\n      <td>6377.04</td>\n    </tr>\n    <tr>\n      <th>7020</th>\n      <td>440018612</td>\n      <td>440029700</td>\n      <td>2020</td>\n      <td>55772.16</td>\n      <td>0.372828</td>\n      <td>NaN</td>\n      <td>NaN</td>\n      <td>NaN</td>\n      <td>NaN</td>\n      <td>155384.61</td>\n      <td>0.00</td>\n      <td>249.00</td>\n      <td>-17299.55</td>\n      <td>-84783.47</td>\n      <td>2221.57</td>\n    </tr>\n    <tr>\n      <th>7021</th>\n      <td>440018612</td>\n      <td>440029700</td>\n      <td>2019</td>\n      <td>71134.61</td>\n      <td>0.478533</td>\n      <td>NaN</td>\n      <td>NaN</td>\n      <td>NaN</td>\n      <td>NaN</td>\n      <td>153384.61</td>\n      <td>0.00</td>\n      <td>18843.00</td>\n      <td>-24034.21</td>\n      <td>-77210.40</td>\n      <td>151.61</td>\n    </tr>\n    <tr>\n      <th>7078</th>\n      <td>440031169</td>\n      <td>440045268</td>\n      <td>2019</td>\n      <td>-3529.81</td>\n      <td>-0.027780</td>\n      <td>NaN</td>\n      <td>NaN</td>\n      <td>NaN</td>\n      <td>NaN</td>\n      <td>212099.57</td>\n      <td>0.00</td>\n      <td>0.00</td>\n      <td>-44278.07</td>\n      <td>-173713.64</td>\n      <td>2362.33</td>\n    </tr>\n    <tr>\n      <th>12230</th>\n      <td>690793435</td>\n      <td>750047631</td>\n      <td>2018</td>\n      <td>29663.86</td>\n      <td>0.026873</td>\n      <td>NaN</td>\n      <td>NaN</td>\n      <td>NaN</td>\n      <td>NaN</td>\n      <td>1103854.06</td>\n      <td>0.00</td>\n      <td>0.00</td>\n      <td>-26272.82</td>\n      <td>-1048141.02</td>\n      <td>223.64</td>\n    </tr>\n    <tr>\n      <th>18600</th>\n      <td>940810328</td>\n      <td>940019219</td>\n      <td>2018</td>\n      <td>56587.00</td>\n      <td>0.167949</td>\n      <td>NaN</td>\n      <td>NaN</td>\n      <td>NaN</td>\n      <td>NaN</td>\n      <td>358205.00</td>\n      <td>256.00</td>\n      <td>10240.00</td>\n      <td>-24023.00</td>\n      <td>-292441.00</td>\n      <td>4350.00</td>\n    </tr>\n  </tbody>\n</table>\n</div>"
     },
     "execution_count": 58,
     "metadata": {},
     "output_type": "execute_result"
    }
   ],
   "source": [
    "(ann_ca_ej_et['Dépenses Groupe III CA'] > 0).sum()\n",
    "ann_ca_ej_et[ann_ca_ej_et['Dépenses Groupe III CA'] > 0]"
   ]
  },
  {
   "cell_type": "code",
   "execution_count": 59,
   "metadata": {
    "collapsed": false,
    "pycharm": {
     "name": "#%%\n"
    }
   },
   "outputs": [
    {
     "data": {
      "text/plain": "Empty DataFrame\nColumns: [Finess EJ, Finess, Année, MS Résultat net comptable CA PH, Taux de CAF CA PH, Taux vétusté Construction CA, MS Résultat net comptable CA PA, Charges CA PA, Produits CA PA, Recettes Groupe I CA, Recettes Groupe II CA, Recettes Groupe III CA, Dépenses Groupe I CA, Dépenses Groupe II CA, Dépenses Groupe III CA]\nIndex: []",
      "text/html": "<div>\n<style scoped>\n    .dataframe tbody tr th:only-of-type {\n        vertical-align: middle;\n    }\n\n    .dataframe tbody tr th {\n        vertical-align: top;\n    }\n\n    .dataframe thead th {\n        text-align: right;\n    }\n</style>\n<table border=\"1\" class=\"dataframe\">\n  <thead>\n    <tr style=\"text-align: right;\">\n      <th></th>\n      <th>Finess EJ</th>\n      <th>Finess</th>\n      <th>Année</th>\n      <th>MS Résultat net comptable CA PH</th>\n      <th>Taux de CAF CA PH</th>\n      <th>Taux vétusté Construction CA</th>\n      <th>MS Résultat net comptable CA PA</th>\n      <th>Charges CA PA</th>\n      <th>Produits CA PA</th>\n      <th>Recettes Groupe I CA</th>\n      <th>Recettes Groupe II CA</th>\n      <th>Recettes Groupe III CA</th>\n      <th>Dépenses Groupe I CA</th>\n      <th>Dépenses Groupe II CA</th>\n      <th>Dépenses Groupe III CA</th>\n    </tr>\n  </thead>\n  <tbody>\n  </tbody>\n</table>\n</div>"
     },
     "execution_count": 59,
     "metadata": {},
     "output_type": "execute_result"
    }
   ],
   "source": [
    "(ann_ca_ej_et['Charges CA PA'] > 0).sum()\n",
    "ann_ca_ej_et[ann_ca_ej_et['Charges CA PA'] > 0]"
   ]
  },
  {
   "cell_type": "markdown",
   "metadata": {
    "collapsed": false
   },
   "source": [
    "#### Recettes négatives\n"
   ]
  },
  {
   "cell_type": "code",
   "execution_count": 60,
   "metadata": {
    "collapsed": false,
    "pycharm": {
     "name": "#%%\n"
    }
   },
   "outputs": [
    {
     "data": {
      "text/plain": "0"
     },
     "execution_count": 60,
     "metadata": {},
     "output_type": "execute_result"
    }
   ],
   "source": [
    "(ann_ca_ej_et['Recettes Groupe I CA'] < 0).sum()"
   ]
  },
  {
   "cell_type": "code",
   "execution_count": 61,
   "metadata": {
    "collapsed": false,
    "pycharm": {
     "name": "#%%\n"
    }
   },
   "outputs": [
    {
     "data": {
      "text/plain": "96"
     },
     "execution_count": 61,
     "metadata": {},
     "output_type": "execute_result"
    }
   ],
   "source": [
    "(ann_ca_ej_et['Recettes Groupe II CA'] < 0).sum()\n"
   ]
  },
  {
   "cell_type": "code",
   "execution_count": 62,
   "metadata": {
    "collapsed": false,
    "pycharm": {
     "name": "#%%\n"
    }
   },
   "outputs": [
    {
     "data": {
      "text/plain": "       Finess EJ     Finess  Année  MS Résultat net comptable CA PH  \\\n117    020005211  020003679   2019                        220848.41   \n145    020005211  020018099   2020                        -33816.98   \n498    060013448  060020948   2020                         40509.36   \n499    060013448  060020948   2019                        -72358.27   \n514    060020443  040004087   2018                          2734.23   \n...          ...        ...    ...                              ...   \n18349  930813415  930690037   2020                        158396.21   \n18865  970111134  970104204   2019                         29616.35   \n18908  970209284  970210233   2020                         14513.07   \n18910  970209284  970210233   2018                         53093.02   \n18917  970209961  970209979   2020                         95051.94   \n\n       Taux de CAF CA PH  Taux vétusté Construction CA  \\\n117             0.271077                           NaN   \n145            -0.160963                           NaN   \n498             0.059992                           NaN   \n499            -0.033092                           NaN   \n514             0.041778                           NaN   \n...                  ...                           ...   \n18349           0.095180                           NaN   \n18865           0.066867                           NaN   \n18908           0.026357                           NaN   \n18910           0.314544                           NaN   \n18917           0.188655                           NaN   \n\n       MS Résultat net comptable CA PA  Charges CA PA  Produits CA PA  \\\n117                                NaN            NaN             NaN   \n145                                NaN            NaN             NaN   \n498                                NaN            NaN             NaN   \n499                                NaN            NaN             NaN   \n514                                NaN            NaN             NaN   \n...                                ...            ...             ...   \n18349                              NaN            NaN             NaN   \n18865                              NaN            NaN             NaN   \n18908                              NaN            NaN             NaN   \n18910                              NaN            NaN             NaN   \n18917                              NaN            NaN             NaN   \n\n       Recettes Groupe I CA  Recettes Groupe II CA  Recettes Groupe III CA  \\\n117              1672052.06                 -38.01               137168.59   \n145               106460.26                 -82.58                14429.10   \n498              1171974.52                -756.43                36076.10   \n499              1085999.97               -4228.41                78174.55   \n514                95290.39                 -19.81                  662.08   \n...                     ...                    ...                     ...   \n18349            2301823.32               -1819.08                44748.40   \n18865             568341.38                -734.05                12800.00   \n18908             656135.29               -1821.66                    0.00   \n18910             882511.09                -358.64                    0.00   \n18917             583790.22               -8482.08                39224.73   \n\n       Dépenses Groupe I CA  Dépenses Groupe II CA  Dépenses Groupe III CA  \n117              -186783.07             -975351.49              -426199.67  \n145                -5200.21             -109667.80               -39755.75  \n498               -74644.75             -980082.80              -112057.28  \n499               -52346.96            -1073179.50              -106777.92  \n514                -6082.67              -78626.76                -8489.00  \n...                     ...                    ...                     ...  \n18349            -315530.11            -1549508.63              -321317.69  \n18865             -72027.19             -411100.75               -67663.04  \n18908            -104065.27             -447697.66               -88037.63  \n18910            -136174.21             -387522.33              -305362.89  \n18917             -64172.44             -369074.42               -86234.07  \n\n[96 rows x 15 columns]",
      "text/html": "<div>\n<style scoped>\n    .dataframe tbody tr th:only-of-type {\n        vertical-align: middle;\n    }\n\n    .dataframe tbody tr th {\n        vertical-align: top;\n    }\n\n    .dataframe thead th {\n        text-align: right;\n    }\n</style>\n<table border=\"1\" class=\"dataframe\">\n  <thead>\n    <tr style=\"text-align: right;\">\n      <th></th>\n      <th>Finess EJ</th>\n      <th>Finess</th>\n      <th>Année</th>\n      <th>MS Résultat net comptable CA PH</th>\n      <th>Taux de CAF CA PH</th>\n      <th>Taux vétusté Construction CA</th>\n      <th>MS Résultat net comptable CA PA</th>\n      <th>Charges CA PA</th>\n      <th>Produits CA PA</th>\n      <th>Recettes Groupe I CA</th>\n      <th>Recettes Groupe II CA</th>\n      <th>Recettes Groupe III CA</th>\n      <th>Dépenses Groupe I CA</th>\n      <th>Dépenses Groupe II CA</th>\n      <th>Dépenses Groupe III CA</th>\n    </tr>\n  </thead>\n  <tbody>\n    <tr>\n      <th>117</th>\n      <td>020005211</td>\n      <td>020003679</td>\n      <td>2019</td>\n      <td>220848.41</td>\n      <td>0.271077</td>\n      <td>NaN</td>\n      <td>NaN</td>\n      <td>NaN</td>\n      <td>NaN</td>\n      <td>1672052.06</td>\n      <td>-38.01</td>\n      <td>137168.59</td>\n      <td>-186783.07</td>\n      <td>-975351.49</td>\n      <td>-426199.67</td>\n    </tr>\n    <tr>\n      <th>145</th>\n      <td>020005211</td>\n      <td>020018099</td>\n      <td>2020</td>\n      <td>-33816.98</td>\n      <td>-0.160963</td>\n      <td>NaN</td>\n      <td>NaN</td>\n      <td>NaN</td>\n      <td>NaN</td>\n      <td>106460.26</td>\n      <td>-82.58</td>\n      <td>14429.10</td>\n      <td>-5200.21</td>\n      <td>-109667.80</td>\n      <td>-39755.75</td>\n    </tr>\n    <tr>\n      <th>498</th>\n      <td>060013448</td>\n      <td>060020948</td>\n      <td>2020</td>\n      <td>40509.36</td>\n      <td>0.059992</td>\n      <td>NaN</td>\n      <td>NaN</td>\n      <td>NaN</td>\n      <td>NaN</td>\n      <td>1171974.52</td>\n      <td>-756.43</td>\n      <td>36076.10</td>\n      <td>-74644.75</td>\n      <td>-980082.80</td>\n      <td>-112057.28</td>\n    </tr>\n    <tr>\n      <th>499</th>\n      <td>060013448</td>\n      <td>060020948</td>\n      <td>2019</td>\n      <td>-72358.27</td>\n      <td>-0.033092</td>\n      <td>NaN</td>\n      <td>NaN</td>\n      <td>NaN</td>\n      <td>NaN</td>\n      <td>1085999.97</td>\n      <td>-4228.41</td>\n      <td>78174.55</td>\n      <td>-52346.96</td>\n      <td>-1073179.50</td>\n      <td>-106777.92</td>\n    </tr>\n    <tr>\n      <th>514</th>\n      <td>060020443</td>\n      <td>040004087</td>\n      <td>2018</td>\n      <td>2734.23</td>\n      <td>0.041778</td>\n      <td>NaN</td>\n      <td>NaN</td>\n      <td>NaN</td>\n      <td>NaN</td>\n      <td>95290.39</td>\n      <td>-19.81</td>\n      <td>662.08</td>\n      <td>-6082.67</td>\n      <td>-78626.76</td>\n      <td>-8489.00</td>\n    </tr>\n    <tr>\n      <th>...</th>\n      <td>...</td>\n      <td>...</td>\n      <td>...</td>\n      <td>...</td>\n      <td>...</td>\n      <td>...</td>\n      <td>...</td>\n      <td>...</td>\n      <td>...</td>\n      <td>...</td>\n      <td>...</td>\n      <td>...</td>\n      <td>...</td>\n      <td>...</td>\n      <td>...</td>\n    </tr>\n    <tr>\n      <th>18349</th>\n      <td>930813415</td>\n      <td>930690037</td>\n      <td>2020</td>\n      <td>158396.21</td>\n      <td>0.095180</td>\n      <td>NaN</td>\n      <td>NaN</td>\n      <td>NaN</td>\n      <td>NaN</td>\n      <td>2301823.32</td>\n      <td>-1819.08</td>\n      <td>44748.40</td>\n      <td>-315530.11</td>\n      <td>-1549508.63</td>\n      <td>-321317.69</td>\n    </tr>\n    <tr>\n      <th>18865</th>\n      <td>970111134</td>\n      <td>970104204</td>\n      <td>2019</td>\n      <td>29616.35</td>\n      <td>0.066867</td>\n      <td>NaN</td>\n      <td>NaN</td>\n      <td>NaN</td>\n      <td>NaN</td>\n      <td>568341.38</td>\n      <td>-734.05</td>\n      <td>12800.00</td>\n      <td>-72027.19</td>\n      <td>-411100.75</td>\n      <td>-67663.04</td>\n    </tr>\n    <tr>\n      <th>18908</th>\n      <td>970209284</td>\n      <td>970210233</td>\n      <td>2020</td>\n      <td>14513.07</td>\n      <td>0.026357</td>\n      <td>NaN</td>\n      <td>NaN</td>\n      <td>NaN</td>\n      <td>NaN</td>\n      <td>656135.29</td>\n      <td>-1821.66</td>\n      <td>0.00</td>\n      <td>-104065.27</td>\n      <td>-447697.66</td>\n      <td>-88037.63</td>\n    </tr>\n    <tr>\n      <th>18910</th>\n      <td>970209284</td>\n      <td>970210233</td>\n      <td>2018</td>\n      <td>53093.02</td>\n      <td>0.314544</td>\n      <td>NaN</td>\n      <td>NaN</td>\n      <td>NaN</td>\n      <td>NaN</td>\n      <td>882511.09</td>\n      <td>-358.64</td>\n      <td>0.00</td>\n      <td>-136174.21</td>\n      <td>-387522.33</td>\n      <td>-305362.89</td>\n    </tr>\n    <tr>\n      <th>18917</th>\n      <td>970209961</td>\n      <td>970209979</td>\n      <td>2020</td>\n      <td>95051.94</td>\n      <td>0.188655</td>\n      <td>NaN</td>\n      <td>NaN</td>\n      <td>NaN</td>\n      <td>NaN</td>\n      <td>583790.22</td>\n      <td>-8482.08</td>\n      <td>39224.73</td>\n      <td>-64172.44</td>\n      <td>-369074.42</td>\n      <td>-86234.07</td>\n    </tr>\n  </tbody>\n</table>\n<p>96 rows × 15 columns</p>\n</div>"
     },
     "execution_count": 62,
     "metadata": {},
     "output_type": "execute_result"
    }
   ],
   "source": [
    "ann_ca_ej_et[ann_ca_ej_et['Recettes Groupe II CA'] < 0]"
   ]
  },
  {
   "cell_type": "code",
   "execution_count": 63,
   "metadata": {
    "collapsed": false,
    "pycharm": {
     "name": "#%%\n"
    }
   },
   "outputs": [
    {
     "data": {
      "text/plain": "49"
     },
     "execution_count": 63,
     "metadata": {},
     "output_type": "execute_result"
    }
   ],
   "source": [
    "(ann_ca_ej_et['Recettes Groupe III CA'] < 0).sum()\n"
   ]
  },
  {
   "cell_type": "code",
   "execution_count": 64,
   "metadata": {
    "collapsed": false,
    "pycharm": {
     "name": "#%%\n"
    }
   },
   "outputs": [
    {
     "data": {
      "text/plain": "       Finess EJ     Finess  Année  MS Résultat net comptable CA PH  \\\n999    100000835  100005727   2019                         31583.03   \n1399   130007032  130809049   2020                         79222.81   \n1836   130804156  130810518   2018                           966.69   \n2902   220001192  220013346   2018                         35027.48   \n2951   220023287  220023295   2020                         49103.66   \n3456   260013321  260010038   2018                         94070.69   \n3929   2B0005631  2B0003388   2019                          5717.73   \n3930   2B0005631  2B0003388   2018                         15352.02   \n3932   2B0005631  2B0005136   2019                          9729.91   \n3933   2B0005631  2B0005136   2018                          8982.33   \n3974   300000494  300781291   2020                       -178671.83   \n4347   310781562  650789092   2019                        -20749.32   \n4505   310788609  820008191   2018                        -16228.94   \n4748   330050048  470012808   2018                        -69758.82   \n4890   330790791  330007485   2019                        332848.13   \n4928   330790791  330057290   2020                         10283.98   \n4960   330790791  330785403   2019                        332848.13   \n4961   330790791  330785403   2018                         45747.54   \n4981   330790791  330798919   2020                        -10462.93   \n5614   350001202  350039590   2020                         93389.84   \n6668   420016669  590812921   2018                         -6904.11   \n6796   430005801  430001818   2018                        -21580.66   \n6897   440000966  440041358   2019                         -5406.03   \n7152   450000633  580006047   2018                         82897.91   \n7717   480782523  430006106   2018                         16558.96   \n7801   490020773  490015740   2020                          -516.46   \n9208   590052254  590791034   2018                        -10583.33   \n10310  620001545  620108589   2019                           684.31   \n10570  620105767  620106534   2018                         29025.06   \n12919  720009562  720012574   2018                          3729.82   \n13765  750050916  920800174   2018                       -114358.52   \n13823  750058844  920700028   2018                       -282680.01   \n13919  750065591  500002910   2018                         32768.32   \n14710  750720930  750710626   2018                        -20063.66   \n14985  750721334  800007825   2018                         12647.77   \n16026  800001224  800003873   2020                         19684.21   \n16190  800006074  800017576   2020                         34581.16   \n16364  830003729  830003778   2018                           694.00   \n16401  830025615  830011839   2020                          6220.33   \n16666  840019145  840019095   2018                         65425.48   \n17701  920028263  750032948   2019                        -43564.18   \n17704  920028263  750040438   2019                        -28252.89   \n17884  920800976  920717691   2018                         55615.66   \n18065  930001094  930017470   2018                       -110994.37   \n18091  930014709  930023478   2019                        -28523.90   \n18361  930813415  930817382   2018                        -16664.78   \n18938  970301271  970109948   2019                        -21462.78   \n18958  970301933  970304853   2019                         77241.28   \n18959  970301933  970304853   2018                          7783.93   \n\n       Taux de CAF CA PH  Taux vétusté Construction CA  \\\n999             0.192853                           NaN   \n1399            0.143391                           NaN   \n1836            0.009989                           NaN   \n2902            0.106113                           NaN   \n2951            0.182354                           NaN   \n3456            0.210780                           NaN   \n3929            0.044682                           NaN   \n3930            0.057612                           NaN   \n3932            0.077089                           NaN   \n3933            0.071034                           NaN   \n3974           -0.029679                      0.847060   \n4347           -0.022722                           NaN   \n4505           -0.024651                           NaN   \n4748           -0.127342                           NaN   \n4890            0.125975                           NaN   \n4928            0.020903                           NaN   \n4960            0.125975                           NaN   \n4961            0.050558                      0.540936   \n4981            0.076424                           NaN   \n5614            0.184380                      0.661975   \n6668            0.013818                           NaN   \n6796           -0.018289                           NaN   \n6897           -0.011567                           NaN   \n7152            0.172911                           NaN   \n7717            0.032870                      0.538904   \n7801            0.007762                           NaN   \n9208            0.063209                           NaN   \n10310           0.014299                           NaN   \n10570           0.092854                      0.254981   \n12919           0.031577                      0.845396   \n13765          -0.102561                      1.000000   \n13823          -0.041288                      0.661869   \n13919           0.118660                           NaN   \n14710           0.107864                           NaN   \n14985           0.127958                           NaN   \n16026           0.061525                           NaN   \n16190           0.067965                           NaN   \n16364           0.004842                           NaN   \n16401           0.091856                      0.999253   \n16666           0.275514                           NaN   \n17701          -0.049648                           NaN   \n17704          -0.007011                           NaN   \n17884           0.096543                           NaN   \n18065          -0.013348                           NaN   \n18091           0.040128                           NaN   \n18361          -0.023973                           NaN   \n18938          -0.044488                           NaN   \n18958           0.531698                           NaN   \n18959           0.036177                           NaN   \n\n       MS Résultat net comptable CA PA  Charges CA PA  Produits CA PA  \\\n999                                NaN            NaN             NaN   \n1399                               NaN            NaN             NaN   \n1836                               NaN            NaN             NaN   \n2902                               NaN            NaN             NaN   \n2951                               NaN            NaN             NaN   \n3456                               NaN            NaN             NaN   \n3929                               NaN            NaN             NaN   \n3930                               NaN            NaN             NaN   \n3932                               NaN            NaN             NaN   \n3933                               NaN            NaN             NaN   \n3974                               NaN            NaN             NaN   \n4347                               NaN            NaN             NaN   \n4505                               NaN            NaN             NaN   \n4748                               NaN            NaN             NaN   \n4890                               NaN            NaN             NaN   \n4928                               NaN            NaN             NaN   \n4960                               NaN            NaN             NaN   \n4961                               NaN            NaN             NaN   \n4981                               NaN            NaN             NaN   \n5614                               NaN            NaN             NaN   \n6668                               NaN            NaN             NaN   \n6796                               NaN            NaN             NaN   \n6897                               NaN            NaN             NaN   \n7152                               NaN            NaN             NaN   \n7717                               NaN            NaN             NaN   \n7801                               NaN            NaN             NaN   \n9208                               NaN            NaN             NaN   \n10310                              NaN            NaN             NaN   \n10570                              NaN            NaN             NaN   \n12919                              NaN            NaN             NaN   \n13765                              NaN            NaN             NaN   \n13823                              NaN            NaN             NaN   \n13919                              NaN            NaN             NaN   \n14710                              NaN            NaN             NaN   \n14985                              NaN            NaN             NaN   \n16026                              NaN            NaN             NaN   \n16190                              NaN            NaN             NaN   \n16364                              NaN            NaN             NaN   \n16401                              NaN            NaN             NaN   \n16666                              NaN            NaN             NaN   \n17701                              NaN            NaN             NaN   \n17704                              NaN            NaN             NaN   \n17884                              NaN            NaN             NaN   \n18065                              NaN            NaN             NaN   \n18091                              NaN            NaN             NaN   \n18361                              NaN            NaN             NaN   \n18938                              NaN            NaN             NaN   \n18958                              NaN            NaN             NaN   \n18959                              NaN            NaN             NaN   \n\n       Recettes Groupe I CA  Recettes Groupe II CA  Recettes Groupe III CA  \\\n999               194974.13                4155.11                  -84.48   \n1399              614766.21                   0.00                -2051.67   \n1836              405120.88               10880.62                 -211.83   \n2902              408789.55                1438.23                  -36.19   \n2951              299873.74                   0.00                   -5.78   \n3456              545751.49                7707.67               -28051.76   \n3929              517344.00                 729.96                 -892.98   \n3930              517344.00                 466.43                -2958.29   \n3932              126752.00                 426.99                 -962.68   \n3933              126752.00                  39.72                 -340.56   \n3974             1624822.44               69589.87                 -862.47   \n4347              759375.97                   0.00                -2827.23   \n4505              237303.37                1497.70                   -0.05   \n4748              508616.60                9059.62                  -68.89   \n4890             4287673.97              508875.05                -8332.51   \n4928              627151.80               27812.11                -9889.83   \n4960             4287673.97              508875.05                -8332.51   \n4961             4303140.31              467612.61              -109116.32   \n4981              910835.35               99849.24              -119879.82   \n5614              636685.00                1520.53               -12554.17   \n6668              484521.60                   0.00                  -47.23   \n6796              675784.38                2731.05                -4842.96   \n6897              228000.00                3853.59                 -129.35   \n7152             1090629.53              155557.44                 -455.10   \n7717              748198.27                   0.00                 -599.00   \n7801              434289.62               12559.06                 -691.60   \n9208             1150690.93                   5.90                  -80.66   \n10310             160377.09                   3.87                 -877.83   \n10570            1087159.32                 253.53                -4827.89   \n12919             971370.00               41505.74               -76467.93   \n13765             976628.66               39170.04                 -155.69   \n13823            4819348.33               81608.40                -8426.58   \n13919             883556.03               55106.72               -41760.58   \n14710            1259610.00               53931.99                  -51.53   \n14985             549784.50                 125.86               -37942.08   \n16026             929002.30                -359.10                -4090.62   \n16190             631633.40                 783.26                   -0.06   \n16364             145517.00                1394.00                -3587.00   \n16401             674443.61                   0.00               -14274.99   \n16666             242838.96                1283.81                -3088.20   \n17701             666042.33                   0.00                -3971.00   \n17704            2560836.42                   0.00                -8951.84   \n17884             954764.77               46128.28                 -718.30   \n18065            1188866.96              308826.82                 -840.59   \n18091             707315.84               32997.84                 -809.79   \n18361             485683.81                  30.01                 -262.25   \n18938             370093.90                  63.71                -2290.75   \n18958            1265226.92                 647.97                 -275.93   \n18959             682804.69               10234.69               -12098.55   \n\n       Dépenses Groupe I CA  Dépenses Groupe II CA  Dépenses Groupe III CA  \n999                -5881.00             -144296.86               -17283.87  \n1399              -50229.08             -430436.93               -52825.72  \n1836              -65691.54             -263349.65               -85781.79  \n2902              -34701.05             -307767.33               -32695.73  \n2951              -10772.82             -222744.83               -17246.65  \n3456             -110791.16             -375621.43                55075.88  \n3929              -53305.39             -275592.35              -182565.51  \n3930              -51183.84             -265506.44              -182809.84  \n3932              -14973.46              -61877.47               -39635.47  \n3933              -12459.19              -64858.23               -40151.41  \n3974             -192264.83            -1466730.17              -213226.67  \n4347              -72342.50             -700735.66                -4219.90  \n4505              -17271.58             -198788.19               -38970.19  \n4748              -58196.36             -477701.27               -51468.52  \n4890             -941360.02            -2860018.22              -653990.14  \n4928              -12385.97             -593511.51               -28892.62  \n4960             -941360.02            -2860018.22              -653990.14  \n4961             -953871.76            -3066121.93              -595895.37  \n4981             -133857.98             -600414.38              -166995.34  \n5614             -118428.44             -367733.04               -46100.04  \n6668              -42409.44             -374455.03               -74514.01  \n6796             -108530.38             -462088.07              -124634.68  \n6897               -7240.28             -200623.79               -29266.20  \n7152             -141351.41             -737955.32              -283527.23  \n7717              -80755.37             -638069.81               -12215.13  \n7801              -28714.88             -409452.22                -8506.44  \n9208              -56473.17             -939959.26              -164767.07  \n10310             -12709.41             -126686.23               -19423.18  \n10570             -37971.07             -885920.14              -129668.69  \n12919            -132499.83             -707862.33               -92315.83  \n13765            -155409.41             -812775.75              -161816.37  \n13823            -779854.19            -3704622.70              -690733.27  \n13919            -139415.78             -602245.74              -122472.33  \n14710            -134877.41             -871300.55              -327376.16  \n14985             -23146.16             -412953.28               -63221.07  \n16026             -68005.74             -644731.93              -192130.70  \n16190             -31964.39             -491766.87               -74104.18  \n16364             -12332.00             -126972.00                -3326.00  \n16401             -21861.72             -537744.59               -94341.98  \n16666              -4270.85             -170675.58                 -662.66  \n17701             -20426.66             -596056.69               -89152.16  \n17704             -61718.31            -2355402.03              -163017.13  \n17884            -138888.26             -645300.22              -160370.61  \n18065            -297044.51             -871126.18              -439676.87  \n18091             -25694.09             -609045.42              -133288.28  \n18361             -81836.34             -391701.94               -28578.07  \n18938             -36288.98             -299454.38               -53586.28  \n18958             -74064.19             -423068.68              -691224.81  \n18959             -97674.06             -457112.52              -118370.32  ",
      "text/html": "<div>\n<style scoped>\n    .dataframe tbody tr th:only-of-type {\n        vertical-align: middle;\n    }\n\n    .dataframe tbody tr th {\n        vertical-align: top;\n    }\n\n    .dataframe thead th {\n        text-align: right;\n    }\n</style>\n<table border=\"1\" class=\"dataframe\">\n  <thead>\n    <tr style=\"text-align: right;\">\n      <th></th>\n      <th>Finess EJ</th>\n      <th>Finess</th>\n      <th>Année</th>\n      <th>MS Résultat net comptable CA PH</th>\n      <th>Taux de CAF CA PH</th>\n      <th>Taux vétusté Construction CA</th>\n      <th>MS Résultat net comptable CA PA</th>\n      <th>Charges CA PA</th>\n      <th>Produits CA PA</th>\n      <th>Recettes Groupe I CA</th>\n      <th>Recettes Groupe II CA</th>\n      <th>Recettes Groupe III CA</th>\n      <th>Dépenses Groupe I CA</th>\n      <th>Dépenses Groupe II CA</th>\n      <th>Dépenses Groupe III CA</th>\n    </tr>\n  </thead>\n  <tbody>\n    <tr>\n      <th>999</th>\n      <td>100000835</td>\n      <td>100005727</td>\n      <td>2019</td>\n      <td>31583.03</td>\n      <td>0.192853</td>\n      <td>NaN</td>\n      <td>NaN</td>\n      <td>NaN</td>\n      <td>NaN</td>\n      <td>194974.13</td>\n      <td>4155.11</td>\n      <td>-84.48</td>\n      <td>-5881.00</td>\n      <td>-144296.86</td>\n      <td>-17283.87</td>\n    </tr>\n    <tr>\n      <th>1399</th>\n      <td>130007032</td>\n      <td>130809049</td>\n      <td>2020</td>\n      <td>79222.81</td>\n      <td>0.143391</td>\n      <td>NaN</td>\n      <td>NaN</td>\n      <td>NaN</td>\n      <td>NaN</td>\n      <td>614766.21</td>\n      <td>0.00</td>\n      <td>-2051.67</td>\n      <td>-50229.08</td>\n      <td>-430436.93</td>\n      <td>-52825.72</td>\n    </tr>\n    <tr>\n      <th>1836</th>\n      <td>130804156</td>\n      <td>130810518</td>\n      <td>2018</td>\n      <td>966.69</td>\n      <td>0.009989</td>\n      <td>NaN</td>\n      <td>NaN</td>\n      <td>NaN</td>\n      <td>NaN</td>\n      <td>405120.88</td>\n      <td>10880.62</td>\n      <td>-211.83</td>\n      <td>-65691.54</td>\n      <td>-263349.65</td>\n      <td>-85781.79</td>\n    </tr>\n    <tr>\n      <th>2902</th>\n      <td>220001192</td>\n      <td>220013346</td>\n      <td>2018</td>\n      <td>35027.48</td>\n      <td>0.106113</td>\n      <td>NaN</td>\n      <td>NaN</td>\n      <td>NaN</td>\n      <td>NaN</td>\n      <td>408789.55</td>\n      <td>1438.23</td>\n      <td>-36.19</td>\n      <td>-34701.05</td>\n      <td>-307767.33</td>\n      <td>-32695.73</td>\n    </tr>\n    <tr>\n      <th>2951</th>\n      <td>220023287</td>\n      <td>220023295</td>\n      <td>2020</td>\n      <td>49103.66</td>\n      <td>0.182354</td>\n      <td>NaN</td>\n      <td>NaN</td>\n      <td>NaN</td>\n      <td>NaN</td>\n      <td>299873.74</td>\n      <td>0.00</td>\n      <td>-5.78</td>\n      <td>-10772.82</td>\n      <td>-222744.83</td>\n      <td>-17246.65</td>\n    </tr>\n    <tr>\n      <th>3456</th>\n      <td>260013321</td>\n      <td>260010038</td>\n      <td>2018</td>\n      <td>94070.69</td>\n      <td>0.210780</td>\n      <td>NaN</td>\n      <td>NaN</td>\n      <td>NaN</td>\n      <td>NaN</td>\n      <td>545751.49</td>\n      <td>7707.67</td>\n      <td>-28051.76</td>\n      <td>-110791.16</td>\n      <td>-375621.43</td>\n      <td>55075.88</td>\n    </tr>\n    <tr>\n      <th>3929</th>\n      <td>2B0005631</td>\n      <td>2B0003388</td>\n      <td>2019</td>\n      <td>5717.73</td>\n      <td>0.044682</td>\n      <td>NaN</td>\n      <td>NaN</td>\n      <td>NaN</td>\n      <td>NaN</td>\n      <td>517344.00</td>\n      <td>729.96</td>\n      <td>-892.98</td>\n      <td>-53305.39</td>\n      <td>-275592.35</td>\n      <td>-182565.51</td>\n    </tr>\n    <tr>\n      <th>3930</th>\n      <td>2B0005631</td>\n      <td>2B0003388</td>\n      <td>2018</td>\n      <td>15352.02</td>\n      <td>0.057612</td>\n      <td>NaN</td>\n      <td>NaN</td>\n      <td>NaN</td>\n      <td>NaN</td>\n      <td>517344.00</td>\n      <td>466.43</td>\n      <td>-2958.29</td>\n      <td>-51183.84</td>\n      <td>-265506.44</td>\n      <td>-182809.84</td>\n    </tr>\n    <tr>\n      <th>3932</th>\n      <td>2B0005631</td>\n      <td>2B0005136</td>\n      <td>2019</td>\n      <td>9729.91</td>\n      <td>0.077089</td>\n      <td>NaN</td>\n      <td>NaN</td>\n      <td>NaN</td>\n      <td>NaN</td>\n      <td>126752.00</td>\n      <td>426.99</td>\n      <td>-962.68</td>\n      <td>-14973.46</td>\n      <td>-61877.47</td>\n      <td>-39635.47</td>\n    </tr>\n    <tr>\n      <th>3933</th>\n      <td>2B0005631</td>\n      <td>2B0005136</td>\n      <td>2018</td>\n      <td>8982.33</td>\n      <td>0.071034</td>\n      <td>NaN</td>\n      <td>NaN</td>\n      <td>NaN</td>\n      <td>NaN</td>\n      <td>126752.00</td>\n      <td>39.72</td>\n      <td>-340.56</td>\n      <td>-12459.19</td>\n      <td>-64858.23</td>\n      <td>-40151.41</td>\n    </tr>\n    <tr>\n      <th>3974</th>\n      <td>300000494</td>\n      <td>300781291</td>\n      <td>2020</td>\n      <td>-178671.83</td>\n      <td>-0.029679</td>\n      <td>0.847060</td>\n      <td>NaN</td>\n      <td>NaN</td>\n      <td>NaN</td>\n      <td>1624822.44</td>\n      <td>69589.87</td>\n      <td>-862.47</td>\n      <td>-192264.83</td>\n      <td>-1466730.17</td>\n      <td>-213226.67</td>\n    </tr>\n    <tr>\n      <th>4347</th>\n      <td>310781562</td>\n      <td>650789092</td>\n      <td>2019</td>\n      <td>-20749.32</td>\n      <td>-0.022722</td>\n      <td>NaN</td>\n      <td>NaN</td>\n      <td>NaN</td>\n      <td>NaN</td>\n      <td>759375.97</td>\n      <td>0.00</td>\n      <td>-2827.23</td>\n      <td>-72342.50</td>\n      <td>-700735.66</td>\n      <td>-4219.90</td>\n    </tr>\n    <tr>\n      <th>4505</th>\n      <td>310788609</td>\n      <td>820008191</td>\n      <td>2018</td>\n      <td>-16228.94</td>\n      <td>-0.024651</td>\n      <td>NaN</td>\n      <td>NaN</td>\n      <td>NaN</td>\n      <td>NaN</td>\n      <td>237303.37</td>\n      <td>1497.70</td>\n      <td>-0.05</td>\n      <td>-17271.58</td>\n      <td>-198788.19</td>\n      <td>-38970.19</td>\n    </tr>\n    <tr>\n      <th>4748</th>\n      <td>330050048</td>\n      <td>470012808</td>\n      <td>2018</td>\n      <td>-69758.82</td>\n      <td>-0.127342</td>\n      <td>NaN</td>\n      <td>NaN</td>\n      <td>NaN</td>\n      <td>NaN</td>\n      <td>508616.60</td>\n      <td>9059.62</td>\n      <td>-68.89</td>\n      <td>-58196.36</td>\n      <td>-477701.27</td>\n      <td>-51468.52</td>\n    </tr>\n    <tr>\n      <th>4890</th>\n      <td>330790791</td>\n      <td>330007485</td>\n      <td>2019</td>\n      <td>332848.13</td>\n      <td>0.125975</td>\n      <td>NaN</td>\n      <td>NaN</td>\n      <td>NaN</td>\n      <td>NaN</td>\n      <td>4287673.97</td>\n      <td>508875.05</td>\n      <td>-8332.51</td>\n      <td>-941360.02</td>\n      <td>-2860018.22</td>\n      <td>-653990.14</td>\n    </tr>\n    <tr>\n      <th>4928</th>\n      <td>330790791</td>\n      <td>330057290</td>\n      <td>2020</td>\n      <td>10283.98</td>\n      <td>0.020903</td>\n      <td>NaN</td>\n      <td>NaN</td>\n      <td>NaN</td>\n      <td>NaN</td>\n      <td>627151.80</td>\n      <td>27812.11</td>\n      <td>-9889.83</td>\n      <td>-12385.97</td>\n      <td>-593511.51</td>\n      <td>-28892.62</td>\n    </tr>\n    <tr>\n      <th>4960</th>\n      <td>330790791</td>\n      <td>330785403</td>\n      <td>2019</td>\n      <td>332848.13</td>\n      <td>0.125975</td>\n      <td>NaN</td>\n      <td>NaN</td>\n      <td>NaN</td>\n      <td>NaN</td>\n      <td>4287673.97</td>\n      <td>508875.05</td>\n      <td>-8332.51</td>\n      <td>-941360.02</td>\n      <td>-2860018.22</td>\n      <td>-653990.14</td>\n    </tr>\n    <tr>\n      <th>4961</th>\n      <td>330790791</td>\n      <td>330785403</td>\n      <td>2018</td>\n      <td>45747.54</td>\n      <td>0.050558</td>\n      <td>0.540936</td>\n      <td>NaN</td>\n      <td>NaN</td>\n      <td>NaN</td>\n      <td>4303140.31</td>\n      <td>467612.61</td>\n      <td>-109116.32</td>\n      <td>-953871.76</td>\n      <td>-3066121.93</td>\n      <td>-595895.37</td>\n    </tr>\n    <tr>\n      <th>4981</th>\n      <td>330790791</td>\n      <td>330798919</td>\n      <td>2020</td>\n      <td>-10462.93</td>\n      <td>0.076424</td>\n      <td>NaN</td>\n      <td>NaN</td>\n      <td>NaN</td>\n      <td>NaN</td>\n      <td>910835.35</td>\n      <td>99849.24</td>\n      <td>-119879.82</td>\n      <td>-133857.98</td>\n      <td>-600414.38</td>\n      <td>-166995.34</td>\n    </tr>\n    <tr>\n      <th>5614</th>\n      <td>350001202</td>\n      <td>350039590</td>\n      <td>2020</td>\n      <td>93389.84</td>\n      <td>0.184380</td>\n      <td>0.661975</td>\n      <td>NaN</td>\n      <td>NaN</td>\n      <td>NaN</td>\n      <td>636685.00</td>\n      <td>1520.53</td>\n      <td>-12554.17</td>\n      <td>-118428.44</td>\n      <td>-367733.04</td>\n      <td>-46100.04</td>\n    </tr>\n    <tr>\n      <th>6668</th>\n      <td>420016669</td>\n      <td>590812921</td>\n      <td>2018</td>\n      <td>-6904.11</td>\n      <td>0.013818</td>\n      <td>NaN</td>\n      <td>NaN</td>\n      <td>NaN</td>\n      <td>NaN</td>\n      <td>484521.60</td>\n      <td>0.00</td>\n      <td>-47.23</td>\n      <td>-42409.44</td>\n      <td>-374455.03</td>\n      <td>-74514.01</td>\n    </tr>\n    <tr>\n      <th>6796</th>\n      <td>430005801</td>\n      <td>430001818</td>\n      <td>2018</td>\n      <td>-21580.66</td>\n      <td>-0.018289</td>\n      <td>NaN</td>\n      <td>NaN</td>\n      <td>NaN</td>\n      <td>NaN</td>\n      <td>675784.38</td>\n      <td>2731.05</td>\n      <td>-4842.96</td>\n      <td>-108530.38</td>\n      <td>-462088.07</td>\n      <td>-124634.68</td>\n    </tr>\n    <tr>\n      <th>6897</th>\n      <td>440000966</td>\n      <td>440041358</td>\n      <td>2019</td>\n      <td>-5406.03</td>\n      <td>-0.011567</td>\n      <td>NaN</td>\n      <td>NaN</td>\n      <td>NaN</td>\n      <td>NaN</td>\n      <td>228000.00</td>\n      <td>3853.59</td>\n      <td>-129.35</td>\n      <td>-7240.28</td>\n      <td>-200623.79</td>\n      <td>-29266.20</td>\n    </tr>\n    <tr>\n      <th>7152</th>\n      <td>450000633</td>\n      <td>580006047</td>\n      <td>2018</td>\n      <td>82897.91</td>\n      <td>0.172911</td>\n      <td>NaN</td>\n      <td>NaN</td>\n      <td>NaN</td>\n      <td>NaN</td>\n      <td>1090629.53</td>\n      <td>155557.44</td>\n      <td>-455.10</td>\n      <td>-141351.41</td>\n      <td>-737955.32</td>\n      <td>-283527.23</td>\n    </tr>\n    <tr>\n      <th>7717</th>\n      <td>480782523</td>\n      <td>430006106</td>\n      <td>2018</td>\n      <td>16558.96</td>\n      <td>0.032870</td>\n      <td>0.538904</td>\n      <td>NaN</td>\n      <td>NaN</td>\n      <td>NaN</td>\n      <td>748198.27</td>\n      <td>0.00</td>\n      <td>-599.00</td>\n      <td>-80755.37</td>\n      <td>-638069.81</td>\n      <td>-12215.13</td>\n    </tr>\n    <tr>\n      <th>7801</th>\n      <td>490020773</td>\n      <td>490015740</td>\n      <td>2020</td>\n      <td>-516.46</td>\n      <td>0.007762</td>\n      <td>NaN</td>\n      <td>NaN</td>\n      <td>NaN</td>\n      <td>NaN</td>\n      <td>434289.62</td>\n      <td>12559.06</td>\n      <td>-691.60</td>\n      <td>-28714.88</td>\n      <td>-409452.22</td>\n      <td>-8506.44</td>\n    </tr>\n    <tr>\n      <th>9208</th>\n      <td>590052254</td>\n      <td>590791034</td>\n      <td>2018</td>\n      <td>-10583.33</td>\n      <td>0.063209</td>\n      <td>NaN</td>\n      <td>NaN</td>\n      <td>NaN</td>\n      <td>NaN</td>\n      <td>1150690.93</td>\n      <td>5.90</td>\n      <td>-80.66</td>\n      <td>-56473.17</td>\n      <td>-939959.26</td>\n      <td>-164767.07</td>\n    </tr>\n    <tr>\n      <th>10310</th>\n      <td>620001545</td>\n      <td>620108589</td>\n      <td>2019</td>\n      <td>684.31</td>\n      <td>0.014299</td>\n      <td>NaN</td>\n      <td>NaN</td>\n      <td>NaN</td>\n      <td>NaN</td>\n      <td>160377.09</td>\n      <td>3.87</td>\n      <td>-877.83</td>\n      <td>-12709.41</td>\n      <td>-126686.23</td>\n      <td>-19423.18</td>\n    </tr>\n    <tr>\n      <th>10570</th>\n      <td>620105767</td>\n      <td>620106534</td>\n      <td>2018</td>\n      <td>29025.06</td>\n      <td>0.092854</td>\n      <td>0.254981</td>\n      <td>NaN</td>\n      <td>NaN</td>\n      <td>NaN</td>\n      <td>1087159.32</td>\n      <td>253.53</td>\n      <td>-4827.89</td>\n      <td>-37971.07</td>\n      <td>-885920.14</td>\n      <td>-129668.69</td>\n    </tr>\n    <tr>\n      <th>12919</th>\n      <td>720009562</td>\n      <td>720012574</td>\n      <td>2018</td>\n      <td>3729.82</td>\n      <td>0.031577</td>\n      <td>0.845396</td>\n      <td>NaN</td>\n      <td>NaN</td>\n      <td>NaN</td>\n      <td>971370.00</td>\n      <td>41505.74</td>\n      <td>-76467.93</td>\n      <td>-132499.83</td>\n      <td>-707862.33</td>\n      <td>-92315.83</td>\n    </tr>\n    <tr>\n      <th>13765</th>\n      <td>750050916</td>\n      <td>920800174</td>\n      <td>2018</td>\n      <td>-114358.52</td>\n      <td>-0.102561</td>\n      <td>1.000000</td>\n      <td>NaN</td>\n      <td>NaN</td>\n      <td>NaN</td>\n      <td>976628.66</td>\n      <td>39170.04</td>\n      <td>-155.69</td>\n      <td>-155409.41</td>\n      <td>-812775.75</td>\n      <td>-161816.37</td>\n    </tr>\n    <tr>\n      <th>13823</th>\n      <td>750058844</td>\n      <td>920700028</td>\n      <td>2018</td>\n      <td>-282680.01</td>\n      <td>-0.041288</td>\n      <td>0.661869</td>\n      <td>NaN</td>\n      <td>NaN</td>\n      <td>NaN</td>\n      <td>4819348.33</td>\n      <td>81608.40</td>\n      <td>-8426.58</td>\n      <td>-779854.19</td>\n      <td>-3704622.70</td>\n      <td>-690733.27</td>\n    </tr>\n    <tr>\n      <th>13919</th>\n      <td>750065591</td>\n      <td>500002910</td>\n      <td>2018</td>\n      <td>32768.32</td>\n      <td>0.118660</td>\n      <td>NaN</td>\n      <td>NaN</td>\n      <td>NaN</td>\n      <td>NaN</td>\n      <td>883556.03</td>\n      <td>55106.72</td>\n      <td>-41760.58</td>\n      <td>-139415.78</td>\n      <td>-602245.74</td>\n      <td>-122472.33</td>\n    </tr>\n    <tr>\n      <th>14710</th>\n      <td>750720930</td>\n      <td>750710626</td>\n      <td>2018</td>\n      <td>-20063.66</td>\n      <td>0.107864</td>\n      <td>NaN</td>\n      <td>NaN</td>\n      <td>NaN</td>\n      <td>NaN</td>\n      <td>1259610.00</td>\n      <td>53931.99</td>\n      <td>-51.53</td>\n      <td>-134877.41</td>\n      <td>-871300.55</td>\n      <td>-327376.16</td>\n    </tr>\n    <tr>\n      <th>14985</th>\n      <td>750721334</td>\n      <td>800007825</td>\n      <td>2018</td>\n      <td>12647.77</td>\n      <td>0.127958</td>\n      <td>NaN</td>\n      <td>NaN</td>\n      <td>NaN</td>\n      <td>NaN</td>\n      <td>549784.50</td>\n      <td>125.86</td>\n      <td>-37942.08</td>\n      <td>-23146.16</td>\n      <td>-412953.28</td>\n      <td>-63221.07</td>\n    </tr>\n    <tr>\n      <th>16026</th>\n      <td>800001224</td>\n      <td>800003873</td>\n      <td>2020</td>\n      <td>19684.21</td>\n      <td>0.061525</td>\n      <td>NaN</td>\n      <td>NaN</td>\n      <td>NaN</td>\n      <td>NaN</td>\n      <td>929002.30</td>\n      <td>-359.10</td>\n      <td>-4090.62</td>\n      <td>-68005.74</td>\n      <td>-644731.93</td>\n      <td>-192130.70</td>\n    </tr>\n    <tr>\n      <th>16190</th>\n      <td>800006074</td>\n      <td>800017576</td>\n      <td>2020</td>\n      <td>34581.16</td>\n      <td>0.067965</td>\n      <td>NaN</td>\n      <td>NaN</td>\n      <td>NaN</td>\n      <td>NaN</td>\n      <td>631633.40</td>\n      <td>783.26</td>\n      <td>-0.06</td>\n      <td>-31964.39</td>\n      <td>-491766.87</td>\n      <td>-74104.18</td>\n    </tr>\n    <tr>\n      <th>16364</th>\n      <td>830003729</td>\n      <td>830003778</td>\n      <td>2018</td>\n      <td>694.00</td>\n      <td>0.004842</td>\n      <td>NaN</td>\n      <td>NaN</td>\n      <td>NaN</td>\n      <td>NaN</td>\n      <td>145517.00</td>\n      <td>1394.00</td>\n      <td>-3587.00</td>\n      <td>-12332.00</td>\n      <td>-126972.00</td>\n      <td>-3326.00</td>\n    </tr>\n    <tr>\n      <th>16401</th>\n      <td>830025615</td>\n      <td>830011839</td>\n      <td>2020</td>\n      <td>6220.33</td>\n      <td>0.091856</td>\n      <td>0.999253</td>\n      <td>NaN</td>\n      <td>NaN</td>\n      <td>NaN</td>\n      <td>674443.61</td>\n      <td>0.00</td>\n      <td>-14274.99</td>\n      <td>-21861.72</td>\n      <td>-537744.59</td>\n      <td>-94341.98</td>\n    </tr>\n    <tr>\n      <th>16666</th>\n      <td>840019145</td>\n      <td>840019095</td>\n      <td>2018</td>\n      <td>65425.48</td>\n      <td>0.275514</td>\n      <td>NaN</td>\n      <td>NaN</td>\n      <td>NaN</td>\n      <td>NaN</td>\n      <td>242838.96</td>\n      <td>1283.81</td>\n      <td>-3088.20</td>\n      <td>-4270.85</td>\n      <td>-170675.58</td>\n      <td>-662.66</td>\n    </tr>\n    <tr>\n      <th>17701</th>\n      <td>920028263</td>\n      <td>750032948</td>\n      <td>2019</td>\n      <td>-43564.18</td>\n      <td>-0.049648</td>\n      <td>NaN</td>\n      <td>NaN</td>\n      <td>NaN</td>\n      <td>NaN</td>\n      <td>666042.33</td>\n      <td>0.00</td>\n      <td>-3971.00</td>\n      <td>-20426.66</td>\n      <td>-596056.69</td>\n      <td>-89152.16</td>\n    </tr>\n    <tr>\n      <th>17704</th>\n      <td>920028263</td>\n      <td>750040438</td>\n      <td>2019</td>\n      <td>-28252.89</td>\n      <td>-0.007011</td>\n      <td>NaN</td>\n      <td>NaN</td>\n      <td>NaN</td>\n      <td>NaN</td>\n      <td>2560836.42</td>\n      <td>0.00</td>\n      <td>-8951.84</td>\n      <td>-61718.31</td>\n      <td>-2355402.03</td>\n      <td>-163017.13</td>\n    </tr>\n    <tr>\n      <th>17884</th>\n      <td>920800976</td>\n      <td>920717691</td>\n      <td>2018</td>\n      <td>55615.66</td>\n      <td>0.096543</td>\n      <td>NaN</td>\n      <td>NaN</td>\n      <td>NaN</td>\n      <td>NaN</td>\n      <td>954764.77</td>\n      <td>46128.28</td>\n      <td>-718.30</td>\n      <td>-138888.26</td>\n      <td>-645300.22</td>\n      <td>-160370.61</td>\n    </tr>\n    <tr>\n      <th>18065</th>\n      <td>930001094</td>\n      <td>930017470</td>\n      <td>2018</td>\n      <td>-110994.37</td>\n      <td>-0.013348</td>\n      <td>NaN</td>\n      <td>NaN</td>\n      <td>NaN</td>\n      <td>NaN</td>\n      <td>1188866.96</td>\n      <td>308826.82</td>\n      <td>-840.59</td>\n      <td>-297044.51</td>\n      <td>-871126.18</td>\n      <td>-439676.87</td>\n    </tr>\n    <tr>\n      <th>18091</th>\n      <td>930014709</td>\n      <td>930023478</td>\n      <td>2019</td>\n      <td>-28523.90</td>\n      <td>0.040128</td>\n      <td>NaN</td>\n      <td>NaN</td>\n      <td>NaN</td>\n      <td>NaN</td>\n      <td>707315.84</td>\n      <td>32997.84</td>\n      <td>-809.79</td>\n      <td>-25694.09</td>\n      <td>-609045.42</td>\n      <td>-133288.28</td>\n    </tr>\n    <tr>\n      <th>18361</th>\n      <td>930813415</td>\n      <td>930817382</td>\n      <td>2018</td>\n      <td>-16664.78</td>\n      <td>-0.023973</td>\n      <td>NaN</td>\n      <td>NaN</td>\n      <td>NaN</td>\n      <td>NaN</td>\n      <td>485683.81</td>\n      <td>30.01</td>\n      <td>-262.25</td>\n      <td>-81836.34</td>\n      <td>-391701.94</td>\n      <td>-28578.07</td>\n    </tr>\n    <tr>\n      <th>18938</th>\n      <td>970301271</td>\n      <td>970109948</td>\n      <td>2019</td>\n      <td>-21462.78</td>\n      <td>-0.044488</td>\n      <td>NaN</td>\n      <td>NaN</td>\n      <td>NaN</td>\n      <td>NaN</td>\n      <td>370093.90</td>\n      <td>63.71</td>\n      <td>-2290.75</td>\n      <td>-36288.98</td>\n      <td>-299454.38</td>\n      <td>-53586.28</td>\n    </tr>\n    <tr>\n      <th>18958</th>\n      <td>970301933</td>\n      <td>970304853</td>\n      <td>2019</td>\n      <td>77241.28</td>\n      <td>0.531698</td>\n      <td>NaN</td>\n      <td>NaN</td>\n      <td>NaN</td>\n      <td>NaN</td>\n      <td>1265226.92</td>\n      <td>647.97</td>\n      <td>-275.93</td>\n      <td>-74064.19</td>\n      <td>-423068.68</td>\n      <td>-691224.81</td>\n    </tr>\n    <tr>\n      <th>18959</th>\n      <td>970301933</td>\n      <td>970304853</td>\n      <td>2018</td>\n      <td>7783.93</td>\n      <td>0.036177</td>\n      <td>NaN</td>\n      <td>NaN</td>\n      <td>NaN</td>\n      <td>NaN</td>\n      <td>682804.69</td>\n      <td>10234.69</td>\n      <td>-12098.55</td>\n      <td>-97674.06</td>\n      <td>-457112.52</td>\n      <td>-118370.32</td>\n    </tr>\n  </tbody>\n</table>\n</div>"
     },
     "execution_count": 64,
     "metadata": {},
     "output_type": "execute_result"
    }
   ],
   "source": [
    "ann_ca_ej_et[ann_ca_ej_et['Recettes Groupe III CA'] < 0]\n"
   ]
  },
  {
   "cell_type": "code",
   "execution_count": 65,
   "metadata": {
    "collapsed": false,
    "pycharm": {
     "name": "#%%\n"
    }
   },
   "outputs": [
    {
     "data": {
      "text/plain": "Empty DataFrame\nColumns: [Finess EJ, Finess, Année, MS Résultat net comptable CA PH, Taux de CAF CA PH, Taux vétusté Construction CA, MS Résultat net comptable CA PA, Charges CA PA, Produits CA PA, Recettes Groupe I CA, Recettes Groupe II CA, Recettes Groupe III CA, Dépenses Groupe I CA, Dépenses Groupe II CA, Dépenses Groupe III CA]\nIndex: []",
      "text/html": "<div>\n<style scoped>\n    .dataframe tbody tr th:only-of-type {\n        vertical-align: middle;\n    }\n\n    .dataframe tbody tr th {\n        vertical-align: top;\n    }\n\n    .dataframe thead th {\n        text-align: right;\n    }\n</style>\n<table border=\"1\" class=\"dataframe\">\n  <thead>\n    <tr style=\"text-align: right;\">\n      <th></th>\n      <th>Finess EJ</th>\n      <th>Finess</th>\n      <th>Année</th>\n      <th>MS Résultat net comptable CA PH</th>\n      <th>Taux de CAF CA PH</th>\n      <th>Taux vétusté Construction CA</th>\n      <th>MS Résultat net comptable CA PA</th>\n      <th>Charges CA PA</th>\n      <th>Produits CA PA</th>\n      <th>Recettes Groupe I CA</th>\n      <th>Recettes Groupe II CA</th>\n      <th>Recettes Groupe III CA</th>\n      <th>Dépenses Groupe I CA</th>\n      <th>Dépenses Groupe II CA</th>\n      <th>Dépenses Groupe III CA</th>\n    </tr>\n  </thead>\n  <tbody>\n  </tbody>\n</table>\n</div>"
     },
     "execution_count": 65,
     "metadata": {},
     "output_type": "execute_result"
    }
   ],
   "source": [
    "(ann_ca_ej_et['Produits CA PA'] < 0).sum()\n",
    "ann_ca_ej_et[ann_ca_ej_et['Produits CA PA'] < 0]"
   ]
  },
  {
   "cell_type": "markdown",
   "metadata": {
    "collapsed": false
   },
   "source": [
    "#### Résultat"
   ]
  },
  {
   "cell_type": "code",
   "execution_count": 66,
   "metadata": {
    "collapsed": false,
    "pycharm": {
     "name": "#%%\n"
    }
   },
   "outputs": [],
   "source": [
    "ann_ca_ej_et_avec_résultat_CA_PH_renseigné = ann_ca_ej_et.dropna(subset=['MS Résultat net comptable CA PH'])"
   ]
  },
  {
   "cell_type": "code",
   "execution_count": 67,
   "metadata": {
    "collapsed": false,
    "pycharm": {
     "name": "#%%\n"
    }
   },
   "outputs": [],
   "source": [
    "résultat = ann_ca_ej_et_avec_résultat_CA_PH_renseigné['Recettes Groupe I CA'] + ann_ca_ej_et_avec_résultat_CA_PH_renseigné['Recettes Groupe II CA'] + ann_ca_ej_et_avec_résultat_CA_PH_renseigné[\n",
    "    'Recettes Groupe III CA'] + ann_ca_ej_et_avec_résultat_CA_PH_renseigné['Dépenses Groupe I CA'] + ann_ca_ej_et_avec_résultat_CA_PH_renseigné['Dépenses Groupe II CA'] + ann_ca_ej_et_avec_résultat_CA_PH_renseigné['Dépenses Groupe III CA']\n"
   ]
  },
  {
   "cell_type": "code",
   "execution_count": 68,
   "metadata": {
    "collapsed": false,
    "pycharm": {
     "name": "#%%\n"
    }
   },
   "outputs": [],
   "source": [
    "résultat.name = 'résultat'"
   ]
  },
  {
   "cell_type": "code",
   "execution_count": 69,
   "metadata": {
    "collapsed": false,
    "pycharm": {
     "name": "#%%\n"
    }
   },
   "outputs": [
    {
     "data": {
      "text/plain": "Finess                             0.0\nAnnée                              0.0\nMS Résultat net comptable CA PH    0.0\ndtype: float64"
     },
     "execution_count": 69,
     "metadata": {},
     "output_type": "execute_result"
    }
   ],
   "source": [
    "a_un_résultat_différent_que_la_somme_des_dépenses_et_recettes = ~(résultat.round(decimals=2) == ann_ca_ej_et_avec_résultat_CA_PH_renseigné['MS Résultat net comptable CA PH'].round(decimals=2))\n",
    "ann_ca_ej_et_avec_résultat_CA_PH_renseigné.loc[a_un_résultat_différent_que_la_somme_des_dépenses_et_recettes, [\"Finess\",\n",
    "                                                                                  \"Année\",\n",
    "                                                                                  \"MS Résultat net comptable CA PH\"]].isna().sum()\n"
   ]
  },
  {
   "cell_type": "code",
   "execution_count": 70,
   "metadata": {
    "collapsed": false,
    "pycharm": {
     "name": "#%%\n"
    }
   },
   "outputs": [],
   "source": [
    "ann_ca_ej_et_avec_résultat_CA_PA_renseigné = ann_ca_ej_et.dropna(subset=['MS Résultat net comptable CA PA'])"
   ]
  },
  {
   "cell_type": "code",
   "execution_count": 71,
   "metadata": {
    "collapsed": false,
    "pycharm": {
     "name": "#%%\n"
    }
   },
   "outputs": [],
   "source": [
    "résultat = ann_ca_ej_et_avec_résultat_CA_PA_renseigné['Produits CA PA'] + ann_ca_ej_et_avec_résultat_CA_PA_renseigné['Charges CA PA']"
   ]
  },
  {
   "cell_type": "code",
   "execution_count": 72,
   "metadata": {
    "collapsed": false,
    "pycharm": {
     "name": "#%%\n"
    }
   },
   "outputs": [
    {
     "data": {
      "text/plain": "Finess                             0.0\nAnnée                              0.0\nMS Résultat net comptable CA PA    0.0\ndtype: float64"
     },
     "execution_count": 72,
     "metadata": {},
     "output_type": "execute_result"
    }
   ],
   "source": [
    "a_un_résultat_différent_que_la_somme_des_dépenses_et_recettes = ~(résultat.round(decimals=2) == ann_ca_ej_et_avec_résultat_CA_PA_renseigné['MS Résultat net comptable CA PA'].round(decimals=2))\n",
    "ann_ca_ej_et_avec_résultat_CA_PA_renseigné.loc[a_un_résultat_différent_que_la_somme_des_dépenses_et_recettes, [\"Finess\",\n",
    "                                                                                                               \"Année\",\n",
    "                                                                                                               \"MS Résultat net comptable CA PA\"]].isna().sum()\n"
   ]
  },
  {
   "cell_type": "markdown",
   "metadata": {
    "collapsed": false,
    "pycharm": {
     "name": "#%% md\n"
    }
   },
   "source": [
    "### Taux de vétusté construction"
   ]
  },
  {
   "cell_type": "code",
   "execution_count": 73,
   "metadata": {
    "collapsed": false,
    "pycharm": {
     "name": "#%%\n"
    }
   },
   "outputs": [
    {
     "data": {
      "text/plain": "1"
     },
     "execution_count": 73,
     "metadata": {},
     "output_type": "execute_result"
    }
   ],
   "source": [
    "a_une_vétusté_négative = ann_ca_ej_et['Taux vétusté Construction CA'] < 0\n",
    "(a_une_vétusté_négative).sum()"
   ]
  },
  {
   "cell_type": "code",
   "execution_count": 74,
   "metadata": {
    "collapsed": false,
    "pycharm": {
     "name": "#%%\n"
    }
   },
   "outputs": [
    {
     "data": {
      "text/plain": "       Finess EJ     Finess  Année  MS Résultat net comptable CA PH  \\\n18720  950016402  950014241   2020                          8385.34   \n\n       Taux de CAF CA PH  Taux vétusté Construction CA  \\\n18720           0.023344                   -121.917079   \n\n       MS Résultat net comptable CA PA  Charges CA PA  Produits CA PA  \\\n18720                              NaN            NaN             NaN   \n\n       Recettes Groupe I CA  Recettes Groupe II CA  Recettes Groupe III CA  \\\n18720             992622.88               33956.12                 9662.94   \n\n       Dépenses Groupe I CA  Dépenses Groupe II CA  Dépenses Groupe III CA  \n18720            -146951.28             -673150.46              -207754.86  ",
      "text/html": "<div>\n<style scoped>\n    .dataframe tbody tr th:only-of-type {\n        vertical-align: middle;\n    }\n\n    .dataframe tbody tr th {\n        vertical-align: top;\n    }\n\n    .dataframe thead th {\n        text-align: right;\n    }\n</style>\n<table border=\"1\" class=\"dataframe\">\n  <thead>\n    <tr style=\"text-align: right;\">\n      <th></th>\n      <th>Finess EJ</th>\n      <th>Finess</th>\n      <th>Année</th>\n      <th>MS Résultat net comptable CA PH</th>\n      <th>Taux de CAF CA PH</th>\n      <th>Taux vétusté Construction CA</th>\n      <th>MS Résultat net comptable CA PA</th>\n      <th>Charges CA PA</th>\n      <th>Produits CA PA</th>\n      <th>Recettes Groupe I CA</th>\n      <th>Recettes Groupe II CA</th>\n      <th>Recettes Groupe III CA</th>\n      <th>Dépenses Groupe I CA</th>\n      <th>Dépenses Groupe II CA</th>\n      <th>Dépenses Groupe III CA</th>\n    </tr>\n  </thead>\n  <tbody>\n    <tr>\n      <th>18720</th>\n      <td>950016402</td>\n      <td>950014241</td>\n      <td>2020</td>\n      <td>8385.34</td>\n      <td>0.023344</td>\n      <td>-121.917079</td>\n      <td>NaN</td>\n      <td>NaN</td>\n      <td>NaN</td>\n      <td>992622.88</td>\n      <td>33956.12</td>\n      <td>9662.94</td>\n      <td>-146951.28</td>\n      <td>-673150.46</td>\n      <td>-207754.86</td>\n    </tr>\n  </tbody>\n</table>\n</div>"
     },
     "execution_count": 74,
     "metadata": {},
     "output_type": "execute_result"
    }
   ],
   "source": [
    "ann_ca_ej_et[a_une_vétusté_négative]"
   ]
  },
  {
   "cell_type": "code",
   "execution_count": 75,
   "metadata": {
    "collapsed": false,
    "pycharm": {
     "name": "#%%\n"
    }
   },
   "outputs": [
    {
     "data": {
      "text/plain": "65"
     },
     "execution_count": 75,
     "metadata": {},
     "output_type": "execute_result"
    }
   ],
   "source": [
    "a_une_vétusté_sup_à_1 = ann_ca_ej_et['Taux vétusté Construction CA'] > 1\n",
    "(a_une_vétusté_sup_à_1).sum()"
   ]
  },
  {
   "cell_type": "code",
   "execution_count": 76,
   "metadata": {
    "collapsed": false,
    "pycharm": {
     "name": "#%%\n"
    }
   },
   "outputs": [
    {
     "data": {
      "text/plain": "       Finess EJ     Finess  Année  MS Résultat net comptable CA PH  \\\n330    030000665  030785844   2020                      -4725219.86   \n392    030007801  780690038   2020                         69202.13   \n487    060002094  060791712   2020                        119960.95   \n524    060020443  060014438   2020                        125459.64   \n1124   110786100  110002854   2018                          1468.66   \n...          ...        ...    ...                              ...   \n17073  870008984  870005683   2018                          2272.50   \n17896  920800976  920813755   2018                         49351.38   \n18161  930019484  590805313   2020                         40951.34   \n18708  950016402  950001792   2020                        -16920.88   \n18710  950016402  950001792   2018                       -158799.34   \n\n       Taux de CAF CA PH  Taux vétusté Construction CA  \\\n330            -8.025350                      8.370917   \n392             0.197519                      5.188913   \n487             0.121229                      5.918179   \n524             0.128359                     10.402527   \n1124            0.018955                      1.241304   \n...                  ...                           ...   \n17073           0.046536                      1.362541   \n17896           0.181000                     17.924093   \n18161           0.023087                      1.062912   \n18708          -0.024660                      8.715567   \n18710          -0.120750                     14.161033   \n\n       MS Résultat net comptable CA PA  Charges CA PA  Produits CA PA  \\\n330                                NaN            NaN             NaN   \n392                                NaN            NaN             NaN   \n487                                NaN            NaN             NaN   \n524                                NaN            NaN             NaN   \n1124                               NaN            NaN             NaN   \n...                                ...            ...             ...   \n17073                              NaN            NaN             NaN   \n17896                              NaN            NaN             NaN   \n18161                              NaN            NaN             NaN   \n18708                              NaN            NaN             NaN   \n18710                              NaN            NaN             NaN   \n\n       Recettes Groupe I CA  Recettes Groupe II CA  Recettes Groupe III CA  \\\n330                    0.00              483995.45                56720.00   \n392              3096441.10               10006.27               120756.59   \n487              4803299.02              462314.65               231969.69   \n524              1269958.04                1262.78                23211.05   \n1124             1908845.62               10212.65                15154.95   \n...                     ...                    ...                     ...   \n17073             731166.80                   0.00                36153.30   \n17896            1275128.32               79193.39                66264.99   \n18161            5844217.12              130729.25               112495.90   \n18708             942872.64               27123.31                46103.94   \n18710             899414.05               32276.43                15736.56   \n\n       Dépenses Groupe I CA  Dépenses Groupe II CA  Dépenses Groupe III CA  \n330              -785012.46            -3570197.02              -910725.83  \n392              -493581.61            -1882766.61              -781653.61  \n487              -537314.79            -3929557.97              -910749.65  \n524               -92103.02             -896720.91              -180148.30  \n1124             -302875.59            -1457450.12              -172418.85  \n...                     ...                    ...                     ...  \n17073             -97963.23             -505819.50              -161264.87  \n17896            -175144.50             -818202.74              -377888.08  \n18161            -661838.72            -3691697.88             -1692954.33  \n18708            -106384.41             -771351.92              -155284.44  \n18710            -146559.89             -804012.71              -155653.78  \n\n[65 rows x 15 columns]",
      "text/html": "<div>\n<style scoped>\n    .dataframe tbody tr th:only-of-type {\n        vertical-align: middle;\n    }\n\n    .dataframe tbody tr th {\n        vertical-align: top;\n    }\n\n    .dataframe thead th {\n        text-align: right;\n    }\n</style>\n<table border=\"1\" class=\"dataframe\">\n  <thead>\n    <tr style=\"text-align: right;\">\n      <th></th>\n      <th>Finess EJ</th>\n      <th>Finess</th>\n      <th>Année</th>\n      <th>MS Résultat net comptable CA PH</th>\n      <th>Taux de CAF CA PH</th>\n      <th>Taux vétusté Construction CA</th>\n      <th>MS Résultat net comptable CA PA</th>\n      <th>Charges CA PA</th>\n      <th>Produits CA PA</th>\n      <th>Recettes Groupe I CA</th>\n      <th>Recettes Groupe II CA</th>\n      <th>Recettes Groupe III CA</th>\n      <th>Dépenses Groupe I CA</th>\n      <th>Dépenses Groupe II CA</th>\n      <th>Dépenses Groupe III CA</th>\n    </tr>\n  </thead>\n  <tbody>\n    <tr>\n      <th>330</th>\n      <td>030000665</td>\n      <td>030785844</td>\n      <td>2020</td>\n      <td>-4725219.86</td>\n      <td>-8.025350</td>\n      <td>8.370917</td>\n      <td>NaN</td>\n      <td>NaN</td>\n      <td>NaN</td>\n      <td>0.00</td>\n      <td>483995.45</td>\n      <td>56720.00</td>\n      <td>-785012.46</td>\n      <td>-3570197.02</td>\n      <td>-910725.83</td>\n    </tr>\n    <tr>\n      <th>392</th>\n      <td>030007801</td>\n      <td>780690038</td>\n      <td>2020</td>\n      <td>69202.13</td>\n      <td>0.197519</td>\n      <td>5.188913</td>\n      <td>NaN</td>\n      <td>NaN</td>\n      <td>NaN</td>\n      <td>3096441.10</td>\n      <td>10006.27</td>\n      <td>120756.59</td>\n      <td>-493581.61</td>\n      <td>-1882766.61</td>\n      <td>-781653.61</td>\n    </tr>\n    <tr>\n      <th>487</th>\n      <td>060002094</td>\n      <td>060791712</td>\n      <td>2020</td>\n      <td>119960.95</td>\n      <td>0.121229</td>\n      <td>5.918179</td>\n      <td>NaN</td>\n      <td>NaN</td>\n      <td>NaN</td>\n      <td>4803299.02</td>\n      <td>462314.65</td>\n      <td>231969.69</td>\n      <td>-537314.79</td>\n      <td>-3929557.97</td>\n      <td>-910749.65</td>\n    </tr>\n    <tr>\n      <th>524</th>\n      <td>060020443</td>\n      <td>060014438</td>\n      <td>2020</td>\n      <td>125459.64</td>\n      <td>0.128359</td>\n      <td>10.402527</td>\n      <td>NaN</td>\n      <td>NaN</td>\n      <td>NaN</td>\n      <td>1269958.04</td>\n      <td>1262.78</td>\n      <td>23211.05</td>\n      <td>-92103.02</td>\n      <td>-896720.91</td>\n      <td>-180148.30</td>\n    </tr>\n    <tr>\n      <th>1124</th>\n      <td>110786100</td>\n      <td>110002854</td>\n      <td>2018</td>\n      <td>1468.66</td>\n      <td>0.018955</td>\n      <td>1.241304</td>\n      <td>NaN</td>\n      <td>NaN</td>\n      <td>NaN</td>\n      <td>1908845.62</td>\n      <td>10212.65</td>\n      <td>15154.95</td>\n      <td>-302875.59</td>\n      <td>-1457450.12</td>\n      <td>-172418.85</td>\n    </tr>\n    <tr>\n      <th>...</th>\n      <td>...</td>\n      <td>...</td>\n      <td>...</td>\n      <td>...</td>\n      <td>...</td>\n      <td>...</td>\n      <td>...</td>\n      <td>...</td>\n      <td>...</td>\n      <td>...</td>\n      <td>...</td>\n      <td>...</td>\n      <td>...</td>\n      <td>...</td>\n      <td>...</td>\n    </tr>\n    <tr>\n      <th>17073</th>\n      <td>870008984</td>\n      <td>870005683</td>\n      <td>2018</td>\n      <td>2272.50</td>\n      <td>0.046536</td>\n      <td>1.362541</td>\n      <td>NaN</td>\n      <td>NaN</td>\n      <td>NaN</td>\n      <td>731166.80</td>\n      <td>0.00</td>\n      <td>36153.30</td>\n      <td>-97963.23</td>\n      <td>-505819.50</td>\n      <td>-161264.87</td>\n    </tr>\n    <tr>\n      <th>17896</th>\n      <td>920800976</td>\n      <td>920813755</td>\n      <td>2018</td>\n      <td>49351.38</td>\n      <td>0.181000</td>\n      <td>17.924093</td>\n      <td>NaN</td>\n      <td>NaN</td>\n      <td>NaN</td>\n      <td>1275128.32</td>\n      <td>79193.39</td>\n      <td>66264.99</td>\n      <td>-175144.50</td>\n      <td>-818202.74</td>\n      <td>-377888.08</td>\n    </tr>\n    <tr>\n      <th>18161</th>\n      <td>930019484</td>\n      <td>590805313</td>\n      <td>2020</td>\n      <td>40951.34</td>\n      <td>0.023087</td>\n      <td>1.062912</td>\n      <td>NaN</td>\n      <td>NaN</td>\n      <td>NaN</td>\n      <td>5844217.12</td>\n      <td>130729.25</td>\n      <td>112495.90</td>\n      <td>-661838.72</td>\n      <td>-3691697.88</td>\n      <td>-1692954.33</td>\n    </tr>\n    <tr>\n      <th>18708</th>\n      <td>950016402</td>\n      <td>950001792</td>\n      <td>2020</td>\n      <td>-16920.88</td>\n      <td>-0.024660</td>\n      <td>8.715567</td>\n      <td>NaN</td>\n      <td>NaN</td>\n      <td>NaN</td>\n      <td>942872.64</td>\n      <td>27123.31</td>\n      <td>46103.94</td>\n      <td>-106384.41</td>\n      <td>-771351.92</td>\n      <td>-155284.44</td>\n    </tr>\n    <tr>\n      <th>18710</th>\n      <td>950016402</td>\n      <td>950001792</td>\n      <td>2018</td>\n      <td>-158799.34</td>\n      <td>-0.120750</td>\n      <td>14.161033</td>\n      <td>NaN</td>\n      <td>NaN</td>\n      <td>NaN</td>\n      <td>899414.05</td>\n      <td>32276.43</td>\n      <td>15736.56</td>\n      <td>-146559.89</td>\n      <td>-804012.71</td>\n      <td>-155653.78</td>\n    </tr>\n  </tbody>\n</table>\n<p>65 rows × 15 columns</p>\n</div>"
     },
     "execution_count": 76,
     "metadata": {},
     "output_type": "execute_result"
    }
   ],
   "source": [
    "ann_ca_ej_et[a_une_vétusté_sup_à_1]"
   ]
  },
  {
   "cell_type": "markdown",
   "metadata": {
    "collapsed": false
   },
   "source": [
    "Que fait-on de taux non compris entre 0 et 1 ?\n",
    "Si > 1, alors affichage en rouge"
   ]
  },
  {
   "cell_type": "markdown",
   "metadata": {
    "collapsed": false,
    "pycharm": {
     "name": "#%% md\n"
    }
   },
   "source": [
    "### Taux de CAF"
   ]
  },
  {
   "cell_type": "markdown",
   "metadata": {
    "collapsed": false,
    "pycharm": {
     "name": "#%% md\n"
    }
   },
   "source": [
    "Question pour Nicolas : quelles sont les valeurs normales ?\n",
    "C'est plutôt négatif. De l'ordre de 2% (seuil)"
   ]
  },
  {
   "cell_type": "code",
   "execution_count": 77,
   "metadata": {
    "collapsed": false,
    "pycharm": {
     "name": "#%%\n"
    }
   },
   "outputs": [
    {
     "data": {
      "text/plain": "3040"
     },
     "execution_count": 77,
     "metadata": {},
     "output_type": "execute_result"
    }
   ],
   "source": [
    "a_une_caf_négative = ann_ca_ej_et['Taux de CAF CA PH'] < 0\n",
    "(a_une_caf_négative).sum()"
   ]
  },
  {
   "cell_type": "code",
   "execution_count": 78,
   "metadata": {
    "collapsed": false,
    "pycharm": {
     "name": "#%%\n"
    }
   },
   "outputs": [
    {
     "data": {
      "text/plain": "       Finess EJ     Finess  Année  MS Résultat net comptable CA PH  \\\n0      010000255  010008183   2018                        -38103.17   \n23     010012532  010787752   2018                        -33653.80   \n25     010012532  010788891   2019                         -5643.89   \n41     010787109  010008928   2020                         -6771.70   \n48     010787109  010787778   2019                         -6968.57   \n...          ...        ...    ...                              ...   \n18994  970405270  970408423   2020                        -11109.74   \n18997  970405270  970409009   2019                        -14583.06   \n18998  970405270  970409009   2018                        -19236.27   \n19007  970411005  970408480   2020                          -737.57   \n19010  970430898  970405320   2018                        -89565.95   \n\n       Taux de CAF CA PH  Taux vétusté Construction CA  \\\n0              -0.015592                           NaN   \n23             -0.029547                           NaN   \n25             -0.000858                           NaN   \n41             -0.018703                           NaN   \n48             -0.021296                           NaN   \n...                  ...                           ...   \n18994          -0.017905                           NaN   \n18997          -0.014963                           NaN   \n18998          -0.026743                           NaN   \n19007          -0.003672                           NaN   \n19010          -0.001362                           NaN   \n\n       MS Résultat net comptable CA PA  Charges CA PA  Produits CA PA  \\\n0                                  NaN            NaN             NaN   \n23                                 NaN            NaN             NaN   \n25                                 NaN            NaN             NaN   \n41                                 NaN            NaN             NaN   \n48                                 NaN            NaN             NaN   \n...                                ...            ...             ...   \n18994                              NaN            NaN             NaN   \n18997                              NaN            NaN             NaN   \n18998                              NaN            NaN             NaN   \n19007                              NaN            NaN             NaN   \n19010                              NaN            NaN             NaN   \n\n       Recettes Groupe I CA  Recettes Groupe II CA  Recettes Groupe III CA  \\\n0                 785679.66                   0.00                10237.09   \n23                701845.64                6590.83                18361.94   \n25                428646.72                   0.49                10134.92   \n41                290668.78                   0.01                    0.00   \n48                300095.08                   0.00                    0.00   \n...                     ...                    ...                     ...   \n18994             414348.00                6770.77                  164.29   \n18997             508499.36                   0.66                    0.77   \n18998             406626.22                   5.22                    8.39   \n19007             200847.58                   0.00                33420.00   \n19010             766711.05                1681.00                74941.00   \n\n       Dépenses Groupe I CA  Dépenses Groupe II CA  Dépenses Groupe III CA  \n0                 -34324.46             -713409.63               -86285.83  \n23               -218972.64             -477111.11               -64368.46  \n25                -36285.19             -391505.28               -16635.55  \n41                -14272.67             -232665.72               -50502.10  \n48                -20597.22             -240043.16               -46423.27  \n...                     ...                    ...                     ...  \n18994             -17074.27             -352182.54               -63135.99  \n18997             -41718.79             -386528.84               -94836.22  \n18998              -2009.68             -328313.55               -95552.87  \n19007                  0.00             -235005.15                    0.00  \n19010            -224387.00             -573180.00              -135332.00  \n\n[3040 rows x 15 columns]",
      "text/html": "<div>\n<style scoped>\n    .dataframe tbody tr th:only-of-type {\n        vertical-align: middle;\n    }\n\n    .dataframe tbody tr th {\n        vertical-align: top;\n    }\n\n    .dataframe thead th {\n        text-align: right;\n    }\n</style>\n<table border=\"1\" class=\"dataframe\">\n  <thead>\n    <tr style=\"text-align: right;\">\n      <th></th>\n      <th>Finess EJ</th>\n      <th>Finess</th>\n      <th>Année</th>\n      <th>MS Résultat net comptable CA PH</th>\n      <th>Taux de CAF CA PH</th>\n      <th>Taux vétusté Construction CA</th>\n      <th>MS Résultat net comptable CA PA</th>\n      <th>Charges CA PA</th>\n      <th>Produits CA PA</th>\n      <th>Recettes Groupe I CA</th>\n      <th>Recettes Groupe II CA</th>\n      <th>Recettes Groupe III CA</th>\n      <th>Dépenses Groupe I CA</th>\n      <th>Dépenses Groupe II CA</th>\n      <th>Dépenses Groupe III CA</th>\n    </tr>\n  </thead>\n  <tbody>\n    <tr>\n      <th>0</th>\n      <td>010000255</td>\n      <td>010008183</td>\n      <td>2018</td>\n      <td>-38103.17</td>\n      <td>-0.015592</td>\n      <td>NaN</td>\n      <td>NaN</td>\n      <td>NaN</td>\n      <td>NaN</td>\n      <td>785679.66</td>\n      <td>0.00</td>\n      <td>10237.09</td>\n      <td>-34324.46</td>\n      <td>-713409.63</td>\n      <td>-86285.83</td>\n    </tr>\n    <tr>\n      <th>23</th>\n      <td>010012532</td>\n      <td>010787752</td>\n      <td>2018</td>\n      <td>-33653.80</td>\n      <td>-0.029547</td>\n      <td>NaN</td>\n      <td>NaN</td>\n      <td>NaN</td>\n      <td>NaN</td>\n      <td>701845.64</td>\n      <td>6590.83</td>\n      <td>18361.94</td>\n      <td>-218972.64</td>\n      <td>-477111.11</td>\n      <td>-64368.46</td>\n    </tr>\n    <tr>\n      <th>25</th>\n      <td>010012532</td>\n      <td>010788891</td>\n      <td>2019</td>\n      <td>-5643.89</td>\n      <td>-0.000858</td>\n      <td>NaN</td>\n      <td>NaN</td>\n      <td>NaN</td>\n      <td>NaN</td>\n      <td>428646.72</td>\n      <td>0.49</td>\n      <td>10134.92</td>\n      <td>-36285.19</td>\n      <td>-391505.28</td>\n      <td>-16635.55</td>\n    </tr>\n    <tr>\n      <th>41</th>\n      <td>010787109</td>\n      <td>010008928</td>\n      <td>2020</td>\n      <td>-6771.70</td>\n      <td>-0.018703</td>\n      <td>NaN</td>\n      <td>NaN</td>\n      <td>NaN</td>\n      <td>NaN</td>\n      <td>290668.78</td>\n      <td>0.01</td>\n      <td>0.00</td>\n      <td>-14272.67</td>\n      <td>-232665.72</td>\n      <td>-50502.10</td>\n    </tr>\n    <tr>\n      <th>48</th>\n      <td>010787109</td>\n      <td>010787778</td>\n      <td>2019</td>\n      <td>-6968.57</td>\n      <td>-0.021296</td>\n      <td>NaN</td>\n      <td>NaN</td>\n      <td>NaN</td>\n      <td>NaN</td>\n      <td>300095.08</td>\n      <td>0.00</td>\n      <td>0.00</td>\n      <td>-20597.22</td>\n      <td>-240043.16</td>\n      <td>-46423.27</td>\n    </tr>\n    <tr>\n      <th>...</th>\n      <td>...</td>\n      <td>...</td>\n      <td>...</td>\n      <td>...</td>\n      <td>...</td>\n      <td>...</td>\n      <td>...</td>\n      <td>...</td>\n      <td>...</td>\n      <td>...</td>\n      <td>...</td>\n      <td>...</td>\n      <td>...</td>\n      <td>...</td>\n      <td>...</td>\n    </tr>\n    <tr>\n      <th>18994</th>\n      <td>970405270</td>\n      <td>970408423</td>\n      <td>2020</td>\n      <td>-11109.74</td>\n      <td>-0.017905</td>\n      <td>NaN</td>\n      <td>NaN</td>\n      <td>NaN</td>\n      <td>NaN</td>\n      <td>414348.00</td>\n      <td>6770.77</td>\n      <td>164.29</td>\n      <td>-17074.27</td>\n      <td>-352182.54</td>\n      <td>-63135.99</td>\n    </tr>\n    <tr>\n      <th>18997</th>\n      <td>970405270</td>\n      <td>970409009</td>\n      <td>2019</td>\n      <td>-14583.06</td>\n      <td>-0.014963</td>\n      <td>NaN</td>\n      <td>NaN</td>\n      <td>NaN</td>\n      <td>NaN</td>\n      <td>508499.36</td>\n      <td>0.66</td>\n      <td>0.77</td>\n      <td>-41718.79</td>\n      <td>-386528.84</td>\n      <td>-94836.22</td>\n    </tr>\n    <tr>\n      <th>18998</th>\n      <td>970405270</td>\n      <td>970409009</td>\n      <td>2018</td>\n      <td>-19236.27</td>\n      <td>-0.026743</td>\n      <td>NaN</td>\n      <td>NaN</td>\n      <td>NaN</td>\n      <td>NaN</td>\n      <td>406626.22</td>\n      <td>5.22</td>\n      <td>8.39</td>\n      <td>-2009.68</td>\n      <td>-328313.55</td>\n      <td>-95552.87</td>\n    </tr>\n    <tr>\n      <th>19007</th>\n      <td>970411005</td>\n      <td>970408480</td>\n      <td>2020</td>\n      <td>-737.57</td>\n      <td>-0.003672</td>\n      <td>NaN</td>\n      <td>NaN</td>\n      <td>NaN</td>\n      <td>NaN</td>\n      <td>200847.58</td>\n      <td>0.00</td>\n      <td>33420.00</td>\n      <td>0.00</td>\n      <td>-235005.15</td>\n      <td>0.00</td>\n    </tr>\n    <tr>\n      <th>19010</th>\n      <td>970430898</td>\n      <td>970405320</td>\n      <td>2018</td>\n      <td>-89565.95</td>\n      <td>-0.001362</td>\n      <td>NaN</td>\n      <td>NaN</td>\n      <td>NaN</td>\n      <td>NaN</td>\n      <td>766711.05</td>\n      <td>1681.00</td>\n      <td>74941.00</td>\n      <td>-224387.00</td>\n      <td>-573180.00</td>\n      <td>-135332.00</td>\n    </tr>\n  </tbody>\n</table>\n<p>3040 rows × 15 columns</p>\n</div>"
     },
     "execution_count": 78,
     "metadata": {},
     "output_type": "execute_result"
    }
   ],
   "source": [
    "ann_ca_ej_et[a_une_caf_négative]"
   ]
  },
  {
   "cell_type": "code",
   "execution_count": 79,
   "metadata": {
    "collapsed": false,
    "pycharm": {
     "name": "#%%\n"
    }
   },
   "outputs": [
    {
     "data": {
      "text/plain": "11"
     },
     "execution_count": 79,
     "metadata": {},
     "output_type": "execute_result"
    }
   ],
   "source": [
    "a_une_caf_sup_à_1 = ann_ca_ej_et['Taux de CAF CA PH'] > 1\n",
    "(a_une_caf_sup_à_1).sum()"
   ]
  },
  {
   "cell_type": "code",
   "execution_count": 80,
   "metadata": {
    "collapsed": false,
    "pycharm": {
     "name": "#%%\n"
    }
   },
   "outputs": [
    {
     "data": {
      "text/plain": "       Finess EJ     Finess  Année  MS Résultat net comptable CA PH  \\\n122    020005211  020004552   2018                          7711.55   \n1237   120002548  120002589   2019                        210550.46   \n1777   130804115  040789026   2020                      -1499597.00   \n2226   150783041  150000768   2020                       -452800.29   \n2229   150783041  150782936   2020                       -489673.70   \n3995   300000759  300780574   2020                      -1936613.30   \n4167   310000294  310780655   2020                      -4523602.16   \n4310   310024419  810099994   2020                      -1491263.42   \n10323  620001958  620030627   2020                       -487408.95   \n11577  670794163  670780295   2020                      -4189650.70   \n11677  680000023  680017357   2020                       -811996.03   \n\n       Taux de CAF CA PH  Taux vétusté Construction CA  \\\n122            44.226509                           NaN   \n1237            1.022592                           NaN   \n1777          185.387929                      0.333692   \n2226          185.402986                           NaN   \n2229           91.143005                           NaN   \n3995          361.169672                      0.125668   \n4167          175.869783                      0.336210   \n4310           45.374471                      0.944114   \n10323         263.369058                           NaN   \n11577           6.246640                      0.425586   \n11677           3.830539                      0.555583   \n\n       MS Résultat net comptable CA PA  Charges CA PA  Produits CA PA  \\\n122                                NaN            NaN             NaN   \n1237                               NaN            NaN             NaN   \n1777                               NaN            NaN             NaN   \n2226                               NaN            NaN             NaN   \n2229                               NaN            NaN             NaN   \n3995                               NaN            NaN             NaN   \n4167                               NaN            NaN             NaN   \n4310                               NaN            NaN             NaN   \n10323                              NaN            NaN             NaN   \n11577                              NaN            NaN             NaN   \n11677                              NaN            NaN             NaN   \n\n       Recettes Groupe I CA  Recettes Groupe II CA  Recettes Groupe III CA  \\\n122                    0.00                   0.00                39790.82   \n1237              211533.86                4305.00                 4981.00   \n1777                   0.00                 230.47               164206.86   \n2226                   0.00                6088.79                    0.00   \n2229                   0.00                2674.57                 7907.64   \n3995                   0.00               13478.57               112440.35   \n4167                   0.00               22448.14               116275.85   \n4310                   0.00               22733.49                68204.42   \n10323                  0.00                   0.00                 7885.96   \n11577            2583015.70               39134.86               158167.36   \n11677             419191.80               17328.20                16653.17   \n\n       Dépenses Groupe I CA  Dépenses Groupe II CA  Dépenses Groupe III CA  \n122                 -882.13              -30330.66                 -866.48  \n1237                   0.00               -1580.00                -8689.40  \n1777              -78193.52            -1230499.30              -355341.51  \n2226              -73224.50             -308386.88               -77277.70  \n2229              -93610.90             -327905.43               -78739.58  \n3995             -163999.44            -1377053.73              -521479.05  \n4167             -698229.08            -3250356.23              -713740.84  \n4310             -195858.52            -1074487.12              -311855.69  \n10323             -37507.87             -400631.67               -57155.37  \n11577            -467819.85            -1913312.72             -4588836.05  \n11677             -50378.80             -274517.41              -940272.99  ",
      "text/html": "<div>\n<style scoped>\n    .dataframe tbody tr th:only-of-type {\n        vertical-align: middle;\n    }\n\n    .dataframe tbody tr th {\n        vertical-align: top;\n    }\n\n    .dataframe thead th {\n        text-align: right;\n    }\n</style>\n<table border=\"1\" class=\"dataframe\">\n  <thead>\n    <tr style=\"text-align: right;\">\n      <th></th>\n      <th>Finess EJ</th>\n      <th>Finess</th>\n      <th>Année</th>\n      <th>MS Résultat net comptable CA PH</th>\n      <th>Taux de CAF CA PH</th>\n      <th>Taux vétusté Construction CA</th>\n      <th>MS Résultat net comptable CA PA</th>\n      <th>Charges CA PA</th>\n      <th>Produits CA PA</th>\n      <th>Recettes Groupe I CA</th>\n      <th>Recettes Groupe II CA</th>\n      <th>Recettes Groupe III CA</th>\n      <th>Dépenses Groupe I CA</th>\n      <th>Dépenses Groupe II CA</th>\n      <th>Dépenses Groupe III CA</th>\n    </tr>\n  </thead>\n  <tbody>\n    <tr>\n      <th>122</th>\n      <td>020005211</td>\n      <td>020004552</td>\n      <td>2018</td>\n      <td>7711.55</td>\n      <td>44.226509</td>\n      <td>NaN</td>\n      <td>NaN</td>\n      <td>NaN</td>\n      <td>NaN</td>\n      <td>0.00</td>\n      <td>0.00</td>\n      <td>39790.82</td>\n      <td>-882.13</td>\n      <td>-30330.66</td>\n      <td>-866.48</td>\n    </tr>\n    <tr>\n      <th>1237</th>\n      <td>120002548</td>\n      <td>120002589</td>\n      <td>2019</td>\n      <td>210550.46</td>\n      <td>1.022592</td>\n      <td>NaN</td>\n      <td>NaN</td>\n      <td>NaN</td>\n      <td>NaN</td>\n      <td>211533.86</td>\n      <td>4305.00</td>\n      <td>4981.00</td>\n      <td>0.00</td>\n      <td>-1580.00</td>\n      <td>-8689.40</td>\n    </tr>\n    <tr>\n      <th>1777</th>\n      <td>130804115</td>\n      <td>040789026</td>\n      <td>2020</td>\n      <td>-1499597.00</td>\n      <td>185.387929</td>\n      <td>0.333692</td>\n      <td>NaN</td>\n      <td>NaN</td>\n      <td>NaN</td>\n      <td>0.00</td>\n      <td>230.47</td>\n      <td>164206.86</td>\n      <td>-78193.52</td>\n      <td>-1230499.30</td>\n      <td>-355341.51</td>\n    </tr>\n    <tr>\n      <th>2226</th>\n      <td>150783041</td>\n      <td>150000768</td>\n      <td>2020</td>\n      <td>-452800.29</td>\n      <td>185.402986</td>\n      <td>NaN</td>\n      <td>NaN</td>\n      <td>NaN</td>\n      <td>NaN</td>\n      <td>0.00</td>\n      <td>6088.79</td>\n      <td>0.00</td>\n      <td>-73224.50</td>\n      <td>-308386.88</td>\n      <td>-77277.70</td>\n    </tr>\n    <tr>\n      <th>2229</th>\n      <td>150783041</td>\n      <td>150782936</td>\n      <td>2020</td>\n      <td>-489673.70</td>\n      <td>91.143005</td>\n      <td>NaN</td>\n      <td>NaN</td>\n      <td>NaN</td>\n      <td>NaN</td>\n      <td>0.00</td>\n      <td>2674.57</td>\n      <td>7907.64</td>\n      <td>-93610.90</td>\n      <td>-327905.43</td>\n      <td>-78739.58</td>\n    </tr>\n    <tr>\n      <th>3995</th>\n      <td>300000759</td>\n      <td>300780574</td>\n      <td>2020</td>\n      <td>-1936613.30</td>\n      <td>361.169672</td>\n      <td>0.125668</td>\n      <td>NaN</td>\n      <td>NaN</td>\n      <td>NaN</td>\n      <td>0.00</td>\n      <td>13478.57</td>\n      <td>112440.35</td>\n      <td>-163999.44</td>\n      <td>-1377053.73</td>\n      <td>-521479.05</td>\n    </tr>\n    <tr>\n      <th>4167</th>\n      <td>310000294</td>\n      <td>310780655</td>\n      <td>2020</td>\n      <td>-4523602.16</td>\n      <td>175.869783</td>\n      <td>0.336210</td>\n      <td>NaN</td>\n      <td>NaN</td>\n      <td>NaN</td>\n      <td>0.00</td>\n      <td>22448.14</td>\n      <td>116275.85</td>\n      <td>-698229.08</td>\n      <td>-3250356.23</td>\n      <td>-713740.84</td>\n    </tr>\n    <tr>\n      <th>4310</th>\n      <td>310024419</td>\n      <td>810099994</td>\n      <td>2020</td>\n      <td>-1491263.42</td>\n      <td>45.374471</td>\n      <td>0.944114</td>\n      <td>NaN</td>\n      <td>NaN</td>\n      <td>NaN</td>\n      <td>0.00</td>\n      <td>22733.49</td>\n      <td>68204.42</td>\n      <td>-195858.52</td>\n      <td>-1074487.12</td>\n      <td>-311855.69</td>\n    </tr>\n    <tr>\n      <th>10323</th>\n      <td>620001958</td>\n      <td>620030627</td>\n      <td>2020</td>\n      <td>-487408.95</td>\n      <td>263.369058</td>\n      <td>NaN</td>\n      <td>NaN</td>\n      <td>NaN</td>\n      <td>NaN</td>\n      <td>0.00</td>\n      <td>0.00</td>\n      <td>7885.96</td>\n      <td>-37507.87</td>\n      <td>-400631.67</td>\n      <td>-57155.37</td>\n    </tr>\n    <tr>\n      <th>11577</th>\n      <td>670794163</td>\n      <td>670780295</td>\n      <td>2020</td>\n      <td>-4189650.70</td>\n      <td>6.246640</td>\n      <td>0.425586</td>\n      <td>NaN</td>\n      <td>NaN</td>\n      <td>NaN</td>\n      <td>2583015.70</td>\n      <td>39134.86</td>\n      <td>158167.36</td>\n      <td>-467819.85</td>\n      <td>-1913312.72</td>\n      <td>-4588836.05</td>\n    </tr>\n    <tr>\n      <th>11677</th>\n      <td>680000023</td>\n      <td>680017357</td>\n      <td>2020</td>\n      <td>-811996.03</td>\n      <td>3.830539</td>\n      <td>0.555583</td>\n      <td>NaN</td>\n      <td>NaN</td>\n      <td>NaN</td>\n      <td>419191.80</td>\n      <td>17328.20</td>\n      <td>16653.17</td>\n      <td>-50378.80</td>\n      <td>-274517.41</td>\n      <td>-940272.99</td>\n    </tr>\n  </tbody>\n</table>\n</div>"
     },
     "execution_count": 80,
     "metadata": {},
     "output_type": "execute_result"
    }
   ],
   "source": [
    "ann_ca_ej_et[a_une_caf_sup_à_1]"
   ]
  },
  {
   "cell_type": "markdown",
   "metadata": {
    "collapsed": false
   },
   "source": [
    "Beaucoup de taux de CAF négatifs."
   ]
  },
  {
   "cell_type": "markdown",
   "metadata": {
    "collapsed": false
   },
   "source": [
    "### Stats descriptives\n"
   ]
  },
  {
   "cell_type": "code",
   "execution_count": 81,
   "metadata": {
    "collapsed": false,
    "pycharm": {
     "name": "#%%\n"
    }
   },
   "outputs": [
    {
     "data": {
      "text/plain": "              Année  MS Résultat net comptable CA PH  Taux de CAF CA PH  \\\ncount  19028.000000                     1.827600e+04       18209.000000   \nmean    2018.851114                     2.230555e+04          -2.494019   \nstd        0.809597                     1.938460e+05         218.865181   \nmin     2018.000000                    -5.665613e+06      -28409.095608   \n25%     2018.000000                    -8.187223e+03           0.018559   \n50%     2019.000000                     1.268067e+04           0.064024   \n75%     2020.000000                     5.597747e+04           0.115774   \nmax     2020.000000                     3.636436e+06         361.169672   \n\n       Taux vétusté Construction CA  MS Résultat net comptable CA PA  \\\ncount                   4051.000000                     7.540000e+02   \nmean                       0.869589                     5.506956e+03   \nstd                        7.444944                     7.231931e+04   \nmin                     -121.917079                    -7.851738e+05   \n25%                        0.363371                    -9.141040e+03   \n50%                        0.568211                     2.372810e+03   \n75%                        0.772616                     2.448438e+04   \nmax                      301.808836                     1.023928e+06   \n\n       Charges CA PA  Produits CA PA  Recettes Groupe I CA  \\\ncount   7.540000e+02    7.540000e+02          1.827600e+04   \nmean   -5.107468e+05    5.162537e+05          1.405845e+06   \nstd     6.387519e+05    6.570112e+05          1.453386e+06   \nmin    -8.549627e+06    0.000000e+00          0.000000e+00   \n25%    -6.493355e+05    1.772301e+05          4.560638e+05   \n50%    -3.124567e+05    3.139139e+05          9.094240e+05   \n75%    -1.695768e+05    6.423454e+05          1.823702e+06   \nmax     0.000000e+00    9.573555e+06          1.970953e+07   \n\n       Recettes Groupe II CA  Recettes Groupe III CA  Dépenses Groupe I CA  \\\ncount           1.827600e+04            1.827600e+04          1.827600e+04   \nmean            6.884288e+04            4.484964e+04         -1.942875e+05   \nstd             1.973031e+05            1.093338e+05          2.631222e+05   \nmin            -2.415432e+05           -1.198798e+05         -3.158491e+06   \n25%             1.209878e+03            1.279383e+03         -2.594815e+05   \n50%             1.372756e+04            1.223981e+04         -8.903710e+04   \n75%             5.799718e+04            4.660344e+04         -3.022374e+04   \nmax             5.537523e+06            4.128178e+06          1.342499e+04   \n\n       Dépenses Groupe II CA  Dépenses Groupe III CA  \ncount           1.827600e+04            1.827600e+04  \nmean           -1.069297e+06           -2.336473e+05  \nstd             1.077130e+06            3.025958e+05  \nmin            -1.397617e+07           -4.810723e+06  \n25%            -1.391245e+06           -3.116372e+05  \n50%            -7.159256e+05           -1.202111e+05  \n75%            -3.714305e+05           -4.358241e+04  \nmax             0.000000e+00            5.507588e+04  ",
      "text/html": "<div>\n<style scoped>\n    .dataframe tbody tr th:only-of-type {\n        vertical-align: middle;\n    }\n\n    .dataframe tbody tr th {\n        vertical-align: top;\n    }\n\n    .dataframe thead th {\n        text-align: right;\n    }\n</style>\n<table border=\"1\" class=\"dataframe\">\n  <thead>\n    <tr style=\"text-align: right;\">\n      <th></th>\n      <th>Année</th>\n      <th>MS Résultat net comptable CA PH</th>\n      <th>Taux de CAF CA PH</th>\n      <th>Taux vétusté Construction CA</th>\n      <th>MS Résultat net comptable CA PA</th>\n      <th>Charges CA PA</th>\n      <th>Produits CA PA</th>\n      <th>Recettes Groupe I CA</th>\n      <th>Recettes Groupe II CA</th>\n      <th>Recettes Groupe III CA</th>\n      <th>Dépenses Groupe I CA</th>\n      <th>Dépenses Groupe II CA</th>\n      <th>Dépenses Groupe III CA</th>\n    </tr>\n  </thead>\n  <tbody>\n    <tr>\n      <th>count</th>\n      <td>19028.000000</td>\n      <td>1.827600e+04</td>\n      <td>18209.000000</td>\n      <td>4051.000000</td>\n      <td>7.540000e+02</td>\n      <td>7.540000e+02</td>\n      <td>7.540000e+02</td>\n      <td>1.827600e+04</td>\n      <td>1.827600e+04</td>\n      <td>1.827600e+04</td>\n      <td>1.827600e+04</td>\n      <td>1.827600e+04</td>\n      <td>1.827600e+04</td>\n    </tr>\n    <tr>\n      <th>mean</th>\n      <td>2018.851114</td>\n      <td>2.230555e+04</td>\n      <td>-2.494019</td>\n      <td>0.869589</td>\n      <td>5.506956e+03</td>\n      <td>-5.107468e+05</td>\n      <td>5.162537e+05</td>\n      <td>1.405845e+06</td>\n      <td>6.884288e+04</td>\n      <td>4.484964e+04</td>\n      <td>-1.942875e+05</td>\n      <td>-1.069297e+06</td>\n      <td>-2.336473e+05</td>\n    </tr>\n    <tr>\n      <th>std</th>\n      <td>0.809597</td>\n      <td>1.938460e+05</td>\n      <td>218.865181</td>\n      <td>7.444944</td>\n      <td>7.231931e+04</td>\n      <td>6.387519e+05</td>\n      <td>6.570112e+05</td>\n      <td>1.453386e+06</td>\n      <td>1.973031e+05</td>\n      <td>1.093338e+05</td>\n      <td>2.631222e+05</td>\n      <td>1.077130e+06</td>\n      <td>3.025958e+05</td>\n    </tr>\n    <tr>\n      <th>min</th>\n      <td>2018.000000</td>\n      <td>-5.665613e+06</td>\n      <td>-28409.095608</td>\n      <td>-121.917079</td>\n      <td>-7.851738e+05</td>\n      <td>-8.549627e+06</td>\n      <td>0.000000e+00</td>\n      <td>0.000000e+00</td>\n      <td>-2.415432e+05</td>\n      <td>-1.198798e+05</td>\n      <td>-3.158491e+06</td>\n      <td>-1.397617e+07</td>\n      <td>-4.810723e+06</td>\n    </tr>\n    <tr>\n      <th>25%</th>\n      <td>2018.000000</td>\n      <td>-8.187223e+03</td>\n      <td>0.018559</td>\n      <td>0.363371</td>\n      <td>-9.141040e+03</td>\n      <td>-6.493355e+05</td>\n      <td>1.772301e+05</td>\n      <td>4.560638e+05</td>\n      <td>1.209878e+03</td>\n      <td>1.279383e+03</td>\n      <td>-2.594815e+05</td>\n      <td>-1.391245e+06</td>\n      <td>-3.116372e+05</td>\n    </tr>\n    <tr>\n      <th>50%</th>\n      <td>2019.000000</td>\n      <td>1.268067e+04</td>\n      <td>0.064024</td>\n      <td>0.568211</td>\n      <td>2.372810e+03</td>\n      <td>-3.124567e+05</td>\n      <td>3.139139e+05</td>\n      <td>9.094240e+05</td>\n      <td>1.372756e+04</td>\n      <td>1.223981e+04</td>\n      <td>-8.903710e+04</td>\n      <td>-7.159256e+05</td>\n      <td>-1.202111e+05</td>\n    </tr>\n    <tr>\n      <th>75%</th>\n      <td>2020.000000</td>\n      <td>5.597747e+04</td>\n      <td>0.115774</td>\n      <td>0.772616</td>\n      <td>2.448438e+04</td>\n      <td>-1.695768e+05</td>\n      <td>6.423454e+05</td>\n      <td>1.823702e+06</td>\n      <td>5.799718e+04</td>\n      <td>4.660344e+04</td>\n      <td>-3.022374e+04</td>\n      <td>-3.714305e+05</td>\n      <td>-4.358241e+04</td>\n    </tr>\n    <tr>\n      <th>max</th>\n      <td>2020.000000</td>\n      <td>3.636436e+06</td>\n      <td>361.169672</td>\n      <td>301.808836</td>\n      <td>1.023928e+06</td>\n      <td>0.000000e+00</td>\n      <td>9.573555e+06</td>\n      <td>1.970953e+07</td>\n      <td>5.537523e+06</td>\n      <td>4.128178e+06</td>\n      <td>1.342499e+04</td>\n      <td>0.000000e+00</td>\n      <td>5.507588e+04</td>\n    </tr>\n  </tbody>\n</table>\n</div>"
     },
     "execution_count": 81,
     "metadata": {},
     "output_type": "execute_result"
    }
   ],
   "source": [
    "ann_ca_ej_et.describe()\n"
   ]
  },
  {
   "cell_type": "markdown",
   "metadata": {
    "collapsed": false,
    "pycharm": {
     "name": "#%% md\n"
    }
   },
   "source": [
    "## ANN_ERRD_EJ"
   ]
  },
  {
   "cell_type": "code",
   "execution_count": 82,
   "metadata": {
    "collapsed": false,
    "pycharm": {
     "name": "#%%\n"
    }
   },
   "outputs": [
    {
     "data": {
      "text/plain": "       Finess EJ     Finess  Année  Taux de CAF CA PH  \\\n0      010009132  010001436   2020           0.197122   \n1      010009132  010001436   2019           0.066363   \n2      010009132  010001436   2018           0.104104   \n3      010780120  010788263   2018           0.112033   \n4      010783009  260004361   2020           0.081425   \n...          ...        ...    ...                ...   \n21504  970430898  970405320   2019           0.127921   \n21505  970430898  970405320   2018          -0.001362   \n21506  970430898  970405320   2018          -0.001362   \n21507  970430922  970462156   2020           0.109355   \n21508  970430922  970462156   2019           0.003807   \n\n       Taux vétusté Construction CA  Taux de CAF ERRD  \\\n0                          0.657887          0.054197   \n1                               NaN          0.060626   \n2                               NaN          0.079454   \n3                               NaN          0.061383   \n4                          0.506868          0.124806   \n...                             ...               ...   \n21504                           NaN          0.114065   \n21505                           NaN          0.094587   \n21506                           NaN          0.046756   \n21507                           NaN          0.142014   \n21508                           NaN          0.082444   \n\n       Taux vétusté Construction ERRD  \n0                                 NaN  \n1                                 NaN  \n2                                 NaN  \n3                                 NaN  \n4                                 NaN  \n...                               ...  \n21504                        0.421053  \n21505                        0.397879  \n21506                        0.265291  \n21507                             NaN  \n21508                             NaN  \n\n[21509 rows x 7 columns]",
      "text/html": "<div>\n<style scoped>\n    .dataframe tbody tr th:only-of-type {\n        vertical-align: middle;\n    }\n\n    .dataframe tbody tr th {\n        vertical-align: top;\n    }\n\n    .dataframe thead th {\n        text-align: right;\n    }\n</style>\n<table border=\"1\" class=\"dataframe\">\n  <thead>\n    <tr style=\"text-align: right;\">\n      <th></th>\n      <th>Finess EJ</th>\n      <th>Finess</th>\n      <th>Année</th>\n      <th>Taux de CAF CA PH</th>\n      <th>Taux vétusté Construction CA</th>\n      <th>Taux de CAF ERRD</th>\n      <th>Taux vétusté Construction ERRD</th>\n    </tr>\n  </thead>\n  <tbody>\n    <tr>\n      <th>0</th>\n      <td>010009132</td>\n      <td>010001436</td>\n      <td>2020</td>\n      <td>0.197122</td>\n      <td>0.657887</td>\n      <td>0.054197</td>\n      <td>NaN</td>\n    </tr>\n    <tr>\n      <th>1</th>\n      <td>010009132</td>\n      <td>010001436</td>\n      <td>2019</td>\n      <td>0.066363</td>\n      <td>NaN</td>\n      <td>0.060626</td>\n      <td>NaN</td>\n    </tr>\n    <tr>\n      <th>2</th>\n      <td>010009132</td>\n      <td>010001436</td>\n      <td>2018</td>\n      <td>0.104104</td>\n      <td>NaN</td>\n      <td>0.079454</td>\n      <td>NaN</td>\n    </tr>\n    <tr>\n      <th>3</th>\n      <td>010780120</td>\n      <td>010788263</td>\n      <td>2018</td>\n      <td>0.112033</td>\n      <td>NaN</td>\n      <td>0.061383</td>\n      <td>NaN</td>\n    </tr>\n    <tr>\n      <th>4</th>\n      <td>010783009</td>\n      <td>260004361</td>\n      <td>2020</td>\n      <td>0.081425</td>\n      <td>0.506868</td>\n      <td>0.124806</td>\n      <td>NaN</td>\n    </tr>\n    <tr>\n      <th>...</th>\n      <td>...</td>\n      <td>...</td>\n      <td>...</td>\n      <td>...</td>\n      <td>...</td>\n      <td>...</td>\n      <td>...</td>\n    </tr>\n    <tr>\n      <th>21504</th>\n      <td>970430898</td>\n      <td>970405320</td>\n      <td>2019</td>\n      <td>0.127921</td>\n      <td>NaN</td>\n      <td>0.114065</td>\n      <td>0.421053</td>\n    </tr>\n    <tr>\n      <th>21505</th>\n      <td>970430898</td>\n      <td>970405320</td>\n      <td>2018</td>\n      <td>-0.001362</td>\n      <td>NaN</td>\n      <td>0.094587</td>\n      <td>0.397879</td>\n    </tr>\n    <tr>\n      <th>21506</th>\n      <td>970430898</td>\n      <td>970405320</td>\n      <td>2018</td>\n      <td>-0.001362</td>\n      <td>NaN</td>\n      <td>0.046756</td>\n      <td>0.265291</td>\n    </tr>\n    <tr>\n      <th>21507</th>\n      <td>970430922</td>\n      <td>970462156</td>\n      <td>2020</td>\n      <td>0.109355</td>\n      <td>NaN</td>\n      <td>0.142014</td>\n      <td>NaN</td>\n    </tr>\n    <tr>\n      <th>21508</th>\n      <td>970430922</td>\n      <td>970462156</td>\n      <td>2019</td>\n      <td>0.003807</td>\n      <td>NaN</td>\n      <td>0.082444</td>\n      <td>NaN</td>\n    </tr>\n  </tbody>\n</table>\n<p>21509 rows × 7 columns</p>\n</div>"
     },
     "execution_count": 82,
     "metadata": {},
     "output_type": "execute_result"
    }
   ],
   "source": [
    "ann_ca_ej_et[['Finess EJ', 'Finess', 'Année','Taux de CAF CA PH', 'Taux vétusté Construction CA']].merge(\n",
    "    ann_errd_ej[['Finess EJ', 'Année','Taux de CAF ERRD', 'Taux vétusté Construction ERRD']]\n",
    ", on=['Finess EJ', 'Année'], how='inner')\n"
   ]
  },
  {
   "cell_type": "markdown",
   "metadata": {
    "collapsed": false,
    "pycharm": {
     "name": "#%% md\n"
    }
   },
   "source": [
    "Quelle règle de gestion lorsqu'on a l'info des deux côtés ?\n",
    "On privilégie aussi l'ERRD"
   ]
  },
  {
   "cell_type": "markdown",
   "metadata": {
    "collapsed": false,
    "pycharm": {
     "name": "#%% md\n"
    }
   },
   "source": [
    "### Taux de vétusté"
   ]
  },
  {
   "cell_type": "code",
   "execution_count": 83,
   "metadata": {
    "collapsed": false,
    "pycharm": {
     "name": "#%%\n"
    }
   },
   "outputs": [
    {
     "data": {
      "text/plain": "0"
     },
     "execution_count": 83,
     "metadata": {},
     "output_type": "execute_result"
    }
   ],
   "source": [
    "a_une_vétusté_négative = ann_errd_ej['Taux vétusté Construction ERRD'] < 0\n",
    "(a_une_vétusté_négative).sum()"
   ]
  },
  {
   "cell_type": "code",
   "execution_count": 84,
   "metadata": {
    "collapsed": false,
    "pycharm": {
     "name": "#%%\n"
    }
   },
   "outputs": [
    {
     "data": {
      "text/plain": "Empty DataFrame\nColumns: [Finess EJ, Année, Taux de CAF ERRD, Taux vétusté Construction ERRD]\nIndex: []",
      "text/html": "<div>\n<style scoped>\n    .dataframe tbody tr th:only-of-type {\n        vertical-align: middle;\n    }\n\n    .dataframe tbody tr th {\n        vertical-align: top;\n    }\n\n    .dataframe thead th {\n        text-align: right;\n    }\n</style>\n<table border=\"1\" class=\"dataframe\">\n  <thead>\n    <tr style=\"text-align: right;\">\n      <th></th>\n      <th>Finess EJ</th>\n      <th>Année</th>\n      <th>Taux de CAF ERRD</th>\n      <th>Taux vétusté Construction ERRD</th>\n    </tr>\n  </thead>\n  <tbody>\n  </tbody>\n</table>\n</div>"
     },
     "execution_count": 84,
     "metadata": {},
     "output_type": "execute_result"
    }
   ],
   "source": [
    "ann_errd_ej[a_une_vétusté_négative]"
   ]
  },
  {
   "cell_type": "code",
   "execution_count": 85,
   "metadata": {
    "collapsed": false,
    "pycharm": {
     "name": "#%%\n"
    }
   },
   "outputs": [
    {
     "data": {
      "text/plain": "181"
     },
     "execution_count": 85,
     "metadata": {},
     "output_type": "execute_result"
    }
   ],
   "source": [
    "a_une_vétusté_sup_à_1 = ann_errd_ej['Taux vétusté Construction ERRD'] > 1\n",
    "(a_une_vétusté_sup_à_1).sum()"
   ]
  },
  {
   "cell_type": "code",
   "execution_count": 86,
   "metadata": {
    "collapsed": false,
    "pycharm": {
     "name": "#%%\n"
    }
   },
   "outputs": [
    {
     "data": {
      "text/plain": "       Finess EJ  Année  Taux de CAF ERRD  Taux vétusté Construction ERRD\n174    570001321   2020          0.033780                        6.071298\n253    670011709   2020          0.123618                       14.385999\n664    330786138   2020          0.170089                        3.080527\n719    400014650   2020          0.052533                      113.144851\n872    790008221   2020          0.045939                        4.631752\n...          ...    ...               ...                             ...\n12669  720000850   2018          0.098830                        4.273720\n12710  850000431   2018          0.066317                       19.219321\n12712  850000464   2018          0.084477                       10.260870\n12879  130000250   2018          0.073646                        8.741285\n13012  840000723   2018          0.098843                       11.776130\n\n[181 rows x 4 columns]",
      "text/html": "<div>\n<style scoped>\n    .dataframe tbody tr th:only-of-type {\n        vertical-align: middle;\n    }\n\n    .dataframe tbody tr th {\n        vertical-align: top;\n    }\n\n    .dataframe thead th {\n        text-align: right;\n    }\n</style>\n<table border=\"1\" class=\"dataframe\">\n  <thead>\n    <tr style=\"text-align: right;\">\n      <th></th>\n      <th>Finess EJ</th>\n      <th>Année</th>\n      <th>Taux de CAF ERRD</th>\n      <th>Taux vétusté Construction ERRD</th>\n    </tr>\n  </thead>\n  <tbody>\n    <tr>\n      <th>174</th>\n      <td>570001321</td>\n      <td>2020</td>\n      <td>0.033780</td>\n      <td>6.071298</td>\n    </tr>\n    <tr>\n      <th>253</th>\n      <td>670011709</td>\n      <td>2020</td>\n      <td>0.123618</td>\n      <td>14.385999</td>\n    </tr>\n    <tr>\n      <th>664</th>\n      <td>330786138</td>\n      <td>2020</td>\n      <td>0.170089</td>\n      <td>3.080527</td>\n    </tr>\n    <tr>\n      <th>719</th>\n      <td>400014650</td>\n      <td>2020</td>\n      <td>0.052533</td>\n      <td>113.144851</td>\n    </tr>\n    <tr>\n      <th>872</th>\n      <td>790008221</td>\n      <td>2020</td>\n      <td>0.045939</td>\n      <td>4.631752</td>\n    </tr>\n    <tr>\n      <th>...</th>\n      <td>...</td>\n      <td>...</td>\n      <td>...</td>\n      <td>...</td>\n    </tr>\n    <tr>\n      <th>12669</th>\n      <td>720000850</td>\n      <td>2018</td>\n      <td>0.098830</td>\n      <td>4.273720</td>\n    </tr>\n    <tr>\n      <th>12710</th>\n      <td>850000431</td>\n      <td>2018</td>\n      <td>0.066317</td>\n      <td>19.219321</td>\n    </tr>\n    <tr>\n      <th>12712</th>\n      <td>850000464</td>\n      <td>2018</td>\n      <td>0.084477</td>\n      <td>10.260870</td>\n    </tr>\n    <tr>\n      <th>12879</th>\n      <td>130000250</td>\n      <td>2018</td>\n      <td>0.073646</td>\n      <td>8.741285</td>\n    </tr>\n    <tr>\n      <th>13012</th>\n      <td>840000723</td>\n      <td>2018</td>\n      <td>0.098843</td>\n      <td>11.776130</td>\n    </tr>\n  </tbody>\n</table>\n<p>181 rows × 4 columns</p>\n</div>"
     },
     "execution_count": 86,
     "metadata": {},
     "output_type": "execute_result"
    }
   ],
   "source": [
    "ann_errd_ej[a_une_vétusté_sup_à_1]"
   ]
  },
  {
   "cell_type": "markdown",
   "metadata": {
    "collapsed": false
   },
   "source": [
    "Que fait-on de taux non compris entre 0 et 1 ?"
   ]
  },
  {
   "cell_type": "markdown",
   "metadata": {
    "collapsed": false
   },
   "source": [
    "### Taux de CAF"
   ]
  },
  {
   "cell_type": "markdown",
   "metadata": {
    "collapsed": false
   },
   "source": [
    "Question pour Nicolas : quelles sont les valeurs normales ?"
   ]
  },
  {
   "cell_type": "markdown",
   "metadata": {
    "collapsed": false
   },
   "source": []
  },
  {
   "cell_type": "code",
   "execution_count": 87,
   "metadata": {
    "collapsed": false,
    "pycharm": {
     "name": "#%%\n"
    }
   },
   "outputs": [
    {
     "data": {
      "text/plain": "1240"
     },
     "execution_count": 87,
     "metadata": {},
     "output_type": "execute_result"
    }
   ],
   "source": [
    "a_une_caf_négative = ann_errd_ej['Taux de CAF ERRD'] < 0\n",
    "(a_une_caf_négative).sum()"
   ]
  },
  {
   "cell_type": "code",
   "execution_count": 88,
   "metadata": {
    "collapsed": false,
    "pycharm": {
     "name": "#%%\n"
    }
   },
   "outputs": [
    {
     "data": {
      "text/plain": "       Finess EJ  Année  Taux de CAF ERRD  Taux vétusté Construction ERRD\n4      080000433   2020         -0.012266                        0.809068\n63     510005945   2020         -0.013350                        0.680338\n82     520780032   2020         -0.000803                             NaN\n91     520783408   2020         -0.102442                        0.204702\n98     540000049   2020         -0.052307                             NaN\n...          ...    ...               ...                             ...\n12987  830100616   2018         -0.062007                             NaN\n12992  830210282   2018         -0.016304                        0.030799\n12996  920030152   2018         -0.081524                             NaN\n13016  840000780   2018         -0.004706                        0.646891\n13037  840019178   2018         -0.145760                        0.321014\n\n[1240 rows x 4 columns]",
      "text/html": "<div>\n<style scoped>\n    .dataframe tbody tr th:only-of-type {\n        vertical-align: middle;\n    }\n\n    .dataframe tbody tr th {\n        vertical-align: top;\n    }\n\n    .dataframe thead th {\n        text-align: right;\n    }\n</style>\n<table border=\"1\" class=\"dataframe\">\n  <thead>\n    <tr style=\"text-align: right;\">\n      <th></th>\n      <th>Finess EJ</th>\n      <th>Année</th>\n      <th>Taux de CAF ERRD</th>\n      <th>Taux vétusté Construction ERRD</th>\n    </tr>\n  </thead>\n  <tbody>\n    <tr>\n      <th>4</th>\n      <td>080000433</td>\n      <td>2020</td>\n      <td>-0.012266</td>\n      <td>0.809068</td>\n    </tr>\n    <tr>\n      <th>63</th>\n      <td>510005945</td>\n      <td>2020</td>\n      <td>-0.013350</td>\n      <td>0.680338</td>\n    </tr>\n    <tr>\n      <th>82</th>\n      <td>520780032</td>\n      <td>2020</td>\n      <td>-0.000803</td>\n      <td>NaN</td>\n    </tr>\n    <tr>\n      <th>91</th>\n      <td>520783408</td>\n      <td>2020</td>\n      <td>-0.102442</td>\n      <td>0.204702</td>\n    </tr>\n    <tr>\n      <th>98</th>\n      <td>540000049</td>\n      <td>2020</td>\n      <td>-0.052307</td>\n      <td>NaN</td>\n    </tr>\n    <tr>\n      <th>...</th>\n      <td>...</td>\n      <td>...</td>\n      <td>...</td>\n      <td>...</td>\n    </tr>\n    <tr>\n      <th>12987</th>\n      <td>830100616</td>\n      <td>2018</td>\n      <td>-0.062007</td>\n      <td>NaN</td>\n    </tr>\n    <tr>\n      <th>12992</th>\n      <td>830210282</td>\n      <td>2018</td>\n      <td>-0.016304</td>\n      <td>0.030799</td>\n    </tr>\n    <tr>\n      <th>12996</th>\n      <td>920030152</td>\n      <td>2018</td>\n      <td>-0.081524</td>\n      <td>NaN</td>\n    </tr>\n    <tr>\n      <th>13016</th>\n      <td>840000780</td>\n      <td>2018</td>\n      <td>-0.004706</td>\n      <td>0.646891</td>\n    </tr>\n    <tr>\n      <th>13037</th>\n      <td>840019178</td>\n      <td>2018</td>\n      <td>-0.145760</td>\n      <td>0.321014</td>\n    </tr>\n  </tbody>\n</table>\n<p>1240 rows × 4 columns</p>\n</div>"
     },
     "execution_count": 88,
     "metadata": {},
     "output_type": "execute_result"
    }
   ],
   "source": [
    "ann_errd_ej[a_une_caf_négative]"
   ]
  },
  {
   "cell_type": "code",
   "execution_count": 89,
   "metadata": {
    "collapsed": false,
    "pycharm": {
     "name": "#%%\n"
    }
   },
   "outputs": [
    {
     "data": {
      "text/plain": "0"
     },
     "execution_count": 89,
     "metadata": {},
     "output_type": "execute_result"
    }
   ],
   "source": [
    "a_une_caf_sup_à_1 = ann_errd_ej['Taux de CAF ERRD'] > 1\n",
    "(a_une_caf_sup_à_1).sum()"
   ]
  },
  {
   "cell_type": "code",
   "execution_count": 90,
   "metadata": {
    "collapsed": false,
    "pycharm": {
     "name": "#%%\n"
    }
   },
   "outputs": [
    {
     "data": {
      "text/plain": "Empty DataFrame\nColumns: [Finess EJ, Année, Taux de CAF ERRD, Taux vétusté Construction ERRD]\nIndex: []",
      "text/html": "<div>\n<style scoped>\n    .dataframe tbody tr th:only-of-type {\n        vertical-align: middle;\n    }\n\n    .dataframe tbody tr th {\n        vertical-align: top;\n    }\n\n    .dataframe thead th {\n        text-align: right;\n    }\n</style>\n<table border=\"1\" class=\"dataframe\">\n  <thead>\n    <tr style=\"text-align: right;\">\n      <th></th>\n      <th>Finess EJ</th>\n      <th>Année</th>\n      <th>Taux de CAF ERRD</th>\n      <th>Taux vétusté Construction ERRD</th>\n    </tr>\n  </thead>\n  <tbody>\n  </tbody>\n</table>\n</div>"
     },
     "execution_count": 90,
     "metadata": {},
     "output_type": "execute_result"
    }
   ],
   "source": [
    "ann_errd_ej[a_une_caf_sup_à_1]"
   ]
  },
  {
   "cell_type": "markdown",
   "metadata": {
    "collapsed": false
   },
   "source": [
    "Beaucoup de taux de CAF négatifs.\n"
   ]
  }
 ],
 "metadata": {
  "kernelspec": {
   "display_name": "Python 3.10.6 ('.venv': pipenv)",
   "language": "python",
   "name": "python3"
  },
  "language_info": {
   "codemirror_mode": {
    "name": "ipython",
    "version": 3
   },
   "file_extension": ".py",
   "mimetype": "text/x-python",
   "name": "python",
   "nbconvert_exporter": "python",
   "pygments_lexer": "ipython3",
   "version": "3.10.6"
  },
  "vscode": {
   "interpreter": {
    "hash": "f3cd1644c1a4218067384e6ba48455ab308536d690fa2569ad70152dfd852e1a"
   }
  }
 },
 "nbformat": 4,
 "nbformat_minor": 0
}