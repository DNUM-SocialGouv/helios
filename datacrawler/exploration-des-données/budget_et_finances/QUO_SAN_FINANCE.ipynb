{
 "cells": [
  {
   "cell_type": "markdown",
   "metadata": {
    "collapsed": false
   },
   "source": [
    "# QUO SAN FINANCE"
   ]
  },
  {
   "cell_type": "code",
   "execution_count": null,
   "metadata": {},
   "outputs": [],
   "source": [
    "import pandas as pd\n",
    "import numpy as np"
   ]
  },
  {
   "cell_type": "code",
   "execution_count": null,
   "metadata": {},
   "outputs": [],
   "source": [
    "quo_san_finance = pd.read_csv(\n",
    "    '../../../data_test/diamant/QUO_SAN_FINANCE_2023_01_10.CSV',\n",
    "    sep=';'\n",
    ")\n",
    "quo_san_finance"
   ]
  },
  {
   "cell_type": "markdown",
   "metadata": {
    "collapsed": false
   },
   "source": [
    "# Valeurs manquant Nan"
   ]
  },
  {
   "cell_type": "code",
   "execution_count": null,
   "metadata": {},
   "outputs": [],
   "source": [
    "\n",
    "# pourcentage de valeurs avec NaN dans chaque colonne\n",
    "\n",
    "missing_valeurs = quo_san_finance.isna().sum() * 100 / len(quo_san_finance)\n",
    "missing_valeurs.to_frame()\n",
    "\n",
    "# Jours d'absentéisme PM / Jours d'absentéisme PNM @ 67.5 % missing\n",
    "# tout le reste entre 0.04 % - 2 % missing"
   ]
  },
  {
   "cell_type": "code",
   "execution_count": null,
   "metadata": {},
   "outputs": [],
   "source": [
    "# Raw values NaN\n",
    "quo_san_finance.isna().sum()"
   ]
  },
  {
   "cell_type": "markdown",
   "metadata": {
    "collapsed": false
   },
   "source": [
    "# Valeurs avec 0"
   ]
  },
  {
   "cell_type": "code",
   "execution_count": null,
   "metadata": {},
   "outputs": [],
   "source": [
    "# 1. Dépenses d'intérim PM - 61 %\n",
    "# 2 Recettes Titre IV Budget global - 31.5%\n",
    "# le reste entre 0.5 % - 7%\n",
    "\n",
    "quo_san_finance[quo_san_finance == 0].count() * 100 / len(quo_san_finance)"
   ]
  },
  {
   "cell_type": "code",
   "execution_count": null,
   "metadata": {},
   "outputs": [],
   "source": [
    "# raw values 0s\n",
    "quo_san_finance[quo_san_finance == 0].count()"
   ]
  },
  {
   "cell_type": "code",
   "execution_count": null,
   "metadata": {},
   "outputs": [],
   "source": [
    "len(quo_san_finance)"
   ]
  },
  {
   "cell_type": "markdown",
   "metadata": {
    "collapsed": false
   },
   "source": [
    "# Annees disponible"
   ]
  },
  {
   "cell_type": "code",
   "execution_count": null,
   "metadata": {},
   "outputs": [],
   "source": [
    "quo_san_finance.groupby([\"Année\"])[\"Année\"].count()\n",
    "\n",
    "# on a pas donnee pour 2022"
   ]
  },
  {
   "cell_type": "markdown",
   "metadata": {
    "collapsed": false
   },
   "source": [
    "# Doublons"
   ]
  },
  {
   "cell_type": "code",
   "execution_count": null,
   "metadata": {},
   "outputs": [],
   "source": [
    "quo_san_finance[quo_san_finance.duplicated()]\n",
    "\n",
    "# pas de doublons dans notre donnee"
   ]
  },
  {
   "cell_type": "markdown",
   "metadata": {
    "collapsed": false
   },
   "source": [
    "# Ratios financier\n",
    "### Je comprends pas ce donnee"
   ]
  },
  {
   "cell_type": "code",
   "execution_count": null,
   "metadata": {},
   "outputs": [],
   "source": [
    "# Min max de ratio financier\n",
    "\n",
    "quo_san_finance.groupby(\"Année\")[[\"Ration de dépendance financière\"]].agg([\"min\", \"max\" ])\n",
    "\n",
    "# il y a des donnees negatifs + donness vraiment large"
   ]
  },
  {
   "cell_type": "code",
   "execution_count": null,
   "metadata": {},
   "outputs": [],
   "source": [
    "(quo_san_finance[\"Ration de dépendance financière\"] < 0).sum()\n",
    "\n",
    "# there are 88 instances where ratio fiancier is < 0"
   ]
  },
  {
   "cell_type": "code",
   "execution_count": null,
   "metadata": {},
   "outputs": [],
   "source": [
    "quo_san_finance[quo_san_finance[\"Ration de dépendance financière\"] < 0].groupby(\"Année\")[\"Ration de dépendance financière\"].count()\n",
    "\n",
    "# breakdown by year where ratio < 0"
   ]
  },
  {
   "cell_type": "code",
   "execution_count": null,
   "metadata": {},
   "outputs": [],
   "source": [
    "quo_san_finance[quo_san_finance[\"Ration de dépendance financière\"] > 50].groupby(\"Année\")[\"Ration de dépendance financière\"].count()\n",
    "\n",
    "# breakdown by year where ratio > 50 (total = 6)"
   ]
  },
  {
   "cell_type": "markdown",
   "metadata": {
    "collapsed": false
   },
   "source": [
    "# SAN Tauf CAF net"
   ]
  },
  {
   "cell_type": "code",
   "execution_count": null,
   "metadata": {},
   "outputs": [],
   "source": [
    "# Min max\n",
    "quo_san_finance.groupby(\"Année\")[[\"SAN Taux de CAF nette\"]].agg([\"min\", \"max\" ])\n",
    "\n",
    "# valeurs > 20%"
   ]
  },
  {
   "cell_type": "code",
   "execution_count": null,
   "metadata": {},
   "outputs": [],
   "source": [
    "(quo_san_finance[\"SAN Taux de CAF nette\"] < -20).sum()\n",
    "\n",
    "# 29 values < 20%"
   ]
  },
  {
   "cell_type": "code",
   "execution_count": null,
   "metadata": {},
   "outputs": [],
   "source": [
    "quo_san_finance[quo_san_finance[\"SAN Taux de CAF nette\"] < -20].groupby(\"Année\")[\"SAN Taux de CAF nette\"].count()\n",
    "\n",
    "# no values < -20% in las 3 years"
   ]
  },
  {
   "cell_type": "code",
   "execution_count": null,
   "metadata": {},
   "outputs": [],
   "source": [
    "quo_san_finance[quo_san_finance[\"SAN Taux de CAF nette\"] > 20].groupby(\"Année\")[\"SAN Taux de CAF nette\"].count()\n",
    "\n",
    "# 1 value > 20% --> not within last 3 years"
   ]
  },
  {
   "cell_type": "markdown",
   "metadata": {
    "collapsed": false
   },
   "source": [
    "# Budget Global (Principal + Annex)\n",
    "## Depense"
   ]
  },
  {
   "cell_type": "code",
   "execution_count": null,
   "metadata": {},
   "outputs": [],
   "source": [
    "# Min max median de Depense\n",
    "\n",
    "quo_san_finance.groupby(\"Année\")[[\"Dépenses Titre I Budget global\",\"Dépenses Titre II Budget global\",\n",
    "                 \"Dépenses Titre III Budget global\", \"Dépenses Titre IV Budget global\",\n",
    "                 ]].agg([\"min\", \"max\",\"median\" ])"
   ]
  },
  {
   "cell_type": "markdown",
   "metadata": {
    "collapsed": false
   },
   "source": [
    "## Recettes"
   ]
  },
  {
   "cell_type": "code",
   "execution_count": null,
   "metadata": {},
   "outputs": [],
   "source": [
    "# Min Max Median de Recettes\n",
    "\n",
    "quo_san_finance.groupby(\"Année\")[[\"Recettes Titre I Budget global\",\"Recettes Titre II Budget global\",\n",
    "                                  \"Recettes Titre III Budget global\", \"Recettes Titre IV Budget global\",\n",
    "                                  ]].agg([\"min\", \"max\",\"median\" ])\n",
    "\n",
    "# On a des valeurs negatives pour Titre 3 2021, Titre 4 2019"
   ]
  },
  {
   "cell_type": "markdown",
   "metadata": {
    "collapsed": false
   },
   "source": [
    "# Budget H (Principal)\n",
    "## Depense"
   ]
  },
  {
   "cell_type": "code",
   "execution_count": null,
   "metadata": {},
   "outputs": [],
   "source": [
    "# Min max median de Depense\n",
    "\n",
    "quo_san_finance.groupby(\"Année\")[[\"Dépenses Titre I Budget H\",\"Dépenses Titre II Budget H\",\n",
    "                                  \"Dépenses Titre III Budget H\", \"Dépenses Titre IV Budget H\",\n",
    "                                  ]].agg([\"min\", \"max\",\"median\" ])\n",
    "\n",
    "# il y a des valeurs positifs dans Titre 3 2021"
   ]
  },
  {
   "cell_type": "markdown",
   "metadata": {
    "collapsed": false
   },
   "source": [
    "# Recettes"
   ]
  },
  {
   "cell_type": "code",
   "execution_count": null,
   "metadata": {},
   "outputs": [],
   "source": [
    "# Min Max Median de Recettes\n",
    "\n",
    "quo_san_finance.groupby(\"Année\")[[\"Recettes Titre I Budget H\",\"Recettes Titre II Budget H\",\n",
    "                                  \"Recettes Titre III Budget H\"\n",
    "                                  ]].agg([\"min\", \"max\",\"median\" ])\n",
    "\n",
    "# Il y a des valeurs negatifs pour Titre 3 2021"
   ]
  },
  {
   "cell_type": "markdown",
   "metadata": {
    "collapsed": false
   },
   "source": [
    "# Sum de budget H < Budget Global?"
   ]
  },
  {
   "cell_type": "code",
   "execution_count": null,
   "metadata": {},
   "outputs": [],
   "source": [
    "quo_san_finance.groupby(\"Année\")[[\"Dépenses Titre I Budget global\",\n",
    "                                  ]].agg([\"sum\"])"
   ]
  },
  {
   "cell_type": "code",
   "execution_count": null,
   "metadata": {},
   "outputs": [],
   "source": []
  }
 ],
 "metadata": {
  "kernelspec": {
   "display_name": "Python 3",
   "language": "python",
   "name": "python3"
  },
  "language_info": {
   "codemirror_mode": {
    "name": "ipython",
    "version": 2
   },
   "file_extension": ".py",
   "mimetype": "text/x-python",
   "name": "python",
   "nbconvert_exporter": "python",
   "pygments_lexer": "ipython2",
   "version": "2.7.6"
  }
 },
 "nbformat": 4,
 "nbformat_minor": 0
}
