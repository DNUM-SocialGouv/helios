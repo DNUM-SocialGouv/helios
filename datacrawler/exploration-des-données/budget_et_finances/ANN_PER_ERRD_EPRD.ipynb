{
 "cells": [
  {
   "cell_type": "markdown",
   "metadata": {
    "collapsed": false
   },
   "source": [
    "# Analyse de données Budget et Finances : données pour les paniers ERRD"
   ]
  },
  {
   "cell_type": "markdown",
   "metadata": {
    "collapsed": false
   },
   "source": [
    "## Paramétrage"
   ]
  },
  {
   "cell_type": "code",
   "execution_count": 1,
   "metadata": {
    "pycharm": {
     "name": "#%%\n"
    }
   },
   "outputs": [],
   "source": [
    "import os\n",
    "\n",
    "import pandas as pd\n",
    "CHEMIN_DOSSIER_DONNÉES = '../../../../données/DIAMANT'\n",
    "DATE_FICHIER = '2022_09_01'\n",
    "encoding = 'utf-8'\n"
   ]
  },
  {
   "cell_type": "code",
   "execution_count": 2,
   "metadata": {
    "pycharm": {
     "name": "#%%\n"
    }
   },
   "outputs": [],
   "source": [
    "ann_per_errd_eprd = pd.read_csv(\n",
    "    os.path.join(CHEMIN_DOSSIER_DONNÉES, 'ANN_PER_ERRD_EPRD_' + DATE_FICHIER + '.CSV'),\n",
    "    delimiter=\";\",\n",
    "    encoding=encoding,\n",
    "    dtype='str'\n",
    ")"
   ]
  },
  {
   "cell_type": "markdown",
   "metadata": {
    "collapsed": false
   },
   "source": [
    "## Doublons"
   ]
  },
  {
   "cell_type": "markdown",
   "metadata": {
    "collapsed": false
   },
   "source": [
    "### On s'attend à avoir une seule valeur par (Finess, Année, Id Dépôt)"
   ]
  },
  {
   "cell_type": "code",
   "execution_count": 3,
   "metadata": {
    "pycharm": {
     "name": "#%%\n"
    }
   },
   "outputs": [
    {
     "data": {
      "text/plain": "   Finess EJ     Finess Année Id Dépôt\n0  480782259  480001130  2019   143783\n1  130001753  130008568  2020   203489\n2  440002426  440003648  2018   126667\n3  370000440  370011298  2018   117146\n4  060002813  060799491  2020   204473",
      "text/html": "<div>\n<style scoped>\n    .dataframe tbody tr th:only-of-type {\n        vertical-align: middle;\n    }\n\n    .dataframe tbody tr th {\n        vertical-align: top;\n    }\n\n    .dataframe thead th {\n        text-align: right;\n    }\n</style>\n<table border=\"1\" class=\"dataframe\">\n  <thead>\n    <tr style=\"text-align: right;\">\n      <th></th>\n      <th>Finess EJ</th>\n      <th>Finess</th>\n      <th>Année</th>\n      <th>Id Dépôt</th>\n    </tr>\n  </thead>\n  <tbody>\n    <tr>\n      <th>0</th>\n      <td>480782259</td>\n      <td>480001130</td>\n      <td>2019</td>\n      <td>143783</td>\n    </tr>\n    <tr>\n      <th>1</th>\n      <td>130001753</td>\n      <td>130008568</td>\n      <td>2020</td>\n      <td>203489</td>\n    </tr>\n    <tr>\n      <th>2</th>\n      <td>440002426</td>\n      <td>440003648</td>\n      <td>2018</td>\n      <td>126667</td>\n    </tr>\n    <tr>\n      <th>3</th>\n      <td>370000440</td>\n      <td>370011298</td>\n      <td>2018</td>\n      <td>117146</td>\n    </tr>\n    <tr>\n      <th>4</th>\n      <td>060002813</td>\n      <td>060799491</td>\n      <td>2020</td>\n      <td>204473</td>\n    </tr>\n  </tbody>\n</table>\n</div>"
     },
     "execution_count": 3,
     "metadata": {},
     "output_type": "execute_result"
    }
   ],
   "source": [
    "ann_per_errd_eprd.head()"
   ]
  },
  {
   "cell_type": "code",
   "execution_count": 4,
   "metadata": {
    "pycharm": {
     "name": "#%%\n"
    }
   },
   "outputs": [
    {
     "data": {
      "text/plain": "0"
     },
     "execution_count": 4,
     "metadata": {},
     "output_type": "execute_result"
    }
   ],
   "source": [
    "ann_per_errd_eprd.duplicated(subset=[\"Finess\", \"Année\", \"Id Dépôt\"]).sum()"
   ]
  },
  {
   "cell_type": "markdown",
   "metadata": {
    "collapsed": false,
    "pycharm": {
     "name": "#%% md\n"
    }
   },
   "source": [
    "On a bien unicité"
   ]
  },
  {
   "cell_type": "markdown",
   "metadata": {
    "collapsed": false,
    "pycharm": {
     "name": "#%% md\n"
    }
   },
   "source": [
    "### A-t-on un seul numéro de dépôt pour un FINESS et une année ?"
   ]
  },
  {
   "cell_type": "code",
   "execution_count": 5,
   "metadata": {
    "pycharm": {
     "name": "#%%\n"
    }
   },
   "outputs": [],
   "source": [
    "a_plus_d_une_donnée_par_finess_par_année = (ann_per_errd_eprd[['Finess', 'Année', \"Id Dépôt\"]].groupby(['Finess', 'Année']).nunique() > 1)"
   ]
  },
  {
   "cell_type": "code",
   "execution_count": 6,
   "metadata": {
    "pycharm": {
     "name": "#%%\n"
    }
   },
   "outputs": [
    {
     "data": {
      "text/plain": "Id Dépôt    0.929997\ndtype: float64"
     },
     "execution_count": 6,
     "metadata": {},
     "output_type": "execute_result"
    }
   ],
   "source": [
    "a_plus_d_une_donnée_par_finess_par_année.sum() / ann_per_errd_eprd.groupby(['Finess', 'Année']).ngroups"
   ]
  },
  {
   "cell_type": "markdown",
   "metadata": {
    "collapsed": false,
    "pycharm": {
     "name": "#%% md\n"
    }
   },
   "source": [
    "Non : la plupart des établissements ont plusieurs numéros de dépôt pour une même année"
   ]
  },
  {
   "cell_type": "code",
   "execution_count": 7,
   "metadata": {
    "pycharm": {
     "name": "#%%\n"
    }
   },
   "outputs": [
    {
     "data": {
      "text/plain": "<AxesSubplot:title={'center':'Répartition du nombre de dépôts pour un même Finess et année'}, ylabel='Frequency'>"
     },
     "execution_count": 7,
     "metadata": {},
     "output_type": "execute_result"
    },
    {
     "data": {
      "text/plain": "<Figure size 640x480 with 1 Axes>",
      "image/png": "[encoded data removed]"
     },
     "metadata": {},
     "output_type": "display_data"
    }
   ],
   "source": [
    "ann_per_errd_eprd[['Finess', 'Année', \"Id Dépôt\"]].groupby(['Finess', 'Année']).nunique().plot(\n",
    "    kind= 'hist',\n",
    "    title=\"Répartition du nombre de dépôts pour un même Finess et année\",\n",
    "    legend=False,\n",
    ")"
   ]
  },
  {
   "cell_type": "code",
   "execution_count": 8,
   "metadata": {
    "pycharm": {
     "name": "#%%\n"
    }
   },
   "outputs": [
    {
     "data": {
      "text/plain": "Id Dépôt\n1            2221\n2           12864\n3           16571\n4              59\n5              12\ndtype: int64"
     },
     "execution_count": 8,
     "metadata": {},
     "output_type": "execute_result"
    }
   ],
   "source": [
    "ann_per_errd_eprd[['Finess', 'Année', \"Id Dépôt\"]].groupby(['Finess', 'Année']).nunique().value_counts().sort_index()"
   ]
  },
  {
   "cell_type": "markdown",
   "metadata": {
    "collapsed": false,
    "pycharm": {
     "name": "#%% md\n"
    }
   },
   "source": [
    "La plupart des Finess font l'objet de 2-3 dépots / an"
   ]
  },
  {
   "cell_type": "code",
   "execution_count": 9,
   "metadata": {
    "pycharm": {
     "name": "#%%\n"
    }
   },
   "outputs": [
    {
     "data": {
      "text/plain": "<AxesSubplot:title={'center':'répartition des Finess par année'}, xlabel='Année'>"
     },
     "execution_count": 9,
     "metadata": {},
     "output_type": "execute_result"
    },
    {
     "data": {
      "text/plain": "<Figure size 640x480 with 1 Axes>",
      "image/png": "[encoded data removed]"
     },
     "metadata": {},
     "output_type": "display_data"
    }
   ],
   "source": [
    "ann_per_errd_eprd.groupby('Année')['Finess'].nunique().plot(kind=\"bar\", title=\"répartition des Finess par année\")"
   ]
  },
  {
   "cell_type": "markdown",
   "source": [
    "De plus en plus d'établissements sont concernés par les paniers ERRD : on voit donc de plus en plus de numéros FINESS apparaître par année"
   ],
   "metadata": {
    "collapsed": false,
    "pycharm": {
     "name": "#%% md\n"
    }
   }
  },
  {
   "cell_type": "code",
   "execution_count": 10,
   "metadata": {
    "pycharm": {
     "name": "#%%\n"
    }
   },
   "outputs": [
    {
     "data": {
      "text/plain": "<AxesSubplot:title={'center':'répartition des numéros de dépôt par année'}, xlabel='Année'>"
     },
     "execution_count": 10,
     "metadata": {},
     "output_type": "execute_result"
    },
    {
     "data": {
      "text/plain": "<Figure size 640x480 with 1 Axes>",
      "image/png": "[encoded data removed]"
     },
     "metadata": {},
     "output_type": "display_data"
    }
   ],
   "source": [
    "ann_per_errd_eprd.groupby('Année')['Id Dépôt'].nunique().plot(kind=\"bar\", title=\"répartition des numéros de dépôt par année\")"
   ]
  },
  {
   "cell_type": "markdown",
   "source": [
    "Le nombre de dépôts est plus stable, mais augmente en 2020"
   ],
   "metadata": {
    "collapsed": false,
    "pycharm": {
     "name": "#%% md\n"
    }
   }
  },
  {
   "cell_type": "markdown",
   "metadata": {
    "collapsed": false
   },
   "source": [
    "Le nombre de FINESS renseignés augmente plus que le nombre de dépôts."
   ]
  },
  {
   "cell_type": "markdown",
   "metadata": {
    "collapsed": false
   },
   "source": [
    "## A-t-on des groupements stables ?"
   ]
  },
  {
   "cell_type": "markdown",
   "metadata": {
    "collapsed": false,
    "pycharm": {
     "name": "#%% md\n"
    }
   },
   "source": [
    "Un Id Dépôt correspond à une mise à jour d'un groupement d'ET. Est-ce que ces groupements restent stables, auquel cas on peut facilement dédoublonner nos données ?"
   ]
  },
  {
   "cell_type": "code",
   "execution_count": 11,
   "metadata": {
    "pycharm": {
     "name": "#%%\n"
    }
   },
   "outputs": [],
   "source": [
    "groups = ann_per_errd_eprd[['Finess', 'Année', \"Id Dépôt\"]].groupby([\"Id Dépôt\", \"Année\"])['Finess'].apply(set)"
   ]
  },
  {
   "cell_type": "code",
   "execution_count": 12,
   "metadata": {
    "pycharm": {
     "name": "#%%\n"
    }
   },
   "outputs": [],
   "source": [
    "unique_groups = groups.sort_index(ascending=False).drop_duplicates()"
   ]
  },
  {
   "cell_type": "code",
   "execution_count": 13,
   "metadata": {
    "pycharm": {
     "name": "#%%\n"
    }
   },
   "outputs": [],
   "source": [
    "intersecting_groups = []\n",
    "for group1 in unique_groups.values:\n",
    "    for group2 in unique_groups.values:\n",
    "        if (group1 != group2) and group1.intersection(group2):\n",
    "            intersecting_groups.append((group1, group2))"
   ]
  },
  {
   "cell_type": "code",
   "execution_count": 14,
   "metadata": {
    "pycharm": {
     "name": "#%%\n"
    }
   },
   "outputs": [
    {
     "data": {
      "text/plain": "1649.0"
     },
     "execution_count": 14,
     "metadata": {},
     "output_type": "execute_result"
    }
   ],
   "source": [
    "len(intersecting_groups) / 2"
   ]
  },
  {
   "cell_type": "markdown",
   "metadata": {
    "collapsed": false,
    "pycharm": {
     "name": "#%% md\n"
    }
   },
   "source": [
    "On voit que, dans une même année, les groupes d'ET qui sont déposés ensemble évoluent. Lequel fait foi ?\n",
    "Réponse de Nicolas : pour chaque année, on prend le numéro de dépôt le plus élevé renseigné pour un FINESS. Questions persistantes : j'ai l'impression que parfois les dépôts ont des données partielles, complétées par des dépôts suivants"
   ]
  },
  {
   "cell_type": "markdown",
   "source": [
    "## Le taux de vétusté et de CAF par FINESS"
   ],
   "metadata": {
    "collapsed": false,
    "pycharm": {
     "name": "#%% md\n"
    }
   }
  },
  {
   "cell_type": "markdown",
   "source": [
    "### Les données des dépôts par paniers ERRD"
   ],
   "metadata": {
    "collapsed": false,
    "pycharm": {
     "name": "#%% md\n"
    }
   }
  },
  {
   "cell_type": "code",
   "execution_count": 15,
   "outputs": [],
   "source": [
    "ann_errd_ej = pd.read_csv(\n",
    "    os.path.join(CHEMIN_DOSSIER_DONNÉES, 'ANN_ERRD_EJ_' + DATE_FICHIER + '.CSV'),\n",
    "    delimiter=\";\",\n",
    "    encoding=encoding,\n",
    "    dtype={\"Id Dépôt\": str},\n",
    ")\n"
   ],
   "metadata": {
    "collapsed": false,
    "pycharm": {
     "name": "#%%\n"
    }
   }
  },
  {
   "cell_type": "code",
   "execution_count": 16,
   "outputs": [
    {
     "data": {
      "text/plain": "   Finess EJ  Année Id Dépôt  Taux de CAF ERRD  Taux vétusté Autres immo ERRD  \\\n0        NaN   2020      NaN          0.071600                       0.735704   \n1        NaN   2020      NaN          0.075539                       0.754844   \n2        NaN   2020      NaN          0.082984                       0.768304   \n3  080000375   2020   177374          0.135487                       0.342110   \n4  080000433   2020   216495         -0.012266                       0.881638   \n\n   Taux vétusté Construction ERRD  \\\n0                        0.455560   \n1                        0.445467   \n2                        0.368280   \n3                        0.388451   \n4                        0.809068   \n\n   Taux vétusté installations tech mat outil ERRD  \\\n0                                        0.755128   \n1                                        0.754656   \n2                                        0.797400   \n3                                        0.292006   \n4                                        0.883915   \n\n   Fonds de roulement net global ERRD  \n0                        7.426844e+09  \n1                        8.039525e+08  \n2                        9.795877e+06  \n3                        2.206969e+06  \n4                        1.057218e+06  ",
      "text/html": "<div>\n<style scoped>\n    .dataframe tbody tr th:only-of-type {\n        vertical-align: middle;\n    }\n\n    .dataframe tbody tr th {\n        vertical-align: top;\n    }\n\n    .dataframe thead th {\n        text-align: right;\n    }\n</style>\n<table border=\"1\" class=\"dataframe\">\n  <thead>\n    <tr style=\"text-align: right;\">\n      <th></th>\n      <th>Finess EJ</th>\n      <th>Année</th>\n      <th>Id Dépôt</th>\n      <th>Taux de CAF ERRD</th>\n      <th>Taux vétusté Autres immo ERRD</th>\n      <th>Taux vétusté Construction ERRD</th>\n      <th>Taux vétusté installations tech mat outil ERRD</th>\n      <th>Fonds de roulement net global ERRD</th>\n    </tr>\n  </thead>\n  <tbody>\n    <tr>\n      <th>0</th>\n      <td>NaN</td>\n      <td>2020</td>\n      <td>NaN</td>\n      <td>0.071600</td>\n      <td>0.735704</td>\n      <td>0.455560</td>\n      <td>0.755128</td>\n      <td>7.426844e+09</td>\n    </tr>\n    <tr>\n      <th>1</th>\n      <td>NaN</td>\n      <td>2020</td>\n      <td>NaN</td>\n      <td>0.075539</td>\n      <td>0.754844</td>\n      <td>0.445467</td>\n      <td>0.754656</td>\n      <td>8.039525e+08</td>\n    </tr>\n    <tr>\n      <th>2</th>\n      <td>NaN</td>\n      <td>2020</td>\n      <td>NaN</td>\n      <td>0.082984</td>\n      <td>0.768304</td>\n      <td>0.368280</td>\n      <td>0.797400</td>\n      <td>9.795877e+06</td>\n    </tr>\n    <tr>\n      <th>3</th>\n      <td>080000375</td>\n      <td>2020</td>\n      <td>177374</td>\n      <td>0.135487</td>\n      <td>0.342110</td>\n      <td>0.388451</td>\n      <td>0.292006</td>\n      <td>2.206969e+06</td>\n    </tr>\n    <tr>\n      <th>4</th>\n      <td>080000433</td>\n      <td>2020</td>\n      <td>216495</td>\n      <td>-0.012266</td>\n      <td>0.881638</td>\n      <td>0.809068</td>\n      <td>0.883915</td>\n      <td>1.057218e+06</td>\n    </tr>\n  </tbody>\n</table>\n</div>"
     },
     "execution_count": 16,
     "metadata": {},
     "output_type": "execute_result"
    }
   ],
   "source": [
    "ann_errd_ej.head()\n"
   ],
   "metadata": {
    "collapsed": false,
    "pycharm": {
     "name": "#%%\n"
    }
   }
  },
  {
   "cell_type": "markdown",
   "source": [
    "Valeurs manquantes par colonne identifiante :"
   ],
   "metadata": {
    "collapsed": false,
    "pycharm": {
     "name": "#%% md\n"
    }
   }
  },
  {
   "cell_type": "code",
   "execution_count": 17,
   "outputs": [
    {
     "data": {
      "text/plain": "Finess EJ    0.02956\nAnnée        0.00000\nId Dépôt     0.02956\ndtype: float64"
     },
     "execution_count": 17,
     "metadata": {},
     "output_type": "execute_result"
    }
   ],
   "source": [
    "ann_errd_ej[[\"Finess EJ\", \"Année\", \"Id Dépôt\"]].isna().sum() / ann_errd_ej.shape[0]\n"
   ],
   "metadata": {
    "collapsed": false,
    "pycharm": {
     "name": "#%%\n"
    }
   }
  },
  {
   "cell_type": "markdown",
   "source": [
    "On a près de 3% des données des dépôts qu'on ne peut pas lier à des établissements, parce que leur numéro de dépôt et leur numéro FINESS EJ sont manquants.\n",
    "\n",
    "❓ **Question à DIAMANT** : pourquoi a-t-on autant de dépôts \"orphelins\" ?\n",
    "\n",
    "Pour la suite, nous alons simplement ignorer les dépôts non-identifiables"
   ],
   "metadata": {
    "collapsed": false,
    "pycharm": {
     "name": "#%% md\n"
    }
   }
  },
  {
   "cell_type": "markdown",
   "source": [
    "### Données des paniers ERRD par FINESS"
   ],
   "metadata": {
    "collapsed": false,
    "pycharm": {
     "name": "#%% md\n"
    }
   }
  },
  {
   "cell_type": "code",
   "execution_count": 18,
   "outputs": [],
   "source": [
    "ann_errd_ej = ann_errd_ej.dropna(subset=[\"Id Dépôt\"]).astype(dtype={\"Id Dépôt\" : str})"
   ],
   "metadata": {
    "collapsed": false,
    "pycharm": {
     "name": "#%%\n"
    }
   }
  },
  {
   "cell_type": "code",
   "execution_count": 19,
   "outputs": [],
   "source": [
    "ann_errd_ej_par_finess = ann_per_errd_eprd.astype(dtype={\"Id Dépôt\" : str}).merge(ann_errd_ej, on=\"Id Dépôt\", how=\"right\")"
   ],
   "metadata": {
    "collapsed": false,
    "pycharm": {
     "name": "#%%\n"
    }
   }
  },
  {
   "cell_type": "markdown",
   "source": [
    "ann_errd_ej_par_finess.head()"
   ],
   "metadata": {
    "collapsed": false,
    "pycharm": {
     "name": "#%% md\n"
    }
   }
  },
  {
   "cell_type": "markdown",
   "source": [
    "On vérifie la cohérence des données : a-t-on bien les mêmes années et FINESS EJ pour les mêmes Id Dépôt dans les deux fichiers ?"
   ],
   "metadata": {
    "collapsed": false,
    "pycharm": {
     "name": "#%% md\n"
    }
   }
  },
  {
   "cell_type": "code",
   "execution_count": 20,
   "outputs": [
    {
     "data": {
      "text/plain": "0"
     },
     "execution_count": 20,
     "metadata": {},
     "output_type": "execute_result"
    }
   ],
   "source": [
    "(ann_errd_ej_par_finess[\"Année_x\"].astype(int) != ann_errd_ej_par_finess[\"Année_y\"].astype(int)).sum()"
   ],
   "metadata": {
    "collapsed": false,
    "pycharm": {
     "name": "#%%\n"
    }
   }
  },
  {
   "cell_type": "code",
   "execution_count": 21,
   "outputs": [
    {
     "data": {
      "text/plain": "0"
     },
     "execution_count": 21,
     "metadata": {},
     "output_type": "execute_result"
    }
   ],
   "source": [
    "(ann_errd_ej_par_finess[\"Finess EJ_x\"].astype(str) != ann_errd_ej_par_finess[\"Finess EJ_y\"].astype(str)).sum()\n"
   ],
   "metadata": {
    "collapsed": false,
    "pycharm": {
     "name": "#%%\n"
    }
   }
  },
  {
   "cell_type": "markdown",
   "source": [
    "✅ Il n'y a pas d'incohérence sur les Années et FINESS EJ entre les deux fichiers"
   ],
   "metadata": {
    "collapsed": false,
    "pycharm": {
     "name": "#%% md\n"
    }
   }
  },
  {
   "cell_type": "markdown",
   "source": [
    "#### A-t-on beaucoup de dépôts pour un seul couple (Année, FINESS) ?"
   ],
   "metadata": {
    "collapsed": false,
    "pycharm": {
     "name": "#%% md\n"
    }
   }
  },
  {
   "cell_type": "code",
   "execution_count": 22,
   "outputs": [
    {
     "data": {
      "text/plain": "<AxesSubplot:>"
     },
     "execution_count": 22,
     "metadata": {},
     "output_type": "execute_result"
    },
    {
     "data": {
      "text/plain": "<Figure size 640x480 with 1 Axes>",
      "image/png": "[encoded data removed]"
     },
     "metadata": {},
     "output_type": "display_data"
    }
   ],
   "source": [
    "ann_errd_ej_par_finess.groupby([\"Finess\", \"Année_x\"])['Id Dépôt'].nunique().hist()\n"
   ],
   "metadata": {
    "collapsed": false,
    "pycharm": {
     "name": "#%%\n"
    }
   }
  },
  {
   "cell_type": "code",
   "execution_count": 23,
   "outputs": [
    {
     "data": {
      "text/plain": "1    24970\n2       64\nName: Id Dépôt, dtype: int64"
     },
     "execution_count": 23,
     "metadata": {},
     "output_type": "execute_result"
    }
   ],
   "source": [
    "ann_errd_ej_par_finess.groupby([\"Finess\", \"Année_x\"])['Id Dépôt'].nunique().value_counts()\n"
   ],
   "metadata": {
    "collapsed": false,
    "pycharm": {
     "name": "#%%\n"
    }
   }
  },
  {
   "cell_type": "markdown",
   "source": [
    "La grande majorité n'a qu'un seul dépôt par an, quelques rares cas en ont deux. Regardons de plus près à quoi ressemblent les données des établissements ayant deux dépôts pour une même année"
   ],
   "metadata": {
    "collapsed": false,
    "pycharm": {
     "name": "#%% md\n"
    }
   }
  },
  {
   "cell_type": "markdown",
   "source": [
    "#### Comment traiter les valeurs manquantes ?"
   ],
   "metadata": {
    "collapsed": false,
    "pycharm": {
     "name": "#%% md\n"
    }
   }
  },
  {
   "cell_type": "markdown",
   "source": [
    "Proposition :\n",
    "- Prendre les dépôts passés pour remplir les valeurs manquantes dans le dernier dépôt\n",
    "- Ne garder que le dernier dépôt"
   ],
   "metadata": {
    "collapsed": false,
    "pycharm": {
     "name": "#%% md\n"
    }
   }
  },
  {
   "cell_type": "code",
   "execution_count": 24,
   "outputs": [],
   "source": [
    "dépôts_pour_un_même_établissement_et_année = ann_errd_ej_par_finess[ann_errd_ej_par_finess.duplicated(subset=[\"Finess\", \"Année_x\"], keep=False)].sort_values([\"Finess\", \"Année_x\"])\n"
   ],
   "metadata": {
    "collapsed": false,
    "pycharm": {
     "name": "#%%\n"
    }
   }
  },
  {
   "cell_type": "code",
   "execution_count": 25,
   "outputs": [],
   "source": [
    "dépôts_pour_un_même_établissement_et_année_avec_données_manquantes_remplies = dépôts_pour_un_même_établissement_et_année.groupby([\"Finess\", \"Année_x\"]).ffill()"
   ],
   "metadata": {
    "collapsed": false,
    "pycharm": {
     "name": "#%%\n"
    }
   }
  },
  {
   "cell_type": "code",
   "execution_count": 26,
   "outputs": [],
   "source": [
    "dépôts_pour_un_même_établissement_et_année_avec_données_manquantes_remplies[[\"Finess\", \"Année_x\"]] = dépôts_pour_un_même_établissement_et_année[[\"Finess\", \"Année_x\"]]"
   ],
   "metadata": {
    "collapsed": false,
    "pycharm": {
     "name": "#%%\n"
    }
   }
  },
  {
   "cell_type": "code",
   "execution_count": 27,
   "outputs": [
    {
     "data": {
      "text/plain": "      Finess EJ_x Id Dépôt Finess EJ_y  Année_y  Taux de CAF ERRD  \\\n6656    020000022   211374   020000022     2020          0.039218   \n19760   030780100   133864   030780100     2018         -0.034734   \n19762   030780100   133864   030780100     2018         -0.034734   \n19761   030780100   133864   030780100     2018         -0.034734   \n9475    060791795   197877   060791795     2020          0.059219   \n...           ...      ...         ...      ...               ...   \n11622   870000890   167438   870000890     2019          0.027942   \n11623   870000890   167438   870000890     2019          0.027942   \n18746   880000385   100768   880000385     2018          0.076203   \n10609   880000385   153182   880000385     2019          0.090248   \n6153    950150037   213393   950150037     2020          0.125979   \n\n       Taux vétusté Autres immo ERRD  Taux vétusté Construction ERRD  \\\n6656                             NaN                             NaN   \n19760                            NaN                             NaN   \n19762                            NaN                             NaN   \n19761                            NaN                             NaN   \n9475                        0.641266                             NaN   \n...                              ...                             ...   \n11622                       0.924340                        0.560261   \n11623                       0.924340                        0.560261   \n18746                       0.797708                        0.632916   \n10609                            NaN                             NaN   \n6153                        0.859318                        0.776954   \n\n       Taux vétusté installations tech mat outil ERRD  \\\n6656                                              NaN   \n19760                                             NaN   \n19762                                             NaN   \n19761                                             NaN   \n9475                                         1.000000   \n...                                               ...   \n11622                                        0.969807   \n11623                                        0.969807   \n18746                                        0.679916   \n10609                                             NaN   \n6153                                         0.911434   \n\n       Fonds de roulement net global ERRD     Finess Année_x  \n6656                                  NaN  020004719    2020  \n19760                                 NaN  030005649    2018  \n19762                                 NaN  030783344    2018  \n19761                                 NaN  030786032    2018  \n9475                            148228.00  060790920    2020  \n...                                   ...        ...     ...  \n11622                           962896.91  870000197    2019  \n11623                           962896.91  870016433    2019  \n18746                           678605.30  880781174    2018  \n10609                           749427.63  880781174    2019  \n6153                          15378791.55  950011148    2020  \n\n[64 rows x 11 columns]",
      "text/html": "<div>\n<style scoped>\n    .dataframe tbody tr th:only-of-type {\n        vertical-align: middle;\n    }\n\n    .dataframe tbody tr th {\n        vertical-align: top;\n    }\n\n    .dataframe thead th {\n        text-align: right;\n    }\n</style>\n<table border=\"1\" class=\"dataframe\">\n  <thead>\n    <tr style=\"text-align: right;\">\n      <th></th>\n      <th>Finess EJ_x</th>\n      <th>Id Dépôt</th>\n      <th>Finess EJ_y</th>\n      <th>Année_y</th>\n      <th>Taux de CAF ERRD</th>\n      <th>Taux vétusté Autres immo ERRD</th>\n      <th>Taux vétusté Construction ERRD</th>\n      <th>Taux vétusté installations tech mat outil ERRD</th>\n      <th>Fonds de roulement net global ERRD</th>\n      <th>Finess</th>\n      <th>Année_x</th>\n    </tr>\n  </thead>\n  <tbody>\n    <tr>\n      <th>6656</th>\n      <td>020000022</td>\n      <td>211374</td>\n      <td>020000022</td>\n      <td>2020</td>\n      <td>0.039218</td>\n      <td>NaN</td>\n      <td>NaN</td>\n      <td>NaN</td>\n      <td>NaN</td>\n      <td>020004719</td>\n      <td>2020</td>\n    </tr>\n    <tr>\n      <th>19760</th>\n      <td>030780100</td>\n      <td>133864</td>\n      <td>030780100</td>\n      <td>2018</td>\n      <td>-0.034734</td>\n      <td>NaN</td>\n      <td>NaN</td>\n      <td>NaN</td>\n      <td>NaN</td>\n      <td>030005649</td>\n      <td>2018</td>\n    </tr>\n    <tr>\n      <th>19762</th>\n      <td>030780100</td>\n      <td>133864</td>\n      <td>030780100</td>\n      <td>2018</td>\n      <td>-0.034734</td>\n      <td>NaN</td>\n      <td>NaN</td>\n      <td>NaN</td>\n      <td>NaN</td>\n      <td>030783344</td>\n      <td>2018</td>\n    </tr>\n    <tr>\n      <th>19761</th>\n      <td>030780100</td>\n      <td>133864</td>\n      <td>030780100</td>\n      <td>2018</td>\n      <td>-0.034734</td>\n      <td>NaN</td>\n      <td>NaN</td>\n      <td>NaN</td>\n      <td>NaN</td>\n      <td>030786032</td>\n      <td>2018</td>\n    </tr>\n    <tr>\n      <th>9475</th>\n      <td>060791795</td>\n      <td>197877</td>\n      <td>060791795</td>\n      <td>2020</td>\n      <td>0.059219</td>\n      <td>0.641266</td>\n      <td>NaN</td>\n      <td>1.000000</td>\n      <td>148228.00</td>\n      <td>060790920</td>\n      <td>2020</td>\n    </tr>\n    <tr>\n      <th>...</th>\n      <td>...</td>\n      <td>...</td>\n      <td>...</td>\n      <td>...</td>\n      <td>...</td>\n      <td>...</td>\n      <td>...</td>\n      <td>...</td>\n      <td>...</td>\n      <td>...</td>\n      <td>...</td>\n    </tr>\n    <tr>\n      <th>11622</th>\n      <td>870000890</td>\n      <td>167438</td>\n      <td>870000890</td>\n      <td>2019</td>\n      <td>0.027942</td>\n      <td>0.924340</td>\n      <td>0.560261</td>\n      <td>0.969807</td>\n      <td>962896.91</td>\n      <td>870000197</td>\n      <td>2019</td>\n    </tr>\n    <tr>\n      <th>11623</th>\n      <td>870000890</td>\n      <td>167438</td>\n      <td>870000890</td>\n      <td>2019</td>\n      <td>0.027942</td>\n      <td>0.924340</td>\n      <td>0.560261</td>\n      <td>0.969807</td>\n      <td>962896.91</td>\n      <td>870016433</td>\n      <td>2019</td>\n    </tr>\n    <tr>\n      <th>18746</th>\n      <td>880000385</td>\n      <td>100768</td>\n      <td>880000385</td>\n      <td>2018</td>\n      <td>0.076203</td>\n      <td>0.797708</td>\n      <td>0.632916</td>\n      <td>0.679916</td>\n      <td>678605.30</td>\n      <td>880781174</td>\n      <td>2018</td>\n    </tr>\n    <tr>\n      <th>10609</th>\n      <td>880000385</td>\n      <td>153182</td>\n      <td>880000385</td>\n      <td>2019</td>\n      <td>0.090248</td>\n      <td>NaN</td>\n      <td>NaN</td>\n      <td>NaN</td>\n      <td>749427.63</td>\n      <td>880781174</td>\n      <td>2019</td>\n    </tr>\n    <tr>\n      <th>6153</th>\n      <td>950150037</td>\n      <td>213393</td>\n      <td>950150037</td>\n      <td>2020</td>\n      <td>0.125979</td>\n      <td>0.859318</td>\n      <td>0.776954</td>\n      <td>0.911434</td>\n      <td>15378791.55</td>\n      <td>950011148</td>\n      <td>2020</td>\n    </tr>\n  </tbody>\n</table>\n<p>64 rows × 11 columns</p>\n</div>"
     },
     "execution_count": 27,
     "metadata": {},
     "output_type": "execute_result"
    }
   ],
   "source": [
    "dépôts_pour_un_même_établissement_et_année_avec_données_manquantes_remplies.drop_duplicates(subset=[\"Finess\", \"Année_x\"], keep='last')\n"
   ],
   "metadata": {
    "collapsed": false,
    "pycharm": {
     "name": "#%%\n"
    }
   }
  }
 ],
 "metadata": {
  "kernelspec": {
   "display_name": "Python 3.10.6 ('.venv': pipenv)",
   "language": "python",
   "name": "python3"
  },
  "language_info": {
   "codemirror_mode": {
    "name": "ipython",
    "version": 3
   },
   "file_extension": ".py",
   "mimetype": "text/x-python",
   "name": "python",
   "nbconvert_exporter": "python",
   "pygments_lexer": "ipython3",
   "version": "3.10.6"
  },
  "vscode": {
   "interpreter": {
    "hash": "f3cd1644c1a4218067384e6ba48455ab308536d690fa2569ad70152dfd852e1a"
   }
  }
 },
 "nbformat": 4,
 "nbformat_minor": 0
}