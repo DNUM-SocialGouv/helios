{
 "cells": [
  {
   "cell_type": "code",
   "execution_count": null,
   "id": "35dd8bd8",
   "metadata": {},
   "outputs": [],
   "source": [
    "import pandas as pd"
   ]
  },
  {
   "cell_type": "code",
   "execution_count": null,
   "id": "79b5ce12",
   "metadata": {},
   "outputs": [],
   "source": [
    "infos_ej = pd.read_xml('données/FINESS/simple/finess_cs1400101_stock_20211214-0333.xml.gz')"
   ]
  },
  {
   "cell_type": "code",
   "execution_count": null,
   "id": "e326f29d",
   "metadata": {},
   "outputs": [],
   "source": [
    "infos_ej.head()"
   ]
  },
  {
   "cell_type": "code",
   "execution_count": null,
   "id": "84d54897",
   "metadata": {},
   "outputs": [],
   "source": [
    "infos_ej.columns"
   ]
  },
  {
   "cell_type": "code",
   "execution_count": null,
   "id": "9490e2c6",
   "metadata": {},
   "outputs": [],
   "source": [
    "colonnes_attendues = ['adresseacheminement', 'adressenumérovoie', 'adressetypevoie', 'adressevoie',\n",
    "                      'libelléstatutjuridique', 'numérofinessentitéjuridique', 'raisonsociale', 'téléphone']"
   ]
  },
  {
   "cell_type": "code",
   "execution_count": null,
   "id": "d312daaa",
   "metadata": {
    "scrolled": true
   },
   "outputs": [],
   "source": [
    "infos_ej[['nofiness', 'rs', 'ligneacheminement', 'numvoie', 'typvoie', 'voie', 'libstatutjuridique', 'telephone']]"
   ]
  },
  {
   "cell_type": "code",
   "execution_count": null,
   "id": "442860c8",
   "metadata": {},
   "outputs": [],
   "source": [
    "table_cible_avec_valeurs_manquantes = infos_ej[\n",
    "    ['nofiness', 'rs', 'ligneacheminement', 'numvoie', 'typvoie', 'voie', 'libstatutjuridique', 'telephone']\n",
    "].rename(\n",
    "    columns = {\n",
    "        'nofiness':'numérofinessentitéjuridique', \n",
    "        'rs':'raisonsociale',\n",
    "        'ligneacheminement': 'adresseacheminement',\n",
    "        'numvoie': 'adressenumérovoie',\n",
    "        'typvoie': 'adressetypevoie',\n",
    "        'voie': 'adressevoie',\n",
    "        'libstatutjuridique': 'libelléstatutjuridique',\n",
    "        'telephone': 'téléphone'\n",
    "    }\n",
    ")"
   ]
  },
  {
   "cell_type": "code",
   "execution_count": null,
   "id": "6fa4df71",
   "metadata": {},
   "outputs": [],
   "source": [
    "table_cible_avec_finess_renseigné = table_cible_avec_valeurs_manquantes.dropna(\n",
    "    subset=['numérofinessentitéjuridique']\n",
    ")"
   ]
  },
  {
   "cell_type": "code",
   "execution_count": null,
   "id": "704ba010",
   "metadata": {},
   "outputs": [],
   "source": [
    "table_cible = table_cible_avec_finess_renseigné.fillna('').set_index('numérofinessentitéjuridique')"
   ]
  }
 ],
 "metadata": {
  "kernelspec": {
   "display_name": "local-venv",
   "language": "python",
   "name": "local-venv"
  },
  "language_info": {
   "codemirror_mode": {
    "name": "ipython",
    "version": 3
   },
   "file_extension": ".py",
   "mimetype": "text/x-python",
   "name": "python",
   "nbconvert_exporter": "python",
   "pygments_lexer": "ipython3",
   "version": "3.9.1"
  }
 },
 "nbformat": 4,
 "nbformat_minor": 5
}
